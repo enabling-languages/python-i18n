{
 "cells": [
  {
   "cell_type": "code",
   "execution_count": 6,
   "metadata": {},
   "outputs": [],
   "source": [
    "import regex as re\n",
    "text = \"ရန်ကုန်ကွန်ပျူတာတက္ကသိုလ်\""
   ]
  },
  {
   "cell_type": "code",
   "execution_count": 7,
   "metadata": {},
   "outputs": [
    {
     "name": "stdout",
     "output_type": "stream",
     "text": [
      "Number of graphemes: 14\n",
      "Graphemes: ['ရ', 'န်', 'ကု', 'န်', 'ကွ', 'န်', 'ပျူ', 'တ', 'ာ', 'တ', 'က္', 'က', 'သို', 'လ်']\n"
     ]
    }
   ],
   "source": [
    "# split string into extended grapheme clusters\n",
    "graphemes = re.findall(r'\\X', text)\n",
    "print(f'Number of graphemes: {len(graphemes)}\\nGraphemes: {graphemes}')"
   ]
  },
  {
   "cell_type": "code",
   "execution_count": 8,
   "metadata": {},
   "outputs": [
    {
     "name": "stdout",
     "output_type": "stream",
     "text": [
      "Number of syllables: 7\n",
      "Syllables: ['န်', 'ုန်', 'ွန်', 'ျူ', 'ာ', 'က္က', 'ိုလ်']\n"
     ]
    }
   ],
   "source": [
    "# syllable segmentation with regex\n",
    "pattern = r'(?:(?<!္)([က-ဪဿ၊-၏]|[၀-၉]+|[^က-၏]+)(?![ှျ]?[့္်]))'\n",
    "syllables = re.sub(pattern, r\" \", text).split()\n",
    "print(f'Number of syllables: {len(syllables)}\\nSyllables: {syllables}')"
   ]
  },
  {
   "cell_type": "code",
   "execution_count": 11,
   "metadata": {},
   "outputs": [
    {
     "name": "stdout",
     "output_type": "stream",
     "text": [
      "Is an alphabetic sequence: False\n",
      "Regex match for word forming characters: True\n"
     ]
    }
   ],
   "source": [
    "# Is a string of alphabetic characters?\n",
    "print(f'Is an alphabetic sequence: {text.isalpha()}')\n",
    "results = bool(re.match(r'^\\p{Alphabetic}[\\p{Alphabetic}\\p{Mn}\\p{Mc}·]*$', text))\n",
    "print(f\"Regex match for word forming characters: {results}\")"
   ]
  },
  {
   "cell_type": "code",
   "execution_count": 13,
   "metadata": {},
   "outputs": [
    {
     "name": "stdout",
     "output_type": "stream",
     "text": [
      "Is a Myanmar string: True\n"
     ]
    }
   ],
   "source": [
    "# Is a Myanmar script string\n",
    "isMyanmar = bool(re.match(r'^\\p{Myanmar}[\\p{Myanmar}\\p{Common}]*$', text))\n",
    "print(f'Is a Myanmar string: {isMyanmar}')"
   ]
  }
 ],
 "metadata": {
  "kernelspec": {
   "display_name": "Python 3.8.1 ('el')",
   "language": "python",
   "name": "python3"
  },
  "language_info": {
   "codemirror_mode": {
    "name": "ipython",
    "version": 3
   },
   "file_extension": ".py",
   "mimetype": "text/x-python",
   "name": "python",
   "nbconvert_exporter": "python",
   "pygments_lexer": "ipython3",
   "version": "3.8.1"
  },
  "orig_nbformat": 4,
  "vscode": {
   "interpreter": {
    "hash": "bb12d0de9674b66c629d2bafada2ec4f6e6dba6d129e54dea4badc21502d54d3"
   }
  }
 },
 "nbformat": 4,
 "nbformat_minor": 2
}
