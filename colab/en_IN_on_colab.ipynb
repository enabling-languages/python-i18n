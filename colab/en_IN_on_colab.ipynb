{
 "cells": [
  {
   "cell_type": "markdown",
   "metadata": {
    "id": "ucLUcH6WFgHz"
   },
   "source": [
    "# Working with the en_IN locale: numbers"
   ]
  },
  {
   "cell_type": "markdown",
   "metadata": {
    "id": "lh5112Z-FqC4",
    "jp-MarkdownHeadingCollapsed": true,
    "tags": []
   },
   "source": [
    "## Setup"
   ]
  },
  {
   "cell_type": "code",
   "execution_count": 63,
   "metadata": {
    "colab": {
     "base_uri": "https://localhost:8080/"
    },
    "id": "Py6fLnP7DiJG",
    "outputId": "c9bf693f-db96-4da4-dee6-8868690e37fa"
   },
   "outputs": [
    {
     "name": "stdout",
     "output_type": "stream",
     "text": [
      "C\n",
      "C.utf8\n",
      "de_AT.utf8\n",
      "de_BE.utf8\n",
      "de_CH.utf8\n",
      "de_DE.utf8\n",
      "de_IT.utf8\n",
      "de_LI.utf8\n",
      "de_LU.utf8\n",
      "en_AG\n",
      "en_AG.utf8\n",
      "en_AU.utf8\n",
      "en_BW.utf8\n",
      "en_CA.utf8\n",
      "en_DK.utf8\n",
      "en_GB.utf8\n",
      "en_HK.utf8\n",
      "en_IE.utf8\n",
      "en_IL\n",
      "en_IL.utf8\n",
      "en_IN\n",
      "en_IN.utf8\n",
      "en_NG\n",
      "en_NG.utf8\n",
      "en_NZ.utf8\n",
      "en_PH.utf8\n",
      "en_SG.utf8\n",
      "en_US.utf8\n",
      "en_ZA.utf8\n",
      "en_ZM\n",
      "en_ZM.utf8\n",
      "en_ZW.utf8\n",
      "fr_BE.utf8\n",
      "fr_CA.utf8\n",
      "fr_CH.utf8\n",
      "fr_FR.utf8\n",
      "fr_LU.utf8\n",
      "POSIX\n",
      "sv_FI.utf8\n",
      "sv_SE.utf8\n",
      "vi_VN\n",
      "vi_VN.utf8\n"
     ]
    }
   ],
   "source": [
    "!locale -a"
   ]
  },
  {
   "cell_type": "code",
   "execution_count": 64,
   "metadata": {
    "id": "mMNdGeBwEGrX"
   },
   "outputs": [],
   "source": [
    "import locale\n",
    "loc = \"en_IN.UTF-8\"\n",
    "\n",
    "try:\n",
    "    from icu import Locale, NumberFormatter, CurrencyUnit, Precision, Notation\n",
    "except:\n",
    "    !pip install pyicu\n",
    "    from icu import Locale, NumberFormatter, CurrencyUnit, Precision, Notation\n",
    "\n",
    "try:\n",
    "    locale.setlocale(locale.LC_ALL, loc)\n",
    "except locale.Error:\n",
    "    print(\"After the missing locale is installed, the runtime environment will restart, please rerun all code.\")\n",
    "    !sudo locale-gen {loc}\n",
    "    !sudo update-locale\n",
    "    import os\n",
    "    os.kill(os.getpid(), 9)"
   ]
  },
  {
   "cell_type": "markdown",
   "metadata": {},
   "source": [
    "## Introduction\n",
    "\n",
    "We will look at how to handle locale sensitive number formatting using the [locale](https://docs.python.org/3/library/locale.html) and _PyICU_ modules, using the `en_IN` locale as an example.\n",
    "\n",
    "Numeric opeerators available in the _locale_ module\n",
    "\n",
    "    locale.format_string(format, val, grouping=False, monetary=False)\n",
    "    locale.format(format, val, grouping=False, monetary=False)\n",
    "    locale.currency(val, symbol=True, grouping=False, international=False)\n",
    "    locale.str(float)\n",
    "    locale.delocalize(string)\n",
    "    locale.localize(string, grouping=False, monetary=False)\n",
    "    locale.atof(string, func=float)\n",
    "    locale.atoi(string)\n",
    "    \n",
    "PyICU provides a wrapper around [icu::NuberFormatter](https://unicode-org.github.io/icu-docs/apidoc/released/icu4c/numberformatter_8h.html#details) (icu4c)\n",
    "\n",
    "`NumberFormatter` supports:\n",
    "\n",
    "* Decimal Formatting\n",
    "* Currencies\n",
    "* Measurement Units\n",
    "* Percentages\n",
    "* Scientific Notation\n",
    "* Compact Notation\n",
    "    \n"
   ]
  },
  {
   "cell_type": "markdown",
   "metadata": {},
   "source": [
    "## Currency\n",
    "\n",
    "### Using the locale module\n",
    "\n",
    "`locale.currency(value, symbol=True, grouping=False, international=False)`\n",
    "\n",
    "__symbol__: Boolean paramter that includes or excludes the current locales' currency symbol from string. \\\n",
    "__grouping__: Applies or suppresses use of grouping seperators in resultant string. Grouping pattern and grouping seperator are locale sensitive. \\\n",
    "__International__: Controls whether the international currency symbol is used is sued instead of the locale's currency symbol.\n",
    "\n",
    "For the `en_IN.UTF-8` locale, the _Indian rupee sign_ (₹) currency symbol is used. The comma is used as the grouping seperator, a period is used as the decimal seperator and a (2, 3) grouping pattern is used for the digits."
   ]
  },
  {
   "cell_type": "code",
   "execution_count": 65,
   "metadata": {
    "colab": {
     "base_uri": "https://localhost:8080/"
    },
    "id": "fZyzIEWKEdJF",
    "outputId": "d4258e36-775f-494a-9414-bed1a332e19b"
   },
   "outputs": [
    {
     "name": "stdout",
     "output_type": "stream",
     "text": [
      "['₹ 2.54', '₹ 4.00', '₹ 3.00', '₹ 9.95', '₹ 5.40']\n"
     ]
    }
   ],
   "source": [
    "lst = [2.54, 4.0, 3, 9.95, 5.4]\n",
    "print([locale.currency(i, grouping=True) for i in lst])"
   ]
  },
  {
   "cell_type": "code",
   "execution_count": 66,
   "metadata": {
    "colab": {
     "base_uri": "https://localhost:8080/"
    },
    "id": "1TkeFpbzFDJc",
    "outputId": "15bd807a-e190-45f6-e36e-9d55728a8d90"
   },
   "outputs": [
    {
     "name": "stdout",
     "output_type": "stream",
     "text": [
      "['₹ 1,23,452.54', '₹ 1,43,67,843.00', '₹ 1,20,030.00', '₹ 9,00,020.95', '₹ 50,00,000.00']\n"
     ]
    }
   ],
   "source": [
    "lst2 = [123452.54, 14367843.0, 120030, 900020.95, 5000000.0]\n",
    "print([locale.currency(i, grouping=True) for i in lst2])\n"
   ]
  },
  {
   "cell_type": "markdown",
   "metadata": {},
   "source": [
    "Depending on the `en_IN.UTF-8` locale definition on the OS being used"
   ]
  },
  {
   "cell_type": "code",
   "execution_count": 67,
   "metadata": {
    "colab": {
     "base_uri": "https://localhost:8080/"
    },
    "id": "pTNfTVeUFRJO",
    "outputId": "f4fcd1f9-4b00-44aa-877d-420d07c0de21"
   },
   "outputs": [
    {
     "name": "stdout",
     "output_type": "stream",
     "text": [
      "['₹ 1,23,452.54', '₹ 1,43,67,843.00', '₹ 1,20,030.00', '₹ 9,00,020.95', '₹ 50,00,000.00']\n"
     ]
    }
   ],
   "source": [
    "locale._override_localeconv[\"p_sep_by_space\"] = 1\n",
    "print([locale.currency(i, grouping=True) for i in lst2])\n"
   ]
  },
  {
   "cell_type": "markdown",
   "metadata": {
    "id": "L4ywj6O9FwYU"
   },
   "source": [
    "### Using PyICU\n"
   ]
  },
  {
   "cell_type": "code",
   "execution_count": 68,
   "metadata": {
    "colab": {
     "base_uri": "https://localhost:8080/"
    },
    "id": "J8qw2xSpG3QC",
    "outputId": "1aabdaac-84a7-46fd-fc3b-5dcf6d21f301"
   },
   "outputs": [
    {
     "name": "stdout",
     "output_type": "stream",
     "text": [
      "['₹1,23,452.54', '₹1,43,67,843.00', '₹1,20,030.00', '₹9,00,020.95', '₹50,00,000.00']\n"
     ]
    }
   ],
   "source": [
    "icu_loc = Locale.createCanonical(loc)\n",
    "formatter = NumberFormatter.with_().unit(CurrencyUnit('INR')).locale(icu_loc)\n",
    "# print([str(formatter.formatDouble(i)).replace('\\xa0', ' ') for i in lst2])\n",
    "print([str(formatter.formatDouble(i)) for i in lst2])"
   ]
  },
  {
   "cell_type": "code",
   "execution_count": 69,
   "metadata": {},
   "outputs": [
    {
     "name": "stdout",
     "output_type": "stream",
     "text": [
      "['₹1,23,452.54', '₹1,43,67,843.00', '₹1,20,030.00', '₹9,00,020.95', '₹50,00,000.00']\n"
     ]
    }
   ],
   "source": [
    "formatter2 = NumberFormatter.withLocale(icu_loc).unit(CurrencyUnit('INR'))\n",
    "print([str(formatter2.formatDouble(i)) for i in lst2])"
   ]
  },
  {
   "cell_type": "code",
   "execution_count": 84,
   "metadata": {},
   "outputs": [
    {
     "name": "stdout",
     "output_type": "stream",
     "text": [
      "['₹1,23,452.54', '₹1,43,67,843.00', '₹1,20,030.00', '₹9,00,020.95', '₹50,00,000.00']\n"
     ]
    }
   ],
   "source": [
    "formatter3 = NumberFormatter.with_().unit(CurrencyUnit('INR')).locale(icu_loc).precision(Precision.minMaxFraction(2,2))\n",
    "print([formatter3.formatDouble(i) for i in lst2])"
   ]
  },
  {
   "cell_type": "code",
   "execution_count": 85,
   "metadata": {},
   "outputs": [
    {
     "name": "stdout",
     "output_type": "stream",
     "text": [
      "['₹1.23L', '₹1.44Cr', '₹1.20L', '₹9.00L', '₹50.00L']\n"
     ]
    }
   ],
   "source": [
    "formatter4 = NumberFormatter.with_().unit(CurrencyUnit('INR')).locale(icu_loc).precision(Precision.minMaxFraction(2,2)).notation(Notation.compactShort())\n",
    "print([formatter4.formatDouble(i) for i in lst2])"
   ]
  },
  {
   "cell_type": "code",
   "execution_count": 90,
   "metadata": {},
   "outputs": [
    {
     "name": "stdout",
     "output_type": "stream",
     "text": [
      "['₹1.23L', '₹1.44Cr', '₹1.20L', '₹9.00L', '₹50.00L']\n"
     ]
    }
   ],
   "source": [
    "formatter5 = NumberFormatter.with_() \\\n",
    "    .unit(CurrencyUnit('INR')) \\\n",
    "    .locale(icu_loc) \\\n",
    "    .precision(Precision.minMaxFraction(2,2)) \\\n",
    "    .notation(Notation.compactShort())\n",
    "print([formatter5.formatDouble(i) for i in lst2])"
   ]
  },
  {
   "cell_type": "markdown",
   "metadata": {},
   "source": [
    "---"
   ]
  },
  {
   "cell_type": "code",
   "execution_count": 88,
   "metadata": {},
   "outputs": [
    {
     "data": {
      "text/plain": [
       "\u001b[0;33mspecial attribute:\u001b[0m\n",
       "    \u001b[0;36m__class__\u001b[0m\u001b[1;30m, \u001b[0m\u001b[0;36m__doc__\u001b[0m\n",
       "\u001b[0;33mabstract class:\u001b[0m\n",
       "    \u001b[0;36m__subclasshook__\u001b[0m\n",
       "\u001b[0;33mobject customization:\u001b[0m\n",
       "    \u001b[0;36m__format__\u001b[0m\u001b[1;30m, \u001b[0m\u001b[0;36m__hash__\u001b[0m\u001b[1;30m, \u001b[0m\u001b[0;36m__init__\u001b[0m\u001b[1;30m, \u001b[0m\u001b[0;36m__new__\u001b[0m\u001b[1;30m, \u001b[0m\u001b[0;36m__repr__\u001b[0m\u001b[1;30m, \u001b[0m\u001b[0;36m__sizeof__\u001b[0m\u001b[1;30m, \u001b[0m\u001b[0;36m__str__\u001b[0m\n",
       "\u001b[0;33mrich comparison:\u001b[0m\n",
       "    \u001b[0;36m__eq__\u001b[0m\u001b[1;30m, \u001b[0m\u001b[0;36m__ge__\u001b[0m\u001b[1;30m, \u001b[0m\u001b[0;36m__gt__\u001b[0m\u001b[1;30m, \u001b[0m\u001b[0;36m__le__\u001b[0m\u001b[1;30m, \u001b[0m\u001b[0;36m__lt__\u001b[0m\u001b[1;30m, \u001b[0m\u001b[0;36m__ne__\u001b[0m\n",
       "\u001b[0;33mattribute access:\u001b[0m\n",
       "    \u001b[0;36m__delattr__\u001b[0m\u001b[1;30m, \u001b[0m\u001b[0;36m__dir__\u001b[0m\u001b[1;30m, \u001b[0m\u001b[0;36m__getattribute__\u001b[0m\u001b[1;30m, \u001b[0m\u001b[0;36m__setattr__\u001b[0m\n",
       "\u001b[0;33mclass customization:\u001b[0m\n",
       "    \u001b[0;36m__init_subclass__\u001b[0m\n",
       "\u001b[0;33mpickle:\u001b[0m\n",
       "    \u001b[0;36m__reduce__\u001b[0m\u001b[1;30m, \u001b[0m\u001b[0;36m__reduce_ex__\u001b[0m\n",
       "\u001b[0;33mdescriptor:\u001b[0m\n",
       "    \u001b[0;36mowned\u001b[0m\u001b[0;36m: \u001b[0m\u001b[1;30mclass getset_descriptor with getter, setter, deleter\u001b[0m\n",
       "\u001b[0;33mfunction:\u001b[0m\n",
       "    \u001b[0;36mdecimal\u001b[0m\u001b[0;36m: \u001b[0m\u001b[1;30m\u001b[0m\n",
       "    \u001b[0;36mformatDecimal\u001b[0m\u001b[0;36m: \u001b[0m\u001b[1;30m\u001b[0m\n",
       "    \u001b[0;36mformatDecimalToValue\u001b[0m\u001b[0;36m: \u001b[0m\u001b[1;30m\u001b[0m\n",
       "    \u001b[0;36mformatDouble\u001b[0m\u001b[0;36m: \u001b[0m\u001b[1;30m\u001b[0m\n",
       "    \u001b[0;36mformatDoubleToValue\u001b[0m\u001b[0;36m: \u001b[0m\u001b[1;30m\u001b[0m\n",
       "    \u001b[0;36mformatInt\u001b[0m\u001b[0;36m: \u001b[0m\u001b[1;30m\u001b[0m\n",
       "    \u001b[0;36mformatIntToValue\u001b[0m\u001b[0;36m: \u001b[0m\u001b[1;30m\u001b[0m\n",
       "    \u001b[0;36mgrouping\u001b[0m\u001b[0;36m: \u001b[0m\u001b[1;30m\u001b[0m\n",
       "    \u001b[0;36mintegerWidth\u001b[0m\u001b[0;36m: \u001b[0m\u001b[1;30m\u001b[0m\n",
       "    \u001b[0;36mnotation\u001b[0m\u001b[0;36m: \u001b[0m\u001b[1;30m\u001b[0m\n",
       "    \u001b[0;36mperUnit\u001b[0m\u001b[0;36m: \u001b[0m\u001b[1;30m\u001b[0m\n",
       "    \u001b[0;36mprecision\u001b[0m\u001b[0;36m: \u001b[0m\u001b[1;30m\u001b[0m\n",
       "    \u001b[0;36mroundingMode\u001b[0m\u001b[0;36m: \u001b[0m\u001b[1;30m\u001b[0m\n",
       "    \u001b[0;36mscale\u001b[0m\u001b[0;36m: \u001b[0m\u001b[1;30m\u001b[0m\n",
       "    \u001b[0;36msign\u001b[0m\u001b[0;36m: \u001b[0m\u001b[1;30m\u001b[0m\n",
       "    \u001b[0;36msymbols\u001b[0m\u001b[0;36m: \u001b[0m\u001b[1;30m\u001b[0m\n",
       "    \u001b[0;36mtoSkeleton\u001b[0m\u001b[0;36m: \u001b[0m\u001b[1;30m\u001b[0m\n",
       "    \u001b[0;36munit\u001b[0m\u001b[0;36m: \u001b[0m\u001b[1;30m\u001b[0m\n",
       "    \u001b[0;36munitWidth\u001b[0m\u001b[0;36m: \u001b[0m\u001b[1;30m\u001b[0m\n",
       "    \u001b[0;36musage\u001b[0m\u001b[0;36m: \u001b[0m\u001b[1;30m\u001b[0m"
      ]
     },
     "execution_count": 88,
     "metadata": {},
     "output_type": "execute_result"
    }
   ],
   "source": [
    "import pdir\n",
    "pdir(formatter3)"
   ]
  },
  {
   "cell_type": "code",
   "execution_count": 73,
   "metadata": {},
   "outputs": [
    {
     "data": {
      "text/plain": [
       "\u001b[0;33mspecial attribute:\u001b[0m\n",
       "    \u001b[0;36m__class__\u001b[0m\u001b[1;30m, \u001b[0m\u001b[0;36m__doc__\u001b[0m\n",
       "\u001b[0;33mabstract class:\u001b[0m\n",
       "    \u001b[0;36m__subclasshook__\u001b[0m\n",
       "\u001b[0;33mobject customization:\u001b[0m\n",
       "    \u001b[0;36m__format__\u001b[0m\u001b[1;30m, \u001b[0m\u001b[0;36m__hash__\u001b[0m\u001b[1;30m, \u001b[0m\u001b[0;36m__init__\u001b[0m\u001b[1;30m, \u001b[0m\u001b[0;36m__new__\u001b[0m\u001b[1;30m, \u001b[0m\u001b[0;36m__repr__\u001b[0m\u001b[1;30m, \u001b[0m\u001b[0;36m__sizeof__\u001b[0m\u001b[1;30m, \u001b[0m\u001b[0;36m__str__\u001b[0m\n",
       "\u001b[0;33mrich comparison:\u001b[0m\n",
       "    \u001b[0;36m__eq__\u001b[0m\u001b[1;30m, \u001b[0m\u001b[0;36m__ge__\u001b[0m\u001b[1;30m, \u001b[0m\u001b[0;36m__gt__\u001b[0m\u001b[1;30m, \u001b[0m\u001b[0;36m__le__\u001b[0m\u001b[1;30m, \u001b[0m\u001b[0;36m__lt__\u001b[0m\u001b[1;30m, \u001b[0m\u001b[0;36m__ne__\u001b[0m\n",
       "\u001b[0;33mattribute access:\u001b[0m\n",
       "    \u001b[0;36m__delattr__\u001b[0m\u001b[1;30m, \u001b[0m\u001b[0;36m__dir__\u001b[0m\u001b[1;30m, \u001b[0m\u001b[0;36m__getattribute__\u001b[0m\u001b[1;30m, \u001b[0m\u001b[0;36m__setattr__\u001b[0m\n",
       "\u001b[0;33mclass customization:\u001b[0m\n",
       "    \u001b[0;36m__init_subclass__\u001b[0m\n",
       "\u001b[0;33mpickle:\u001b[0m\n",
       "    \u001b[0;36m__reduce__\u001b[0m\u001b[1;30m, \u001b[0m\u001b[0;36m__reduce_ex__\u001b[0m\n",
       "\u001b[0;33mdescriptor:\u001b[0m\n",
       "    \u001b[0;36mcurrency\u001b[0m\u001b[0;36m: \u001b[0m\u001b[1;30mclass classmethod_descriptor with getter\u001b[0m\n",
       "    \u001b[0;36mfixedFraction\u001b[0m\u001b[0;36m: \u001b[0m\u001b[1;30mclass classmethod_descriptor with getter\u001b[0m\n",
       "    \u001b[0;36mfixedSignificantDigits\u001b[0m\u001b[0;36m: \u001b[0m\u001b[1;30mclass classmethod_descriptor with getter\u001b[0m\n",
       "    \u001b[0;36mincrement\u001b[0m\u001b[0;36m: \u001b[0m\u001b[1;30mclass classmethod_descriptor with getter\u001b[0m\n",
       "    \u001b[0;36minteger\u001b[0m\u001b[0;36m: \u001b[0m\u001b[1;30mclass classmethod_descriptor with getter\u001b[0m\n",
       "    \u001b[0;36mmaxFraction\u001b[0m\u001b[0;36m: \u001b[0m\u001b[1;30mclass classmethod_descriptor with getter\u001b[0m\n",
       "    \u001b[0;36mmaxSignificantDigits\u001b[0m\u001b[0;36m: \u001b[0m\u001b[1;30mclass classmethod_descriptor with getter\u001b[0m\n",
       "    \u001b[0;36mminFraction\u001b[0m\u001b[0;36m: \u001b[0m\u001b[1;30mclass classmethod_descriptor with getter\u001b[0m\n",
       "    \u001b[0;36mminMaxFraction\u001b[0m\u001b[0;36m: \u001b[0m\u001b[1;30mclass classmethod_descriptor with getter\u001b[0m\n",
       "    \u001b[0;36mminMaxSignificantDigits\u001b[0m\u001b[0;36m: \u001b[0m\u001b[1;30mclass classmethod_descriptor with getter\u001b[0m\n",
       "    \u001b[0;36mminSignificantDigits\u001b[0m\u001b[0;36m: \u001b[0m\u001b[1;30mclass classmethod_descriptor with getter\u001b[0m\n",
       "    \u001b[0;36mowned\u001b[0m\u001b[0;36m: \u001b[0m\u001b[1;30mclass getset_descriptor with getter, setter, deleter\u001b[0m\n",
       "    \u001b[0;36munlimited\u001b[0m\u001b[0;36m: \u001b[0m\u001b[1;30mclass classmethod_descriptor with getter\u001b[0m\n",
       "\u001b[0;33mfunction:\u001b[0m\n",
       "    \u001b[0;36mtrailingZeroDisplay\u001b[0m\u001b[0;36m: \u001b[0m\u001b[1;30m\u001b[0m"
      ]
     },
     "execution_count": 73,
     "metadata": {},
     "output_type": "execute_result"
    }
   ],
   "source": [
    "pdir(Precision)"
   ]
  },
  {
   "cell_type": "code",
   "execution_count": 76,
   "metadata": {},
   "outputs": [
    {
     "data": {
      "text/plain": [
       "\u001b[0;33mspecial attribute:\u001b[0m\n",
       "    \u001b[0;36m__class__\u001b[0m\u001b[1;30m, \u001b[0m\u001b[0;36m__doc__\u001b[0m\n",
       "\u001b[0;33mabstract class:\u001b[0m\n",
       "    \u001b[0;36m__subclasshook__\u001b[0m\n",
       "\u001b[0;33marithmetic:\u001b[0m\n",
       "    \u001b[0;36m__mul__\u001b[0m\u001b[1;30m, \u001b[0m\u001b[0;36m__pow__\u001b[0m\u001b[1;30m, \u001b[0m\u001b[0;36m__rmul__\u001b[0m\u001b[1;30m, \u001b[0m\u001b[0;36m__rpow__\u001b[0m\u001b[1;30m, \u001b[0m\u001b[0;36m__rtruediv__\u001b[0m\u001b[1;30m, \u001b[0m\u001b[0;36m__truediv__\u001b[0m\n",
       "\u001b[0;33mobject customization:\u001b[0m\n",
       "    \u001b[0;36m__format__\u001b[0m\u001b[1;30m, \u001b[0m\u001b[0;36m__hash__\u001b[0m\u001b[1;30m, \u001b[0m\u001b[0;36m__init__\u001b[0m\u001b[1;30m, \u001b[0m\u001b[0;36m__new__\u001b[0m\u001b[1;30m, \u001b[0m\u001b[0;36m__repr__\u001b[0m\u001b[1;30m, \u001b[0m\u001b[0;36m__sizeof__\u001b[0m\u001b[1;30m, \u001b[0m\u001b[0;36m__str__\u001b[0m\n",
       "\u001b[0;33mrich comparison:\u001b[0m\n",
       "    \u001b[0;36m__eq__\u001b[0m\u001b[1;30m, \u001b[0m\u001b[0;36m__ge__\u001b[0m\u001b[1;30m, \u001b[0m\u001b[0;36m__gt__\u001b[0m\u001b[1;30m, \u001b[0m\u001b[0;36m__le__\u001b[0m\u001b[1;30m, \u001b[0m\u001b[0;36m__lt__\u001b[0m\u001b[1;30m, \u001b[0m\u001b[0;36m__ne__\u001b[0m\n",
       "\u001b[0;33mattribute access:\u001b[0m\n",
       "    \u001b[0;36m__delattr__\u001b[0m\u001b[1;30m, \u001b[0m\u001b[0;36m__dir__\u001b[0m\u001b[1;30m, \u001b[0m\u001b[0;36m__getattribute__\u001b[0m\u001b[1;30m, \u001b[0m\u001b[0;36m__setattr__\u001b[0m\n",
       "\u001b[0;33mclass customization:\u001b[0m\n",
       "    \u001b[0;36m__init_subclass__\u001b[0m\n",
       "\u001b[0;33mpickle:\u001b[0m\n",
       "    \u001b[0;36m__reduce__\u001b[0m\u001b[1;30m, \u001b[0m\u001b[0;36m__reduce_ex__\u001b[0m\n",
       "\u001b[0;33mdescriptor:\u001b[0m\n",
       "    \u001b[0;36mcreateAcre\u001b[0m\u001b[0;36m: \u001b[0m\u001b[1;30mclass classmethod_descriptor with getter\u001b[0m\n",
       "    \u001b[0;36mcreateAcreFoot\u001b[0m\u001b[0;36m: \u001b[0m\u001b[1;30mclass classmethod_descriptor with getter\u001b[0m\n",
       "    \u001b[0;36mcreateAmpere\u001b[0m\u001b[0;36m: \u001b[0m\u001b[1;30mclass classmethod_descriptor with getter\u001b[0m\n",
       "    \u001b[0;36mcreateArcMinute\u001b[0m\u001b[0;36m: \u001b[0m\u001b[1;30mclass classmethod_descriptor with getter\u001b[0m\n",
       "    \u001b[0;36mcreateArcSecond\u001b[0m\u001b[0;36m: \u001b[0m\u001b[1;30mclass classmethod_descriptor with getter\u001b[0m\n",
       "    \u001b[0;36mcreateAstronomicalUnit\u001b[0m\u001b[0;36m: \u001b[0m\u001b[1;30mclass classmethod_descriptor with getter\u001b[0m\n",
       "    \u001b[0;36mcreateAtmosphere\u001b[0m\u001b[0;36m: \u001b[0m\u001b[1;30mclass classmethod_descriptor with getter\u001b[0m\n",
       "    \u001b[0;36mcreateBar\u001b[0m\u001b[0;36m: \u001b[0m\u001b[1;30mclass classmethod_descriptor with getter\u001b[0m\n",
       "    \u001b[0;36mcreateBarrel\u001b[0m\u001b[0;36m: \u001b[0m\u001b[1;30mclass classmethod_descriptor with getter\u001b[0m\n",
       "    \u001b[0;36mcreateBit\u001b[0m\u001b[0;36m: \u001b[0m\u001b[1;30mclass classmethod_descriptor with getter\u001b[0m\n",
       "    \u001b[0;36mcreateBritishThermalUnit\u001b[0m\u001b[0;36m: \u001b[0m\u001b[1;30mclass classmethod_descriptor with getter\u001b[0m\n",
       "    \u001b[0;36mcreateBushel\u001b[0m\u001b[0;36m: \u001b[0m\u001b[1;30mclass classmethod_descriptor with getter\u001b[0m\n",
       "    \u001b[0;36mcreateByte\u001b[0m\u001b[0;36m: \u001b[0m\u001b[1;30mclass classmethod_descriptor with getter\u001b[0m\n",
       "    \u001b[0;36mcreateCalorie\u001b[0m\u001b[0;36m: \u001b[0m\u001b[1;30mclass classmethod_descriptor with getter\u001b[0m\n",
       "    \u001b[0;36mcreateCandela\u001b[0m\u001b[0;36m: \u001b[0m\u001b[1;30mclass classmethod_descriptor with getter\u001b[0m\n",
       "    \u001b[0;36mcreateCarat\u001b[0m\u001b[0;36m: \u001b[0m\u001b[1;30mclass classmethod_descriptor with getter\u001b[0m\n",
       "    \u001b[0;36mcreateCelsius\u001b[0m\u001b[0;36m: \u001b[0m\u001b[1;30mclass classmethod_descriptor with getter\u001b[0m\n",
       "    \u001b[0;36mcreateCentiliter\u001b[0m\u001b[0;36m: \u001b[0m\u001b[1;30mclass classmethod_descriptor with getter\u001b[0m\n",
       "    \u001b[0;36mcreateCentimeter\u001b[0m\u001b[0;36m: \u001b[0m\u001b[1;30mclass classmethod_descriptor with getter\u001b[0m\n",
       "    \u001b[0;36mcreateCentury\u001b[0m\u001b[0;36m: \u001b[0m\u001b[1;30mclass classmethod_descriptor with getter\u001b[0m\n",
       "    \u001b[0;36mcreateCubicCentimeter\u001b[0m\u001b[0;36m: \u001b[0m\u001b[1;30mclass classmethod_descriptor with getter\u001b[0m\n",
       "    \u001b[0;36mcreateCubicFoot\u001b[0m\u001b[0;36m: \u001b[0m\u001b[1;30mclass classmethod_descriptor with getter\u001b[0m\n",
       "    \u001b[0;36mcreateCubicInch\u001b[0m\u001b[0;36m: \u001b[0m\u001b[1;30mclass classmethod_descriptor with getter\u001b[0m\n",
       "    \u001b[0;36mcreateCubicKilometer\u001b[0m\u001b[0;36m: \u001b[0m\u001b[1;30mclass classmethod_descriptor with getter\u001b[0m\n",
       "    \u001b[0;36mcreateCubicMeter\u001b[0m\u001b[0;36m: \u001b[0m\u001b[1;30mclass classmethod_descriptor with getter\u001b[0m\n",
       "    \u001b[0;36mcreateCubicMile\u001b[0m\u001b[0;36m: \u001b[0m\u001b[1;30mclass classmethod_descriptor with getter\u001b[0m\n",
       "    \u001b[0;36mcreateCubicYard\u001b[0m\u001b[0;36m: \u001b[0m\u001b[1;30mclass classmethod_descriptor with getter\u001b[0m\n",
       "    \u001b[0;36mcreateCup\u001b[0m\u001b[0;36m: \u001b[0m\u001b[1;30mclass classmethod_descriptor with getter\u001b[0m\n",
       "    \u001b[0;36mcreateCupMetric\u001b[0m\u001b[0;36m: \u001b[0m\u001b[1;30mclass classmethod_descriptor with getter\u001b[0m\n",
       "    \u001b[0;36mcreateDalton\u001b[0m\u001b[0;36m: \u001b[0m\u001b[1;30mclass classmethod_descriptor with getter\u001b[0m\n",
       "    \u001b[0;36mcreateDay\u001b[0m\u001b[0;36m: \u001b[0m\u001b[1;30mclass classmethod_descriptor with getter\u001b[0m\n",
       "    \u001b[0;36mcreateDayPerson\u001b[0m\u001b[0;36m: \u001b[0m\u001b[1;30mclass classmethod_descriptor with getter\u001b[0m\n",
       "    \u001b[0;36mcreateDecade\u001b[0m\u001b[0;36m: \u001b[0m\u001b[1;30mclass classmethod_descriptor with getter\u001b[0m\n",
       "    \u001b[0;36mcreateDeciliter\u001b[0m\u001b[0;36m: \u001b[0m\u001b[1;30mclass classmethod_descriptor with getter\u001b[0m\n",
       "    \u001b[0;36mcreateDecimeter\u001b[0m\u001b[0;36m: \u001b[0m\u001b[1;30mclass classmethod_descriptor with getter\u001b[0m\n",
       "    \u001b[0;36mcreateDegree\u001b[0m\u001b[0;36m: \u001b[0m\u001b[1;30mclass classmethod_descriptor with getter\u001b[0m\n",
       "    \u001b[0;36mcreateDessertSpoon\u001b[0m\u001b[0;36m: \u001b[0m\u001b[1;30mclass classmethod_descriptor with getter\u001b[0m\n",
       "    \u001b[0;36mcreateDessertSpoonImperial\u001b[0m\u001b[0;36m: \u001b[0m\u001b[1;30mclass classmethod_descriptor with getter\u001b[0m\n",
       "    \u001b[0;36mcreateDot\u001b[0m\u001b[0;36m: \u001b[0m\u001b[1;30mclass classmethod_descriptor with getter\u001b[0m\n",
       "    \u001b[0;36mcreateDotPerCentimeter\u001b[0m\u001b[0;36m: \u001b[0m\u001b[1;30mclass classmethod_descriptor with getter\u001b[0m\n",
       "    \u001b[0;36mcreateDotPerInch\u001b[0m\u001b[0;36m: \u001b[0m\u001b[1;30mclass classmethod_descriptor with getter\u001b[0m\n",
       "    \u001b[0;36mcreateDram\u001b[0m\u001b[0;36m: \u001b[0m\u001b[1;30mclass classmethod_descriptor with getter\u001b[0m\n",
       "    \u001b[0;36mcreateDrop\u001b[0m\u001b[0;36m: \u001b[0m\u001b[1;30mclass classmethod_descriptor with getter\u001b[0m\n",
       "    \u001b[0;36mcreateDunam\u001b[0m\u001b[0;36m: \u001b[0m\u001b[1;30mclass classmethod_descriptor with getter\u001b[0m\n",
       "    \u001b[0;36mcreateEarthMass\u001b[0m\u001b[0;36m: \u001b[0m\u001b[1;30mclass classmethod_descriptor with getter\u001b[0m\n",
       "    \u001b[0;36mcreateEarthRadius\u001b[0m\u001b[0;36m: \u001b[0m\u001b[1;30mclass classmethod_descriptor with getter\u001b[0m\n",
       "    \u001b[0;36mcreateElectronvolt\u001b[0m\u001b[0;36m: \u001b[0m\u001b[1;30mclass classmethod_descriptor with getter\u001b[0m\n",
       "    \u001b[0;36mcreateEm\u001b[0m\u001b[0;36m: \u001b[0m\u001b[1;30mclass classmethod_descriptor with getter\u001b[0m\n",
       "    \u001b[0;36mcreateFahrenheit\u001b[0m\u001b[0;36m: \u001b[0m\u001b[1;30mclass classmethod_descriptor with getter\u001b[0m\n",
       "    \u001b[0;36mcreateFathom\u001b[0m\u001b[0;36m: \u001b[0m\u001b[1;30mclass classmethod_descriptor with getter\u001b[0m\n",
       "    \u001b[0;36mcreateFluidOunce\u001b[0m\u001b[0;36m: \u001b[0m\u001b[1;30mclass classmethod_descriptor with getter\u001b[0m\n",
       "    \u001b[0;36mcreateFluidOunceImperial\u001b[0m\u001b[0;36m: \u001b[0m\u001b[1;30mclass classmethod_descriptor with getter\u001b[0m\n",
       "    \u001b[0;36mcreateFoodcalorie\u001b[0m\u001b[0;36m: \u001b[0m\u001b[1;30mclass classmethod_descriptor with getter\u001b[0m\n",
       "    \u001b[0;36mcreateFoot\u001b[0m\u001b[0;36m: \u001b[0m\u001b[1;30mclass classmethod_descriptor with getter\u001b[0m\n",
       "    \u001b[0;36mcreateFurlong\u001b[0m\u001b[0;36m: \u001b[0m\u001b[1;30mclass classmethod_descriptor with getter\u001b[0m\n",
       "    \u001b[0;36mcreateGForce\u001b[0m\u001b[0;36m: \u001b[0m\u001b[1;30mclass classmethod_descriptor with getter\u001b[0m\n",
       "    \u001b[0;36mcreateGallon\u001b[0m\u001b[0;36m: \u001b[0m\u001b[1;30mclass classmethod_descriptor with getter\u001b[0m\n",
       "    \u001b[0;36mcreateGallonImperial\u001b[0m\u001b[0;36m: \u001b[0m\u001b[1;30mclass classmethod_descriptor with getter\u001b[0m\n",
       "    \u001b[0;36mcreateGenericTemperature\u001b[0m\u001b[0;36m: \u001b[0m\u001b[1;30mclass classmethod_descriptor with getter\u001b[0m\n",
       "    \u001b[0;36mcreateGigabit\u001b[0m\u001b[0;36m: \u001b[0m\u001b[1;30mclass classmethod_descriptor with getter\u001b[0m\n",
       "    \u001b[0;36mcreateGigabyte\u001b[0m\u001b[0;36m: \u001b[0m\u001b[1;30mclass classmethod_descriptor with getter\u001b[0m\n",
       "    \u001b[0;36mcreateGigahertz\u001b[0m\u001b[0;36m: \u001b[0m\u001b[1;30mclass classmethod_descriptor with getter\u001b[0m\n",
       "    \u001b[0;36mcreateGigawatt\u001b[0m\u001b[0;36m: \u001b[0m\u001b[1;30mclass classmethod_descriptor with getter\u001b[0m\n",
       "    \u001b[0;36mcreateGrain\u001b[0m\u001b[0;36m: \u001b[0m\u001b[1;30mclass classmethod_descriptor with getter\u001b[0m\n",
       "    \u001b[0;36mcreateGram\u001b[0m\u001b[0;36m: \u001b[0m\u001b[1;30mclass classmethod_descriptor with getter\u001b[0m\n",
       "    \u001b[0;36mcreateHectare\u001b[0m\u001b[0;36m: \u001b[0m\u001b[1;30mclass classmethod_descriptor with getter\u001b[0m\n",
       "    \u001b[0;36mcreateHectoliter\u001b[0m\u001b[0;36m: \u001b[0m\u001b[1;30mclass classmethod_descriptor with getter\u001b[0m\n",
       "    \u001b[0;36mcreateHectopascal\u001b[0m\u001b[0;36m: \u001b[0m\u001b[1;30mclass classmethod_descriptor with getter\u001b[0m\n",
       "    \u001b[0;36mcreateHertz\u001b[0m\u001b[0;36m: \u001b[0m\u001b[1;30mclass classmethod_descriptor with getter\u001b[0m\n",
       "    \u001b[0;36mcreateHorsepower\u001b[0m\u001b[0;36m: \u001b[0m\u001b[1;30mclass classmethod_descriptor with getter\u001b[0m\n",
       "    \u001b[0;36mcreateHour\u001b[0m\u001b[0;36m: \u001b[0m\u001b[1;30mclass classmethod_descriptor with getter\u001b[0m\n",
       "    \u001b[0;36mcreateInch\u001b[0m\u001b[0;36m: \u001b[0m\u001b[1;30mclass classmethod_descriptor with getter\u001b[0m\n",
       "    \u001b[0;36mcreateInchHg\u001b[0m\u001b[0;36m: \u001b[0m\u001b[1;30mclass classmethod_descriptor with getter\u001b[0m\n",
       "    \u001b[0;36mcreateJigger\u001b[0m\u001b[0;36m: \u001b[0m\u001b[1;30mclass classmethod_descriptor with getter\u001b[0m\n",
       "    \u001b[0;36mcreateJoule\u001b[0m\u001b[0;36m: \u001b[0m\u001b[1;30mclass classmethod_descriptor with getter\u001b[0m\n",
       "    \u001b[0;36mcreateKarat\u001b[0m\u001b[0;36m: \u001b[0m\u001b[1;30mclass classmethod_descriptor with getter\u001b[0m\n",
       "    \u001b[0;36mcreateKelvin\u001b[0m\u001b[0;36m: \u001b[0m\u001b[1;30mclass classmethod_descriptor with getter\u001b[0m\n",
       "    \u001b[0;36mcreateKilobit\u001b[0m\u001b[0;36m: \u001b[0m\u001b[1;30mclass classmethod_descriptor with getter\u001b[0m\n",
       "    \u001b[0;36mcreateKilobyte\u001b[0m\u001b[0;36m: \u001b[0m\u001b[1;30mclass classmethod_descriptor with getter\u001b[0m\n",
       "    \u001b[0;36mcreateKilocalorie\u001b[0m\u001b[0;36m: \u001b[0m\u001b[1;30mclass classmethod_descriptor with getter\u001b[0m\n",
       "    \u001b[0;36mcreateKilogram\u001b[0m\u001b[0;36m: \u001b[0m\u001b[1;30mclass classmethod_descriptor with getter\u001b[0m\n",
       "    \u001b[0;36mcreateKilohertz\u001b[0m\u001b[0;36m: \u001b[0m\u001b[1;30mclass classmethod_descriptor with getter\u001b[0m\n",
       "    \u001b[0;36mcreateKilojoule\u001b[0m\u001b[0;36m: \u001b[0m\u001b[1;30mclass classmethod_descriptor with getter\u001b[0m\n",
       "    \u001b[0;36mcreateKilometer\u001b[0m\u001b[0;36m: \u001b[0m\u001b[1;30mclass classmethod_descriptor with getter\u001b[0m\n",
       "    \u001b[0;36mcreateKilometerPerHour\u001b[0m\u001b[0;36m: \u001b[0m\u001b[1;30mclass classmethod_descriptor with getter\u001b[0m\n",
       "    \u001b[0;36mcreateKilopascal\u001b[0m\u001b[0;36m: \u001b[0m\u001b[1;30mclass classmethod_descriptor with getter\u001b[0m\n",
       "    \u001b[0;36mcreateKilowatt\u001b[0m\u001b[0;36m: \u001b[0m\u001b[1;30mclass classmethod_descriptor with getter\u001b[0m\n",
       "    \u001b[0;36mcreateKilowattHour\u001b[0m\u001b[0;36m: \u001b[0m\u001b[1;30mclass classmethod_descriptor with getter\u001b[0m\n",
       "    \u001b[0;36mcreateKilowattHourPer100Kilometer\u001b[0m\u001b[0;36m: \u001b[0m\u001b[1;30mclass classmethod_descriptor with getter\u001b[0m\n",
       "    \u001b[0;36mcreateKnot\u001b[0m\u001b[0;36m: \u001b[0m\u001b[1;30mclass classmethod_descriptor with getter\u001b[0m\n",
       "    \u001b[0;36mcreateLightYear\u001b[0m\u001b[0;36m: \u001b[0m\u001b[1;30mclass classmethod_descriptor with getter\u001b[0m\n",
       "    \u001b[0;36mcreateLiter\u001b[0m\u001b[0;36m: \u001b[0m\u001b[1;30mclass classmethod_descriptor with getter\u001b[0m\n",
       "    \u001b[0;36mcreateLiterPer100Kilometers\u001b[0m\u001b[0;36m: \u001b[0m\u001b[1;30mclass classmethod_descriptor with getter\u001b[0m\n",
       "    \u001b[0;36mcreateLiterPerKilometer\u001b[0m\u001b[0;36m: \u001b[0m\u001b[1;30mclass classmethod_descriptor with getter\u001b[0m\n",
       "    \u001b[0;36mcreateLumen\u001b[0m\u001b[0;36m: \u001b[0m\u001b[1;30mclass classmethod_descriptor with getter\u001b[0m\n",
       "    \u001b[0;36mcreateLux\u001b[0m\u001b[0;36m: \u001b[0m\u001b[1;30mclass classmethod_descriptor with getter\u001b[0m\n",
       "    \u001b[0;36mcreateMegabit\u001b[0m\u001b[0;36m: \u001b[0m\u001b[1;30mclass classmethod_descriptor with getter\u001b[0m\n",
       "    \u001b[0;36mcreateMegabyte\u001b[0m\u001b[0;36m: \u001b[0m\u001b[1;30mclass classmethod_descriptor with getter\u001b[0m\n",
       "    \u001b[0;36mcreateMegahertz\u001b[0m\u001b[0;36m: \u001b[0m\u001b[1;30mclass classmethod_descriptor with getter\u001b[0m\n",
       "    \u001b[0;36mcreateMegaliter\u001b[0m\u001b[0;36m: \u001b[0m\u001b[1;30mclass classmethod_descriptor with getter\u001b[0m\n",
       "    \u001b[0;36mcreateMegapascal\u001b[0m\u001b[0;36m: \u001b[0m\u001b[1;30mclass classmethod_descriptor with getter\u001b[0m\n",
       "    \u001b[0;36mcreateMegapixel\u001b[0m\u001b[0;36m: \u001b[0m\u001b[1;30mclass classmethod_descriptor with getter\u001b[0m\n",
       "    \u001b[0;36mcreateMegawatt\u001b[0m\u001b[0;36m: \u001b[0m\u001b[1;30mclass classmethod_descriptor with getter\u001b[0m\n",
       "    \u001b[0;36mcreateMeter\u001b[0m\u001b[0;36m: \u001b[0m\u001b[1;30mclass classmethod_descriptor with getter\u001b[0m\n",
       "    \u001b[0;36mcreateMeterPerSecond\u001b[0m\u001b[0;36m: \u001b[0m\u001b[1;30mclass classmethod_descriptor with getter\u001b[0m\n",
       "    \u001b[0;36mcreateMeterPerSecondSquared\u001b[0m\u001b[0;36m: \u001b[0m\u001b[1;30mclass classmethod_descriptor with getter\u001b[0m\n",
       "    \u001b[0;36mcreateMetricTon\u001b[0m\u001b[0;36m: \u001b[0m\u001b[1;30mclass classmethod_descriptor with getter\u001b[0m\n",
       "    \u001b[0;36mcreateMicrogram\u001b[0m\u001b[0;36m: \u001b[0m\u001b[1;30mclass classmethod_descriptor with getter\u001b[0m\n",
       "    \u001b[0;36mcreateMicrometer\u001b[0m\u001b[0;36m: \u001b[0m\u001b[1;30mclass classmethod_descriptor with getter\u001b[0m\n",
       "    \u001b[0;36mcreateMicrosecond\u001b[0m\u001b[0;36m: \u001b[0m\u001b[1;30mclass classmethod_descriptor with getter\u001b[0m\n",
       "    \u001b[0;36mcreateMile\u001b[0m\u001b[0;36m: \u001b[0m\u001b[1;30mclass classmethod_descriptor with getter\u001b[0m\n",
       "    \u001b[0;36mcreateMilePerGallon\u001b[0m\u001b[0;36m: \u001b[0m\u001b[1;30mclass classmethod_descriptor with getter\u001b[0m\n",
       "    \u001b[0;36mcreateMilePerGallonImperial\u001b[0m\u001b[0;36m: \u001b[0m\u001b[1;30mclass classmethod_descriptor with getter\u001b[0m\n",
       "    \u001b[0;36mcreateMilePerHour\u001b[0m\u001b[0;36m: \u001b[0m\u001b[1;30mclass classmethod_descriptor with getter\u001b[0m\n",
       "    \u001b[0;36mcreateMileScandinavian\u001b[0m\u001b[0;36m: \u001b[0m\u001b[1;30mclass classmethod_descriptor with getter\u001b[0m\n",
       "    \u001b[0;36mcreateMilliampere\u001b[0m\u001b[0;36m: \u001b[0m\u001b[1;30mclass classmethod_descriptor with getter\u001b[0m\n",
       "    \u001b[0;36mcreateMillibar\u001b[0m\u001b[0;36m: \u001b[0m\u001b[1;30mclass classmethod_descriptor with getter\u001b[0m\n",
       "    \u001b[0;36mcreateMilligram\u001b[0m\u001b[0;36m: \u001b[0m\u001b[1;30mclass classmethod_descriptor with getter\u001b[0m\n",
       "    \u001b[0;36mcreateMilligramOfglucosePerDeciliter\u001b[0m\u001b[0;36m: \u001b[0m\u001b[1;30mclass classmethod_descriptor with getter\u001b[0m\n",
       "    \u001b[0;36mcreateMilligramPerDeciliter\u001b[0m\u001b[0;36m: \u001b[0m\u001b[1;30mclass classmethod_descriptor with getter\u001b[0m\n",
       "    \u001b[0;36mcreateMilliliter\u001b[0m\u001b[0;36m: \u001b[0m\u001b[1;30mclass classmethod_descriptor with getter\u001b[0m\n",
       "    \u001b[0;36mcreateMillimeter\u001b[0m\u001b[0;36m: \u001b[0m\u001b[1;30mclass classmethod_descriptor with getter\u001b[0m\n",
       "    \u001b[0;36mcreateMillimeterOfMercury\u001b[0m\u001b[0;36m: \u001b[0m\u001b[1;30mclass classmethod_descriptor with getter\u001b[0m\n",
       "    \u001b[0;36mcreateMillimolePerLiter\u001b[0m\u001b[0;36m: \u001b[0m\u001b[1;30mclass classmethod_descriptor with getter\u001b[0m\n",
       "    \u001b[0;36mcreateMillisecond\u001b[0m\u001b[0;36m: \u001b[0m\u001b[1;30mclass classmethod_descriptor with getter\u001b[0m\n",
       "    \u001b[0;36mcreateMilliwatt\u001b[0m\u001b[0;36m: \u001b[0m\u001b[1;30mclass classmethod_descriptor with getter\u001b[0m\n",
       "    \u001b[0;36mcreateMinute\u001b[0m\u001b[0;36m: \u001b[0m\u001b[1;30mclass classmethod_descriptor with getter\u001b[0m\n",
       "    \u001b[0;36mcreateMole\u001b[0m\u001b[0;36m: \u001b[0m\u001b[1;30mclass classmethod_descriptor with getter\u001b[0m\n",
       "    \u001b[0;36mcreateMonth\u001b[0m\u001b[0;36m: \u001b[0m\u001b[1;30mclass classmethod_descriptor with getter\u001b[0m\n",
       "    \u001b[0;36mcreateMonthPerson\u001b[0m\u001b[0;36m: \u001b[0m\u001b[1;30mclass classmethod_descriptor with getter\u001b[0m\n",
       "    \u001b[0;36mcreateNanometer\u001b[0m\u001b[0;36m: \u001b[0m\u001b[1;30mclass classmethod_descriptor with getter\u001b[0m\n",
       "    \u001b[0;36mcreateNanosecond\u001b[0m\u001b[0;36m: \u001b[0m\u001b[1;30mclass classmethod_descriptor with getter\u001b[0m\n",
       "    \u001b[0;36mcreateNauticalMile\u001b[0m\u001b[0;36m: \u001b[0m\u001b[1;30mclass classmethod_descriptor with getter\u001b[0m\n",
       "    \u001b[0;36mcreateNewton\u001b[0m\u001b[0;36m: \u001b[0m\u001b[1;30mclass classmethod_descriptor with getter\u001b[0m\n",
       "    \u001b[0;36mcreateNewtonMeter\u001b[0m\u001b[0;36m: \u001b[0m\u001b[1;30mclass classmethod_descriptor with getter\u001b[0m\n",
       "    \u001b[0;36mcreateOhm\u001b[0m\u001b[0;36m: \u001b[0m\u001b[1;30mclass classmethod_descriptor with getter\u001b[0m\n",
       "    \u001b[0;36mcreateOunce\u001b[0m\u001b[0;36m: \u001b[0m\u001b[1;30mclass classmethod_descriptor with getter\u001b[0m\n",
       "    \u001b[0;36mcreateOunceTroy\u001b[0m\u001b[0;36m: \u001b[0m\u001b[1;30mclass classmethod_descriptor with getter\u001b[0m\n",
       "    \u001b[0;36mcreateParsec\u001b[0m\u001b[0;36m: \u001b[0m\u001b[1;30mclass classmethod_descriptor with getter\u001b[0m\n",
       "    \u001b[0;36mcreatePartPerMillion\u001b[0m\u001b[0;36m: \u001b[0m\u001b[1;30mclass classmethod_descriptor with getter\u001b[0m\n",
       "    \u001b[0;36mcreatePascal\u001b[0m\u001b[0;36m: \u001b[0m\u001b[1;30mclass classmethod_descriptor with getter\u001b[0m\n",
       "    \u001b[0;36mcreatePercent\u001b[0m\u001b[0;36m: \u001b[0m\u001b[1;30mclass classmethod_descriptor with getter\u001b[0m\n",
       "    \u001b[0;36mcreatePermille\u001b[0m\u001b[0;36m: \u001b[0m\u001b[1;30mclass classmethod_descriptor with getter\u001b[0m\n",
       "    \u001b[0;36mcreatePermyriad\u001b[0m\u001b[0;36m: \u001b[0m\u001b[1;30mclass classmethod_descriptor with getter\u001b[0m\n",
       "    \u001b[0;36mcreatePetabyte\u001b[0m\u001b[0;36m: \u001b[0m\u001b[1;30mclass classmethod_descriptor with getter\u001b[0m\n",
       "    \u001b[0;36mcreatePicometer\u001b[0m\u001b[0;36m: \u001b[0m\u001b[1;30mclass classmethod_descriptor with getter\u001b[0m\n",
       "    \u001b[0;36mcreatePinch\u001b[0m\u001b[0;36m: \u001b[0m\u001b[1;30mclass classmethod_descriptor with getter\u001b[0m\n",
       "    \u001b[0;36mcreatePint\u001b[0m\u001b[0;36m: \u001b[0m\u001b[1;30mclass classmethod_descriptor with getter\u001b[0m\n",
       "    \u001b[0;36mcreatePintMetric\u001b[0m\u001b[0;36m: \u001b[0m\u001b[1;30mclass classmethod_descriptor with getter\u001b[0m\n",
       "    \u001b[0;36mcreatePixel\u001b[0m\u001b[0;36m: \u001b[0m\u001b[1;30mclass classmethod_descriptor with getter\u001b[0m\n",
       "    \u001b[0;36mcreatePixelPerCentimeter\u001b[0m\u001b[0;36m: \u001b[0m\u001b[1;30mclass classmethod_descriptor with getter\u001b[0m\n",
       "    \u001b[0;36mcreatePixelPerInch\u001b[0m\u001b[0;36m: \u001b[0m\u001b[1;30mclass classmethod_descriptor with getter\u001b[0m\n",
       "    \u001b[0;36mcreatePoint\u001b[0m\u001b[0;36m: \u001b[0m\u001b[1;30mclass classmethod_descriptor with getter\u001b[0m\n",
       "    \u001b[0;36mcreatePound\u001b[0m\u001b[0;36m: \u001b[0m\u001b[1;30mclass classmethod_descriptor with getter\u001b[0m\n",
       "    \u001b[0;36mcreatePoundFoot\u001b[0m\u001b[0;36m: \u001b[0m\u001b[1;30mclass classmethod_descriptor with getter\u001b[0m\n",
       "    \u001b[0;36mcreatePoundForce\u001b[0m\u001b[0;36m: \u001b[0m\u001b[1;30mclass classmethod_descriptor with getter\u001b[0m\n",
       "    \u001b[0;36mcreatePoundPerSquareInch\u001b[0m\u001b[0;36m: \u001b[0m\u001b[1;30mclass classmethod_descriptor with getter\u001b[0m\n",
       "    \u001b[0;36mcreateQuart\u001b[0m\u001b[0;36m: \u001b[0m\u001b[1;30mclass classmethod_descriptor with getter\u001b[0m\n",
       "    \u001b[0;36mcreateQuartImperial\u001b[0m\u001b[0;36m: \u001b[0m\u001b[1;30mclass classmethod_descriptor with getter\u001b[0m\n",
       "    \u001b[0;36mcreateRadian\u001b[0m\u001b[0;36m: \u001b[0m\u001b[1;30mclass classmethod_descriptor with getter\u001b[0m\n",
       "    \u001b[0;36mcreateRevolutionAngle\u001b[0m\u001b[0;36m: \u001b[0m\u001b[1;30mclass classmethod_descriptor with getter\u001b[0m\n",
       "    \u001b[0;36mcreateSecond\u001b[0m\u001b[0;36m: \u001b[0m\u001b[1;30mclass classmethod_descriptor with getter\u001b[0m\n",
       "    \u001b[0;36mcreateSolarLuminosity\u001b[0m\u001b[0;36m: \u001b[0m\u001b[1;30mclass classmethod_descriptor with getter\u001b[0m\n",
       "    \u001b[0;36mcreateSolarMass\u001b[0m\u001b[0;36m: \u001b[0m\u001b[1;30mclass classmethod_descriptor with getter\u001b[0m\n",
       "    \u001b[0;36mcreateSolarRadius\u001b[0m\u001b[0;36m: \u001b[0m\u001b[1;30mclass classmethod_descriptor with getter\u001b[0m\n",
       "    \u001b[0;36mcreateSquareCentimeter\u001b[0m\u001b[0;36m: \u001b[0m\u001b[1;30mclass classmethod_descriptor with getter\u001b[0m\n",
       "    \u001b[0;36mcreateSquareFoot\u001b[0m\u001b[0;36m: \u001b[0m\u001b[1;30mclass classmethod_descriptor with getter\u001b[0m\n",
       "    \u001b[0;36mcreateSquareInch\u001b[0m\u001b[0;36m: \u001b[0m\u001b[1;30mclass classmethod_descriptor with getter\u001b[0m\n",
       "    \u001b[0;36mcreateSquareKilometer\u001b[0m\u001b[0;36m: \u001b[0m\u001b[1;30mclass classmethod_descriptor with getter\u001b[0m\n",
       "    \u001b[0;36mcreateSquareMeter\u001b[0m\u001b[0;36m: \u001b[0m\u001b[1;30mclass classmethod_descriptor with getter\u001b[0m\n",
       "    \u001b[0;36mcreateSquareMile\u001b[0m\u001b[0;36m: \u001b[0m\u001b[1;30mclass classmethod_descriptor with getter\u001b[0m\n",
       "    \u001b[0;36mcreateSquareYard\u001b[0m\u001b[0;36m: \u001b[0m\u001b[1;30mclass classmethod_descriptor with getter\u001b[0m\n",
       "    \u001b[0;36mcreateStone\u001b[0m\u001b[0;36m: \u001b[0m\u001b[1;30mclass classmethod_descriptor with getter\u001b[0m\n",
       "    \u001b[0;36mcreateTablespoon\u001b[0m\u001b[0;36m: \u001b[0m\u001b[1;30mclass classmethod_descriptor with getter\u001b[0m\n",
       "    \u001b[0;36mcreateTeaspoon\u001b[0m\u001b[0;36m: \u001b[0m\u001b[1;30mclass classmethod_descriptor with getter\u001b[0m\n",
       "    \u001b[0;36mcreateTerabit\u001b[0m\u001b[0;36m: \u001b[0m\u001b[1;30mclass classmethod_descriptor with getter\u001b[0m\n",
       "    \u001b[0;36mcreateTerabyte\u001b[0m\u001b[0;36m: \u001b[0m\u001b[1;30mclass classmethod_descriptor with getter\u001b[0m\n",
       "    \u001b[0;36mcreateThermUs\u001b[0m\u001b[0;36m: \u001b[0m\u001b[1;30mclass classmethod_descriptor with getter\u001b[0m\n",
       "    \u001b[0;36mcreateTon\u001b[0m\u001b[0;36m: \u001b[0m\u001b[1;30mclass classmethod_descriptor with getter\u001b[0m\n",
       "    \u001b[0;36mcreateVolt\u001b[0m\u001b[0;36m: \u001b[0m\u001b[1;30mclass classmethod_descriptor with getter\u001b[0m\n",
       "    \u001b[0;36mcreateWatt\u001b[0m\u001b[0;36m: \u001b[0m\u001b[1;30mclass classmethod_descriptor with getter\u001b[0m\n",
       "    \u001b[0;36mcreateWeek\u001b[0m\u001b[0;36m: \u001b[0m\u001b[1;30mclass classmethod_descriptor with getter\u001b[0m\n",
       "    \u001b[0;36mcreateWeekPerson\u001b[0m\u001b[0;36m: \u001b[0m\u001b[1;30mclass classmethod_descriptor with getter\u001b[0m\n",
       "    \u001b[0;36mcreateYard\u001b[0m\u001b[0;36m: \u001b[0m\u001b[1;30mclass classmethod_descriptor with getter\u001b[0m\n",
       "    \u001b[0;36mcreateYear\u001b[0m\u001b[0;36m: \u001b[0m\u001b[1;30mclass classmethod_descriptor with getter\u001b[0m\n",
       "    \u001b[0;36mcreateYearPerson\u001b[0m\u001b[0;36m: \u001b[0m\u001b[1;30mclass classmethod_descriptor with getter\u001b[0m\n",
       "    \u001b[0;36mforIdentifier\u001b[0m\u001b[0;36m: \u001b[0m\u001b[1;30mclass classmethod_descriptor with getter\u001b[0m\n",
       "    \u001b[0;36mgetAvailable\u001b[0m\u001b[0;36m: \u001b[0m\u001b[1;30mclass classmethod_descriptor with getter\u001b[0m\n",
       "    \u001b[0;36mgetAvailableTypes\u001b[0m\u001b[0;36m: \u001b[0m\u001b[1;30mclass classmethod_descriptor with getter\u001b[0m\n",
       "    \u001b[0;36mowned\u001b[0m\u001b[0;36m: \u001b[0m\u001b[1;30mclass getset_descriptor with getter, setter, deleter\u001b[0m\n",
       "\u001b[0;33mfunction:\u001b[0m\n",
       "    \u001b[0;36mgetComplexity\u001b[0m\u001b[0;36m: \u001b[0m\u001b[1;30m\u001b[0m\n",
       "    \u001b[0;36mgetDimensionality\u001b[0m\u001b[0;36m: \u001b[0m\u001b[1;30m\u001b[0m\n",
       "    \u001b[0;36mgetDynamicClassID\u001b[0m\u001b[0;36m: \u001b[0m\u001b[1;30m\u001b[0m\n",
       "    \u001b[0;36mgetISOCurrency\u001b[0m\u001b[0;36m: \u001b[0m\u001b[1;30m\u001b[0m\n",
       "    \u001b[0;36mgetIdentifier\u001b[0m\u001b[0;36m: \u001b[0m\u001b[1;30m\u001b[0m\n",
       "    \u001b[0;36mgetName\u001b[0m\u001b[0;36m: \u001b[0m\u001b[1;30m\u001b[0m\n",
       "    \u001b[0;36mgetPrefix\u001b[0m\u001b[0;36m: \u001b[0m\u001b[1;30m\u001b[0m\n",
       "    \u001b[0;36mgetSubtype\u001b[0m\u001b[0;36m: \u001b[0m\u001b[1;30m\u001b[0m\n",
       "    \u001b[0;36mgetType\u001b[0m\u001b[0;36m: \u001b[0m\u001b[1;30m\u001b[0m\n",
       "    \u001b[0;36mproduct\u001b[0m\u001b[0;36m: \u001b[0m\u001b[1;30m\u001b[0m\n",
       "    \u001b[0;36mreciprocal\u001b[0m\u001b[0;36m: \u001b[0m\u001b[1;30m\u001b[0m\n",
       "    \u001b[0;36mwithPrefix\u001b[0m\u001b[0;36m: \u001b[0m\u001b[1;30m\u001b[0m"
      ]
     },
     "execution_count": 76,
     "metadata": {},
     "output_type": "execute_result"
    }
   ],
   "source": [
    "pdir(CurrencyUnit)"
   ]
  },
  {
   "cell_type": "code",
   "execution_count": null,
   "metadata": {},
   "outputs": [],
   "source": []
  }
 ],
 "metadata": {
  "colab": {
   "collapsed_sections": [],
   "name": "en_IN_on_colab.ipynb",
   "provenance": []
  },
  "kernelspec": {
   "display_name": "Python 3 (ipykernel)",
   "language": "python",
   "name": "python3"
  },
  "language_info": {
   "codemirror_mode": {
    "name": "ipython",
    "version": 3
   },
   "file_extension": ".py",
   "mimetype": "text/x-python",
   "name": "python",
   "nbconvert_exporter": "python",
   "pygments_lexer": "ipython3",
   "version": "3.10.4"
  }
 },
 "nbformat": 4,
 "nbformat_minor": 4
}
