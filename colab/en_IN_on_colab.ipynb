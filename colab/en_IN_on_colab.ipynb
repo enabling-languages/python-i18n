{
  "nbformat": 4,
  "nbformat_minor": 0,
  "metadata": {
    "colab": {
      "name": "en_IN_on_colab.ipynb",
      "provenance": [],
      "collapsed_sections": []
    },
    "kernelspec": {
      "name": "python3",
      "display_name": "Python 3"
    },
    "language_info": {
      "name": "python"
    }
  },
  "cells": [
    {
      "cell_type": "markdown",
      "source": [
        "# Working with the en_IN locale\n",
        "\n",
        "[![Open In Colab](https://colab.research.google.com/assets/colab-badge.svg)](https://colab.research.google.com/github/enabling-languages/python-i18n/blob/main/colab/en_IN_on_colab.ipynb)\n",
        "\n",
        "The *en_IN.UTF-8* locale is available on linux, but absent on macOS, the locale allows the correct formatting and display of numbers and currency according to Indian conventions, including the (3, 2) pattern for grouping separators.\n",
        "\n",
        "_The notebook contains example code that will try to set the locale to **en_IN.UTF-8**, and if the locale is unavailable, the code will install the locale for this notebook, and to stop the runtime environment._\n",
        "\n",
        "**_It will be necessary to manually restart the runtime environment and rerun the notebook._**"
      ],
      "metadata": {
        "id": "ucLUcH6WFgHz"
      }
    },
    {
      "cell_type": "markdown",
      "source": [
        "## Setup"
      ],
      "metadata": {
        "id": "lh5112Z-FqC4"
      }
    },
    {
      "cell_type": "code",
      "source": [
        "import locale\n",
        "loc = \"en_IN.UTF-8\"\n",
        "\n",
        "try:\n",
        "  import google.colab\n",
        "  IN_COLAB = True\n",
        "except ImportError:\n",
        "  IN_COLAB = False\n",
        "if IN_COLAB:\n",
        "  !pip install PyICU\n",
        "  try:\n",
        "    locale.setlocale(locale.LC_ALL, loc)\n",
        "  except locale.Error:\n",
        "    print(\"Currently installing required locale. After the install the runtime environment will restart, please rerun all code.\")\n",
        "    !sudo locale-gen {loc}\n",
        "    !sudo update-locale\n",
        "    import os\n",
        "    os.kill(os.getpid(), 9)\n",
        "else:\n",
        "  locale.setlocale(locale.LC_ALL, loc)\n",
        "\n",
        "from icu import Locale, NumberFormatter, CurrencyUnit, RuleBasedNumberFormat, URBNFRuleSetTag, NumberFormat"
      ],
      "metadata": {
        "id": "mMNdGeBwEGrX",
        "colab": {
          "base_uri": "https://localhost:8080/"
        },
        "outputId": "2b527d55-d698-42a5-897e-aabe5fc7cd57"
      },
      "execution_count": 34,
      "outputs": [
        {
          "output_type": "stream",
          "name": "stdout",
          "text": [
            "Requirement already satisfied: PyICU in /usr/local/lib/python3.7/dist-packages (2.9)\n"
          ]
        }
      ]
    },
    {
      "cell_type": "markdown",
      "source": [
        "## Using the locale module\n",
        "\n",
        "`locale.currency()` will convert a normalised (unlocalised) numeral into a formatted numeral string based on the conventions of the current locale. By default the conversion does not include grouping (thousands) separators in the formatted string. To enable grouping seperators, set the `grouping` parameter to `True`. The default value is `False`."
      ],
      "metadata": {
        "id": "tlMBxUyicBD1"
      }
    },
    {
      "cell_type": "code",
      "source": [
        "lst = [2.54, 4.0, 3, 9.95, 5.4]\n",
        "print([locale.currency(i, grouping=True) for i in lst])"
      ],
      "metadata": {
        "colab": {
          "base_uri": "https://localhost:8080/"
        },
        "id": "fZyzIEWKEdJF",
        "outputId": "96ee5bc5-d9c9-40f1-89fb-a287c9915a75"
      },
      "execution_count": 35,
      "outputs": [
        {
          "output_type": "stream",
          "name": "stdout",
          "text": [
            "['₹ 2.54', '₹ 4.00', '₹ 3.00', '₹ 9.95', '₹ 5.40']\n"
          ]
        }
      ]
    },
    {
      "cell_type": "code",
      "source": [
        "lst2 = [123452.54, 4367843.0, 120030, 900020.95, 5000000.0]\n",
        "print([locale.currency(i, grouping=True) for i in lst2])\n"
      ],
      "metadata": {
        "colab": {
          "base_uri": "https://localhost:8080/"
        },
        "id": "1TkeFpbzFDJc",
        "outputId": "ad2c4b3b-c78c-4c38-f043-7b22b13ae524"
      },
      "execution_count": 36,
      "outputs": [
        {
          "output_type": "stream",
          "name": "stdout",
          "text": [
            "['₹ 1,23,452.54', '₹ 43,67,843.00', '₹ 1,20,030.00', '₹ 9,00,020.95', '₹ 50,00,000.00']\n"
          ]
        }
      ]
    },
    {
      "cell_type": "markdown",
      "source": [
        "The _glibc_ based _en_IN_ locale does not insert a space between the currency symbol and the numerals. There is an internal function intended for testing, `locale._override_localeconv`, that can change some of the locale settings, in theory it should be reserved for testing only."
      ],
      "metadata": {
        "id": "9O0-OJEykI1A"
      }
    },
    {
      "cell_type": "code",
      "source": [
        "locale._override_localeconv[\"p_sep_by_space\"] = 1\n",
        "print([locale.currency(i, grouping=True) for i in lst2])\n"
      ],
      "metadata": {
        "colab": {
          "base_uri": "https://localhost:8080/"
        },
        "id": "pTNfTVeUFRJO",
        "outputId": "8b83268e-7794-4b7b-856b-fda84eb5ad1f"
      },
      "execution_count": 37,
      "outputs": [
        {
          "output_type": "stream",
          "name": "stdout",
          "text": [
            "['₹ 1,23,452.54', '₹ 43,67,843.00', '₹ 1,20,030.00', '₹ 9,00,020.95', '₹ 50,00,000.00']\n"
          ]
        }
      ]
    },
    {
      "cell_type": "markdown",
      "source": [
        "## Using PyICU\n",
        "\n",
        "There are a number of ways of creating a formatter instance for currency. The original method was `icu.NumberFormat`, the newer method is `icu.NumberFormatter`, which superceeded `icu.NumberFormat`.\n",
        "\n",
        "Using `icu.NumberFormatter`:"
      ],
      "metadata": {
        "id": "L4ywj6O9FwYU"
      }
    },
    {
      "cell_type": "code",
      "source": [
        "icu_loc = Locale.createCanonical(loc)\n",
        "formatter = NumberFormatter.with_().unit(CurrencyUnit('INR')).locale(icu_loc)\n",
        "print([str(formatter.formatDouble(i)).replace('\\xa0', ' ') for i in lst2])\n"
      ],
      "metadata": {
        "colab": {
          "base_uri": "https://localhost:8080/"
        },
        "id": "J8qw2xSpG3QC",
        "outputId": "c069caaa-1f53-49bf-fc92-ccc79b9356ab"
      },
      "execution_count": 38,
      "outputs": [
        {
          "output_type": "stream",
          "name": "stdout",
          "text": [
            "['₹ 1,23,452.54', '₹ 43,67,843.00', '₹ 1,20,030.00', '₹ 9,00,020.95', '₹ 50,00,000.00']\n"
          ]
        }
      ]
    },
    {
      "cell_type": "markdown",
      "source": [
        "Using `icu.RuleBasedNumberFormat\n",
        "`:"
      ],
      "metadata": {
        "id": "w03QeCwxO94h"
      }
    },
    {
      "cell_type": "code",
      "source": [
        "rbnf = RuleBasedNumberFormat.createCurrencyInstance(icu_loc)\n",
        "print(rbnf.format(lst2[0]))"
      ],
      "metadata": {
        "colab": {
          "base_uri": "https://localhost:8080/"
        },
        "id": "z6U8ep_XPFUN",
        "outputId": "9587e97d-93a1-4a7e-8a8c-ce8f6093f466"
      },
      "execution_count": 47,
      "outputs": [
        {
          "output_type": "stream",
          "name": "stdout",
          "text": [
            "₹ 1,23,452.54\n"
          ]
        }
      ]
    },
    {
      "cell_type": "markdown",
      "source": [
        "Using `icu.NumberFormat`:"
      ],
      "metadata": {
        "id": "tLKqrD7kKOoo"
      }
    },
    {
      "cell_type": "code",
      "source": [
        "nf_formatter = NumberFormat.createCurrencyInstance(icu_loc)\n",
        "print(nf_formatter.format(lst2[0]))"
      ],
      "metadata": {
        "colab": {
          "base_uri": "https://localhost:8080/"
        },
        "id": "il8Yh48JJF_S",
        "outputId": "ea4c6a9e-af87-4a84-f6be-ddc53210c566"
      },
      "execution_count": 40,
      "outputs": [
        {
          "output_type": "stream",
          "name": "stdout",
          "text": [
            "₹ 1,23,452.54\n"
          ]
        }
      ]
    },
    {
      "cell_type": "markdown",
      "source": [
        "### Text version of numbers via SPELLOUT"
      ],
      "metadata": {
        "id": "ckZq70mSHGcY"
      }
    },
    {
      "cell_type": "code",
      "source": [
        "rb_formatter = RuleBasedNumberFormat(URBNFRuleSetTag.SPELLOUT, icu_loc)\n",
        "print(rb_formatter.format(lst2[0]))"
      ],
      "metadata": {
        "colab": {
          "base_uri": "https://localhost:8080/"
        },
        "id": "6jLponG8EJgW",
        "outputId": "3b180852-945a-4c14-8bee-e1b95a5111f5"
      },
      "execution_count": 39,
      "outputs": [
        {
          "output_type": "stream",
          "name": "stdout",
          "text": [
            "one lakh twenty-three thousand four hundred fifty-two point five four\n"
          ]
        }
      ]
    }
  ]
}