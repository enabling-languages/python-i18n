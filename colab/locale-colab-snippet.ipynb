{
 "cells": [
  {
   "cell_type": "markdown",
   "source": [
    "# Loading locales in Colab: snippet\n",
    "\n",
    "Refer to [locale_module_colab.ipynb](locale_module_colab.ipynb)."
   ],
   "metadata": {}
  },
  {
   "cell_type": "code",
   "execution_count": 2,
   "source": [
    "# Import oacle module\n",
    "import locale"
   ],
   "outputs": [],
   "metadata": {}
  },
  {
   "cell_type": "code",
   "execution_count": 5,
   "source": [
    "try:\n",
    "  import google.colab\n",
    "  IN_COLAB = True\n",
    "except:\n",
    "  IN_COLAB = False\n",
    "if IN_COLAB:\n",
    "  try:\n",
    "    locale.setlocale(locale.LC_ALL, \"en_AU.UTF-8\")\n",
    "  except Exception:\n",
    "    !sudo apt-get install language-pack-en language-pack-fr language-pack-sv language-pack-de\n",
    "    #!sudo apt autoremove\n",
    "    import os\n",
    "    os.kill(os.getpid(), 9)\n",
    "else:\n",
    "  locale.setlocale(locale.LC_ALL, \"en_AU.UTF-8\")"
   ],
   "outputs": [
    {
     "output_type": "stream",
     "name": "stdout",
     "text": [
      "IN_COLAB: False\n"
     ]
    }
   ],
   "metadata": {}
  },
  {
   "cell_type": "code",
   "execution_count": 6,
   "source": [
    "print(\"IN_COLAB: \" + str(IN_COLAB))\n",
    "print(locale.getlocale())"
   ],
   "outputs": [
    {
     "output_type": "stream",
     "name": "stdout",
     "text": [
      "IN_COLAB: False\n",
      "('en_AU', 'UTF-8')\n"
     ]
    }
   ],
   "metadata": {}
  }
 ],
 "metadata": {
  "orig_nbformat": 4,
  "language_info": {
   "name": "python",
   "version": "3.8.1",
   "mimetype": "text/x-python",
   "codemirror_mode": {
    "name": "ipython",
    "version": 3
   },
   "pygments_lexer": "ipython3",
   "nbconvert_exporter": "python",
   "file_extension": ".py"
  },
  "kernelspec": {
   "name": "python3",
   "display_name": "Python 3.8.1 64-bit ('el': venv)"
  },
  "interpreter": {
   "hash": "1089646a020cfe6092fafe876ee4a6e68b3ec5a13ed8a22b79c0a42e9e2a954f"
  }
 },
 "nbformat": 4,
 "nbformat_minor": 2
}