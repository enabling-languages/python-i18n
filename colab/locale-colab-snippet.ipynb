{
 "cells": [
  {
   "cell_type": "markdown",
   "metadata": {},
   "source": [
    "# Loading locales in Colab: snippet\n",
    "\n",
    "Refer to [locale_module_colab.ipynb](locale_module_colab.ipynb)."
   ]
  },
  {
   "cell_type": "code",
   "execution_count": null,
   "metadata": {},
   "outputs": [],
   "source": [
    "# Import locale module\n",
    "import locale"
   ]
  },
  {
   "cell_type": "code",
   "execution_count": null,
   "metadata": {},
   "outputs": [],
   "source": [
    "try:\n",
    "  import google.colab\n",
    "  IN_COLAB = True\n",
    "except ImportError:\n",
    "  IN_COLAB = False\n",
    "if IN_COLAB:\n",
    "  try:\n",
    "    locale.setlocale(locale.LC_ALL, \"en_AU.UTF-8\")\n",
    "  except locale.Error:\n",
    "    !sudo apt-get install language-pack-en language-pack-fr language-pack-sv language-pack-de\n",
    "    #!sudo apt autoremove\n",
    "    import os\n",
    "    os.kill(os.getpid(), 9)\n",
    "else:\n",
    "  locale.setlocale(locale.LC_ALL, \"en_AU.UTF-8\")"
   ]
  },
  {
   "cell_type": "code",
   "execution_count": null,
   "metadata": {},
   "outputs": [],
   "source": [
    "print(\"IN_COLAB: \" + str(IN_COLAB))\n",
    "print(locale.getlocale())"
   ]
  }
 ],
 "metadata": {
  "interpreter": {
   "hash": "1089646a020cfe6092fafe876ee4a6e68b3ec5a13ed8a22b79c0a42e9e2a954f"
  },
  "kernelspec": {
   "display_name": "Python 3.8.1 64-bit ('el': venv)",
   "name": "python3"
  },
  "language_info": {
   "codemirror_mode": {
    "name": "ipython",
    "version": 3
   },
   "file_extension": ".py",
   "mimetype": "text/x-python",
   "name": "python",
   "nbconvert_exporter": "python",
   "pygments_lexer": "ipython3",
   "version": "3.8.1"
  },
  "orig_nbformat": 4
 },
 "nbformat": 4,
 "nbformat_minor": 2
}
