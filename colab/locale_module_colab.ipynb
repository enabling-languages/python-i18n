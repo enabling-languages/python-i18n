{
  "cells": [
    {
      "cell_type": "markdown",
      "metadata": {
        "id": "1fMBABg_eM8x"
      },
      "source": [
        "# Setting the locale in a Google Colab notebook\n",
        "\n",
        "[![Open In Colab](https://colab.research.google.com/assets/colab-badge.svg)](https://colab.research.google.com/github/enabling-languages/python-i18n/blob/main/colab/locale_module_colab.ipynb)\n",
        "\n",
        "## Overview\n",
        "\n",
        "With Google Colab, it is necessary to distinguish between the locale used by the Colab user interface, and the locale used by python when executing code. The Colab user interface uses the language settings in your web browser. The Python environment uses the locale of the initialised runtime environment the notebook is running in.\n",
        "\n",
        "## Configuring Google Colab\n",
        "\n",
        "When a runtime is initialised there is limited locale support. The available locales are:\n",
        "\n",
        "* `C`\n",
        "* `C.UTF-8`\n",
        "* `en_US.utf8`\n",
        "* `POSIX`\n",
        "\n",
        "The runtime environment will be using `en_US.utf8`. If you require your notebook to use a different locale, it is necessary to use the `locale` module at the beginning of the notebook. The locale should not be subsequently changed. If you require multiple locales during code execution, or need code to be flexible about the locale being used, it is best to use `PyICU`.\n",
        "\n",
        "To use a different locale in a notebook, it is necesary to:\n",
        "\n",
        "1. install the necessary language packs, and\n",
        "2. restart the runtime environment.\n",
        "\n",
        "The notebook contains example code that will try to set the required locale, and if the locale is unavailable, the code will install the language pack required for this notebook, and then restrt the runtime environment.\n",
        "\n",
        "It will be necessary to manually rerun the notebook."
      ]
    },
    {
      "cell_type": "code",
      "execution_count": 1,
      "metadata": {
        "colab": {
          "base_uri": "https://localhost:8080/",
          "height": 36
        },
        "id": "i2WKwMpjYP1t",
        "outputId": "ec46df23-5f6e-4e81-a163-b4c0ba7fcba0"
      },
      "outputs": [
        {
          "data": {
            "application/vnd.google.colaboratory.intrinsic+json": {
              "type": "string"
            },
            "text/plain": [
              "'Linux-5.4.144+-x86_64-with-Ubuntu-18.04-bionic'"
            ]
          },
          "execution_count": 1,
          "metadata": {},
          "output_type": "execute_result"
        }
      ],
      "source": [
        "import platform\n",
        "platform.platform()"
      ]
    },
    {
      "cell_type": "markdown",
      "metadata": {
        "id": "C8DzISepYP1u"
      },
      "source": [
        "When this notebook was authoured, the Colab runtime environment was based on Ubuntu 18.04 LTS (Bionic).\n",
        "\n",
        "Refer to the [list of lanaguage packs](https://packages.ubuntu.com/bionic/translations/) available in the Ubuntu Package archive."
      ]
    },
    {
      "cell_type": "code",
      "execution_count": 2,
      "metadata": {
        "colab": {
          "base_uri": "https://localhost:8080/"
        },
        "id": "rom7DNuMeHlB",
        "outputId": "45c06f19-2f16-4fb6-f313-21f53fd0f4af"
      },
      "outputs": [
        {
          "name": "stdout",
          "output_type": "stream",
          "text": [
            "am_ET\n",
            "am_ET.utf8\n",
            "C\n",
            "C.UTF-8\n",
            "en_AU.utf8\n",
            "en_US.utf8\n",
            "POSIX\n"
          ]
        }
      ],
      "source": [
        "# List all current \n",
        "!locale -a "
      ]
    },
    {
      "cell_type": "markdown",
      "metadata": {},
      "source": [
        "Once a locale is installed, it is necessary to restart the runtime environment and rerun the notebook code cells. When this occurs `locale -a` reflects the changes. When thecommand first runs, the list of locales is `C`, `C.UTF-8`, `en_US.utf8`, and `POSIX`. When the notebook is first rerun `en_AU.utf8` is added. On the final rerun, `am_ET` and `am_ET.utf8` are added."
      ]
    },
    {
      "cell_type": "markdown",
      "metadata": {
        "id": "THgVuanuYP1w"
      },
      "source": [
        "The file `/usr/share/i18n/SUPPORTED` lists all the supported locales that you can use with Google Colab."
      ]
    },
    {
      "cell_type": "code",
      "execution_count": 9,
      "metadata": {
        "colab": {
          "base_uri": "https://localhost:8080/"
        },
        "id": "oS8LXvR5YP1w",
        "outputId": "55d9076d-e2f3-4edd-ff30-0b607b85a115"
      },
      "outputs": [
        {
          "name": "stdout",
          "output_type": "stream",
          "text": [
            "['aa_DJ.UTF-8', 'aa_ER.UTF-8', 'aa_ER@saaho.UTF-8', 'aa_ET.UTF-8', 'af_ZA.UTF-8', 'agr_PE.UTF-8', 'ak_GH.UTF-8', 'am_ET.UTF-8', 'an_ES.UTF-8', 'anp_IN.UTF-8', 'ar_AE.UTF-8', 'ar_BH.UTF-8', 'ar_DZ.UTF-8', 'ar_EG.UTF-8', 'ar_IN.UTF-8', 'ar_IQ.UTF-8', 'ar_JO.UTF-8', 'ar_KW.UTF-8', 'ar_LB.UTF-8', 'ar_LY.UTF-8', 'ar_MA.UTF-8', 'ar_OM.UTF-8', 'ar_QA.UTF-8', 'ar_SA.UTF-8', 'ar_SD.UTF-8', 'ar_SS.UTF-8', 'ar_SY.UTF-8', 'ar_TN.UTF-8', 'ar_YE.UTF-8', 'ayc_PE.UTF-8', 'az_AZ.UTF-8', 'az_IR.UTF-8', 'as_IN.UTF-8', 'ast_ES.UTF-8', 'be_BY.UTF-8', 'be_BY@latin.UTF-8', 'bem_ZM.UTF-8', 'ber_DZ.UTF-8', 'ber_MA.UTF-8', 'bg_BG.UTF-8', 'bhb_IN.UTF-8', 'bho_IN.UTF-8', 'bho_NP.UTF-8', 'bi_VU.UTF-8', 'bn_BD.UTF-8', 'bn_IN.UTF-8', 'bo_CN.UTF-8', 'bo_IN.UTF-8', 'br_FR.UTF-8', 'brx_IN.UTF-8', 'bs_BA.UTF-8', 'byn_ER.UTF-8', 'ca_AD.UTF-8', 'ca_ES.UTF-8', 'ca_ES@valencia.UTF-8', 'ca_FR.UTF-8', 'ca_IT.UTF-8', 'ce_RU.UTF-8', 'ckb_IQ.UTF-8', 'chr_US.UTF-8', 'cmn_TW.UTF-8', 'crh_UA.UTF-8', 'cs_CZ.UTF-8', 'csb_PL.UTF-8', 'cv_RU.UTF-8', 'cy_GB.UTF-8', 'da_DK.UTF-8', 'de_AT.UTF-8', 'de_BE.UTF-8', 'de_CH.UTF-8', 'de_DE.UTF-8', 'de_IT.UTF-8', 'de_LI.UTF-8', 'de_LU.UTF-8', 'doi_IN.UTF-8', 'dv_MV.UTF-8', 'dz_BT.UTF-8', 'el_GR.UTF-8', 'el_CY.UTF-8', 'en_AG.UTF-8', 'en_AU.UTF-8', 'en_BW.UTF-8', 'en_CA.UTF-8', 'en_DK.UTF-8', 'en_GB.UTF-8', 'en_HK.UTF-8', 'en_IE.UTF-8', 'en_IL.UTF-8', 'en_IN.UTF-8', 'en_NG.UTF-8', 'en_NZ.UTF-8', 'en_PH.UTF-8', 'en_SC.UTF-8', 'en_SG.UTF-8', 'en_US.UTF-8', 'en_ZA.UTF-8', 'en_ZM.UTF-8', 'en_ZW.UTF-8', 'eo.UTF-8', 'eo_US.UTF-8', 'es_AR.UTF-8', 'es_BO.UTF-8', 'es_CL.UTF-8', 'es_CO.UTF-8', 'es_CR.UTF-8', 'es_CU.UTF-8', 'es_DO.UTF-8', 'es_EC.UTF-8', 'es_ES.UTF-8', 'es_GT.UTF-8', 'es_HN.UTF-8', 'es_MX.UTF-8', 'es_NI.UTF-8', 'es_PA.UTF-8', 'es_PE.UTF-8', 'es_PR.UTF-8', 'es_PY.UTF-8', 'es_SV.UTF-8', 'es_US.UTF-8', 'es_UY.UTF-8', 'es_VE.UTF-8', 'et_EE.UTF-8', 'eu_ES.UTF-8', 'eu_FR.UTF-8', 'fa_IR.UTF-8', 'ff_SN.UTF-8', 'fi_FI.UTF-8', 'fil_PH.UTF-8', 'fo_FO.UTF-8', 'fr_BE.UTF-8', 'fr_CA.UTF-8', 'fr_CH.UTF-8', 'fr_FR.UTF-8', 'fr_LU.UTF-8', 'fur_IT.UTF-8', 'fy_NL.UTF-8', 'fy_DE.UTF-8', 'ga_IE.UTF-8', 'gd_GB.UTF-8', 'gez_ER.UTF-8', 'gez_ER@abegede.UTF-8', 'gez_ET.UTF-8', 'gez_ET@abegede.UTF-8', 'gl_ES.UTF-8', 'gu_IN.UTF-8', 'gv_GB.UTF-8', 'ha_NG.UTF-8', 'hak_TW.UTF-8', 'he_IL.UTF-8', 'hi_IN.UTF-8', 'hif_FJ.UTF-8', 'hne_IN.UTF-8', 'hr_HR.UTF-8', 'hsb_DE.UTF-8', 'ht_HT.UTF-8', 'hu_HU.UTF-8', 'hy_AM.UTF-8', 'ia_FR.UTF-8', 'id_ID.UTF-8', 'ig_NG.UTF-8', 'ik_CA.UTF-8', 'is_IS.UTF-8', 'it_CH.UTF-8', 'it_IT.UTF-8', 'iu_CA.UTF-8', 'ja_JP.UTF-8', 'ka_GE.UTF-8', 'kab_DZ.UTF-8', 'kk_KZ.UTF-8', 'kl_GL.UTF-8', 'km_KH.UTF-8', 'kn_IN.UTF-8', 'ko_KR.UTF-8', 'kok_IN.UTF-8', 'ks_IN.UTF-8', 'ks_IN@devanagari.UTF-8', 'ku_TR.UTF-8', 'kw_GB.UTF-8', 'ky_KG.UTF-8', 'lb_LU.UTF-8', 'lg_UG.UTF-8', 'li_BE.UTF-8', 'li_NL.UTF-8', 'lij_IT.UTF-8', 'ln_CD.UTF-8', 'lo_LA.UTF-8', 'lt_LT.UTF-8', 'lv_LV.UTF-8', 'lzh_TW.UTF-8', 'mag_IN.UTF-8', 'mai_IN.UTF-8', 'mai_NP.UTF-8', 'mfe_MU.UTF-8', 'mg_MG.UTF-8', 'mhr_RU.UTF-8', 'mi_NZ.UTF-8', 'miq_NI.UTF-8', 'mjw_IN.UTF-8', 'mk_MK.UTF-8', 'ml_IN.UTF-8', 'mn_MN.UTF-8', 'mni_IN.UTF-8', 'mr_IN.UTF-8', 'ms_MY.UTF-8', 'mt_MT.UTF-8', 'my_MM.UTF-8', 'nan_TW.UTF-8', 'nan_TW@latin.UTF-8', 'nb_NO.UTF-8', 'nds_DE.UTF-8', 'nds_NL.UTF-8', 'ne_NP.UTF-8', 'nhn_MX.UTF-8', 'niu_NU.UTF-8', 'niu_NZ.UTF-8', 'nl_AW.UTF-8', 'nl_BE.UTF-8', 'nl_NL.UTF-8', 'nn_NO.UTF-8', 'nr_ZA.UTF-8', 'nso_ZA.UTF-8', 'oc_FR.UTF-8', 'om_ET.UTF-8', 'om_KE.UTF-8', 'or_IN.UTF-8', 'os_RU.UTF-8', 'pa_IN.UTF-8', 'pa_PK.UTF-8', 'pap_AW.UTF-8', 'pap_CW.UTF-8', 'pl_PL.UTF-8', 'ps_AF.UTF-8', 'pt_BR.UTF-8', 'pt_PT.UTF-8', 'quz_PE.UTF-8', 'raj_IN.UTF-8', 'ro_RO.UTF-8', 'ru_RU.UTF-8', 'ru_UA.UTF-8', 'rw_RW.UTF-8', 'sa_IN.UTF-8', 'sat_IN.UTF-8', 'sc_IT.UTF-8', 'sd_IN.UTF-8', 'sd_IN@devanagari.UTF-8', 'sd_PK.UTF-8', 'se_NO.UTF-8', 'sgs_LT.UTF-8', 'shn_MM.UTF-8', 'shs_CA.UTF-8', 'si_LK.UTF-8', 'sid_ET.UTF-8', 'sk_SK.UTF-8', 'sl_SI.UTF-8', 'sm_WS.UTF-8', 'so_DJ.UTF-8', 'so_ET.UTF-8', 'so_KE.UTF-8', 'so_SO.UTF-8', 'sq_AL.UTF-8', 'sq_MK.UTF-8', 'sr_ME.UTF-8', 'sr_RS.UTF-8', 'sr_RS@latin.UTF-8', 'ss_ZA.UTF-8', 'st_ZA.UTF-8', 'sv_FI.UTF-8', 'sv_SE.UTF-8', 'sw_KE.UTF-8', 'sw_TZ.UTF-8', 'szl_PL.UTF-8', 'ta_IN.UTF-8', 'ta_LK.UTF-8', 'tcy_IN.UTF-8', 'te_IN.UTF-8', 'tg_TJ.UTF-8', 'th_TH.UTF-8', 'the_NP.UTF-8', 'ti_ER.UTF-8', 'ti_ET.UTF-8', 'tig_ER.UTF-8', 'tk_TM.UTF-8', 'tl_PH.UTF-8', 'tn_ZA.UTF-8', 'to_TO.UTF-8', 'tpi_PG.UTF-8', 'tr_CY.UTF-8', 'tr_TR.UTF-8', 'ts_ZA.UTF-8', 'tt_RU.UTF-8', 'tt_RU@iqtelif.UTF-8', 'ug_CN.UTF-8', 'ug_CN@latin.UTF-8', 'uk_UA.UTF-8', 'unm_US.UTF-8', 'ur_IN.UTF-8', 'ur_PK.UTF-8', 'uz_UZ.UTF-8', 'uz_UZ@cyrillic.UTF-8', 've_ZA.UTF-8', 'vi_VN.UTF-8', 'wa_BE.UTF-8', 'wae_CH.UTF-8', 'wal_ET.UTF-8', 'wo_SN.UTF-8', 'xh_ZA.UTF-8', 'yi_US.UTF-8', 'yo_NG.UTF-8', 'yue_HK.UTF-8', 'yuw_PG.UTF-8', 'zh_CN.UTF-8', 'zh_HK.UTF-8', 'zh_SG.UTF-8', 'zh_TW.UTF-8', 'zu_ZA.UTF-8']\n"
          ]
        }
      ],
      "source": [
        "import re\n",
        "\n",
        "# Generate a list of all UTF-8 locales supported in current Google Colab runtime\n",
        "supported = \"/usr/share/i18n/SUPPORTED\"\n",
        "supported_locales = []\n",
        "with open(supported) as fp:\n",
        "    for line in fp:\n",
        "        l = line.split()\n",
        "        if re.search(r'UTF\\-8',l[0]):\n",
        "            supported_locales.append(l[0])\n",
        "        elif not re.search(r'UTF\\-8', l[0]) and l[1] == \"UTF-8\":\n",
        "            supported_locales.append((\".\").join(l))\n",
        "\n",
        "# All supported locales in current Google Colab runtime\n",
        "print(str(supported_locales))"
      ]
    },
    {
      "cell_type": "code",
      "execution_count": 4,
      "metadata": {
        "colab": {
          "base_uri": "https://localhost:8080/"
        },
        "id": "xVSv7tEuYP1x",
        "outputId": "09b04b05-a02a-4cdd-c8db-ddf763d3c406"
      },
      "outputs": [
        {
          "name": "stdout",
          "output_type": "stream",
          "text": [
            "['fr_BE.UTF-8', 'fr_CA.UTF-8', 'fr_CH.UTF-8', 'fr_FR.UTF-8', 'fr_LU.UTF-8']\n"
          ]
        }
      ],
      "source": [
        "# Return list of UTF-8 locales that support specified language\n",
        "def matching_locales(lang):\n",
        "  r = re.compile(r'^'+lang+'_.+')\n",
        "  return list(filter(r.match, supported_locales))\n",
        "\n",
        "#lang = input(\"Language code: \")\n",
        "lang = \"fr\"\n",
        "print(matching_locales(lang))"
      ]
    },
    {
      "cell_type": "markdown",
      "metadata": {
        "id": "n4eWnvDeYP1y"
      },
      "source": [
        "To identify the default system locale used by Python, use [locale.getdefaultlocale()](https://docs.python.org/3/library/locale.html#locale.getdefaultlocale)."
      ]
    },
    {
      "cell_type": "code",
      "execution_count": 5,
      "metadata": {
        "colab": {
          "base_uri": "https://localhost:8080/"
        },
        "id": "U52Q4vC0i6rJ",
        "outputId": "663da705-09b8-4c1d-afba-6c3387461ebb"
      },
      "outputs": [
        {
          "data": {
            "text/plain": [
              "('en_US', 'UTF-8')"
            ]
          },
          "execution_count": 5,
          "metadata": {},
          "output_type": "execute_result"
        }
      ],
      "source": [
        "import locale\n",
        "default_locale = locale.getdefaultlocale()\n",
        "default_locale"
      ]
    },
    {
      "cell_type": "markdown",
      "metadata": {
        "id": "AKy8LLWKYP10"
      },
      "source": [
        "There are two approaches to installing additional locales on Google Colab:\n",
        "\n",
        "1. Install the appropriate language pack\n",
        "2. Use `locale-gen` and `update-locale`\n",
        "\n",
        "The second approach is probably best for Google Colab. The first will install syetm localisation files as well as the locales, while the second approach will just install the locales required."
      ]
    },
    {
      "cell_type": "markdown",
      "metadata": {
        "id": "_qNxxcMRn6h_"
      },
      "source": [
        "## Using language packs\n",
        "\n",
        "The following code cell, when running on Google Colab, will set the locale to English (Australia). If locale is unavailable, it will install the language pack required by the notebook then restart the Colab runtime environment. After the runtime environment is reset, it will be necessary to rerun the code in the notebook."
      ]
    },
    {
      "cell_type": "code",
      "execution_count": 6,
      "metadata": {
        "id": "C20aBy89eewl"
      },
      "outputs": [],
      "source": [
        "try:\n",
        "  import google.colab\n",
        "  IN_COLAB = True\n",
        "except ImportError:\n",
        "  IN_COLAB = False\n",
        "\n",
        "if IN_COLAB:\n",
        "  try:\n",
        "    locale.setlocale(locale.LC_ALL, \"en_AU.UTF-8\")\n",
        "  except locale.Error:\n",
        "    print(\"Currently installing required locale. After the install the runtime environment will restart, please rerun all code.\")\n",
        "    !sudo apt-get install language-pack-en\n",
        "    import os\n",
        "    os.kill(os.getpid(), 9)\n",
        "else:\n",
        "    try:\n",
        "        locale.setlocale(locale.LC_ALL, \"en_AU.UTF-8\")\n",
        "    except locale.Error:\n",
        "        locale.setlocale(locale.LC_ALL, \"\")"
      ]
    },
    {
      "cell_type": "code",
      "execution_count": 7,
      "metadata": {
        "colab": {
          "base_uri": "https://localhost:8080/"
        },
        "id": "oghpXKTrgKBT",
        "outputId": "adae9227-2558-4a1c-b0dd-01f9a56fc6df"
      },
      "outputs": [
        {
          "data": {
            "text/plain": [
              "('en_AU', 'UTF-8')"
            ]
          },
          "execution_count": 7,
          "metadata": {},
          "output_type": "execute_result"
        }
      ],
      "source": [
        "# Current locale\n",
        "locale.getlocale()"
      ]
    },
    {
      "cell_type": "markdown",
      "metadata": {
        "id": "4dQdG0gIYP12"
      },
      "source": [
        "## Using `locale-gen` and `update-locale`\n",
        "\n",
        "Alternatively, it is possible tp use `locale-gen` and `update-locale` to install the necessary locale."
      ]
    },
    {
      "cell_type": "code",
      "execution_count": 8,
      "metadata": {
        "colab": {
          "base_uri": "https://localhost:8080/"
        },
        "id": "1WsIPsoeYP12",
        "outputId": "a95c6f90-dbd5-41fc-a411-3f98af526119"
      },
      "outputs": [
        {
          "name": "stdout",
          "output_type": "stream",
          "text": [
            "Current locale:  ('am_ET', 'UTF-8')\n"
          ]
        }
      ],
      "source": [
        "#loc = input('Enter required locale: ')\n",
        "loc = \"am_ET.UTF-8\"\n",
        "\n",
        "# If locale is supported, set to locale or install locale and restsrt runtime.\n",
        "# If locale is unsupported fallback to default locale.\n",
        "if loc in supported_locales:\n",
        "  try:\n",
        "    locale.setlocale(locale.LC_ALL, loc)\n",
        "  except locale.Error:\n",
        "    print(\"After the missing locale is installed, the runtime environment will restart, please rerun all code.\")\n",
        "    !sudo locale-gen {loc}\n",
        "    !sudo update-locale\n",
        "    import os\n",
        "    os.kill(os.getpid(), 9)\n",
        "else:\n",
        "  locale.setlocale(locale.LC_ALL, '')\n",
        "\n",
        "print(\"Current locale: \", locale.getlocale())"
      ]
    },
    {
      "cell_type": "markdown",
      "metadata": {},
      "source": [
        "This snippet also shows how to pass a python variable to a system command in the runtime environment, by placing the varable name in braces, e.g. `{loc}`."
      ]
    },
    {
      "cell_type": "markdown",
      "metadata": {
        "id": "anluG2TqYP13"
      },
      "source": [
        "## Notes\n",
        "\n",
        "_When adding locales you are adding system resources. In order to make them available to Python it is necessary to restart the runtime environement and rerun the notebook code._\n",
        "\n",
        "_The locale should be set near the beginning of the notebook, and should not be changed._"
      ]
    },
    {
      "cell_type": "markdown",
      "metadata": {
        "id": "JosFPhSyYP13"
      },
      "source": [
        "<div style=\"text-align: center; text-style: italic;\">© 2021-2022 <a href=\"https://enabling-languages.github.io/\">Enabling Languages</a>. <br>\n",
        "Released under the <a href=\"https://github.com/enabling-languages/python-i18n/blob/main/LICENSE\">MIT license</a>.</div>"
      ]
    }
  ],
  "metadata": {
    "colab": {
      "collapsed_sections": [],
      "name": "locale_module_colab.ipynb",
      "provenance": []
    },
    "interpreter": {
      "hash": "1089646a020cfe6092fafe876ee4a6e68b3ec5a13ed8a22b79c0a42e9e2a954f"
    },
    "kernelspec": {
      "display_name": "Python 3.8.1 64-bit ('el': venv)",
      "name": "python3"
    },
    "language_info": {
      "codemirror_mode": {
        "name": "ipython",
        "version": 3
      },
      "file_extension": ".py",
      "mimetype": "text/x-python",
      "name": "python",
      "nbconvert_exporter": "python",
      "pygments_lexer": "ipython3",
      "version": "3.8.1"
    }
  },
  "nbformat": 4,
  "nbformat_minor": 0
}
