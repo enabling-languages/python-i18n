{
  "nbformat": 4,
  "nbformat_minor": 2,
  "metadata": {
    "colab": {
      "name": "locale_module_colab.ipynb",
      "provenance": [],
      "collapsed_sections": []
    },
    "kernelspec": {
      "name": "python3",
      "display_name": "Python 3"
    },
    "language_info": {
      "name": "python"
    }
  },
  "cells": [
    {
      "cell_type": "markdown",
      "source": [
        "# Setting the locale of a notebook for Google Colab\n",
        "\n",
        "[![Open In Colab](https://colab.research.google.com/assets/colab-badge.svg)](https://colab.research.google.com/github/enabling-languages/python-i18n/blob/main/colab/locale_module_colab.ipynb)\n",
        "\n",
        "## Overview\n",
        "\n",
        "With Google Colab, it is necessary to distinguish between the locale used by the Colab user interface, and the locale used by python when executing code. The Colab user interface uses the language settings in your web browser. The Python environment uses the locale of the initialised runtime environment the notbook is running in.\n",
        "\n",
        "## Configuring Google Colab\n",
        "\n",
        "When a runtime is initialised there is limited locale support. Available locales are:\n",
        "\n",
        "* `C`\n",
        "* `C.UTF-8`\n",
        "* `en_US.utf8`\n",
        "* `POSIX`\n",
        "\n",
        "The runtime envirnment will be using `en_US.utf8`. If you require your notebook to use a different locale, it is necessary to use the `locale` module at the beginning of the notebook. The locale should not be subsequently be changed. If you require multiple locales during code execution, orneed coe to be flexible about the locales being used, it is best to use `PyICU`.\n",
        "\n",
        "To use a different locale in a notebook, it is necesary to:\n",
        "\n",
        "1. install the necessary language packs, and\n",
        "2. restart the runtime environment.\n",
        "\n",
        "The notebook contains example code that will try to set an unsupported locale, and if the locale is unavailable, the code will install the langauge pack required for this notebook, and then restrt the runtime environment.\n",
        "\n",
        "It will be necessary to manually rerun the notebook."
      ],
      "metadata": {
        "id": "1fMBABg_eM8x"
      }
    },
    {
      "cell_type": "code",
      "execution_count": null,
      "source": [
        "!locale -a "
      ],
      "outputs": [],
      "metadata": {
        "colab": {
          "base_uri": "https://localhost:8080/"
        },
        "id": "rom7DNuMeHlB",
        "outputId": "5a725a93-62a0-4950-8f32-a7cea8c87b37"
      }
    },
    {
      "cell_type": "code",
      "execution_count": null,
      "source": [
        "import locale\n",
        "locale.getdefaultlocale()"
      ],
      "outputs": [],
      "metadata": {
        "colab": {
          "base_uri": "https://localhost:8080/"
        },
        "id": "U52Q4vC0i6rJ",
        "outputId": "d6a10660-765f-409b-f273-f9ae3a14980d"
      }
    },
    {
      "cell_type": "markdown",
      "source": [
        "Set locale to English (Australia). If locale is unavailable, install the language pack required by the notebook then restart the Colab runtime environment."
      ],
      "metadata": {
        "id": "_qNxxcMRn6h_"
      }
    },
    {
      "cell_type": "code",
      "execution_count": null,
      "source": [
        "try:\n",
        "    locale.setlocale(locale.LC_ALL, \"en_AU.UTF-8\")\n",
        "except Exception:\n",
        "    !sudo apt-get install language-pack-en\n",
        "    #!sudo apt autoremove\n",
        "    import os\n",
        "    os.kill(os.getpid(), 9)"
      ],
      "outputs": [],
      "metadata": {
        "id": "C20aBy89eewl"
      }
    },
    {
      "cell_type": "code",
      "execution_count": null,
      "source": [
        "# Current locale\n",
        "locale.getlocale()\n",
        "\n",
        "# Continue with notebook code (using current locale)"
      ],
      "outputs": [],
      "metadata": {
        "id": "oghpXKTrgKBT",
        "colab": {
          "base_uri": "https://localhost:8080/"
        },
        "outputId": "288f9e82-13df-43b2-eabf-8eaa0a0dc418"
      }
    },
    {
      "cell_type": "markdown",
      "source": [
        "Continue with notebook code using the current locale."
      ],
      "metadata": {}
    },
    {
      "cell_type": "markdown",
      "source": [
        "<div style=\"text-align: center; text-style: italic;\">© 2021 Enabling Languages. <br>\n",
        "Released under the <a href=\"https://github.com/enabling-languages/python-i18n/blob/main/LICENSE\">MIT license</a>.</div>"
      ],
      "metadata": {}
    }
  ]
}