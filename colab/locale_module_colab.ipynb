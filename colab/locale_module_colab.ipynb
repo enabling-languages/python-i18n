{
  "cells": [
    {
      "cell_type": "markdown",
      "metadata": {
        "id": "1fMBABg_eM8x"
      },
      "source": [
        "# Setting the locale of a notebook for Google Colab\n",
        "\n",
        "[![Open In Colab](https://colab.research.google.com/assets/colab-badge.svg)](https://colab.research.google.com/github/enabling-languages/python-i18n/blob/main/colab/locale_module_colab.ipynb)\n",
        "\n",
        "## Overview\n",
        "\n",
        "With Google Colab, it is necessary to distinguish between the locale used by the Colab user interface, and the locale used by python when executing code. The Colab user interface uses the language settings in your web browser. The Python environment uses the locale of the initialised runtime environment the notebook is running in.\n",
        "\n",
        "## Configuring Google Colab\n",
        "\n",
        "When a runtime is initialised there is limited locale support. The available locales are:\n",
        "\n",
        "* `C`\n",
        "* `C.UTF-8`\n",
        "* `en_US.utf8`\n",
        "* `POSIX`\n",
        "\n",
        "The runtime environment will be using `en_US.utf8`. If you require your notebook to use a different locale, it is necessary to use the `locale` module at the beginning of the notebook. The locale should not be subsequently changed. If you require multiple locales during code execution, or need code to be flexible about the locale being used, it is best to use `PyICU`.\n",
        "\n",
        "To use a different locale in a notebook, it is necesary to:\n",
        "\n",
        "1. install the necessary language packs, and\n",
        "2. restart the runtime environment.\n",
        "\n",
        "The notebook contains example code that will try to set the required locale, and if the locale is unavailable, the code will install the language pack required for this notebook, and then restrt the runtime environment.\n",
        "\n",
        "It will be necessary to manually rerun the notebook."
      ]
    },
    {
      "cell_type": "code",
      "execution_count": null,
      "metadata": {},
      "outputs": [],
      "source": [
        "import platform\n",
        "platform.platform()"
      ]
    },
    {
      "cell_type": "markdown",
      "metadata": {},
      "source": [
        "When this notebook was authoured, the Colab runtime environment was based on Ubuntu 18.04 LTS (Bionic).\n",
        "\n",
        "Refer to the [list of lanaguage packs](https://packages.ubuntu.com/bionic/translations/) available in the Ubuntu Package archive."
      ]
    },
    {
      "cell_type": "code",
      "execution_count": null,
      "metadata": {
        "colab": {
          "base_uri": "https://localhost:8080/"
        },
        "id": "rom7DNuMeHlB",
        "outputId": "5a725a93-62a0-4950-8f32-a7cea8c87b37"
      },
      "outputs": [],
      "source": [
        "# List all current \n",
        "!locale -a "
      ]
    },
    {
      "cell_type": "markdown",
      "metadata": {},
      "source": [
        "The file `/usr/share/i18n/SUPPORTED` lists all the supported locales that you can use with Google Colab."
      ]
    },
    {
      "cell_type": "code",
      "execution_count": null,
      "metadata": {},
      "outputs": [],
      "source": [
        "import re\n",
        "\n",
        "# Generate a list of all UTF-8 locales supported in current Google Colab runtime\n",
        "supported = \"/usr/share/i18n/SUPPORTED\"\n",
        "supported_locales = []\n",
        "with open(supported) as fp:\n",
        "    for line in fp:\n",
        "        l = line.split()\n",
        "        if re.search(r'UTF\\-8',l[0]):\n",
        "            supported_locales.append(l[0])\n",
        "        elif not re.search(r'UTF\\-8', l[0]) and l[1] == \"UTF-8\":\n",
        "            supported_locales.append((\".\").join(l))\n",
        "\n",
        "# All supported locales in current Google Colab runtime\n",
        "print(supported_locales)"
      ]
    },
    {
      "cell_type": "code",
      "execution_count": null,
      "metadata": {},
      "outputs": [],
      "source": [
        "# Return list of UTF-8 locales that support specified language\n",
        "def matching_locales(lang):\n",
        "  r = re.compile(r'^'+lang+'_.+')\n",
        "  return list(filter(r.match, supported_locales))\n",
        "\n",
        "#lang = input(\"Language code: \")\n",
        "lang = \"fr\"\n",
        "print(matching_locales(lang))"
      ]
    },
    {
      "cell_type": "markdown",
      "metadata": {},
      "source": [
        "To identify the default system locale usd by Python, use [locale.getdefaultlocale()](https://docs.python.org/3/library/locale.html#locale.getdefaultlocale)."
      ]
    },
    {
      "cell_type": "code",
      "execution_count": null,
      "metadata": {
        "colab": {
          "base_uri": "https://localhost:8080/"
        },
        "id": "U52Q4vC0i6rJ",
        "outputId": "d6a10660-765f-409b-f273-f9ae3a14980d"
      },
      "outputs": [],
      "source": [
        "import locale\n",
        "default_locale = locale.getdefaultlocale()\n",
        "default_locale"
      ]
    },
    {
      "cell_type": "markdown",
      "metadata": {},
      "source": [
        "There are two approaches to installing additional locales on Google Colab:\n",
        "\n",
        "1. Install the appropriate language pack\n",
        "2. Use `locale-gen` and `update-locale`\n",
        "\n",
        "The second approach is probably best for Google Colab. The first will install syetm localisation files as well as the locales, while the second approach will just install the locales required."
      ]
    },
    {
      "cell_type": "markdown",
      "metadata": {
        "id": "_qNxxcMRn6h_"
      },
      "source": [
        "## Using language packs\n",
        "\n",
        "The following code cell, when running on Google Colab, will set the locale to English (Australia). If locale is unavailable, it will install the language pack required by the notebook then restart the Colab runtime environment. After the runtime environment is reset, it will be necessary to rerun the code in the notebook."
      ]
    },
    {
      "cell_type": "code",
      "execution_count": null,
      "metadata": {
        "id": "C20aBy89eewl"
      },
      "outputs": [],
      "source": [
        "try:\n",
        "  import google.colab\n",
        "  IN_COLAB = True\n",
        "except ImportError:\n",
        "  IN_COLAB = False\n",
        "\n",
        "if IN_COLAB:\n",
        "  try:\n",
        "    locale.setlocale(locale.LC_ALL, \"en_AU.UTF-8\")\n",
        "  except locale.Error:\n",
        "    print(\"Currently installing required locale. After the install the runtime environment will restart, please rerun all code.\")\n",
        "    !sudo locale-gen en_AU.UTF-8\n",
        "    !sudo update-locale\n",
        "    import os\n",
        "    os.kill(os.getpid(), 9)\n",
        "else:\n",
        "    try:\n",
        "        locale.setlocale(locale.LC_ALL, \"en_AU.UTF-8\")\n",
        "    except locale.Error:\n",
        "        locale.setlocale(locale.LC_ALL, \"\")"
      ]
    },
    {
      "cell_type": "code",
      "execution_count": null,
      "metadata": {
        "colab": {
          "base_uri": "https://localhost:8080/"
        },
        "id": "oghpXKTrgKBT",
        "outputId": "288f9e82-13df-43b2-eabf-8eaa0a0dc418"
      },
      "outputs": [],
      "source": [
        "# Current locale\n",
        "locale.getlocale()"
      ]
    },
    {
      "cell_type": "markdown",
      "metadata": {},
      "source": [
        "## Using `locale-gen` and `update-locale`\n",
        "\n",
        "Alternatively, it is possible tp use `locale-gen` and `update-locale` to install the necessary locale."
      ]
    },
    {
      "cell_type": "code",
      "execution_count": null,
      "metadata": {},
      "outputs": [],
      "source": [
        "#loc = input('Enter required locale: ')\n",
        "loc = \"am_ET.UTF-8\"\n",
        "\n",
        "# If locale is supported, set to locale or install locale and restsrt runtime.\n",
        "# If locale is unsupported fallback to default locale.\n",
        "if loc in supported_locales:\n",
        "  try:\n",
        "    locale.setlocale(locale.LC_ALL, loc)\n",
        "  except locale.Error:\n",
        "    print(\"After the missing locale is installed, the runtime environment will restart, please rerun all code.\")\n",
        "    !sudo locale-gen {loc}\n",
        "    !sudo update-locale\n",
        "    import os\n",
        "    os.kill(os.getpid(), 9)\n",
        "else:\n",
        "  locale.setlocale(locale.LC_ALL, '')\n",
        "\n",
        "print(\"Current locale: \", locale.getlocale())"
      ]
    },
    {
      "cell_type": "markdown",
      "metadata": {},
      "source": [
        "## Notes\n",
        "\n",
        "_When adding locales you are adding system resources. In order to make them available to Python it is necessary to restart the runtime environement and rerun the notebook code._\n",
        "\n",
        "_The locale should be set near the beginning of the notebook, and should not be changed._"
      ]
    },
    {
      "cell_type": "markdown",
      "metadata": {},
      "source": [
        "<div style=\"text-align: center; text-style: italic;\">© 2021-2022 <a href=\"https://enabling-languages.github.io/\">Enabling Languages</a>. <br>\n",
        "Released under the <a href=\"https://github.com/enabling-languages/python-i18n/blob/main/LICENSE\">MIT license</a>.</div>"
      ]
    }
  ],
  "metadata": {
    "colab": {
      "collapsed_sections": [],
      "name": "locale_module_colab.ipynb",
      "provenance": []
    },
    "interpreter": {
      "hash": "1089646a020cfe6092fafe876ee4a6e68b3ec5a13ed8a22b79c0a42e9e2a954f"
    },
    "kernelspec": {
      "display_name": "Python 3.8.1 64-bit ('el': venv)",
      "name": "python3"
    },
    "language_info": {
      "codemirror_mode": {
        "name": "ipython",
        "version": 3
      },
      "file_extension": ".py",
      "mimetype": "text/x-python",
      "name": "python",
      "nbconvert_exporter": "python",
      "pygments_lexer": "ipython3",
      "version": "3.8.1"
    }
  },
  "nbformat": 4,
  "nbformat_minor": 2
}
