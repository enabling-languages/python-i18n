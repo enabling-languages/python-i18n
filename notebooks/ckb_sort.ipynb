{
 "cells": [
  {
   "cell_type": "markdown",
   "metadata": {},
   "source": [
    "# Sorting Sorani Kurdish data\n",
    "\n",
    "In the following examples, we will be sorting Sorani Kurdish data, following the requirements of the Kurdish Academy, based on ...\n",
    "\n",
    "We will look at two approaches for Central Kurkish collation:\n",
    "\n",
    "1. Use _PyICU_, and\n",
    "2. Use the _locale_ module.\n",
    "\n",
    "_PyICU_ is a Python wrapper for `icu4c`, but `icu4c` does not contain collation rules for the `ckb` locales. Although, it is possible to use custom rules and pass those rules to `icu.RuleBasedCollator()`. This approach will provide a cross platform solution on systems that have `icu4c` installed.\n",
    "\n",
    "Using the _locale_ module for sorting is more problematic, different operating systems use different underlying infrastructure, with macOS and Windows providing no way to use custom locales. GLIBC based systems provide a `ckb_IQ` locale, but the collation rules do not match the order used by the Kurdish Academy. It is necessary to define and install a custom locale for GLIBC based systems.\n",
    "\n",
    "A sort using the locale module doesn't provide a cross-platform solution."
   ]
  },
  {
   "cell_type": "markdown",
   "metadata": {},
   "source": [
    "## Setup"
   ]
  },
  {
   "cell_type": "code",
   "execution_count": 1,
   "metadata": {},
   "outputs": [],
   "source": [
    "import sys\n",
    "# import regex as re\n",
    "import re\n",
    "import locale\n",
    "import random\n",
    "from icu import RuleBasedCollator\n",
    "from pathlib import Path\n",
    "import wget\n",
    "# from el_internationalisation import bidi_envelope"
   ]
  },
  {
   "cell_type": "code",
   "execution_count": 2,
   "metadata": {},
   "outputs": [],
   "source": [
    "# Retrieve Sorani Kurdish wordlist\n",
    "data_file = \"../data/wordlists/kurdi_words.txt\"\n",
    "url = \"https://raw.githubusercontent.com/0xdolan/kurdi/master/corpus/kurdi_words.txt\"\n",
    "path = Path(data_file)\n",
    "if not path.is_file():\n",
    "    print(\"Downloading file ...\")\n",
    "    output_directory = \"../data/wordlists/\"\n",
    "    filename = wget.download(url, out=output_directory)\n",
    "\n",
    "# Read in data\n",
    "with open(data_file, 'r') as fh:\n",
    "    data = fh.read().splitlines()\n",
    "\n",
    "random.seed(10)\n",
    "# random_data = sample(data, len(data))\n",
    "random_data = random.sample(data,40)\n"
   ]
  },
  {
   "cell_type": "code",
   "execution_count": 3,
   "metadata": {},
   "outputs": [
    {
     "name": "stdout",
     "output_type": "stream",
     "text": [
      "هەمیل\n",
      "ئێرانییش\n",
      "لەخاڵیس\n",
      "مۆخت\n",
      "هەڵدەکشێتەوە\n",
      "ئاڵاکانیاندا\n",
      "حاجت\n",
      "مارکۆماس\n",
      "مەترسیانەی\n",
      "دەرمانانەیی\n",
      "پەناهندەلە\n",
      "تاوانکارەمان\n",
      "ئێوەیەکی\n",
      "نوشستیەی\n",
      "مێژنەم\n",
      "سۆمالچ\n",
      "بلبلێیە\n",
      "دروستدەبو\n",
      "کەئادەمیزاد\n",
      "شیعرییەکەش\n",
      "ئەلیح\n",
      "لێیانناون\n",
      "بەمڵایەوە\n",
      "وهەشتاکان\n",
      "شمەکخۆریدا\n",
      "فرەزمانیی\n",
      "لەئامێزم\n",
      "دەستگیرکردنانەشەوە\n",
      "ڕاناوەستیت\n",
      "دکتوری\n",
      "لەکتێبخانەگشتییەکانی\n",
      "تیرۆردە\n",
      "ڕووسوورانەی\n",
      "زۆرناخۆش\n",
      "چایچیت\n",
      "شێخونیان\n",
      "بەشتگەلێکەوە\n",
      "لەکریس\n",
      "گشتیدەکرد\n",
      "دارانەتان\n"
     ]
    }
   ],
   "source": [
    "#print(\"\\n\".join(random_data))\n",
    "print(*random_data, sep=\"\\n\")"
   ]
  },
  {
   "cell_type": "markdown",
   "metadata": {},
   "source": [
    "## Using icu.RuleBasedCollator()\n",
    "\n",
    "There are two possible approaches to adding collation rules, using `icu.RuleBasedCollator()`:\n",
    "\n",
    "1. Read in a LDML file and extract the collation rules, or\n",
    "2. Provide the rules as a string that can be directly used by `icu.RuleBasedCollator()`.\n",
    "\n",
    "We will use the second approach.\n",
    "\n",
    "The rules used are:\n",
    "\n",
    "```\n",
    "\"[normalization on]\"\n",
    "\"[reorder Arab]\"\n",
    "\"&\\u0631 < \\u0695\"\n",
    "\"&\\u0648 < \\u0648\\u0648\"\n",
    "```\n",
    "\n",
    "You need to:\n",
    "\n",
    "1. Define your collation rules\n",
    "2. Initialise a collator instance by passing the rules to `icu.RuleBasedCollator`\n",
    "3. Use the collator instance's `getSortKey()` for the `list.sorted()` key parameter.\n",
    "\n",
    "The collator can be reused with a script to perform all necessary sorting."
   ]
  },
  {
   "cell_type": "code",
   "execution_count": 4,
   "metadata": {},
   "outputs": [],
   "source": [
    "ckb_rules = (\n",
    "    \"[normalization on]\"\n",
    "    \"[reorder Arab]\"\n",
    "    \"&\\u0631 < \\u0695\"\n",
    "    \"&\\u0648 < \\u0648\\u0648\"\n",
    ")\n",
    "\n",
    "collator = RuleBasedCollator(ckb_rules)\n",
    "sorted_data_icu = sorted(random_data, key=collator.getSortKey)"
   ]
  },
  {
   "cell_type": "code",
   "execution_count": 5,
   "metadata": {},
   "outputs": [
    {
     "name": "stdout",
     "output_type": "stream",
     "text": [
      "ئاڵاکانیاندا\n",
      "ئەلیح\n",
      "ئێرانییش\n",
      "ئێوەیەکی\n",
      "بلبلێیە\n",
      "بەشتگەلێکەوە\n",
      "بەمڵایەوە\n",
      "پەناهندەلە\n",
      "تاوانکارەمان\n",
      "تیرۆردە\n",
      "چایچیت\n",
      "حاجت\n",
      "دارانەتان\n",
      "دروستدەبو\n",
      "دکتوری\n",
      "دەرمانانەیی\n",
      "دەستگیرکردنانەشەوە\n",
      "ڕاناوەستیت\n",
      "ڕووسوورانەی\n",
      "زۆرناخۆش\n",
      "سۆمالچ\n",
      "شمەکخۆریدا\n",
      "شیعرییەکەش\n",
      "شێخونیان\n",
      "فرەزمانیی\n",
      "کەئادەمیزاد\n",
      "گشتیدەکرد\n",
      "لەئامێزم\n",
      "لەخاڵیس\n",
      "لەکتێبخانەگشتییەکانی\n",
      "لەکریس\n",
      "لێیانناون\n",
      "مارکۆماس\n",
      "مەترسیانەی\n",
      "مۆخت\n",
      "مێژنەم\n",
      "نوشستیەی\n",
      "هەڵدەکشێتەوە\n",
      "هەمیل\n",
      "وهەشتاکان\n"
     ]
    }
   ],
   "source": [
    "print(*sorted_data_icu, sep=\"\\n\")\n"
   ]
  },
  {
   "cell_type": "markdown",
   "metadata": {},
   "source": [
    "## Using a GLIBC locale\n",
    "\n",
    "It is possible to install a custom GLIBC locale on Linux systems that use GLIBC. This approach will not work on Linux systems using _Musl libc_.  Likewise, it will not work on systems, like macOS, that are based on _BSD libc_.\n",
    "\n",
    "In the code below, we are using a custom GLIBC locale: [ckb_IQ.UTF-8@academy](https://github.com/enabling-languages/python-i18n/blob/main/rules/collation/glibc/ckb_IQ%40academy).\n",
    "\n",
    "It uses the following GLIBC collation rules:\n",
    "\n",
    "```\n",
    "LC_COLLATE\n",
    "\n",
    "copy \"iso14651_t1\"\n",
    "\n",
    "collating-element <U0648_0648> from \"<U0648><U0648>\"  % Double ARABIC LETTER WAW\n",
    "\n",
    "reorder-after <S0631> % ARABIC LETTER REH\n",
    "<S0695> % ARABIC LETTER REH WITH SMALL V BELOW\n",
    "\n",
    "reorder-after <S0648> % ARABIC LETTER WAW\n",
    "<U0648_0648> % Double ARABIC LETTER WAW\n",
    "\n",
    "reorder-end\n",
    "\n",
    "END LC_COLLATE\n",
    "```"
   ]
  },
  {
   "cell_type": "code",
   "execution_count": 7,
   "metadata": {},
   "outputs": [
    {
     "name": "stdout",
     "output_type": "stream",
     "text": [
      "Required locale is unavailable\n"
     ]
    }
   ],
   "source": [
    "try:\n",
    "    locale.setlocale(locale.LC_COLLATE, \"ckb_IQ.UTF-8@academy\")\n",
    "    sorted_data_glibc = sorted(random_data, key=locale.strxfrm)\n",
    "except locale.Error:\n",
    "    print(\"Required locale is unavailable\")\n",
    "\n"
   ]
  },
  {
   "cell_type": "markdown",
   "metadata": {},
   "source": []
  }
 ],
 "metadata": {
  "kernelspec": {
   "display_name": "Python 3.8.1 ('el')",
   "language": "python",
   "name": "python3"
  },
  "language_info": {
   "codemirror_mode": {
    "name": "ipython",
    "version": 3
   },
   "file_extension": ".py",
   "mimetype": "text/x-python",
   "name": "python",
   "nbconvert_exporter": "python",
   "pygments_lexer": "ipython3",
   "version": "3.8.1"
  },
  "vscode": {
   "interpreter": {
    "hash": "bb12d0de9674b66c629d2bafada2ec4f6e6dba6d129e54dea4badc21502d54d3"
   }
  }
 },
 "nbformat": 4,
 "nbformat_minor": 4
}
