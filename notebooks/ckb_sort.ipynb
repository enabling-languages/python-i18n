{
 "cells": [
  {
   "cell_type": "markdown",
   "metadata": {},
   "source": [
    "# Sorting Sorani Kurdish data\n",
    "\n",
    "In the following examples, we will be sorting Sorani Kurdish data, following the requirements of the Kurdish Academy. A sort using the locale module doesn't provide a cross-platform solution, and there is no 'ckb' or 'ckb_IQ' collation rules in `icu4c`. We will use custom rules and the `icu.RuleBasedCollator()` to sort Sorani text.\n",
    "\n",
    "The following code, illustrates two posisble approaches:\n",
    "\n",
    "1. Read in a LDML file containing the rules, and \n",
    "2. Provode the rules as a string that can be directly used by `icu.RuleBasedCollator()`.\n",
    "\n",
    "The rules used are:\n",
    "\n",
    "```\n",
    "[normalization on]\n",
    "[reorder Arab]\n",
    "&\\u0695 < \\u0632\n",
    "&\\u0648 < \\u06C6 < \\u0648\\u0648\n",
    "```\n"
   ]
  },
  {
   "cell_type": "markdown",
   "metadata": {},
   "source": [
    "## Setup"
   ]
  },
  {
   "cell_type": "code",
   "execution_count": 2,
   "metadata": {},
   "outputs": [
    {
     "ename": "ModuleNotFoundError",
     "evalue": "No module named 'icu'",
     "output_type": "error",
     "traceback": [
      "\u001b[0;31m---------------------------------------------------------------------------\u001b[0m",
      "\u001b[0;31mModuleNotFoundError\u001b[0m                       Traceback (most recent call last)",
      "Cell \u001b[0;32mIn [2], line 4\u001b[0m\n\u001b[1;32m      2\u001b[0m \u001b[38;5;66;03m# import regex as re\u001b[39;00m\n\u001b[1;32m      3\u001b[0m \u001b[38;5;28;01mimport\u001b[39;00m \u001b[38;5;21;01mre\u001b[39;00m\n\u001b[0;32m----> 4\u001b[0m \u001b[38;5;28;01mfrom\u001b[39;00m \u001b[38;5;21;01micu\u001b[39;00m \u001b[38;5;28;01mimport\u001b[39;00m Locale, Collator, RuleBasedCollator\n\u001b[1;32m      5\u001b[0m \u001b[38;5;28;01mimport\u001b[39;00m \u001b[38;5;21;01mxml\u001b[39;00m\u001b[38;5;21;01m.\u001b[39;00m\u001b[38;5;21;01metree\u001b[39;00m\u001b[38;5;21;01m.\u001b[39;00m\u001b[38;5;21;01mElementTree\u001b[39;00m \u001b[38;5;28;01mas\u001b[39;00m \u001b[38;5;21;01mET\u001b[39;00m\n\u001b[1;32m      6\u001b[0m \u001b[38;5;28;01mfrom\u001b[39;00m \u001b[38;5;21;01mrandom\u001b[39;00m \u001b[38;5;28;01mimport\u001b[39;00m sample\n",
      "\u001b[0;31mModuleNotFoundError\u001b[0m: No module named 'icu'"
     ]
    }
   ],
   "source": [
    "import sys\n",
    "# import regex as re\n",
    "import re\n",
    "from icu import Locale, Collator, RuleBasedCollator\n",
    "import xml.etree.ElementTree as ET\n",
    "from random import sample\n",
    "import locale\n",
    "from pathlib import Path\n",
    "import wget"
   ]
  },
  {
   "cell_type": "code",
   "execution_count": null,
   "metadata": {},
   "outputs": [],
   "source": [
    "# Retrieve data\n",
    "data_file = \"../data/wordlists/kurdi_words.txt\"\n",
    "url = \"https://raw.githubusercontent.com/0xdolan/kurdi/master/corpus/kurdi_words.txt\"\n",
    "path = Path(data_file)\n",
    "if not path.is_file():\n",
    "    print(\"No file, downlading ...\")\n",
    "    output_directory = \"../data/wordlists/\"\n",
    "    filename = wget.download(url, out=output_directory)\n",
    "\n",
    "# Read in data\n",
    "with open(data_file, 'r') as fh:\n",
    "    data = fh.read().splitlines()\n",
    "\n",
    "random_data = sample(data, len(data))\n"
   ]
  },
  {
   "cell_type": "markdown",
   "metadata": {},
   "source": [
    "## Using rules in a LDML file\n",
    "\n",
    "The Common Locale Data Repository (CLDR) provides locale data as XML files using the Locale Data Markup Language (LDML) schema. There is also a json format of CLDR data available. We will read and parse the XML file, extracting the collation rules. Then build a collator instance to sort our text."
   ]
  },
  {
   "cell_type": "code",
   "execution_count": null,
   "metadata": {},
   "outputs": [],
   "source": [
    "def create_ldml_collator_instance(lang: str):\n",
    "    def get_custom_rules(rules_file: str) -> str:\n",
    "        rules: str = ''\n",
    "        doc = ET.parse(rules_file)\n",
    "        r = doc.find('./collations/collation[@type=\"standard\"]')\n",
    "        if r is None:\n",
    "            r = doc.find('./collations/collation')\n",
    "        if r is None:\n",
    "            sys.stderr(f\"Can't find collator in {rules_file}\")\n",
    "        pattern = re.compile(r'[ \\t]{2,}|[ ]*#.+\\n')\n",
    "        rules = re.sub(pattern, '', r.find('./cr').text)\n",
    "        # return rules.replace(\"\\n\", \"\")\n",
    "        return ''.join(rules.splitlines())\n",
    "        \n",
    "    # custom_rules = {\n",
    "    #     \"din\": \"../rules/collation/din.xml\",\n",
    "    #     \"din-SS\": \"../rules/collation/din.xml\",\n",
    "    #     \"ckb\": \"../rules/collation/ckb.xml\",\n",
    "    #     \"ckb-IQ\": \"../rules/collation/ckb.xml\",\n",
    "    #     \"ckb-IR\": \"../rules/collation/ckb.xml\"\n",
    "    # }\n",
    "    \n",
    "    # if lang in custom_rules:\n",
    "        # return RuleBasedCollator(get_custom_rules(custom_rules[lang]))\n",
    "    return RuleBasedCollator(get_custom_rules(\"../rules/collation/ckb.xml\"))\n",
    "    # return Collator.createInstance(Locale.forLanguageTag(lang))"
   ]
  },
  {
   "cell_type": "code",
   "execution_count": null,
   "metadata": {},
   "outputs": [],
   "source": [
    "ldml_collator = create_ldml_collator_instance(\"ckb\")\n",
    "sorted_ldml_data = sorted(random_data, key=ldml_collator.getSortKey)"
   ]
  },
  {
   "cell_type": "code",
   "execution_count": null,
   "metadata": {},
   "outputs": [
    {
     "name": "stdout",
     "output_type": "stream",
     "text": [
      "False, False\n"
     ]
    }
   ],
   "source": [
    "print(f'{sorted_ldml_data == random_data}, {sorted_ldml_data == data}')"
   ]
  },
  {
   "cell_type": "markdown",
   "metadata": {},
   "source": [
    "## Collation rules as embedded string in python"
   ]
  },
  {
   "cell_type": "code",
   "execution_count": null,
   "metadata": {},
   "outputs": [],
   "source": [
    "ckb_rules = (\n",
    "    \"[normalization on]\"\n",
    "    \"[reorder Arab]\"\n",
    "    \"&\\u0695 < \\u0632\"\n",
    "    \"&\\u0648 < \\u06C6 < \\u0648\\u0648\"\n",
    ")\n",
    "\n",
    "rb_collator = RuleBasedCollator(ckb_rules)\n",
    "sorted_rb_data = sorted(random_data, key=rb_collator.getSortKey)"
   ]
  },
  {
   "cell_type": "code",
   "execution_count": null,
   "metadata": {},
   "outputs": [
    {
     "name": "stdout",
     "output_type": "stream",
     "text": [
      "False, False, True\n"
     ]
    }
   ],
   "source": [
    "print(f'{sorted_rb_data == random_data}, {sorted_rb_data == data}, {sorted_rb_data == sorted_ldml_data}')"
   ]
  },
  {
   "cell_type": "markdown",
   "metadata": {},
   "source": [
    "## Using glibc: ckb_IQ"
   ]
  },
  {
   "cell_type": "code",
   "execution_count": null,
   "metadata": {},
   "outputs": [
    {
     "data": {
      "text/plain": [
       "'ckb_IQ.UTF-8'"
      ]
     },
     "execution_count": 50,
     "metadata": {},
     "output_type": "execute_result"
    }
   ],
   "source": [
    "locale.setlocale(locale.LC_COLLATE, \"ckb_IQ.UTF-8\")"
   ]
  },
  {
   "cell_type": "code",
   "execution_count": null,
   "metadata": {},
   "outputs": [],
   "source": [
    "sorted_glibc_data = sorted(random_data, key=locale.strxfrm)"
   ]
  },
  {
   "cell_type": "code",
   "execution_count": null,
   "metadata": {},
   "outputs": [
    {
     "name": "stdout",
     "output_type": "stream",
     "text": [
      "False, False, False, False\n"
     ]
    }
   ],
   "source": [
    "print(f'{sorted_glibc_data == random_data}, {sorted_glibc_data == data}, {sorted_glibc_data == sorted_rb_data}, {sorted_glibc_data == sorted_ldml_data}')"
   ]
  },
  {
   "cell_type": "markdown",
   "metadata": {},
   "source": [
    "Glibc uses the follwoing rules for the Central Kurdish locale:\n",
    "\n",
    "```\n",
    "LC_COLLATE\n",
    "% Copy the template from ISO/IEC 14651\n",
    "copy \"iso14651_t1\"\n",
    "\n",
    "reorder-after <S0631> % ر\n",
    "<S0695> % ڕ\n",
    "\n",
    "reorder-after <S0646> % ن\n",
    "<S0648> % و\n",
    "<S06C6> % ۆ\n",
    "\n",
    "reorder-end\n",
    "\n",
    "END LC_COLLATE\n",
    "```\n",
    "\n",
    "This could be converted to CLDR rules as:\n",
    "\n",
    "```\n",
    "&\\u0631 < \\u0695\n",
    "&\\u0646 < \\u0648 < \\u06C6\n",
    "```\n",
    "\n",
    "Although full set of rules would need to take in all the differences between CLDR collation algorithm and the default ISO/IEC 14651 template."
   ]
  },
  {
   "cell_type": "code",
   "execution_count": null,
   "metadata": {},
   "outputs": [],
   "source": [
    "ckb_glibc_rules = (\n",
    "    \"&\\u0631 < \\u0695\"\n",
    "    \"&\\u0646 < \\u0648 < \\u06C6\"\n",
    ")\n",
    "\n",
    "rb_glibc_collator = RuleBasedCollator(ckb_glibc_rules)\n",
    "sorted_rb_glibc_data = sorted(random_data, key=rb_glibc_collator.getSortKey)"
   ]
  },
  {
   "cell_type": "code",
   "execution_count": null,
   "metadata": {},
   "outputs": [
    {
     "name": "stdout",
     "output_type": "stream",
     "text": [
      "False, False, False, False, True\n"
     ]
    }
   ],
   "source": [
    "print(f'{sorted_rb_glibc_data == random_data}, {sorted_rb_glibc_data == data}, {sorted_rb_glibc_data == sorted_rb_data}, {sorted_rb_glibc_data == sorted_ldml_data}, {sorted_rb_glibc_data == sorted_glibc_data}')"
   ]
  },
  {
   "cell_type": "markdown",
   "metadata": {},
   "source": [
    "## Custom glibc locale: ckb_IQ@academy"
   ]
  },
  {
   "cell_type": "code",
   "execution_count": null,
   "metadata": {},
   "outputs": [
    {
     "ename": "NameError",
     "evalue": "name 'locale' is not defined",
     "output_type": "error",
     "traceback": [
      "\u001b[0;31m---------------------------------------------------------------------------\u001b[0m",
      "\u001b[0;31mNameError\u001b[0m                                 Traceback (most recent call last)",
      "Cell \u001b[0;32mIn [1], line 1\u001b[0m\n\u001b[0;32m----> 1\u001b[0m \u001b[43mlocale\u001b[49m\u001b[38;5;241m.\u001b[39msetlocale(locale\u001b[38;5;241m.\u001b[39mLC_COLLATE, \u001b[38;5;124m\"\u001b[39m\u001b[38;5;124mckb_IQ.UTF-8@academy\u001b[39m\u001b[38;5;124m\"\u001b[39m)\n",
      "\u001b[0;31mNameError\u001b[0m: name 'locale' is not defined"
     ]
    }
   ],
   "source": [
    "locale.setlocale(locale.LC_COLLATE, \"ckb_IQ.UTF-8@academy\")"
   ]
  },
  {
   "cell_type": "code",
   "execution_count": null,
   "metadata": {},
   "outputs": [],
   "source": [
    "sorted_glibc_custom_data = sorted(random_data, key=locale.strxfrm)"
   ]
  },
  {
   "cell_type": "code",
   "execution_count": null,
   "metadata": {},
   "outputs": [],
   "source": [
    "print(f'{sorted_glibc_custom_data == random_data}, {sorted_glibc_custom_data == data}, {sorted_glibc_custom_data == sorted_rb_data}, {sorted_glibc_custom_data == sorted_ldml_data}, {sorted_glibc_custom_data == sorted_glibc_data}')"
   ]
  }
 ],
 "metadata": {
  "kernelspec": {
   "display_name": "Python 3.10.4 64-bit ('3.10.4')",
   "language": "python",
   "name": "python3"
  },
  "language_info": {
   "codemirror_mode": {
    "name": "ipython",
    "version": 3
   },
   "file_extension": ".py",
   "mimetype": "text/x-python",
   "name": "python",
   "nbconvert_exporter": "python",
   "pygments_lexer": "ipython3",
   "version": "3.10.4"
  },
  "orig_nbformat": 4,
  "vscode": {
   "interpreter": {
    "hash": "a0d765e3f1bbebab250bcc5787f77db9035131e35159451719071a68619ae27a"
   }
  }
 },
 "nbformat": 4,
 "nbformat_minor": 2
}
