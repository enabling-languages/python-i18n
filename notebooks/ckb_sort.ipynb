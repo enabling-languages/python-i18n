{
 "cells": [
  {
   "cell_type": "markdown",
   "metadata": {},
   "source": [
    "# Sorting Sorani Kurdish data\n",
    "\n",
    "In the following examples, we will be sorting Sorani Kurdish data, following the requirements of the Kurdish Academy. A sort using the locale module doesn't provide a cross-platform solution, and there is no 'ckb' or 'ckb_IQ' collation rules in `icu4c`. We will use custom rules and the `icu.RuleBasedCollator()` to sort Sorani text.\n",
    "\n",
    "There are two posisble approaches to adidng collation rules:\n",
    "\n",
    "1. Read in a LDML file containing the rules, and \n",
    "2. Provide the rules as a string that can be directly used by `icu.RuleBasedCollator()`.\n",
    "\n",
    "We will use the seconf approach.\n",
    "\n",
    "The rules used are:\n",
    "\n",
    "```\n",
    "\"[normalization on]\"\n",
    "\"[reorder Arab]\"\n",
    "\"&\\u0631 < \\u0695 < \\u0632\"\n",
    "\"&\\u0648 < \\u06C6 < \\u0648\\u0648\"\n",
    "```\n"
   ]
  },
  {
   "cell_type": "markdown",
   "metadata": {},
   "source": [
    "## Setup"
   ]
  },
  {
   "cell_type": "code",
   "execution_count": 5,
   "metadata": {},
   "outputs": [],
   "source": [
    "import sys\n",
    "# import regex as re\n",
    "import re\n",
    "from icu import RuleBasedCollator\n",
    "from random import sample\n",
    "from pathlib import Path\n",
    "import wget"
   ]
  },
  {
   "cell_type": "code",
   "execution_count": 6,
   "metadata": {},
   "outputs": [],
   "source": [
    "# Retrieve data\n",
    "data_file = \"../data/wordlists/kurdi_words.txt\"\n",
    "url = \"https://raw.githubusercontent.com/0xdolan/kurdi/master/corpus/kurdi_words.txt\"\n",
    "path = Path(data_file)\n",
    "if not path.is_file():\n",
    "    print(\"No file, downloading ...\")\n",
    "    output_directory = \"../data/wordlists/\"\n",
    "    filename = wget.download(url, out=output_directory)\n",
    "\n",
    "# Read in data\n",
    "with open(data_file, 'r') as fh:\n",
    "    data = fh.read().splitlines()\n",
    "\n",
    "random_data = sample(data, len(data))\n"
   ]
  },
  {
   "cell_type": "markdown",
   "metadata": {},
   "source": [
    "## Providing collation rules to icu.RuleBasedCollator()"
   ]
  },
  {
   "cell_type": "code",
   "execution_count": 7,
   "metadata": {},
   "outputs": [],
   "source": [
    "ckb_rules = (\n",
    "    \"[normalization on]\"\n",
    "    \"[reorder Arab]\"\n",
    "    \"&\\u0631 < \\u0695 < \\u0632\"\n",
    "    \"&\\u0648 < \\u06C6 < \\u0648\\u0648\"\n",
    ")\n",
    "\n",
    "rb_collator = RuleBasedCollator(ckb_rules)\n",
    "sorted_rb_data = sorted(random_data, key=rb_collator.getSortKey)"
   ]
  },
  {
   "cell_type": "code",
   "execution_count": 8,
   "metadata": {},
   "outputs": [
    {
     "name": "stdout",
     "output_type": "stream",
     "text": [
      "False, False\n",
      "['ئا', 'ئائە', 'ئائەلێرەوە', 'ئائەم', 'ئائەمانە', 'ئائەمانەن', 'ئائەمنیەتیان', 'ئائەمە', 'ئائەمەش', 'ئائەمەشە', 'ئائەمەمان', 'ئائەمەندە', 'ئائەمەندەی', 'ئائەمەنە', 'ئائەمەی', 'ئائەمەیە', 'ئائەو', 'ئائەوانە', 'ئائەوانەن', 'ئائەوانەی', 'ئائەوها', 'ئائەوە', 'ئائەوەتا', 'ئائەوەندە', 'ئائەوەها', 'ئائەوەهادا', 'ئائەوەیە', 'ئائین', 'ئائیندەیە', 'ئائینش'], \n",
      "\n",
      " ['یێهو', 'یێهودا', 'یێهوش', 'یێهوشا', 'یێهوشوا', 'یێهوی', 'یێهویان', 'یێهۆڤا', 'یێهوودە', 'یێەی', 'یێومە', 'یێوە', 'یێویژدانانەی', 'یێویستیان', 'یێوێنەی', 'یێی', 'یێیان', 'یێیانکردەوە', 'یێیت', 'یێیدا', 'یێیرۆ', 'یێیکەویبوو', 'یێیل', 'یێین', 'یێیە', 'یێیەک', 'یێیەکتر', 'یێیەکە', 'یێیەکی', 'یێیەی']\n"
     ]
    }
   ],
   "source": [
    "print(f'{sorted_rb_data == random_data}, {sorted_rb_data == data}')\n",
    "print(f'{sorted_rb_data[:30]}, \\n\\n {sorted_rb_data[-30:]}')"
   ]
  },
  {
   "cell_type": "code",
   "execution_count": null,
   "metadata": {},
   "outputs": [],
   "source": []
  }
 ],
 "metadata": {
  "kernelspec": {
   "display_name": "Python 3 (ipykernel)",
   "language": "python",
   "name": "python3"
  },
  "language_info": {
   "codemirror_mode": {
    "name": "ipython",
    "version": 3
   },
   "file_extension": ".py",
   "mimetype": "text/x-python",
   "name": "python",
   "nbconvert_exporter": "python",
   "pygments_lexer": "ipython3",
   "version": "3.10.6"
  },
  "vscode": {
   "interpreter": {
    "hash": "e6504530cd7cc3d378d399b16dd545b9d2de40f447438758bc49e6b636cedd5f"
   }
  }
 },
 "nbformat": 4,
 "nbformat_minor": 4
}
