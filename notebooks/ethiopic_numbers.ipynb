{
 "cells": [
  {
   "cell_type": "markdown",
   "metadata": {},
   "source": [
    "# Working with Ethiopic numbers\n",
    "\n",
    "CLDR sets the default number system for languages  written in the Ethiopic script to the Arabic (Latin) Number System. The Ethiopic number system is marked as an alternative (traditiona) numbering system, and is not used by default.\n",
    "\n",
    "CLDR defines decimal and algorithmic [number systems](https://github.com/unicode-org/cldr/blob/main/common/supplemental/numberingSystems.xml). The Ethiopic number system is an algorithmic alphabetic numeral system.\n",
    "\n",
    "For a description of the number system refer to [Ethiopic number system](http://www.geez.org/Numerals/) for more details. A list of [sample numbers](http://www.geez.org/Numerals/NumberSamples.html) is available.\n",
    "\n",
    "ICU provides a number of classes used for [formatting numbers](https://unicode-org.github.io/icu/userguide/format_parse/numbers/), but the class needed to format Ethiopic numbers is the [RuleBasedNumberFormat](https://unicode-org.github.io/icu/userguide/format_parse/numbers/rbnf.html) class.\n",
    "\n",
    "Refer to the ICU4C API [RuleBasedNumberFormat class reference](https://unicode-org.github.io/icu-docs/apidoc/dev/icu4c/classicu_1_1RuleBasedNumberFormat.html).\n",
    "\n",
    "The most common use for the `RuleBasedNumberFormat` class is to format numbers as ordinals or as words in the target locale. It is also the nechanism for formating and parsing algorithmic number systems.\n"
   ]
  },
  {
   "cell_type": "markdown",
   "metadata": {},
   "source": [
    "## Spelling out numbers in Amharic\n",
    "\n",
    "1. Create a locale instance\n",
    "2. create a number formatter instance using `RuleBasedNumberFormat` class\n",
    "3. Format the number\n",
    "\n",
    "We start by importing the necessary classes from PyICU:"
   ]
  },
  {
   "cell_type": "code",
   "execution_count": 15,
   "metadata": {},
   "outputs": [],
   "source": [
    "from icu import Locale, Formattable, RuleBasedNumberFormat, URBNFRuleSetTag"
   ]
  },
  {
   "cell_type": "markdown",
   "metadata": {},
   "source": [
    "- [Locale](https://unicode-org.github.io/icu-docs/apidoc/dev/icu4c/classicu_1_1Locale.html) &ndash; methods for initiating and working with ICU's locale objects.\n",
    "- [Formattable](https://unicode-org.github.io/icu-docs/apidoc/dev/icu4c/classicu_1_1Formattable.html) &ndash; a wrapper that converts between numeric types, strings and date objects. It's primary use is in formatting.\n",
    "- [RulebasedNumberFormat](https://unicode-org.github.io/icu-docs/apidoc/dev/icu4c/classicu_1_1RuleBasedNumberFormat.html) &ndash; formats numbers according to a set of rules. The rules maybe inbuilt set of rules, or custom rules.\n",
    "- [URBNFRuleSetTag](https://unicode-org.github.io/icu-docs/apidoc/dev/icu4c/namespaceicu.html#a55dbbbdd4946251c23988013e06e695e) &ndash; tags for predefined rule sets to use with `RulebasedNumberFormat`."
   ]
  },
  {
   "cell_type": "markdown",
   "metadata": {},
   "source": [
    "First, create a locale instance, and a formatter instance. There are a number of methods for building a Locale instance. To keep things simple, we'll just pass a locale identifier directly to the class."
   ]
  },
  {
   "cell_type": "code",
   "execution_count": 16,
   "metadata": {},
   "outputs": [],
   "source": [
    "loc = Locale('am_ET')\n",
    "formatter = RuleBasedNumberFormat(URBNFRuleSetTag.SPELLOUT, loc)"
   ]
  },
  {
   "cell_type": "markdown",
   "metadata": {},
   "source": [
    "We can control what rule sets are used. The follwoing rule sets are available:"
   ]
  },
  {
   "cell_type": "code",
   "execution_count": 17,
   "metadata": {},
   "outputs": [
    {
     "name": "stdout",
     "output_type": "stream",
     "text": [
      "%spellout-numbering-year\n",
      "%spellout-numbering\n",
      "%spellout-cardinal\n",
      "%spellout-ordinal\n"
     ]
    }
   ],
   "source": [
    "for n in range(formatter.getNumberOfRuleSetNames()):\n",
    "    print(formatter.getRuleSetName(n))"
   ]
  },
  {
   "cell_type": "code",
   "execution_count": 26,
   "metadata": {},
   "outputs": [
    {
     "name": "stdout",
     "output_type": "stream",
     "text": [
      "%spellout-numbering\n"
     ]
    }
   ],
   "source": [
    "print(formatter.getDefaultRuleSetName())"
   ]
  },
  {
   "cell_type": "markdown",
   "metadata": {},
   "source": [
    "The `%spellout-numbering` is the default for Amharic, but `%spellout-numbering-year`, `%spellout-cardinal`, and `%spellout-ordinal` are alternative rule sets available. Use the [setDefaultRuleSet](https://unicode-org.github.io/icu-docs/apidoc/dev/icu4c/classicu_1_1RuleBasedNumberFormat.html#aa0fbc19602d99cfcb550e2c11cb9ca91) method, if required."
   ]
  },
  {
   "cell_type": "markdown",
   "metadata": {},
   "source": [
    "`RuleBasedNumberFormat` can be used in a number of ways, refer to the API documentation. IN this particular case we want to create a formatter that uses the Amharic spellout rule set. We passed the relevant rule set identifer and the required locale to create a formatter instance.\n",
    "\n",
    "The same Python code can be used for any locale that have spellout [rule sets](https://github.com/unicode-org/icu/tree/main/icu4c/source/data/rbnf).\n",
    "\n",
    "To convert the number to its word representation, use the `format` method."
   ]
  },
  {
   "cell_type": "code",
   "execution_count": 18,
   "metadata": {},
   "outputs": [
    {
     "name": "stdout",
     "output_type": "stream",
     "text": [
      "አስር ሁለት ሺ ሦስት መቶ አራት አስር አምስት\n"
     ]
    }
   ],
   "source": [
    "number = 12345\n",
    "r = formatter.format(number)\n",
    "print(r)"
   ]
  },
  {
   "cell_type": "markdown",
   "metadata": {},
   "source": [
    "You can use the `parse` method to convert the word representation back into a formated number:"
   ]
  },
  {
   "cell_type": "code",
   "execution_count": 19,
   "metadata": {},
   "outputs": [
    {
     "data": {
      "text/plain": [
       "<Formattable: '12,345'>"
      ]
     },
     "execution_count": 19,
     "metadata": {},
     "output_type": "execute_result"
    }
   ],
   "source": [
    "rreverse = formatter.parse(r)\n",
    "rreverse"
   ]
  },
  {
   "cell_type": "markdown",
   "metadata": {},
   "source": [
    "This returns a Formattable object, which you can either render as a formated string, or convert to an interger or float, as required."
   ]
  },
  {
   "cell_type": "code",
   "execution_count": 20,
   "metadata": {},
   "outputs": [
    {
     "name": "stdout",
     "output_type": "stream",
     "text": [
      "12,345\n"
     ]
    }
   ],
   "source": [
    "rreverse_string = str(rreverse)\n",
    "print(rreverse_string)"
   ]
  },
  {
   "cell_type": "markdown",
   "metadata": {},
   "source": [
    "Available methods are:\n",
    "\n",
    "- getDouble &ndash; returns a floating point number\n",
    "- getInt64 &ndash; returns an integer\n"
   ]
  },
  {
   "cell_type": "code",
   "execution_count": 21,
   "metadata": {},
   "outputs": [
    {
     "name": "stdout",
     "output_type": "stream",
     "text": [
      "12345\n",
      "12345.0\n"
     ]
    }
   ],
   "source": [
    "ireverse = rreverse.getInt64()\n",
    "print(ireverse)\n",
    "\n",
    "dreverse = rreverse.getDouble()\n",
    "print(dreverse)"
   ]
  },
  {
   "cell_type": "markdown",
   "metadata": {},
   "source": [
    "## Working with the Ethiopic numeral system\n",
    "\n",
    "Creating a formatter for Ethiopic numbers is a two step process, we need to create a formatter passing a rule set identifier for number systems and a locale, then we need to set the actual rule set needed. Locales may support multiple rule sets. \n",
    "\n",
    "1. Create a locale instance\n",
    "2. Create a formatter instance\n",
    "3. Set the rule set required\n",
    "\n",
    "We'll reuse the existing Locale instance."
   ]
  },
  {
   "cell_type": "code",
   "execution_count": 22,
   "metadata": {},
   "outputs": [
    {
     "name": "stdout",
     "output_type": "stream",
     "text": [
      "%armenian-lower\n",
      "%armenian-upper\n",
      "%cyrillic-lower\n",
      "%ethiopic\n",
      "%georgian\n",
      "%greek-lower\n",
      "%greek-upper\n",
      "%hebrew\n",
      "%hebrew-item\n",
      "%roman-lower\n",
      "%roman-upper\n",
      "%tamil\n",
      "%zz-default\n"
     ]
    }
   ],
   "source": [
    "eformatter = RuleBasedNumberFormat(URBNFRuleSetTag.NUMBERING_SYSTEM, loc)\n",
    "\n",
    "for n in range(eformatter.getNumberOfRuleSetNames()):\n",
    "    print(eformatter.getRuleSetName(n))\n"
   ]
  },
  {
   "cell_type": "markdown",
   "metadata": {},
   "source": [
    "The public name of the rule set we need is `%ethiopic`, so we set this as our default rule set:"
   ]
  },
  {
   "cell_type": "code",
   "execution_count": 23,
   "metadata": {},
   "outputs": [],
   "source": [
    "eformatter.setDefaultRuleSet('%ethiopic')"
   ]
  },
  {
   "cell_type": "markdown",
   "metadata": {},
   "source": [
    "Then format the number as above:"
   ]
  },
  {
   "cell_type": "code",
   "execution_count": 24,
   "metadata": {},
   "outputs": [
    {
     "name": "stdout",
     "output_type": "stream",
     "text": [
      "፳፫፻፵፩\n"
     ]
    }
   ],
   "source": [
    "number = 2341\n",
    "r = eformatter.format(number)\n",
    "print(r)"
   ]
  },
  {
   "cell_type": "markdown",
   "metadata": {},
   "source": [
    "And likewise, we can parse the ethiopic digits back to the Arabic (Latin) number system:"
   ]
  },
  {
   "cell_type": "code",
   "execution_count": 25,
   "metadata": {},
   "outputs": [
    {
     "name": "stdout",
     "output_type": "stream",
     "text": [
      "2,341\n",
      "2341\n",
      "2341.0\n"
     ]
    }
   ],
   "source": [
    "rreverse = eformatter.parse(r)\n",
    "print(str(rreverse))\n",
    "print(rreverse.getInt64())\n",
    "print(rreverse.getDouble())"
   ]
  }
 ],
 "metadata": {
  "kernelspec": {
   "display_name": "athinkra",
   "language": "python",
   "name": "python3"
  },
  "language_info": {
   "codemirror_mode": {
    "name": "ipython",
    "version": 3
   },
   "file_extension": ".py",
   "mimetype": "text/x-python",
   "name": "python",
   "nbconvert_exporter": "python",
   "pygments_lexer": "ipython3",
   "version": "3.11.0"
  },
  "orig_nbformat": 4
 },
 "nbformat": 4,
 "nbformat_minor": 2
}
