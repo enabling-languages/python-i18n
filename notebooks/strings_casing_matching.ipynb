{
 "cells": [
  {
   "cell_type": "markdown",
   "metadata": {},
   "source": [
    "# Python string operations: casing and matching"
   ]
  },
  {
   "cell_type": "markdown",
   "metadata": {},
   "source": [
    "|Operation   |Python   |Pandas  |PyICU  |\n",
    "|----------- |-------- |------- |------ |\n",
    "|Lowercasing |[str.lower()](https://docs.python.org/3/library/stdtypes.html#str.lower)  |[pandas.Series.str.lower()](https://pandas.pydata.org/docs/reference/api/pandas.Series.str.lower.html?highlight=lower#pandas-series-str-lower) |icu.UnicodeString.toLower() |\n",
    "|Uppercasing |[str.upper()](https://docs.python.org/3/library/stdtypes.html#str.upper)  |[pandas.Series.str.upper()](https://pandas.pydata.org/docs/reference/api/pandas.Series.str.upper.html#pandas-series-str-upper) |icu.UnicodeString.toUpper() |\n",
    "|Titlecasing |[str.title()](https://docs.python.org/3/library/stdtypes.html#str.title)  |[pandas.Series.str.title](pandas.Series.str.title) |icu.UnicodeString.toTitle() |\n",
    "|Casefolding |[str.casefold()](https://docs.python.org/3/library/stdtypes.html#str.casefold) |[pandas.Series.str.casefold()]() |icu.UnicodeString.CaseFold() |\n",
    "\n",
    "The operations [str.capitalize()](https://docs.python.org/3/library/stdtypes.html#str.capitalize)/[pandas.Series.str.capitalize()](https://pandas.pydata.org/docs/reference/api/pandas.Series.str.capitalize.html#pandas-series-str-capitalize) and [str.swapcase()](https://docs.python.org/3/library/stdtypes.html#str.swapcase)/[pandas.Series.str.swapcase()](https://pandas.pydata.org/docs/reference/api/pandas.Series.str.swapcase.html#pandas-series-str-swapcase), although string operations, aren't necessarily casing operations.\n",
    "\n",
    "N.B. we will not explore the differences between an [object and `StringDtype`](https://pandas.pydata.org/docs/user_guide/text.html#behavior-differences) in Pandas."
   ]
  },
  {
   "cell_type": "code",
   "execution_count": 4,
   "metadata": {},
   "outputs": [],
   "source": [
    "from el_internationalisation import cp, cpnames, udata"
   ]
  },
  {
   "cell_type": "markdown",
   "metadata": {},
   "source": [
    "## Python casing operations\n",
    "\n",
    "Unicode contains a set of special casing mappings. These are divided intto unconditional and conditional mappings. All casing operations should support unconditional special mappings by default.\n",
    "\n",
    "Python's casing operations are language insensitive, that is langauge is not taken into account when casing operations occur. The current locale has no impact on casing operations, therefore language sensitive mappings are unsupported.\n",
    "\n",
    "Unconditional mappings:\n",
    "\n",
    "  * Eszett (ß) casing \n",
    "  * Preserving canonical equivalence of I WITH DOT ABOVE (&#x0130;)\n",
    "  * Ligatures (Latin and Armenian script)\n",
    "  * When a lowercase charcater has no corresponding uppercase precomposed character\n",
    "  * Greek letters with letters with hupogegramménē (ὑπογεγραμμένη) or prosgráphō (προσγράφω) have special uppercase equivalents.\n",
    "  * Some Greek letters with letters with hupogegramménē (ὑπογεγραμμένη) have no titlecase\n",
    "\n",
    "Conditional mappings:\n",
    "  1. Language-Insensitive Mappings\n",
    "    * Final form of Greek sigma\n",
    "  2. Language-Sensitive Mappings\n",
    "    * Lithuanian retains the dot in a lowercase i/j when followed by accents\n",
    "    * For Turkish and Azeri, I and i-dotless; I-dot and i are case pairs\n",
    "\n",
    "See [Special Casings](https://www.unicode.org/Public/UCD/latest/ucd/SpecialCasing.txt), which forms part of the Unicode Character database (UCD)."
   ]
  },
  {
   "cell_type": "markdown",
   "metadata": {},
   "source": [
    "### Unconditional mappings\n",
    "\n",
    "Python lowercasing and uppercasing support the unconditional mappings of Unicode's special mappings.\n",
    "\n",
    "|Character  |Lowercase  |Titlecase  |Uppercase  |Notes  |\n",
    "|---------- |---------- |---------- |---------- |------ |\n",
    "\n",
    "#### Latin script"
   ]
  },
  {
   "cell_type": "code",
   "execution_count": 20,
   "metadata": {},
   "outputs": [
    {
     "name": "stdout",
     "output_type": "stream",
     "text": [
      "ß (00DF) ⇒ SS (0053 0053)\n",
      "Titlecase: should not appear word initial.\n",
      "i̇ (0069 0307) ⇐ İ (0130)\n",
      "Titlecase: İ (0049 0307)\n"
     ]
    }
   ],
   "source": [
    "# ß\n",
    "ESZETT = \"ß\"\n",
    "print(f'{ESZETT} ({cp(ESZETT)}) ⇒ {ESZETT.upper()} ({cp(ESZETT.upper())})')\n",
    "print(\"Titlecase: should not appear word initial.\")\n",
    "\n",
    "# I WITH DOT ABOVE\n",
    "IDOT = \"\\u0130\"\n",
    "print(f'{IDOT.lower()} ({cp(IDOT.lower())}) ⇐ {IDOT} ({cp(IDOT)})')\n",
    "print(f'Titlecase: {\"i̇\".title()} ({cp(\"i̇\".title())})')"
   ]
  },
  {
   "cell_type": "markdown",
   "metadata": {},
   "source": [
    "Note that Python titlecasing does not resolve back to the precomosed U+0130, but this is part of a wider issue with Python titlecasing, unlike uppercasing and lowercasing, titlecasing does not adhere to the Unicode specification\n",
    "\n",
    "If we take the name of the Turkish city İstanbul:"
   ]
  },
  {
   "cell_type": "code",
   "execution_count": 26,
   "metadata": {},
   "outputs": [
    {
     "name": "stdout",
     "output_type": "stream",
     "text": [
      "İstanbul: 0130 0073 0074 0061 006E 0062 0075 006C\n",
      "i̇stanbul: 0069 0307 0073 0074 0061 006E 0062 0075 006C\n",
      "Titlecase: İStanbul (0049 0307 0053 0074 0061 006E 0062 0075 006C)\n"
     ]
    }
   ],
   "source": [
    "print(f'İstanbul: {cp(\"İstanbul\")}')\n",
    "istanbul = \"İstanbul\".lower()\n",
    "print(f'{istanbul}: {cp(istanbul)}')\n",
    "istanbul_title = istanbul.title()\n",
    "print(f'Titlecase: {istanbul_title} ({cp(istanbul_title)})')"
   ]
  },
  {
   "cell_type": "markdown",
   "metadata": {},
   "source": [
    "The first three characters in the titlecased string are U+0049 U+0307 U+0053. Python titlecases the first alphabetic character after a non-alphabetic character. Combining diacritics are not considered alphabetic characaters:"
   ]
  },
  {
   "cell_type": "code",
   "execution_count": 27,
   "metadata": {},
   "outputs": [
    {
     "data": {
      "text/plain": [
       "False"
      ]
     },
     "execution_count": 27,
     "metadata": {},
     "output_type": "execute_result"
    }
   ],
   "source": [
    "istanbul.isalpha()"
   ]
  },
  {
   "cell_type": "markdown",
   "metadata": {},
   "source": [
    "So __i__ is uppercased to __I__, U+0307 is treated as a non-alphabetic character and the titlecasing operation titlecases the __s__, giving us İStanbul as the titlecased version of the string.\n",
    "\n",
    "It is important to note that the Unicode definition also excludes marks, like combining diacrtics, but Unicode titlecasing does not apply an alphabetic mask to titlecasing."
   ]
  }
 ],
 "metadata": {
  "kernelspec": {
   "display_name": "Python 3.8.1 ('el')",
   "language": "python",
   "name": "python3"
  },
  "language_info": {
   "codemirror_mode": {
    "name": "ipython",
    "version": 3
   },
   "file_extension": ".py",
   "mimetype": "text/x-python",
   "name": "python",
   "nbconvert_exporter": "python",
   "pygments_lexer": "ipython3",
   "version": "3.8.1"
  },
  "orig_nbformat": 4,
  "vscode": {
   "interpreter": {
    "hash": "bb12d0de9674b66c629d2bafada2ec4f6e6dba6d129e54dea4badc21502d54d3"
   }
  }
 },
 "nbformat": 4,
 "nbformat_minor": 2
}
