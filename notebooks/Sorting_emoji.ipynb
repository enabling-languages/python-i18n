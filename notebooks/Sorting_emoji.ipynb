{
 "cells": [
  {
   "cell_type": "markdown",
   "metadata": {},
   "source": [
    "# Sorting emoji\n",
    "\n",
    "Python's inbuild sorting algorithms sort emoji by codepoint.\n",
    "\n",
    "Codepoint order, as well as the default collation rules provided by the Unicode Collation Algorithm do not provide adequate [ordering and grouping](https://www.unicode.org/reports/tr51/#Sorting) of emoji.\n",
    "\n",
    "The Unicode Common Locale Data Repository (CLDR) provides colation rules for emoji. [Conformant emoji collation](https://www.unicode.org/reports/tr51/#Collation_Conformance) is defined in CLDR tailoring rules for the Unicode Collation Algorthim (UCA).\n",
    "\n",
    "CLDR groups emoji into broad conceptual categories in order to group related emoji together."
   ]
  },
  {
   "cell_type": "markdown",
   "metadata": {},
   "source": [
    "## Emoji only collation\n",
    "\n",
    "For the following discussion we will use the following emoji:\n",
    "\n",
    "|Character |Codepoint |Description |Category |\n",
    "|--------- |--------- |----------- |-------- |\n",
    "|🦜 |U+1F99C |Parrot |animal-bird |\n",
    "|🥚 |U+1F95A |Egg |food-prepared |\n",
    "|🐔 |U+1F414 |Chicken |animal-bird |\n",
    "\n",
    "The default python sort algorithm will order then in terms of the emoji's codepoint: U+1F414 (chicken), U+1F95A (egg), and then U+1F99C (parrot).\n",
    "\n",
    "The CLDR ordering would be to sort the two bids together (U+1F414 then U+1F99C), followed by U+1F95A."
   ]
  },
  {
   "cell_type": "code",
   "execution_count": 1,
   "metadata": {},
   "outputs": [
    {
     "data": {
      "text/plain": [
       "['🐔', '🥚', '🦜']"
      ]
     },
     "execution_count": 1,
     "metadata": {},
     "output_type": "execute_result"
    }
   ],
   "source": [
    "a = ['🦜', '🥚', '🐔']\n",
    "sorted(a)"
   ]
  },
  {
   "cell_type": "markdown",
   "metadata": {},
   "source": [
    "Using PyICU, it is possible to sort emoji according to CLDR's collation rules for Emoji. The `-u-co-emoji` Unicode BCP-47 extension will enable CLDR based emoji collation. When sorting just wmoji we can use the langauge subtag `und` (undetermined) as the base for the locale identifier: `und-u-co-emoji`."
   ]
  },
  {
   "cell_type": "code",
   "execution_count": 2,
   "metadata": {},
   "outputs": [
    {
     "name": "stdout",
     "output_type": "stream",
     "text": [
      "['🐔', '🦜', '🥚']\n"
     ]
    }
   ],
   "source": [
    "from icu import Collator, Locale\n",
    "coll = Collator.createInstance(Locale.createCanonical(\"und-u-co-emoji\"))\n",
    "print(sorted(a, key=coll.getSortKey))"
   ]
  },
  {
   "cell_type": "markdown",
   "metadata": {},
   "source": [
    "This yields a CLDR based sort using the CLDR emoji collation rules."
   ]
  },
  {
   "cell_type": "markdown",
   "metadata": {},
   "source": [
    "##  Sorting text and emoji\n",
    "\n",
    "A more complex scenario is sorting a set of text and emoji.\n",
    "\n",
    "[UTS #35](https://unicode.org/reports/tr35/tr35-collation.html#Combining_Rules) provides a discussion of tailoring and combining rules in relation to sorting emoji and text. We'll implement the example given in UTS #35 in Python.\n",
    "\n",
    "The following characters are used:\n",
    "\n",
    "|Character  |Codepoint  |Description  |\n",
    "|---------- |---------- |------------ |\n",
    "|😀 |U+1F600 |Grinning Face |\n",
    "|글 |U+AE00 |Hangul Syllable Geul |\n",
    "|Z |U+005A |Latin Capital Letter Z |\n",
    "|ü |U+00FC |Latin Small Letter U with Diaeresis |\n",
    "|, |U+002C |Comma |\n",
    "|✈️️ |U+2708 U+FE0F |Airplane |\n",
    "|y |U+0079 |Latin Small Letter Y |\n",
    "|☹️ |U+2639 U+FE0F |White Frowning Face |\n",
    "|a |U+0061 |Latin Small Letter A |\n",
    "\n",
    "Enabling emoji collation overrides language specific tailorings. This has no impact on text for languages that use the root collation, but will have a negative impact on languages that do require tailoring to obtain the correct collation order.\n",
    "\n",
    "The python sort algorithm will order content by codepoint:"
   ]
  },
  {
   "cell_type": "code",
   "execution_count": 11,
   "metadata": {},
   "outputs": [
    {
     "data": {
      "text/plain": [
       "[',', 'Z', 'a', 'y', 'ü', '☹️', '✈️️', '글', '😀']"
      ]
     },
     "execution_count": 11,
     "metadata": {},
     "output_type": "execute_result"
    }
   ],
   "source": [
    "# List to be sorted\n",
    "b = ['😀', '글', 'Z', 'ü', ',', '✈️️', 'y', '☹️', 'a']\n",
    "\n",
    "#Default Python sort\n",
    "sorted(b)"
   ]
  },
  {
   "cell_type": "markdown",
   "metadata": {},
   "source": [
    "The `en` locale identifier will use the CLDR root collation. Emoji are not sorted using the CLDR emoji collation rules:"
   ]
  },
  {
   "cell_type": "code",
   "execution_count": 25,
   "metadata": {},
   "outputs": [
    {
     "data": {
      "text/plain": [
       "[',', '☹️', '✈️️', '😀', 'a', 'ü', 'y', 'Z', '글']"
      ]
     },
     "execution_count": 25,
     "metadata": {},
     "output_type": "execute_result"
    }
   ],
   "source": [
    "# locale: en\n",
    "en_coll = Collator.createInstance(Locale.forLanguageTag(\"en\"));\n",
    "sorted(b, key=en_coll.getSortKey)"
   ]
  },
  {
   "cell_type": "markdown",
   "metadata": {},
   "source": [
    "Enabling emoji collation using the `en-u-co-emoji` locale will sort the emoji based on the emoji collation rules and the remaining characters are sorted as per the root collation algorithm."
   ]
  },
  {
   "cell_type": "code",
   "execution_count": 24,
   "metadata": {},
   "outputs": [
    {
     "data": {
      "text/plain": [
       "[',', '😀', '☹️', '✈️️', 'a', 'ü', 'y', 'Z', '글']"
      ]
     },
     "execution_count": 24,
     "metadata": {},
     "output_type": "execute_result"
    }
   ],
   "source": [
    "# locale for en-u-co-emoji\n",
    "en_emoji_coll = Collator.createInstance(Locale.forLanguageTag(\"en-u-co-emoji\"));\n",
    "sorted(b, key=en_emoji_coll.getSortKey)"
   ]
  },
  {
   "cell_type": "markdown",
   "metadata": {},
   "source": [
    "`en-u-co-emoji\"`will yield the same result as `und-u-co-emoji`, i.e. sort emoji according to the CLDR emoji collation order and sort other characters according to the root collation algorithm."
   ]
  },
  {
   "cell_type": "code",
   "execution_count": 23,
   "metadata": {},
   "outputs": [
    {
     "data": {
      "text/plain": [
       "[',', '😀', '☹️', '✈️️', 'a', 'ü', 'y', 'Z', '글']"
      ]
     },
     "execution_count": 23,
     "metadata": {},
     "output_type": "execute_result"
    }
   ],
   "source": [
    "# locale for und-u-co-emoji\n",
    "und_emoji_coll = Collator.createInstance(Locale.forLanguageTag(\"und-u-co-emoji\"));\n",
    "sorted(b, key=und_emoji_coll.getSortKey)"
   ]
  },
  {
   "cell_type": "markdown",
   "metadata": {},
   "source": [
    "The `da` locale has tailored collation rules to order text in the sequence required for Danish:"
   ]
  },
  {
   "cell_type": "code",
   "execution_count": 22,
   "metadata": {},
   "outputs": [
    {
     "data": {
      "text/plain": [
       "[',', '☹️', '✈️️', '😀', 'a', 'y', 'ü', 'Z', '글']"
      ]
     },
     "execution_count": 22,
     "metadata": {},
     "output_type": "execute_result"
    }
   ],
   "source": [
    "# locale for da\n",
    "da_coll = Collator.createInstance(Locale.forLanguageTag(\"da\"));\n",
    "sorted(b, key=da_coll.getSortKey)"
   ]
  },
  {
   "cell_type": "markdown",
   "metadata": {},
   "source": [
    "Adding emoji collation support overrides the Danish language tailorings. Look at the order of __ü__ in the list for the `da` and `da-u-co-emoji` locales."
   ]
  },
  {
   "cell_type": "code",
   "execution_count": 20,
   "metadata": {},
   "outputs": [
    {
     "data": {
      "text/plain": [
       "[',', '😀', '☹️', '✈️️', 'a', 'ü', 'y', 'Z', '글']"
      ]
     },
     "execution_count": 20,
     "metadata": {},
     "output_type": "execute_result"
    }
   ],
   "source": [
    "# locale for da-u-co-emoji\n",
    "da_emoji_coll = Collator.createInstance(Locale.forLanguageTag(\"da-u-co-emoji\"));\n",
    "sorted(b, key=da_emoji_coll.getSortKey)"
   ]
  },
  {
   "cell_type": "markdown",
   "metadata": {},
   "source": [
    "To overcome this, it is possible to combine the collation rules for the `da` and `da_and_emoji_rules`. We can do this by:\n",
    "\n",
    "1. Initiating collator instances for each locale, and retrieve the rules\n",
    "2. Concatenate the rule sets\n",
    "3. Initiate a collator instance using `RuleBasedCollator`\n",
    "\n",
    "This will order emoji according to the emoji collation rules and order Latin script text according to Danish collation rules."
   ]
  },
  {
   "cell_type": "code",
   "execution_count": 19,
   "metadata": {},
   "outputs": [
    {
     "data": {
      "text/plain": [
       "[',', '😀', '☹️', '✈️️', 'a', 'y', 'ü', 'Z', '글']"
      ]
     },
     "execution_count": 19,
     "metadata": {},
     "output_type": "execute_result"
    }
   ],
   "source": [
    "# Combinded rules\n",
    "from icu import RuleBasedCollator\n",
    "#da_and_emoji_rules = Collator.createInstance(Locale.forLanguageTag('da')).getRules() + Collator.createInstance(Locale.forLanguageTag('und-u-co-emoji')).getRules()\n",
    "da_rules = Collator.createInstance(Locale.forLanguageTag('da')).getRules()\n",
    "emoji_rules = Collator.createInstance(Locale.forLanguageTag('und-u-co-emoji')).getRules()\n",
    "da_and_emoji_rules = da_rules + emoji_rules\n",
    "combined_coll = RuleBasedCollator(da_and_emoji_rules)\n",
    "sorted(b, key=combined_coll.getSortKey)"
   ]
  },
  {
   "cell_type": "markdown",
   "metadata": {},
   "source": [
    "The same approach is needed for other languages that are not supported by the CLDR root collation algorithm and require tailored rules."
   ]
  },
  {
   "cell_type": "markdown",
   "metadata": {},
   "source": [
    "## Resources\n",
    "\n",
    "* [Emoji ordering chart](https://www.unicode.org/emoji/charts/emoji-ordering.html)\n",
    "* [CLDR Root collation rules](https://github.com/unicode-org/cldr/blob/353527cdabf1e8870d261beb3c908de6deb1915b/common/collation/root.xml#L951)"
   ]
  }
 ],
 "metadata": {
  "interpreter": {
   "hash": "bb12d0de9674b66c629d2bafada2ec4f6e6dba6d129e54dea4badc21502d54d3"
  },
  "kernelspec": {
   "display_name": "Python 3.8.1 64-bit ('el': venv)",
   "language": "python",
   "name": "python3"
  },
  "language_info": {
   "codemirror_mode": {
    "name": "ipython",
    "version": 3
   },
   "file_extension": ".py",
   "mimetype": "text/x-python",
   "name": "python",
   "nbconvert_exporter": "python",
   "pygments_lexer": "ipython3",
   "version": "3.8.1"
  },
  "orig_nbformat": 4
 },
 "nbformat": 4,
 "nbformat_minor": 2
}
