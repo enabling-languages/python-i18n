{
 "cells": [
  {
   "cell_type": "markdown",
   "metadata": {},
   "source": [
    "# Plotting Kannada dataframe"
   ]
  },
  {
   "cell_type": "code",
   "execution_count": 15,
   "metadata": {},
   "outputs": [],
   "source": [
    "import regex as re, pandas as pd\n",
    "import platform\n",
    "import mplcairo\n",
    "import matplotlib as mpl\n",
    "if platform.system() == \"Darwin\":\n",
    "    mpl.use(\"module://mplcairo.macosx\")\n",
    "else:\n",
    "   mpl.use(\"module://mplcairo.qt\")\n",
    "import matplotlib.pyplot as plt\n"
   ]
  },
  {
   "cell_type": "code",
   "execution_count": 16,
   "metadata": {},
   "outputs": [],
   "source": [
    "PAGE = \"https://kn.wikipedia.org/wiki/%E0%B2%AD%E0%B2%BE%E0%B2%B0%E0%B2%A4%E0%B2%A6_%E0%B2%9C%E0%B2%A8%E0%B2%A4%E0%B3%86\"\n",
    "tables = pd.read_html(PAGE, encoding=\"utf-8\", header=0)\n"
   ]
  },
  {
   "cell_type": "code",
   "execution_count": 17,
   "metadata": {},
   "outputs": [
    {
     "name": "stdout",
     "output_type": "stream",
     "text": [
      "<class 'pandas.core.frame.DataFrame'>\n",
      "RangeIndex: 12 entries, 0 to 11\n",
      "Data columns (total 4 columns):\n",
      " #   Column          Non-Null Count  Dtype  \n",
      "---  ------          --------------  -----  \n",
      " 0   ವರ್ಷ            12 non-null     int64  \n",
      " 1   ಒಟ್ಟು ಜನಸಂಖ್ಯೆ  12 non-null     int64  \n",
      " 2   ಗ್ರಾಮ           12 non-null     object \n",
      " 3   ನಗರ             11 non-null     float64\n",
      "dtypes: float64(1), int64(2), object(1)\n",
      "memory usage: 512.0+ bytes\n"
     ]
    }
   ],
   "source": [
    "tables[0].info()"
   ]
  },
  {
   "cell_type": "code",
   "execution_count": 18,
   "metadata": {},
   "outputs": [],
   "source": [
    "df = tables[0]\n",
    "df =  df.iloc[:-1 , :]\n",
    "def clean_labels(s):\n",
    "    s = re.sub(r'[\\p{Pd}\\p{Ps}\\p{Pe}\\p{Pi}\\p{Pf}\\p{Po}]+','',s)\n",
    "    s = re.sub(r'\\p{Z}+', '_', s)\n",
    "    s = re.sub(r'^_|_$', '', s)\n",
    "    return s\n",
    "\n",
    "data = df.copy()\n",
    "data.rename(clean_labels, axis=1, inplace=True)\n",
    "data[['ನಗರ', 'ಗ್ರಾಮ']] = data[['ನಗರ', 'ಗ್ರಾಮ']].astype('int64')"
   ]
  },
  {
   "cell_type": "code",
   "execution_count": 19,
   "metadata": {},
   "outputs": [
    {
     "data": {
      "text/html": [
       "<div>\n",
       "<style scoped>\n",
       "    .dataframe tbody tr th:only-of-type {\n",
       "        vertical-align: middle;\n",
       "    }\n",
       "\n",
       "    .dataframe tbody tr th {\n",
       "        vertical-align: top;\n",
       "    }\n",
       "\n",
       "    .dataframe thead th {\n",
       "        text-align: right;\n",
       "    }\n",
       "</style>\n",
       "<table border=\"1\" class=\"dataframe\">\n",
       "  <thead>\n",
       "    <tr style=\"text-align: right;\">\n",
       "      <th></th>\n",
       "      <th>ವರ್ಷ</th>\n",
       "      <th>ಒಟ್ಟು_ಜನಸಂಖ್ಯೆ</th>\n",
       "      <th>ಗ್ರಾಮ</th>\n",
       "      <th>ನಗರ</th>\n",
       "    </tr>\n",
       "  </thead>\n",
       "  <tbody>\n",
       "    <tr>\n",
       "      <th>0</th>\n",
       "      <td>1901</td>\n",
       "      <td>238396327</td>\n",
       "      <td>212544454</td>\n",
       "      <td>25851573</td>\n",
       "    </tr>\n",
       "    <tr>\n",
       "      <th>1</th>\n",
       "      <td>1911</td>\n",
       "      <td>252093390</td>\n",
       "      <td>226151757</td>\n",
       "      <td>25941633</td>\n",
       "    </tr>\n",
       "    <tr>\n",
       "      <th>2</th>\n",
       "      <td>1921</td>\n",
       "      <td>251351213</td>\n",
       "      <td>223235043</td>\n",
       "      <td>28086170</td>\n",
       "    </tr>\n",
       "    <tr>\n",
       "      <th>3</th>\n",
       "      <td>1931</td>\n",
       "      <td>278977238</td>\n",
       "      <td>245521249</td>\n",
       "      <td>33455686</td>\n",
       "    </tr>\n",
       "    <tr>\n",
       "      <th>4</th>\n",
       "      <td>1941</td>\n",
       "      <td>318660580</td>\n",
       "      <td>275507283</td>\n",
       "      <td>44153297</td>\n",
       "    </tr>\n",
       "    <tr>\n",
       "      <th>5</th>\n",
       "      <td>1951</td>\n",
       "      <td>362088090</td>\n",
       "      <td>298644381</td>\n",
       "      <td>62443709</td>\n",
       "    </tr>\n",
       "    <tr>\n",
       "      <th>6</th>\n",
       "      <td>1961</td>\n",
       "      <td>439234771</td>\n",
       "      <td>360298168</td>\n",
       "      <td>78936603</td>\n",
       "    </tr>\n",
       "    <tr>\n",
       "      <th>7</th>\n",
       "      <td>1971</td>\n",
       "      <td>548159652</td>\n",
       "      <td>439045675</td>\n",
       "      <td>109113677</td>\n",
       "    </tr>\n",
       "    <tr>\n",
       "      <th>8</th>\n",
       "      <td>1981</td>\n",
       "      <td>683329097</td>\n",
       "      <td>623866550</td>\n",
       "      <td>159462547</td>\n",
       "    </tr>\n",
       "    <tr>\n",
       "      <th>9</th>\n",
       "      <td>1991</td>\n",
       "      <td>846302688</td>\n",
       "      <td>628691676</td>\n",
       "      <td>217611012</td>\n",
       "    </tr>\n",
       "    <tr>\n",
       "      <th>10</th>\n",
       "      <td>2001</td>\n",
       "      <td>1028737436</td>\n",
       "      <td>742490639</td>\n",
       "      <td>386119689</td>\n",
       "    </tr>\n",
       "  </tbody>\n",
       "</table>\n",
       "</div>"
      ],
      "text/plain": [
       "    ವರ್ಷ  ಒಟ್ಟು_ಜನಸಂಖ್ಯೆ      ಗ್ರಾಮ        ನಗರ\n",
       "0   1901       238396327  212544454   25851573\n",
       "1   1911       252093390  226151757   25941633\n",
       "2   1921       251351213  223235043   28086170\n",
       "3   1931       278977238  245521249   33455686\n",
       "4   1941       318660580  275507283   44153297\n",
       "5   1951       362088090  298644381   62443709\n",
       "6   1961       439234771  360298168   78936603\n",
       "7   1971       548159652  439045675  109113677\n",
       "8   1981       683329097  623866550  159462547\n",
       "9   1991       846302688  628691676  217611012\n",
       "10  2001      1028737436  742490639  386119689"
      ]
     },
     "execution_count": 19,
     "metadata": {},
     "output_type": "execute_result"
    }
   ],
   "source": [
    "data"
   ]
  },
  {
   "cell_type": "code",
   "execution_count": 20,
   "metadata": {},
   "outputs": [
    {
     "data": {
      "image/png": "[encoded data removed]",
      "text/plain": [
       "<Figure size 864x576 with 1 Axes>"
      ]
     },
     "metadata": {
      "needs_background": "light"
     },
     "output_type": "display_data"
    }
   ],
   "source": [
    "plt.rcParams.update({'font.family':'Kannada MN'})\n",
    "data.plot(x='ವರ್ಷ', y = ['ಒಟ್ಟು_ಜನಸಂಖ್ಯೆ', 'ಗ್ರಾಮ', 'ನಗರ'])\n",
    "plt.show()"
   ]
  }
 ],
 "metadata": {
  "interpreter": {
   "hash": "bb12d0de9674b66c629d2bafada2ec4f6e6dba6d129e54dea4badc21502d54d3"
  },
  "kernelspec": {
   "display_name": "Python 3.8.1 ('el')",
   "language": "python",
   "name": "python3"
  },
  "language_info": {
   "codemirror_mode": {
    "name": "ipython",
    "version": 3
   },
   "file_extension": ".py",
   "mimetype": "text/x-python",
   "name": "python",
   "nbconvert_exporter": "python",
   "pygments_lexer": "ipython3",
   "version": "3.10.1"
  },
  "orig_nbformat": 4
 },
 "nbformat": 4,
 "nbformat_minor": 2
}
