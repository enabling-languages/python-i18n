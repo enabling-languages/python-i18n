{
 "cells": [
  {
   "cell_type": "markdown",
   "metadata": {},
   "source": [
    "# Pandas internationalisation: Persian data example\n",
    "\n",
    "An example of reading in Persian data in Pandas.\n",
    "\n",
    "The file `fa_stats.tsv` is a tab delimited file in Persian. Column 1 contains a four digit year based on the Islamic calendar. Columns 2 and 3 contain integers using Eastern Arabic-Indic digits, using the Arabic thousands seperator.\n",
    "\n",
    "A set of conversion functions are used with `pd.read_table()` to convert the data to a format that cen be used in Pandas.\n",
    "\n",
    "Column 1 is converted to the Gregorian Calendar, using a combination of the `convert_digits()` function and PyICU's `icu.Calendar` and `icu.GregorianCalendar` modules. After the dataframe is available, we use `pandas.Series.dt.year` to convert the datetime objects in the column to Four digit year display.\n",
    "\n",
    "The `convert_digits()` function is used to convert the Eastern Arabic-Indic digits in columns 2 and 3 to Arabic digits that can be manipulated by Pandas."
   ]
  },
  {
   "cell_type": "code",
   "execution_count": 1,
   "metadata": {},
   "outputs": [],
   "source": [
    "import unicodedataplus as ud, regex as re, pandas as pd\n",
    "from icu import Locale, DateFormat, SimpleDateFormat, Calendar, GregorianCalendar\n",
    "\n",
    "def convert_digits(s, sep = (\",\", \".\")):\n",
    "    nd = re.compile(r'^-?\\p{Nd}[,.\\u066B\\u066C\\u0020\\u2009\\p{Nd}]+$')\n",
    "    tsep, dsep = sep\n",
    "    if nd.match(s):\n",
    "        s = s.replace(tsep, \"\")\n",
    "        s = ''.join([str(ud.decimal(c, c)) for c in s])\n",
    "        if dsep in s:\n",
    "            return float(s.replace(dsep, \".\")) if dsep != \".\" else float(s)\n",
    "        return int(s)\n",
    "    return s\n",
    "\n",
    "loc = \"fa_IR\"\n",
    "in_c = Calendar.createInstance(Locale(loc + \"@calendar=persian\"))\n",
    "out_c = GregorianCalendar(Locale(loc + \"@calendar=gregorian\"))\n",
    "\n",
    "def convert_islamic_year(y, in_c, out_c):\n",
    "    y = convert_digits(y.strip())\n",
    "    in_c.set(Calendar.YEAR, y)\n",
    "    out_c.setTime(in_c.getTime())\n",
    "    return out_c.get(Calendar.YEAR)\n",
    "\n",
    "seps = (\"\\u066C\", \"\\u066B\")\n",
    "digitf = lambda x: convert_digits(x.strip(), sep = seps)\n",
    "datef = lambda x: convert_islamic_year(x, in_c=in_c, out_c=out_c)\n"
   ]
  },
  {
   "cell_type": "code",
   "execution_count": 2,
   "metadata": {},
   "outputs": [
    {
     "data": {
      "text/html": [
       "<div>\n",
       "<style scoped>\n",
       "    .dataframe tbody tr th:only-of-type {\n",
       "        vertical-align: middle;\n",
       "    }\n",
       "\n",
       "    .dataframe tbody tr th {\n",
       "        vertical-align: top;\n",
       "    }\n",
       "\n",
       "    .dataframe thead th {\n",
       "        text-align: right;\n",
       "    }\n",
       "</style>\n",
       "<table border=\"1\" class=\"dataframe\">\n",
       "  <thead>\n",
       "    <tr style=\"text-align: right;\">\n",
       "      <th></th>\n",
       "      <th>سال</th>\n",
       "      <th>ولادت</th>\n",
       "      <th>وفات</th>\n",
       "    </tr>\n",
       "  </thead>\n",
       "  <tbody>\n",
       "    <tr>\n",
       "      <th>0</th>\n",
       "      <td>1959</td>\n",
       "      <td>864846</td>\n",
       "      <td>176288</td>\n",
       "    </tr>\n",
       "    <tr>\n",
       "      <th>1</th>\n",
       "      <td>1960</td>\n",
       "      <td>876206</td>\n",
       "      <td>171040</td>\n",
       "    </tr>\n",
       "    <tr>\n",
       "      <th>2</th>\n",
       "      <td>1961</td>\n",
       "      <td>902260</td>\n",
       "      <td>159371</td>\n",
       "    </tr>\n",
       "  </tbody>\n",
       "</table>\n",
       "</div>"
      ],
      "text/plain": [
       "    سال   ولادت    وفات\n",
       "0  1959  864846  176288\n",
       "1  1960  876206  171040\n",
       "2  1961  902260  159371"
      ]
     },
     "execution_count": 2,
     "metadata": {},
     "output_type": "execute_result"
    }
   ],
   "source": [
    "conv = {\"سال\": datef ,\"ولادت\": digitf, \"وفات\": digitf}\n",
    "df = pd.read_table(\"../data/csv/fa_stats.tsv\", converters=conv, parse_dates=['سال'])\n",
    "df[\"سال\"] = df[\"سال\"].dt.year\n",
    "df.head(3)"
   ]
  }
 ],
 "metadata": {
  "interpreter": {
   "hash": "bb12d0de9674b66c629d2bafada2ec4f6e6dba6d129e54dea4badc21502d54d3"
  },
  "kernelspec": {
   "display_name": "Python 3",
   "language": "python",
   "name": "python3"
  },
  "language_info": {
   "codemirror_mode": {
    "name": "ipython",
    "version": 3
   },
   "file_extension": ".py",
   "mimetype": "text/x-python",
   "name": "python",
   "nbconvert_exporter": "python",
   "pygments_lexer": "ipython3",
   "version": "3.8.1"
  }
 },
 "nbformat": 4,
 "nbformat_minor": 2
}
