{
 "cells": [
  {
   "cell_type": "markdown",
   "metadata": {},
   "source": [
    "# Sorani Kurdish data using Seaborn\n",
    "\n",
    "Enabling `mplcairo`, with `raqm`, as the backend for `matplotlib` will allow us to reuse the [Kurdish matplotlib example](https://github.com/enabling-languages/python-i18n/blob/main/notebooks/matplotlib_mplcairo.ipynb) with Pandas `plot`."
   ]
  },
  {
   "cell_type": "markdown",
   "metadata": {},
   "source": [
    "## Setup"
   ]
  },
  {
   "cell_type": "code",
   "execution_count": 10,
   "metadata": {},
   "outputs": [],
   "source": [
    "import pandas as pd\n",
    "import locale, platform\n",
    "import mplcairo\n",
    "import matplotlib as mpl\n",
    "if platform.system() == \"Darwin\":\n",
    "    mpl.use(\"module://mplcairo.macosx\")\n",
    "else:\n",
    "   mpl.use(\"module://mplcairo.qt\")\n",
    "import matplotlib.pyplot as plt\n",
    "import seaborn as sns\n",
    "import unicodedata as ud, regex as re"
   ]
  },
  {
   "cell_type": "markdown",
   "metadata": {},
   "source": [
    "## Helper functions"
   ]
  },
  {
   "cell_type": "code",
   "execution_count": 11,
   "metadata": {},
   "outputs": [],
   "source": [
    "def convert_digits(s, sep = (\",\", \".\")):\n",
    "    nd = re.compile(r'^-?\\p{Nd}[,.\\u066B\\u066C\\u0020\\u2009\\p{Nd}]*$')\n",
    "    tsep, dsep = sep\n",
    "    if nd.match(s):\n",
    "        s = s.replace(tsep, \"\")\n",
    "        s = ''.join([str(ud.decimal(c, c)) for c in s])\n",
    "        if dsep in s:\n",
    "            return float(s.replace(dsep, \".\")) if dsep != \".\" else float(s)\n",
    "        return int(s)\n",
    "    return s\n",
    "\n",
    "seps = (\"\\u066C\", \"\\u066B\")\n",
    "digitsconv = lambda x: convert_digits(x.replace(\"-\", \"٠\"), sep = seps)"
   ]
  },
  {
   "cell_type": "markdown",
   "metadata": {},
   "source": [
    "## Process data and plot data"
   ]
  },
  {
   "cell_type": "code",
   "execution_count": 12,
   "metadata": {},
   "outputs": [
    {
     "data": {
      "text/html": [
       "<div>\n",
       "<style scoped>\n",
       "    .dataframe tbody tr th:only-of-type {\n",
       "        vertical-align: middle;\n",
       "    }\n",
       "\n",
       "    .dataframe tbody tr th {\n",
       "        vertical-align: top;\n",
       "    }\n",
       "\n",
       "    .dataframe thead th {\n",
       "        text-align: right;\n",
       "    }\n",
       "</style>\n",
       "<table border=\"1\" class=\"dataframe\">\n",
       "  <thead>\n",
       "    <tr style=\"text-align: right;\">\n",
       "      <th></th>\n",
       "      <th>---</th>\n",
       "      <th>جیھانی</th>\n",
       "      <th>تورکیا</th>\n",
       "      <th>ئێران</th>\n",
       "      <th>عێراق</th>\n",
       "      <th>سووریا</th>\n",
       "    </tr>\n",
       "  </thead>\n",
       "  <tbody>\n",
       "    <tr>\n",
       "      <th>0</th>\n",
       "      <td>کرمانجی</td>\n",
       "      <td>14419000</td>\n",
       "      <td>7919000</td>\n",
       "      <td>443000</td>\n",
       "      <td>3185000</td>\n",
       "      <td>1661000</td>\n",
       "    </tr>\n",
       "    <tr>\n",
       "      <th>1</th>\n",
       "      <td>ئەوانەی بە تورکی دەدوێن</td>\n",
       "      <td>5732000</td>\n",
       "      <td>5732000</td>\n",
       "      <td>0</td>\n",
       "      <td>0</td>\n",
       "      <td>0</td>\n",
       "    </tr>\n",
       "    <tr>\n",
       "      <th>2</th>\n",
       "      <td>باشوور</td>\n",
       "      <td>3381000</td>\n",
       "      <td>0</td>\n",
       "      <td>3381000</td>\n",
       "      <td>0</td>\n",
       "      <td>0</td>\n",
       "    </tr>\n",
       "    <tr>\n",
       "      <th>3</th>\n",
       "      <td>سۆرانی</td>\n",
       "      <td>1576000</td>\n",
       "      <td>0</td>\n",
       "      <td>502000</td>\n",
       "      <td>567000</td>\n",
       "      <td>0</td>\n",
       "    </tr>\n",
       "    <tr>\n",
       "      <th>4</th>\n",
       "      <td>زازایی - دەملی</td>\n",
       "      <td>1125000</td>\n",
       "      <td>1125000</td>\n",
       "      <td>0</td>\n",
       "      <td>0</td>\n",
       "      <td>0</td>\n",
       "    </tr>\n",
       "    <tr>\n",
       "      <th>5</th>\n",
       "      <td>زازایی - ئەلڤێکا</td>\n",
       "      <td>184000</td>\n",
       "      <td>179000</td>\n",
       "      <td>0</td>\n",
       "      <td>0</td>\n",
       "      <td>0</td>\n",
       "    </tr>\n",
       "    <tr>\n",
       "      <th>6</th>\n",
       "      <td>ڕەوەند</td>\n",
       "      <td>90000</td>\n",
       "      <td>38000</td>\n",
       "      <td>20000</td>\n",
       "      <td>33000</td>\n",
       "      <td>0</td>\n",
       "    </tr>\n",
       "    <tr>\n",
       "      <th>7</th>\n",
       "      <td>ھەورامی</td>\n",
       "      <td>54000</td>\n",
       "      <td>0</td>\n",
       "      <td>26000</td>\n",
       "      <td>28000</td>\n",
       "      <td>0</td>\n",
       "    </tr>\n",
       "    <tr>\n",
       "      <th>8</th>\n",
       "      <td>شکاکی</td>\n",
       "      <td>49000</td>\n",
       "      <td>23000</td>\n",
       "      <td>26000</td>\n",
       "      <td>0</td>\n",
       "      <td>0</td>\n",
       "    </tr>\n",
       "    <tr>\n",
       "      <th>9</th>\n",
       "      <td>کۆی گشتی</td>\n",
       "      <td>26712000</td>\n",
       "      <td>15016000</td>\n",
       "      <td>4398000</td>\n",
       "      <td>3916000</td>\n",
       "      <td>1661000</td>\n",
       "    </tr>\n",
       "  </tbody>\n",
       "</table>\n",
       "</div>"
      ],
      "text/plain": [
       "                       ---    جیھانی    تورکیا    ئێران    عێراق   سووریا\n",
       "0                  کرمانجی  14419000   7919000   443000  3185000  1661000\n",
       "1  ئەوانەی بە تورکی دەدوێن   5732000   5732000        0        0        0\n",
       "2                   باشوور   3381000         0  3381000        0        0\n",
       "3                   سۆرانی   1576000         0   502000   567000        0\n",
       "4           زازایی - دەملی   1125000   1125000        0        0        0\n",
       "5         زازایی - ئەلڤێکا    184000    179000        0        0        0\n",
       "6                   ڕەوەند     90000     38000    20000    33000        0\n",
       "7                  ھەورامی     54000         0    26000    28000        0\n",
       "8                    شکاکی     49000     23000    26000        0        0\n",
       "9                 کۆی گشتی  26712000  15016000  4398000  3916000  1661000"
      ]
     },
     "execution_count": 12,
     "metadata": {},
     "output_type": "execute_result"
    }
   ],
   "source": [
    "import pandas as pd\n",
    "conv = {\n",
    "    'سووریا': digitsconv,\n",
    "    'عێراق': digitsconv,\n",
    "    'ئێران': digitsconv,\n",
    "    'تورکیا': digitsconv,\n",
    "    'جیھانی': digitsconv\n",
    "}\n",
    "df = pd.read_table(\"../data/demographics.tsv\", converters=conv)\n",
    "df"
   ]
  },
  {
   "cell_type": "code",
   "execution_count": 13,
   "metadata": {},
   "outputs": [
    {
     "name": "stdout",
     "output_type": "stream",
     "text": [
      "تورکیا    30032000\n",
      "ئێران      8796000\n",
      "عێراق      7729000\n",
      "سووریا     3322000\n",
      "dtype: int64\n"
     ]
    }
   ],
   "source": [
    "col_list=[\"تورکیا\" ,\"ئێران\" ,\"عێراق\" ,\"سووریا\"]\n",
    "\n",
    "total_df = df[col_list].sum(axis=0)\n",
    "print(total_df)"
   ]
  },
  {
   "cell_type": "markdown",
   "metadata": {},
   "source": [
    "Using indicies and values of the `total_df` series:"
   ]
  },
  {
   "cell_type": "code",
   "execution_count": 27,
   "metadata": {},
   "outputs": [],
   "source": [
    "sns.set_style('darkgrid')\n",
    "sns.set_context({\"font.family\": \"Vazirmatn\"})\n",
    "\n",
    "bp = sns.barplot(x=total_df.index, y=total_df.values)\n",
    "bp.set_title('ڕێژەی دانیشتووانی کورد')\n",
    "bp.set_xlabel(\"ناوچە\")\n",
    "bp.set_ylabel(\" ڕێژەی دانیشتووان\")\n",
    "\n",
    "plt.show()"
   ]
  }
 ],
 "metadata": {
  "interpreter": {
   "hash": "05c935ee2b4ff45f26d355be2499c84aedc5a4939bfa2f7a9b7f00dda4a86ade"
  },
  "kernelspec": {
   "display_name": "Python 3.10.1 ('el-test')",
   "language": "python",
   "name": "python3"
  },
  "language_info": {
   "codemirror_mode": {
    "name": "ipython",
    "version": 3
   },
   "file_extension": ".py",
   "mimetype": "text/x-python",
   "name": "python",
   "nbconvert_exporter": "python",
   "pygments_lexer": "ipython3",
   "version": "3.10.1"
  },
  "orig_nbformat": 4
 },
 "nbformat": 4,
 "nbformat_minor": 2
}
