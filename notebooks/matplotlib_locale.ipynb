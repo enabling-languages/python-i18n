{
 "cells": [
  {
   "cell_type": "markdown",
   "metadata": {},
   "source": [
    "# Locale sensitive tick labels with Matplotlib"
   ]
  },
  {
   "cell_type": "markdown",
   "metadata": {},
   "source": [
    "## Background"
   ]
  },
  {
   "cell_type": "code",
   "execution_count": 1,
   "metadata": {},
   "outputs": [
    {
     "name": "stdout",
     "output_type": "stream",
     "text": [
      "fr_FR.UTF-8\n",
      "int_curr_symbol: EUR \n",
      "currency_symbol: €\n",
      "mon_decimal_point: ,\n",
      "mon_thousands_sep:  \n",
      "mon_grouping: [3, 0]\n",
      "positive_sign: \n",
      "negative_sign: -\n",
      "int_frac_digits: 2\n",
      "frac_digits: 2\n",
      "p_cs_precedes: 0\n",
      "p_sep_by_space: 1\n",
      "n_cs_precedes: 0\n",
      "n_sep_by_space: 1\n",
      "p_sign_posn: 1\n",
      "n_sign_posn: 1\n",
      "decimal_point: ,\n",
      "thousands_sep:  \n",
      "grouping: [3, 0]\n"
     ]
    }
   ],
   "source": [
    "import locale\n",
    "# loc = input(\"Locale: \")\n",
    "loc = \"fr_FR.UTF-8\"\n",
    "locale.setlocale(locale.LC_ALL, loc)\n",
    "print(loc)\n",
    "for key, value in locale.localeconv().items():\n",
    "    print(\"%s: %s\" % (key, value))"
   ]
  },
  {
   "cell_type": "markdown",
   "metadata": {},
   "source": [
    "The following table identifies `fr_FR.UTF-8` locale properties on Ubunto 22.04 and macOS 12.3.1.\n",
    "\n",
    "|Property  |Ubuntu 22.04 LTS  |macOS  |\n",
    "|--------- |----------------- |------ |\n",
    "|int_curr_symbol  |EUR   |EUR  |\n",
    "|currency_symbol  |€  |Eu  |\n",
    "|mon_decimal_point  |,  |,  |\n",
    "|mon_thousands_sep  |U+202F  |U+0020  |\n",
    "|mon_grouping  |[3, 0]  |[3, 3, 0]  |\n",
    "|positive_sign  |  |  |\n",
    "|negative_sign  |-  |-  |\n",
    "|int_frac_digits  |2  |2  |\n",
    "|frac_digits  |2  |2  |\n",
    "|p_cs_precedes  |0  |0  |\n",
    "|p_sep_by_space  |1  |1  |\n",
    "|n_cs_precedes  |0  |0  |\n",
    "|n_sep_by_space  |1  |1  |\n",
    "|p_sign_posn  |1  |1  |\n",
    "|n_sign_posn  |1  | 2  |\n",
    "|decimal_point  |,  |,  |\n",
    "|thousands_sep  |U+202F  |  |\n",
    "|grouping  |[3, 0]  |[127]  |\n",
    "\n",
    "As can be seen, each OS has a different grouping (thousands) seperator. This means that locale formatted numbers, and consequently locale formatted numeric tick labels in Matplotlib, will differ between the two operating systems.\n",
    "\n",
    "Ubuntu will use U+202F (NARROW NON-BREAKING SPACE) as the grouping (thousands) seperator while macOS will not use a groupng seperator. Both platforms use a comma for the decimal seperator."
   ]
  },
  {
   "cell_type": "markdown",
   "metadata": {},
   "source": [
    "## Using locale formated tick labels\n",
    "\n",
    "The function [matplotlib.axes.Axes.ticklabel_format(useLocale=True)](https://matplotlib.org/stable/api/_as_gen/matplotlib.axes.Axes.ticklabel_format.html) can be used to enable locale formatted numbers for all the axes of a plot.\n",
    "\n",
    "Alternatively, [matplotlib.pyplot.ticklabel_format](https://matplotlib.org/stable/api/_as_gen/matplotlib.pyplot.ticklabel_format.html) could be used.\n",
    "\n",
    "It can also be set globally via `rcParams`, i.e. \n",
    "\n",
    "```py\n",
    "import matplotlib as mpl\n",
    "mpl.rcParams[\"axes.formatter.use_locale\"] = True\n",
    "```"
   ]
  },
  {
   "cell_type": "code",
   "execution_count": 2,
   "metadata": {},
   "outputs": [
    {
     "data": {
      "image/png": "[encoded data removed]",
      "text/plain": [
       "<Figure size 864x648 with 1 Axes>"
      ]
     },
     "metadata": {
      "needs_background": "light"
     },
     "output_type": "display_data"
    }
   ],
   "source": [
    "import numpy as np\n",
    "import matplotlib.pyplot as plt\n",
    "import matplotlib.ticker as ticker\n",
    "locale.setlocale(locale.LC_NUMERIC, \"de_DE.UTF-8\")\n",
    "\n",
    "# Fixing random state for reproducibility\n",
    "np.random.seed(19680801)\n",
    "\n",
    "x = [0.02, 0.13, 0.18, 0.34, 0.56, 0.66, 0.71, 0.89, 0.91, 0.97]\n",
    "y = [49540, 43298, 47098, 34020, 31900, 27890, 24674, 21000, 14000, 5320]\n",
    "\n",
    "\n",
    "fig, ax = plt.subplots(figsize=(12,9))\n",
    "ax.ticklabel_format(useLocale=True)\n",
    "ax = plt.scatter(x, y)\n",
    "plt.show()"
   ]
  },
  {
   "cell_type": "markdown",
   "metadata": {},
   "source": [
    "|Ubuntu  |macOS  |\n",
    "|------  |------ |\n",
    "|<img style=\"background-color:white;\" alt=\"Ubuntu plot\" src=\"img/linux1.png\" />  |<img style=\"background-color:white;\" alt=\"macOS plot\" src=\"img/macos1.png\" />  |\n"
   ]
  },
  {
   "cell_type": "markdown",
   "metadata": {},
   "source": [
    "As can be seen above the plot generated on Ubuntu uses a goruping (thousands) seperator on the Y-axis, and a comma as a decimal seperator on the X-Axis. The macOS plot generated by the same code has no grouping seperator on Y-axis, and uses a comma as the decimal seperator on the X-axis.\n",
    "\n",
    "## Per-axis formating of tick labels\n",
    "\n",
    "Alternatively, the use of locale formatting can be set per axis in a plot utilising [matplotlib.ticker.ScalarFormatter](https://matplotlib.org/stable/api/ticker_api.html#matplotlib.ticker.ScalarFormatter) or [matplotlib.pyplot.ticklabel_format](https://matplotlib.org/stable/api/_as_gen/matplotlib.pyplot.ticklabel_format.html).\n",
    "\n",
    "In the example below we disable both offset notation and scientific notation, to allow us to more clearly demonstrate locale numeric formatting in a plot, and retain consistency with the previous plot"
   ]
  },
  {
   "cell_type": "code",
   "execution_count": 3,
   "metadata": {},
   "outputs": [
    {
     "data": {
      "image/png": "[encoded data removed]",
      "text/plain": [
       "<Figure size 864x648 with 1 Axes>"
      ]
     },
     "metadata": {
      "needs_background": "light"
     },
     "output_type": "display_data"
    }
   ],
   "source": [
    "locale._override_localeconv = {'thousands_sep': \"\\u202F\"}\n",
    "fig2, ax2 = plt.subplots(figsize=(12,9))\n",
    "formatter = ticker.ScalarFormatter(useOffset=False, useLocale=True)\n",
    "formatter.set_scientific(False)\n",
    "ax2.xaxis.set_major_formatter(formatter)\n",
    "ax2.yaxis.set_major_formatter(formatter)\n",
    "ax2 = plt.scatter(x, y)\n",
    "plt.show()"
   ]
  }
 ],
 "metadata": {
  "interpreter": {
   "hash": "bb12d0de9674b66c629d2bafada2ec4f6e6dba6d129e54dea4badc21502d54d3"
  },
  "kernelspec": {
   "display_name": "Python 3.8.1 ('el')",
   "language": "python",
   "name": "python3"
  },
  "language_info": {
   "codemirror_mode": {
    "name": "ipython",
    "version": 3
   },
   "file_extension": ".py",
   "mimetype": "text/x-python",
   "name": "python",
   "nbconvert_exporter": "python",
   "pygments_lexer": "ipython3",
   "version": "3.8.1"
  },
  "orig_nbformat": 4
 },
 "nbformat": 4,
 "nbformat_minor": 2
}
