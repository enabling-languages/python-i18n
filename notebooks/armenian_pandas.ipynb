{
 "cells": [
  {
   "cell_type": "markdown",
   "metadata": {},
   "source": [
    "# Scraping Armenian data using `pd.read_html()`\n",
    "\n",
    "[pd.read_html()](https://pandas.pydata.org/docs/reference/api/pandas.read_html.html#pandas.read_html) reads html tables in specified web page into a list.\n",
    "\n",
    "Useful parameters for `pd.read_html()` include: `attrs`, `parse_dates`, `thousands`, `encoding`, `decimal`, `match` and `converters`."
   ]
  },
  {
   "cell_type": "code",
   "execution_count": 1,
   "metadata": {},
   "outputs": [],
   "source": [
    "import os, sys\n",
    "import pandas as pd\n",
    "import numpy as np\n",
    "import numpy as np\n",
    "import matplotlib.pyplot as plt\n",
    "from unicodedata import normalize\n",
    "import regex as re\n",
    "\n",
    "PAGE = \"https://hyw.wikipedia.org/wiki/%D5%80%D5%A1%D5%B5%D5%A1%D5%BD%D5%BF%D5%A1%D5%B6%D5%AB_%D5%80%D5%A1%D5%B6%D6%80%D5%A1%D5%BA%D5%A5%D5%BF%D5%B8%D6%82%D5%A9%D5%A5%D5%A1%D5%B6_%D4%B2%D5%B6%D5%A1%D5%AF%D5%B9%D5%B8%D6%82%D5%A9%D5%AB%D6%82%D5%B6\""
   ]
  },
  {
   "cell_type": "code",
   "execution_count": 2,
   "metadata": {},
   "outputs": [],
   "source": [
    "# Since the table has no id attribute, use table caption to target specific table in webpage\n",
    "caption = 'Հայաստանի բնակչութեան բնական շարժը 1915-2011 թուականներուն'\n",
    "table = pd.read_html(PAGE, match=caption, encoding=\"utf-8\", thousands=\"\", decimal=\",\", header=2, parse_dates=['Տարիները'])\n",
    "\n"
   ]
  },
  {
   "cell_type": "code",
   "execution_count": 3,
   "metadata": {},
   "outputs": [
    {
     "data": {
      "text/html": [
       "<div>\n",
       "<style scoped>\n",
       "    .dataframe tbody tr th:only-of-type {\n",
       "        vertical-align: middle;\n",
       "    }\n",
       "\n",
       "    .dataframe tbody tr th {\n",
       "        vertical-align: top;\n",
       "    }\n",
       "\n",
       "    .dataframe thead th {\n",
       "        text-align: right;\n",
       "    }\n",
       "</style>\n",
       "<table border=\"1\" class=\"dataframe\">\n",
       "  <thead>\n",
       "    <tr style=\"text-align: right;\">\n",
       "      <th></th>\n",
       "      <th>Տարիները</th>\n",
       "      <th>Ծնունթներու թիւը</th>\n",
       "      <th>Մահացածներու թիւը</th>\n",
       "      <th>Բնական աճը, %</th>\n",
       "    </tr>\n",
       "  </thead>\n",
       "  <tbody>\n",
       "    <tr>\n",
       "      <th>0</th>\n",
       "      <td>1915</td>\n",
       "      <td>46.3</td>\n",
       "      <td>23.9</td>\n",
       "      <td>22.4</td>\n",
       "    </tr>\n",
       "    <tr>\n",
       "      <th>1</th>\n",
       "      <td>1925</td>\n",
       "      <td>51.5</td>\n",
       "      <td>16.2</td>\n",
       "      <td>35.3</td>\n",
       "    </tr>\n",
       "    <tr>\n",
       "      <th>2</th>\n",
       "      <td>1926</td>\n",
       "      <td>56.0</td>\n",
       "      <td>17.0</td>\n",
       "      <td>39.0</td>\n",
       "    </tr>\n",
       "    <tr>\n",
       "      <th>3</th>\n",
       "      <td>1940</td>\n",
       "      <td>41.2</td>\n",
       "      <td>13.8</td>\n",
       "      <td>27.4</td>\n",
       "    </tr>\n",
       "    <tr>\n",
       "      <th>4</th>\n",
       "      <td>1950</td>\n",
       "      <td>32.1</td>\n",
       "      <td>8.5</td>\n",
       "      <td>23.6</td>\n",
       "    </tr>\n",
       "  </tbody>\n",
       "</table>\n",
       "</div>"
      ],
      "text/plain": [
       "   Տարիները  Ծնունթներու թիւը  Մահացածներու թիւը  Բնական աճը, %\n",
       "0      1915              46.3               23.9           22.4\n",
       "1      1925              51.5               16.2           35.3\n",
       "2      1926              56.0               17.0           39.0\n",
       "3      1940              41.2               13.8           27.4\n",
       "4      1950              32.1                8.5           23.6"
      ]
     },
     "execution_count": 3,
     "metadata": {},
     "output_type": "execute_result"
    }
   ],
   "source": [
    "# if only one table in result set, define df, otherwise exit\n",
    "df = None\n",
    "if len(table) == 1:\n",
    "    df = table[0]\n",
    "if df is None:\n",
    "    exit(1)\n",
    "\n",
    "df['Տարիները'] = pd.to_datetime(df['Տարիները']).dt.year\n",
    "# last row is garbage data, remove last row\n",
    "# df = df[:-1]\n",
    "# Copy dataframe\n",
    "df_new = df.copy()\n",
    "df_new.head(5)"
   ]
  },
  {
   "cell_type": "code",
   "execution_count": 4,
   "metadata": {},
   "outputs": [
    {
     "name": "stdout",
     "output_type": "stream",
     "text": [
      "<class 'pandas.core.frame.DataFrame'>\n",
      "RangeIndex: 19 entries, 0 to 18\n",
      "Data columns (total 4 columns):\n",
      " #   Column             Non-Null Count  Dtype  \n",
      "---  ------             --------------  -----  \n",
      " 0   Տարիները           19 non-null     int64  \n",
      " 1   Ծնունթներու թիւը   19 non-null     float64\n",
      " 2   Մահացածներու թիւը  19 non-null     float64\n",
      " 3   Բնական աճը, %      19 non-null     float64\n",
      "dtypes: float64(3), int64(1)\n",
      "memory usage: 736.0 bytes\n"
     ]
    }
   ],
   "source": [
    "df_new.info()"
   ]
  },
  {
   "cell_type": "code",
   "execution_count": 5,
   "metadata": {},
   "outputs": [
    {
     "name": "stdout",
     "output_type": "stream",
     "text": [
      "<class 'pandas.core.frame.DataFrame'>\n",
      "RangeIndex: 19 entries, 0 to 18\n",
      "Data columns (total 4 columns):\n",
      " #   Column             Non-Null Count  Dtype  \n",
      "---  ------             --------------  -----  \n",
      " 0   Տարիները           19 non-null     int64  \n",
      " 1   Ծնունթներու_թիւը   19 non-null     float64\n",
      " 2   Մահացածներու_թիւը  19 non-null     float64\n",
      " 3   Բնական_աճը         19 non-null     float64\n",
      "dtypes: float64(3), int64(1)\n",
      "memory usage: 736.0 bytes\n"
     ]
    }
   ],
   "source": [
    "# https://towardsdatascience.com/all-pandas-read-html-you-should-know-for-scraping-data-from-html-tables-a3cbb5ce8274\n",
    "# https://www.regular-expressions.info/unicode.html\n",
    "# https://towardsdatascience.com/simplify-your-dataset-cleaning-with-pandas-75951b23568e\n",
    "# https://dataindependent.com/pandas/pandas-change-column-names-3-methods/\n",
    "# https://stackoverflow.com/questions/11346283/renaming-column-names-in-pandas\n",
    "# https://towardsdatascience.com/how-to-clean-messy-pandas-column-names-20dc7400cea7\n",
    "# https://www.dataquest.io/blog/regular-expressions-data-scientists/\n",
    "# https://towardsdatascience.com/simplify-your-dataset-cleaning-with-pandas-75951b23568e\n",
    "# https://stackoverflow.com/questions/11346283/renaming-column-names-in-pandas\n",
    "\n",
    "# \n",
    "# clean_labels(string)\n",
    "#    Regular expression patterns to clean up dataframe column labels\n",
    "#    Usage: df.rename(columns=clean_labels, inplace=True)\n",
    "#           df_new.rename(clean_labels, axis=1, inplace=True)\n",
    "#\n",
    "#   Required packages: regex\n",
    "#\n",
    "def clean_labels(s):\n",
    "    #s = re.sub(r'[\\p{Pd}\\p{Ps}\\p{Pe}\\p{Pi}\\p{Pf}\\p{Po}]+','',s) # Remove punction, except \\p{Pc}\n",
    "    s = re.sub(r'[\\p{P}±]+', '', s) # Strip punctuation\n",
    "    s = re.sub(r'\\p{Z}+', '_', s) # Replacea sequence of whitespace characters with a single underscore..\n",
    "    s = re.sub(r'^_|_$', '', s) # remove string initial or final underscores\n",
    "    return s\n",
    "\n",
    "#df_new.rename(columns=clean_labels, inplace=True)\n",
    "df_new.rename(clean_labels, axis=1, inplace=True)\n",
    "df_new.info()\n"
   ]
  },
  {
   "cell_type": "code",
   "execution_count": 6,
   "metadata": {},
   "outputs": [
    {
     "data": {
      "text/plain": [
       "'năm'"
      ]
     },
     "execution_count": 6,
     "metadata": {},
     "output_type": "execute_result"
    }
   ],
   "source": [
    "clean_labels(\"±% năm\")"
   ]
  },
  {
   "cell_type": "code",
   "execution_count": 7,
   "metadata": {},
   "outputs": [
    {
     "data": {
      "text/plain": [
       "<AxesSubplot:xlabel='Տարիները'>"
      ]
     },
     "execution_count": 7,
     "metadata": {},
     "output_type": "execute_result"
    },
    {
     "data": {
      "image/png": "[encoded data removed]",
      "text/plain": [
       "<Figure size 432x288 with 1 Axes>"
      ]
     },
     "metadata": {
      "needs_background": "light"
     },
     "output_type": "display_data"
    }
   ],
   "source": [
    "import matplotlib.pyplot as plt\n",
    "df_new.plot(x='Տարիները', y=\"Բնական_աճը\")\n"
   ]
  }
 ],
 "metadata": {
  "interpreter": {
   "hash": "05c935ee2b4ff45f26d355be2499c84aedc5a4939bfa2f7a9b7f00dda4a86ade"
  },
  "kernelspec": {
   "display_name": "Python 3.10.1 ('el-test')",
   "language": "python",
   "name": "python3"
  },
  "language_info": {
   "codemirror_mode": {
    "name": "ipython",
    "version": 3
   },
   "file_extension": ".py",
   "mimetype": "text/x-python",
   "name": "python",
   "nbconvert_exporter": "python",
   "pygments_lexer": "ipython3",
   "version": "3.10.1"
  },
  "orig_nbformat": 4
 },
 "nbformat": 4,
 "nbformat_minor": 2
}
