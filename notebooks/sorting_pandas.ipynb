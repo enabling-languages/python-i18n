{
  "cells": [
    {
      "cell_type": "markdown",
      "metadata": {
        "id": "8lWBb0wHihUO"
      },
      "source": [
        "# Sorting Pandas dataframes\n",
        "\n",
        "This notebook looks at a number of alternatives for sorting natural language ocntent in a Pandas dataframe.\n",
        "\n",
        "For further information on sorting, please read Enabling Languages's [introduction to collation](https://github.com/enabling-languages/python-i18n/blob/main/notebooks/Collation.ipynb)\n",
        "\n",
        "__TODO__: add support for language specific casing to normalisation functions in language tailored sorts."
      ]
    },
    {
      "cell_type": "markdown",
      "metadata": {
        "id": "t2Qmo9fpihUQ"
      },
      "source": [
        "## Colab setup\n",
        "\n",
        "__The setup code will need to install the required locales. Once the locales are installed, it is necessary to restart the runtime environment and run all code blocks.__\n"
      ]
    },
    {
      "cell_type": "code",
      "execution_count": 37,
      "metadata": {
        "colab": {
          "base_uri": "https://localhost:8080/"
        },
        "id": "u-fdbNjYihUQ",
        "outputId": "fbbd78b4-c5e6-42bf-a4d4-21b50cafba0b"
      },
      "outputs": [
        {
          "output_type": "stream",
          "name": "stdout",
          "text": [
            "Requirement already satisfied: PyICU in /usr/local/lib/python3.7/dist-packages (2.8.1)\n"
          ]
        }
      ],
      "source": [
        "import locale\n",
        "try:\n",
        "  import google.colab\n",
        "  IN_COLAB = True\n",
        "except ImportError:\n",
        "  IN_COLAB = False\n",
        "if IN_COLAB:\n",
        "  !pip install PyICU\n",
        "  try:\n",
        "    locale.setlocale(locale.LC_ALL, \"fr_FR.UTF-8\")\n",
        "  except locale.Error:\n",
        "    print(\"Currently installing required locale. After the install the runtime environment will restart, please rerun all code.\")\n",
        "    !sudo apt-get install language-pack-fr\n",
        "    import os\n",
        "    os.kill(os.getpid(), 9)\n",
        "else:\n",
        "  locale.setlocale(locale.LC_ALL, \"\")"
      ]
    },
    {
      "cell_type": "markdown",
      "metadata": {
        "id": "P5gd0rmHihUR"
      },
      "source": [
        "## Load data"
      ]
    },
    {
      "cell_type": "code",
      "execution_count": 38,
      "metadata": {
        "id": "GHNCw0CeihUS"
      },
      "outputs": [],
      "source": [
        "import pandas as pd\n",
        "import unicodedata as ud\n",
        "\n",
        "data = {\n",
        "    'lexème': [\"zèbre\", \"Être\", \"Zéro\", \"Déblayer\", \"éveillé\", \"dessaisir\", \"déranger\", \"écouler\", \"effacer\", \"à gauche\", \"Asiatique\", \"exact\"],\n",
        "    'nombre': [11, 23, 16, 30, 14, 35, 13, 22, 26, 9, 31, 27]\n",
        "}\n",
        "\n",
        "df = pd.DataFrame(data)\n",
        "\n",
        "# are_equivalent(list1, list2) or are_equivalent(string1, string2)\n",
        "#    compares two lists or two strings for cannonical equivalence.\n",
        "#\n",
        "def are_equivalent(i1, i2):\n",
        "    if isinstance(i1, list) and isinstance(i2, list):\n",
        "      return [ud.normalize(\"NFD\", e) for e in i1] == [ud.normalize(\"NFD\", e) for e in i2]\n",
        "    elif isinstance(i1, str) and isinstance(i2, str):\n",
        "      return ud.normalize(\"NFD\", i1) == ud.normalize(\"NFD\", i2)\n",
        "    return"
      ]
    },
    {
      "cell_type": "markdown",
      "metadata": {
        "id": "Dh0eoGEhihUT"
      },
      "source": [
        "Sorting Options:\n",
        "\n",
        "* ISO/IEC 14651 (default) python sort: `df.sort_values(column)`\n",
        "* Normalised ISO/IEC 14651 sort: `df.sort_values(column, key=normalised_sort)` or `df.sort_values(column, key=lambda x: normalised_sort(x, nf=\"NFKC\"))`\n",
        "  Can specify normalisation form: NFC, FKC, NFD, NFKD.\n",
        "* POSIX based locale sort: `df_sort(df, series, locale.strxfrm)`\n",
        "* Normalised POSIX based locale sort:  `df_sort(df, series, lambda x: locale.strxfrm(normalised_string(x)))` or `df_sort(df, series, lambda x: locale.strxfrm(normalised_string(x, nf=\"NFKC\")))`\n",
        "  Can specify normalisation form: NFC, FKC, NFD, NFKD.\n",
        "* PyICU: "
      ]
    },
    {
      "cell_type": "markdown",
      "metadata": {
        "id": "nyy0UNHeihUU"
      },
      "source": [
        "Ensure that there are two dataframes one using Unicode Normalisation Form C (NFC), and the other using Unicode Normalisation Form D (NFD)."
      ]
    },
    {
      "cell_type": "code",
      "execution_count": 39,
      "metadata": {
        "id": "xvuUX7qhihUU"
      },
      "outputs": [],
      "source": [
        "df_nfc = df.copy()\n",
        "df_nfc[\"lexème\"] = df_nfc[\"lexème\"].str.normalize('NFC')\n",
        "df_nfd = df.copy()\n",
        "df_nfd[\"lexème\"] = df_nfd[\"lexème\"].str.normalize('NFD')"
      ]
    },
    {
      "cell_type": "markdown",
      "metadata": {
        "id": "MykFbI-rihUV"
      },
      "source": [
        "## ISO/IEC 14651 - default python sort\n",
        "\n",
        "This is the standard `df.sort_values()` operation, without any modifications, an untailored ISO/IEC 14651 sort."
      ]
    },
    {
      "cell_type": "code",
      "execution_count": 40,
      "metadata": {
        "colab": {
          "base_uri": "https://localhost:8080/"
        },
        "id": "tBCFjPSQihUX",
        "outputId": "787def39-a58d-44d2-9914-819c62e64e0a"
      },
      "outputs": [
        {
          "output_type": "stream",
          "name": "stdout",
          "text": [
            "['Asiatique', 'Déblayer', 'Zéro', 'dessaisir', 'déranger', 'effacer', 'exact', 'zèbre', 'Être', 'à gauche', 'écouler', 'éveillé']\n",
            "['Asiatique', 'Déblayer', 'Être', 'Zéro', 'à gauche', 'dessaisir', 'déranger', 'effacer', 'exact', 'écouler', 'éveillé', 'zèbre']\n",
            "False\n"
          ]
        }
      ],
      "source": [
        "df_nfc_default_sort = df_nfc.sort_values(\"lexème\")\n",
        "nfc_default = list(df_nfc_default_sort[\"lexème\"])\n",
        "\n",
        "df_nfd_default_sort = df_nfd.sort_values(\"lexème\")\n",
        "nfd_default = list(df_nfd_default_sort[\"lexème\"])\n",
        "\n",
        "print(nfc_default)\n",
        "print(nfd_default)\n",
        "\n",
        "print(are_equivalent(nfc_default, nfd_default))"
      ]
    },
    {
      "cell_type": "markdown",
      "metadata": {
        "id": "Gh3Rgd0kihUX"
      },
      "source": [
        "`df.sort_values` performs a codepoint ordering based on ISO/IEC 14651. Pandas sorting alignes with the underlying Python sorting algorithms. A number of features can be observed:\n",
        "\n",
        "1. All basic Latin uppercase characters are sorted before their lowercase equivalents.\n",
        "2. Characters are approximately ordered according to their codepoint order\n",
        "3. Unicode normalisation will directly affect the order of letters with diacritics, i.e. __á__ would sort after __z__ when it is a precomposed sequence, but would sort after __az__ when it is a decomposed sequence.\n",
        "4. the sort algorithms do not support langaueg tailoring directly.\n",
        "\n",
        "We can adjust the sort behaviour through the `key` parameter.\n",
        "\n",
        "First we will define helper functions:"
      ]
    },
    {
      "cell_type": "code",
      "execution_count": 41,
      "metadata": {
        "id": "ITTrTQvJihUY"
      },
      "outputs": [],
      "source": [
        "import unicodedata as ud\n",
        "# import unicodedataplus as ud\n",
        "import locale\n",
        "\n",
        "# df_sort()\n",
        "#\n",
        "#     Sort a dataframe by single column, this function is for instances where\n",
        "#     the collation key required will not work with df.sort_value().\n",
        "#     \n",
        "def df_sort(dataframe, series, key):\n",
        "    def sort_series(key=None,reverse=False):\n",
        "        def sorter(series):\n",
        "            series_list = list(series)\n",
        "            return [series_list.index(i) for i in sorted(series_list,key=key,reverse=reverse)]\n",
        "        return sorter\n",
        "    if (isinstance(series, pd.Series)):\n",
        "        sort_by_custom_dict = sort_series(key=key)\n",
        "        return dataframe.iloc[sort_by_custom_dict(series)]\n",
        "\n",
        "# normalised_sort()\n",
        "#    Performs unicode normalisation and lowercasing prior to sorting.\n",
        "def normalised_sort(s, nf=\"NFKD\", loc=False):\n",
        "    nf = nf.upper()\n",
        "    if nf in [\"NFC\", \"NFKC\", \"NFD\", \"NFKD\"]:\n",
        "        if isinstance(s, pd.core.series.Series):\n",
        "            s = s.str.normalize(nf).str.lower()\n",
        "        else:\n",
        "            s = locale.strxfrm(ud.normalize(nf, s).lower()) if loc else ud.normalize(nf, s).lower()\n",
        "    return s\n",
        "\n",
        "# normalised_string()\n",
        "#    Performs unicode normalisation and lowercasing of string\n",
        "#    prior to sorting.\n",
        "def normalised_string(s, nf=\"NFKD\"):\n",
        "    nf = nf.upper()\n",
        "    if nf in [\"NFC\", \"NFKC\", \"NFD\", \"NFKD\"]:\n",
        "        s = ud.normalize(nf, s).lower()\n",
        "    return s"
      ]
    },
    {
      "cell_type": "markdown",
      "metadata": {
        "id": "dcM579AiihUZ"
      },
      "source": [
        "## Normalised ISO/IEC 14651 sort\n",
        "\n",
        "Applies a key function to normalise text to `df.sort_values()`, before sorting."
      ]
    },
    {
      "cell_type": "code",
      "execution_count": 42,
      "metadata": {
        "colab": {
          "base_uri": "https://localhost:8080/"
        },
        "id": "Hn_erWebihUZ",
        "outputId": "e02e0a60-6c4a-4e65-8270-6cb3fa35d6e6"
      },
      "outputs": [
        {
          "output_type": "stream",
          "name": "stdout",
          "text": [
            "['Asiatique', 'à gauche', 'dessaisir', 'Déblayer', 'déranger', 'effacer', 'exact', 'écouler', 'éveillé', 'Être', 'zèbre', 'Zéro']\n",
            "['Asiatique', 'à gauche', 'dessaisir', 'Déblayer', 'déranger', 'effacer', 'exact', 'écouler', 'éveillé', 'Être', 'zèbre', 'Zéro']\n",
            "True\n"
          ]
        }
      ],
      "source": [
        "df_nfc_custom_sort = df_nfc.sort_values(\"lexème\", key=normalised_sort)\n",
        "nfc_custom = list(df_nfc_custom_sort[\"lexème\"])\n",
        "\n",
        "df_nfd_custom_sort = df_nfd.sort_values(\"lexème\", key=normalised_sort)\n",
        "nfd_custom = list(df_nfd_custom_sort[\"lexème\"])\n",
        "\n",
        "print(nfc_custom)\n",
        "print(nfd_custom)\n",
        "\n",
        "print(are_equivalent(nfc_custom, nfd_custom))"
      ]
    },
    {
      "cell_type": "markdown",
      "metadata": {
        "id": "ExsK5tjNihUa"
      },
      "source": [
        "The `key` function `normalised_sort_series()` provides more consistent results, and closer to user expectations."
      ]
    },
    {
      "cell_type": "markdown",
      "metadata": {
        "id": "3tc-1HWCihUb"
      },
      "source": [
        "## POSIX based locale sort\n",
        "\n",
        "Use the `df_sort()` function to apply language tailored sorting, using the locale mocule."
      ]
    },
    {
      "cell_type": "code",
      "execution_count": 43,
      "metadata": {
        "colab": {
          "base_uri": "https://localhost:8080/"
        },
        "id": "uwqCsNVFihUc",
        "outputId": "c15f090c-ab5c-47b4-a706-28f77f150472"
      },
      "outputs": [
        {
          "output_type": "stream",
          "name": "stdout",
          "text": [
            "['à gauche', 'Asiatique', 'Déblayer', 'déranger', 'dessaisir', 'écouler', 'effacer', 'Être', 'éveillé', 'exact', 'zèbre', 'Zéro']\n",
            "['à gauche', 'Asiatique', 'Déblayer', 'déranger', 'dessaisir', 'écouler', 'effacer', 'Être', 'éveillé', 'exact', 'zèbre', 'Zéro']\n",
            "True\n"
          ]
        }
      ],
      "source": [
        "locale.setlocale(locale.LC_COLLATE, \"fr_FR.UTF-8\")\n",
        "\n",
        "df_nfc_locale_sort = df_sort(df_nfc, df_nfc[\"lexème\"], locale.strxfrm)\n",
        "nfc_locale = list(df_nfc_locale_sort[\"lexème\"])\n",
        "\n",
        "df_nfd_locale_sort = df_sort(df_nfd, df_nfd[\"lexème\"], locale.strxfrm)\n",
        "nfd_locale = list(df_nfd_locale_sort[\"lexème\"])\n",
        "\n",
        "print(nfc_locale)\n",
        "print(nfd_locale)\n",
        "\n",
        "print(are_equivalent(nfc_locale, nfd_locale))"
      ]
    },
    {
      "cell_type": "markdown",
      "source": [
        "A POSIX based locale sort will vary depending on the operating system being used. \n",
        "\n",
        "Different workstations and servers will have access to different sets of locales, depening on operating system, the OS version and in soem cases what the sys admins or devops have made available.\n",
        "\n",
        "Additionally, for many loacles on macOS, the LC_COLLATE table for many locales is symlinked to a single collation table. This will mean that locale based sorts on macOS will differ from the smae locale based sort on other platforms.\n",
        "\n",
        "For instance on macOS the above code yields:\n",
        "\n",
        "```py\n",
        "['Asiatique', 'Déblayer', 'Être', 'Zéro', 'à gauche', 'déranger', 'dessaisir', 'écouler', 'effacer', 'éveillé', 'exact', 'zèbre']\n",
        "['Asiatique', 'Déblayer', 'Être', 'Zéro', 'à gauche', 'dessaisir', 'déranger', 'effacer', 'exact', 'écouler', 'éveillé', 'zèbre']\n",
        "False\n",
        "```\n",
        "\n",
        "while on Google Colab (Ubuntu 18.04):\n",
        "\n",
        "```py\n",
        "['à gauche', 'Asiatique', 'Déblayer', 'déranger', 'dessaisir', 'écouler', 'effacer', 'Être', 'éveillé', 'exact', 'zèbre', 'Zéro']\n",
        "['à gauche', 'Asiatique', 'Déblayer', 'déranger', 'dessaisir', 'écouler', 'effacer', 'Être', 'éveillé', 'exact', 'zèbre', 'Zéro']\n",
        "True\n",
        "```\n",
        "\n"
      ],
      "metadata": {
        "id": "AwTtQRrW1XDF"
      }
    },
    {
      "cell_type": "markdown",
      "metadata": {
        "id": "abXcUfzeihUc"
      },
      "source": [
        "## Normalised POSIX based locale sort\n",
        "\n",
        "Uses the `df_sort()` function to apply normalised language tailored sorting, using the locale module."
      ]
    },
    {
      "cell_type": "code",
      "execution_count": 44,
      "metadata": {
        "colab": {
          "base_uri": "https://localhost:8080/"
        },
        "id": "qoKt0tiEihUd",
        "outputId": "f43463d4-f597-484a-b4bf-4b814b6cc546"
      },
      "outputs": [
        {
          "output_type": "stream",
          "name": "stdout",
          "text": [
            "['à gauche', 'Asiatique', 'Déblayer', 'déranger', 'dessaisir', 'écouler', 'effacer', 'Être', 'éveillé', 'exact', 'zèbre', 'Zéro']\n",
            "['à gauche', 'Asiatique', 'Déblayer', 'déranger', 'dessaisir', 'écouler', 'effacer', 'Être', 'éveillé', 'exact', 'zèbre', 'Zéro']\n",
            "True\n"
          ]
        }
      ],
      "source": [
        "df_nfc_locale_custom_sort = df_sort(df_nfc, df_nfc[\"lexème\"], lambda x: locale.strxfrm(ud.normalize(\"NFKC\", x).lower()))\n",
        "nfc_locale_custom = list(df_nfc_locale_custom_sort[\"lexème\"])\n",
        "df_nfd_locale_custom_sort = df_sort(df_nfd, df_nfd[\"lexème\"], lambda x: locale.strxfrm(ud.normalize(\"NFKC\", x).lower()))\n",
        "nfd_locale_custom = list(df_nfd_locale_custom_sort[\"lexème\"])\n",
        "\n",
        "print(nfc_locale_custom)\n",
        "print(nfd_locale_custom)\n",
        "print(are_equivalent(nfc_locale_custom, nfd_locale_custom))"
      ]
    },
    {
      "cell_type": "markdown",
      "metadata": {
        "id": "1TrXj9bvihUe"
      },
      "source": [
        "Alternative:"
      ]
    },
    {
      "cell_type": "code",
      "execution_count": 45,
      "metadata": {
        "colab": {
          "base_uri": "https://localhost:8080/"
        },
        "id": "G64aHrHSihUe",
        "outputId": "f4616158-aefa-4f49-d1f5-307339525e98"
      },
      "outputs": [
        {
          "output_type": "stream",
          "name": "stdout",
          "text": [
            "['à gauche', 'Asiatique', 'Déblayer', 'déranger', 'dessaisir', 'écouler', 'effacer', 'Être', 'éveillé', 'exact', 'zèbre', 'Zéro']\n",
            "['à gauche', 'Asiatique', 'Déblayer', 'déranger', 'dessaisir', 'écouler', 'effacer', 'Être', 'éveillé', 'exact', 'zèbre', 'Zéro']\n",
            "True\n"
          ]
        }
      ],
      "source": [
        "df_nfc_locale_custom_sort2 = df_sort(df_nfc, df_nfc[\"lexème\"], lambda x: locale.strxfrm(normalised_string(x, nf=\"NFKC\")))\n",
        "nfc_locale_custom2 = list(df_nfc_locale_custom_sort2[\"lexème\"])\n",
        "\n",
        "df_nfd_locale_custom_sort2 = df_sort(df_nfd, df_nfd[\"lexème\"], lambda x: locale.strxfrm(normalised_string(x, nf=\"NFKC\")))\n",
        "nfd_locale_custom2 = list(df_nfd_locale_custom_sort2[\"lexème\"])\n",
        "\n",
        "print(nfc_locale_custom2)\n",
        "print(nfd_locale_custom2)\n",
        "print(are_equivalent(nfc_locale_custom2, nfd_locale_custom2))"
      ]
    },
    {
      "cell_type": "markdown",
      "metadata": {
        "id": "QhFRObJTihUf"
      },
      "source": [
        "## PyICU based sorting\n",
        "\n",
        "Provides language tailored sorting using PyICU's wrappers around `icu4c`."
      ]
    },
    {
      "cell_type": "code",
      "execution_count": 46,
      "metadata": {
        "colab": {
          "base_uri": "https://localhost:8080/"
        },
        "id": "rSwi9MOhihUf",
        "outputId": "e9d9f690-c6b4-4d41-e2fc-7283057a0686"
      },
      "outputs": [
        {
          "output_type": "stream",
          "name": "stdout",
          "text": [
            "['à gauche', 'Asiatique', 'Déblayer', 'déranger', 'dessaisir', 'écouler', 'effacer', 'Être', 'éveillé', 'exact', 'zèbre', 'Zéro']\n",
            "['à gauche', 'Asiatique', 'Déblayer', 'déranger', 'dessaisir', 'écouler', 'effacer', 'Être', 'éveillé', 'exact', 'zèbre', 'Zéro']\n",
            "True\n"
          ]
        }
      ],
      "source": [
        "from icu import Locale, Collator\n",
        "loc = Locale(\"fr_FR\")\n",
        "collator = Collator.createInstance(loc)\n",
        "\n",
        "df_nfc_icu_sort = df_sort(df_nfc, df_nfc[\"lexème\"], collator.getSortKey)\n",
        "nfc_icu = list(df_nfc_icu_sort[\"lexème\"])\n",
        "\n",
        "df_nfd_icu_sort = df_sort(df_nfd, df_nfd[\"lexème\"], collator.getSortKey)\n",
        "nfd_icu = list(df_nfd_icu_sort[\"lexème\"])\n",
        "\n",
        "print(nfc_icu)\n",
        "print(nfd_icu)\n",
        "print(are_equivalent(nfc_icu, nfd_icu))\n"
      ]
    },
    {
      "cell_type": "markdown",
      "metadata": {
        "id": "7RWErmxHihUg"
      },
      "source": [
        "__ICU__ normalises internally as part of sorting process, so there is no need to normalise for ICU."
      ]
    },
    {
      "cell_type": "markdown",
      "metadata": {
        "id": "liEzZEoYihUg"
      },
      "source": [
        "## Reflections\n",
        "\n",
        "__ICU__ and the normalised sorting techniques provide the same collation order for the NFC and NFD versions of the dataframes, across platforms.\n",
        "\n",
        "|Technique  |Result |\n",
        "|---------- |------ |\n",
        "|Normalised default |'Asiatique', 'à gauche', 'dessaisir', 'Déblayer', 'déranger', 'effacer', 'exact', 'écouler', 'éveillé', 'Être', 'zèbre', 'Zéro' |\n",
        "|Normalised POSIX locale |'à gauche', 'Asiatique', 'Déblayer', 'déranger', 'dessaisir', 'écouler', 'effacer', 'Être', 'éveillé', 'exact', 'zèbre', 'Zéro' |\n",
        "|ICU |'à gauche', 'Asiatique', 'Déblayer', 'déranger', 'dessaisir', 'écouler', 'effacer', 'Être', 'éveillé', 'exact', 'zèbre', 'Zéro' |"
      ]
    }
  ],
  "metadata": {
    "interpreter": {
      "hash": "05c935ee2b4ff45f26d355be2499c84aedc5a4939bfa2f7a9b7f00dda4a86ade"
    },
    "kernelspec": {
      "display_name": "Python 3.10.1 ('el-test')",
      "language": "python",
      "name": "python3"
    },
    "language_info": {
      "codemirror_mode": {
        "name": "ipython",
        "version": 3
      },
      "file_extension": ".py",
      "mimetype": "text/x-python",
      "name": "python",
      "nbconvert_exporter": "python",
      "pygments_lexer": "ipython3",
      "version": "3.10.1"
    },
    "orig_nbformat": 4,
    "colab": {
      "name": "sorting_pandas.ipynb",
      "provenance": [],
      "collapsed_sections": [
        "t2Qmo9fpihUQ"
      ]
    }
  },
  "nbformat": 4,
  "nbformat_minor": 0
}