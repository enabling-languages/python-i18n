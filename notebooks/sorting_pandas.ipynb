{
  "cells": [
    {
      "cell_type": "markdown",
      "metadata": {
        "id": "8lWBb0wHihUO"
      },
      "source": [
        "# Sorting Pandas dataframes\n",
        "\n",
        "[![Open In Colab](https://colab.research.google.com/assets/colab-badge.svg)](https://colab.research.google.com/github/enabling-languages/python-i18n/blob/main/notebooks/sorting_pandas2.ipynb)\n",
        "\n",
        "This notebook looks at a number of alternatives for sorting natural language content in a Pandas dataframe.\n",
        "\n",
        "For further information on sorting, please read Enabling Languages's [introduction to collation](https://github.com/enabling-languages/python-i18n/blob/main/notebooks/Collation.ipynb)\n",
        "\n",
        "__TODO__: add support for language specific casing to normalisation functions in language tailored sorts."
      ]
    },
    {
      "cell_type": "markdown",
      "metadata": {
        "id": "t2Qmo9fpihUQ"
      },
      "source": [
        "## Setup\n",
        "\n",
        "__For Colab__: the setup code will need to install the required locales. Once the locales are installed, it is necessary to restart the runtime environment and run all code blocks.\n"
      ]
    },
    {
      "cell_type": "code",
      "execution_count": 28,
      "metadata": {
        "colab": {
          "base_uri": "https://localhost:8080/"
        },
        "id": "u-fdbNjYihUQ",
        "outputId": "9755e72d-6f78-4ed3-ce24-22c33b95e0a4"
      },
      "outputs": [],
      "source": [
        "import locale\n",
        "import pandas as pd, unicodedata as ud\n",
        "# import unicodedataplus as ud\n",
        "\n",
        "try:\n",
        "  import google.colab\n",
        "  IN_COLAB = True\n",
        "except ImportError:\n",
        "  IN_COLAB = False\n",
        "if IN_COLAB:\n",
        "  !pip install PyICU\n",
        "  try:\n",
        "    locale.setlocale(locale.LC_ALL, \"fr_FR.UTF-8\")\n",
        "  except locale.Error:\n",
        "    print(\"Currently installing required locale. After the install the runtime environment will restart, please rerun all code.\")\n",
        "    !sudo apt-get install language-pack-fr\n",
        "    import os\n",
        "    os.kill(os.getpid(), 9)\n",
        "else:\n",
        "  locale.setlocale(locale.LC_ALL, \"\")"
      ]
    },
    {
      "cell_type": "markdown",
      "metadata": {
        "id": "P5gd0rmHihUR"
      },
      "source": [
        "## Load data"
      ]
    },
    {
      "cell_type": "code",
      "execution_count": 29,
      "metadata": {
        "id": "GHNCw0CeihUS"
      },
      "outputs": [],
      "source": [
        "data = {\n",
        "    'lexème': [\"zèbre\", \"Être\", \"Zéro\", \"Déblayer\", \"éveillé\", \"dessaisir\", \"déranger\", \"écouler\", \"effacer\", \"à gauche\", \"Asiatique\", \"exact\"],\n",
        "    'nombre': [11, 23, 16, 30, 14, 35, 13, 22, 26, 9, 31, 27]\n",
        "}\n",
        "\n",
        "df = pd.DataFrame(data)\n",
        "\n",
        "# are_equivalent(list1, list2) or are_equivalent(string1, string2)\n",
        "#    compares two lists or two strings for cannonical equivalence.\n",
        "#\n",
        "def are_equivalent(i1, i2):\n",
        "    if isinstance(i1, list) and isinstance(i2, list):\n",
        "      return [ud.normalize(\"NFD\", e) for e in i1] == [ud.normalize(\"NFD\", e) for e in i2]\n",
        "    elif isinstance(i1, str) and isinstance(i2, str):\n",
        "      return ud.normalize(\"NFD\", i1) == ud.normalize(\"NFD\", i2)\n",
        "    return"
      ]
    },
    {
      "cell_type": "markdown",
      "metadata": {
        "id": "Dh0eoGEhihUT"
      },
      "source": [
        "Sorting Options:\n",
        "\n",
        "1. ISO/IEC 14651 (default) python sort: `df.sort_values(column)`\n",
        "2. Normalised ISO/IEC 14651 sort: `df.sort_values(column, key = lambda x: x.str.normalize(\"NFKC\").str.lower())` or `df.sort_values(column, key=lambda x: normalised_sort(x, nf=\"NFKC\"))` \\\n",
        "  Can specify normalisation form: NFC, FKC, NFD, NFKD.\n",
        "3. POSIX based locale sort: `df.sort_values(column, key=lambda x: x.map(locale.strxfrm))`\n",
        "4. Normalised POSIX based locale sort:  `df.sort_values(column, key=lambda x: x.str.normalize(\"NFKC\").str.lower().map(locale.strxfrm))` or `df.sort_values(column, key=lambda x: normalised_sort(x, nf=\"NFKC\", loc=True))` \\\n",
        "  Can specify normalisation form: NFC, FKC, NFD, NFKD.\n",
        "5. PyICU"
      ]
    },
    {
      "cell_type": "markdown",
      "metadata": {
        "id": "nyy0UNHeihUU"
      },
      "source": [
        "Ensure that there are two dataframes one using Unicode Normalisation Form C (NFC), and the other using Unicode Normalisation Form D (NFD)."
      ]
    },
    {
      "cell_type": "code",
      "execution_count": 30,
      "metadata": {
        "id": "xvuUX7qhihUU"
      },
      "outputs": [],
      "source": [
        "df_nfc = df.copy()\n",
        "df_nfc[\"lexème\"] = df_nfc[\"lexème\"].str.normalize('NFC')\n",
        "df_nfd = df.copy()\n",
        "df_nfd[\"lexème\"] = df_nfd[\"lexème\"].str.normalize('NFD')"
      ]
    },
    {
      "cell_type": "markdown",
      "metadata": {
        "id": "MykFbI-rihUV"
      },
      "source": [
        "## 1) ISO/IEC 14651 - default python sort\n",
        "\n",
        "This is the standard `df.sort_values()` operation, without any modifications, an untailored ISO/IEC 14651 sort."
      ]
    },
    {
      "cell_type": "code",
      "execution_count": 31,
      "metadata": {
        "colab": {
          "base_uri": "https://localhost:8080/"
        },
        "id": "tBCFjPSQihUX",
        "outputId": "2c8b2ab3-8113-4d9a-ed98-29276b2df396"
      },
      "outputs": [
        {
          "name": "stdout",
          "output_type": "stream",
          "text": [
            "['Asiatique', 'Déblayer', 'Zéro', 'dessaisir', 'déranger', 'effacer', 'exact', 'zèbre', 'Être', 'à gauche', 'écouler', 'éveillé']\n",
            "['Asiatique', 'Déblayer', 'Être', 'Zéro', 'à gauche', 'dessaisir', 'déranger', 'effacer', 'exact', 'écouler', 'éveillé', 'zèbre']\n",
            "False\n"
          ]
        }
      ],
      "source": [
        "df_nfc_default_sort = df_nfc.sort_values(\"lexème\")\n",
        "nfc_default = list(df_nfc_default_sort[\"lexème\"])\n",
        "\n",
        "df_nfd_default_sort = df_nfd.sort_values(\"lexème\")\n",
        "nfd_default = list(df_nfd_default_sort[\"lexème\"])\n",
        "\n",
        "print(nfc_default)\n",
        "print(nfd_default)\n",
        "\n",
        "print(are_equivalent(nfc_default, nfd_default))"
      ]
    },
    {
      "cell_type": "markdown",
      "metadata": {
        "id": "Gh3Rgd0kihUX"
      },
      "source": [
        "`df.sort_values` performs a codepoint ordering based on ISO/IEC 14651. Pandas sorting aligns with the underlying Python sorting algorithms. A number of features can be observed:\n",
        "\n",
        "1. All basic Latin uppercase characters are sorted before their lowercase equivalents.\n",
        "2. Characters are approximately ordered according to their codepoint order\n",
        "3. Unicode normalisation will directly affect the order of letters with diacritics, i.e. __á__ would sort after __z__ when it is a precomposed sequence, but would sort after __az__ when it is a decomposed sequence.\n",
        "4. the sort algorithms do not support language tailoring directly.\n",
        "\n",
        "We can adjust the sort behaviour through the `key` parameter.\n",
        "\n",
        "First we will define helper functions:"
      ]
    },
    {
      "cell_type": "code",
      "execution_count": 32,
      "metadata": {
        "id": "ITTrTQvJihUY"
      },
      "outputs": [],
      "source": [
        "# normalised_sort()\n",
        "#    Performs unicode normalisation and lowercasing prior to sorting.\n",
        "def normalised_sort(s, nf=\"NFKD\", loc=False):\n",
        "    nf = nf.upper()\n",
        "    if nf in [\"NFC\", \"NFKC\", \"NFD\", \"NFKD\"]:\n",
        "        if isinstance(s, pd.core.series.Series):\n",
        "            s = s.str.normalize(nf).str.lower().map(locale.strxfrm) if loc else s.str.normalize(nf).str.lower()\n",
        "        else:\n",
        "            s = locale.strxfrm(ud.normalize(nf, s).lower()) if loc else ud.normalize(nf, s).lower()\n",
        "    return s\n"
      ]
    },
    {
      "cell_type": "markdown",
      "metadata": {
        "id": "dcM579AiihUZ"
      },
      "source": [
        "## 2) Normalised ISO/IEC 14651 sort"
      ]
    },
    {
      "cell_type": "code",
      "execution_count": 33,
      "metadata": {},
      "outputs": [
        {
          "name": "stdout",
          "output_type": "stream",
          "text": [
            "['Asiatique', 'dessaisir', 'Déblayer', 'déranger', 'effacer', 'exact', 'zèbre', 'Zéro', 'à gauche', 'écouler', 'éveillé', 'Être']\n",
            "['Asiatique', 'dessaisir', 'Déblayer', 'déranger', 'effacer', 'exact', 'zèbre', 'Zéro', 'à gauche', 'écouler', 'éveillé', 'Être']\n",
            "True\n"
          ]
        }
      ],
      "source": [
        "df_nfc_custom_sort = df_nfc.sort_values(\"lexème\", key = lambda x: x.str.normalize(\"NFKC\").str.lower())\n",
        "nfc_custom = list(df_nfc_custom_sort[\"lexème\"])\n",
        "\n",
        "df_nfd_custom_sort = df_nfd.sort_values(\"lexème\", key = lambda x: x.str.normalize(\"NFKC\").str.lower())\n",
        "nfd_custom = list(df_nfd_custom_sort[\"lexème\"])\n",
        "\n",
        "print(nfc_custom)\n",
        "print(nfd_custom)\n",
        "\n",
        "print(are_equivalent(nfc_custom, nfd_custom))"
      ]
    },
    {
      "cell_type": "code",
      "execution_count": 34,
      "metadata": {
        "colab": {
          "base_uri": "https://localhost:8080/"
        },
        "id": "Hn_erWebihUZ",
        "outputId": "c3204df7-a3fc-48f5-bc01-d2516c7bcf23"
      },
      "outputs": [
        {
          "name": "stdout",
          "output_type": "stream",
          "text": [
            "['Asiatique', 'dessaisir', 'Déblayer', 'déranger', 'effacer', 'exact', 'zèbre', 'Zéro', 'à gauche', 'écouler', 'éveillé', 'Être']\n",
            "['Asiatique', 'dessaisir', 'Déblayer', 'déranger', 'effacer', 'exact', 'zèbre', 'Zéro', 'à gauche', 'écouler', 'éveillé', 'Être']\n",
            "True\n"
          ]
        }
      ],
      "source": [
        "df_nfc_custom_sort2 = df_nfc.sort_values(\"lexème\", key = lambda x: normalised_sort(x, nf=\"NFKC\"))\n",
        "nfc_custom2 = list(df_nfc_custom_sort2[\"lexème\"])\n",
        "\n",
        "df_nfd_custom_sort2 = df_nfd.sort_values(\"lexème\", key = lambda x: normalised_sort(x, nf=\"NFKC\"))\n",
        "nfd_custom2 = list(df_nfd_custom_sort2[\"lexème\"])\n",
        "\n",
        "print(nfc_custom2)\n",
        "print(nfd_custom2)\n",
        "\n",
        "print(are_equivalent(nfc_custom2, nfd_custom2))"
      ]
    },
    {
      "cell_type": "markdown",
      "metadata": {
        "id": "ExsK5tjNihUa"
      },
      "source": [
        "The `key` function `normalised_sort()` provides more consistent results, and closer to user expectations.:"
      ]
    },
    {
      "cell_type": "markdown",
      "metadata": {
        "id": "3tc-1HWCihUb"
      },
      "source": [
        "## 3) POSIX based locale sort\n"
      ]
    },
    {
      "cell_type": "code",
      "execution_count": 35,
      "metadata": {
        "colab": {
          "base_uri": "https://localhost:8080/"
        },
        "id": "lfMMGHlxlv9x",
        "outputId": "55c68473-02cf-46cb-c3e9-00db30b1ed13"
      },
      "outputs": [
        {
          "name": "stdout",
          "output_type": "stream",
          "text": [
            "['Asiatique', 'Déblayer', 'Être', 'Zéro', 'à gauche', 'déranger', 'dessaisir', 'écouler', 'effacer', 'éveillé', 'exact', 'zèbre']\n",
            "['Asiatique', 'Déblayer', 'Être', 'Zéro', 'à gauche', 'dessaisir', 'déranger', 'effacer', 'exact', 'écouler', 'éveillé', 'zèbre']\n",
            "False\n"
          ]
        }
      ],
      "source": [
        "df_nfc_locale_sort = df_nfc.sort_values(\"lexème\", key=lambda x: x.map(locale.strxfrm))\n",
        "nfc_locale = list(df_nfc_locale_sort[\"lexème\"])\n",
        "\n",
        "df_nfd_locale_sort = df_nfd.sort_values(\"lexème\", key=lambda x: x.map(locale.strxfrm))\n",
        "nfd_locale = list(df_nfd_locale_sort[\"lexème\"])\n",
        "\n",
        "print(nfc_locale)\n",
        "print(nfd_locale)\n",
        "\n",
        "print(are_equivalent(nfc_locale, nfd_locale))"
      ]
    },
    {
      "cell_type": "markdown",
      "metadata": {
        "id": "AwTtQRrW1XDF"
      },
      "source": [
        "A POSIX based locale sort will vary depending on the operating system being used. \n",
        "\n",
        "Different workstations and servers will have access to different sets of locales, depending on operating system, the OS version and in some cases what the sys admins or devops have made available.\n",
        "\n",
        "Additionally, for many locales on macOS, the LC_COLLATE table, for many locales, is symlinked to a [single collation table](https://gist.github.com/andjc/50db7bd920ad1953e14944046e0f681a). This will mean that locale based sorts on macOS will differ from the same locale based sort on other platforms.\n",
        "\n",
        "For instance on macOS the above code yields:\n",
        "\n",
        "```py\n",
        "['Asiatique', 'Déblayer', 'Être', 'Zéro', 'à gauche', 'déranger', 'dessaisir', 'écouler', 'effacer', 'éveillé', 'exact', 'zèbre']\n",
        "['Asiatique', 'Déblayer', 'Être', 'Zéro', 'à gauche', 'dessaisir', 'déranger', 'effacer', 'exact', 'écouler', 'éveillé', 'zèbre']\n",
        "False\n",
        "```\n",
        "\n",
        "While on Google Colab (Ubuntu 18.04):\n",
        "\n",
        "```py\n",
        "['à gauche', 'Asiatique', 'Déblayer', 'déranger', 'dessaisir', 'écouler', 'effacer', 'Être', 'éveillé', 'exact', 'zèbre', 'Zéro']\n",
        "['à gauche', 'Asiatique', 'Déblayer', 'déranger', 'dessaisir', 'écouler', 'effacer', 'Être', 'éveillé', 'exact', 'zèbre', 'Zéro']\n",
        "True\n",
        "```"
      ]
    },
    {
      "cell_type": "markdown",
      "metadata": {
        "id": "abXcUfzeihUc"
      },
      "source": [
        "## 4) Normalised POSIX based locale sort\n",
        "\n",
        "Uses the `df_sort()` function to apply normalised language tailored sorting, using the locale module."
      ]
    },
    {
      "cell_type": "code",
      "execution_count": 36,
      "metadata": {
        "colab": {
          "base_uri": "https://localhost:8080/"
        },
        "id": "qoKt0tiEihUd",
        "outputId": "1fe12c2a-f98f-43d9-ef3f-69096c9601cf"
      },
      "outputs": [
        {
          "name": "stdout",
          "output_type": "stream",
          "text": [
            "['à gauche', 'Asiatique', 'Déblayer', 'déranger', 'dessaisir', 'écouler', 'effacer', 'Être', 'éveillé', 'exact', 'zèbre', 'Zéro']\n",
            "['à gauche', 'Asiatique', 'Déblayer', 'déranger', 'dessaisir', 'écouler', 'effacer', 'Être', 'éveillé', 'exact', 'zèbre', 'Zéro']\n",
            "True\n"
          ]
        }
      ],
      "source": [
        "df_nfc_locale_custom_sort = df_nfc.sort_values(\"lexème\", key=lambda x: x.str.normalize(\"NFKC\").str.lower().map(locale.strxfrm))\n",
        "nfc_locale_custom = list(df_nfc_locale_custom_sort[\"lexème\"])\n",
        "\n",
        "df_nfd_locale_custom_sort = df_nfd.sort_values(\"lexème\", key=lambda x: x.str.normalize(\"NFKC\").str.lower().map(locale.strxfrm))\n",
        "nfd_locale_custom = list(df_nfd_locale_custom_sort[\"lexème\"])\n",
        "\n",
        "print(nfc_locale_custom)\n",
        "print(nfd_locale_custom)\n",
        "print(are_equivalent(nfc_locale_custom, nfd_locale_custom))"
      ]
    },
    {
      "cell_type": "markdown",
      "metadata": {
        "id": "1TrXj9bvihUe"
      },
      "source": [
        "Alternatively:"
      ]
    },
    {
      "cell_type": "code",
      "execution_count": 37,
      "metadata": {
        "colab": {
          "base_uri": "https://localhost:8080/"
        },
        "id": "G64aHrHSihUe",
        "outputId": "96e65606-1bee-427a-c1e0-96aebae3aa57"
      },
      "outputs": [
        {
          "name": "stdout",
          "output_type": "stream",
          "text": [
            "['à gauche', 'Asiatique', 'Déblayer', 'déranger', 'dessaisir', 'écouler', 'effacer', 'Être', 'éveillé', 'exact', 'zèbre', 'Zéro']\n",
            "['à gauche', 'Asiatique', 'Déblayer', 'déranger', 'dessaisir', 'écouler', 'effacer', 'Être', 'éveillé', 'exact', 'zèbre', 'Zéro']\n",
            "True\n"
          ]
        }
      ],
      "source": [
        "df_nfc_locale_custom_sort2 = df_nfc.sort_values(\"lexème\", key=lambda x: normalised_sort(x, nf=\"NFKC\", loc=True))\n",
        "nfc_locale_custom2 = list(df_nfc_locale_custom_sort2[\"lexème\"])\n",
        "\n",
        "df_nfd_locale_custom_sort2 = df_nfd.sort_values(\"lexème\", key=lambda x: normalised_sort(x, nf=\"NFKC\", loc=True))\n",
        "nfd_locale_custom2 = list(df_nfd_locale_custom_sort2[\"lexème\"])\n",
        "\n",
        "print(nfc_locale_custom2)\n",
        "print(nfd_locale_custom2)\n",
        "print(are_equivalent(nfc_locale_custom2, nfd_locale_custom2))"
      ]
    },
    {
      "cell_type": "markdown",
      "metadata": {
        "id": "QhFRObJTihUf"
      },
      "source": [
        "## 5) PyICU based sorting\n",
        "\n",
        "Provides language tailored sorting using PyICU's wrappers around `icu4c`."
      ]
    },
    {
      "cell_type": "code",
      "execution_count": 38,
      "metadata": {
        "colab": {
          "base_uri": "https://localhost:8080/"
        },
        "id": "rSwi9MOhihUf",
        "outputId": "7e19a9cc-4e21-48b6-a6de-e94d38dab728"
      },
      "outputs": [
        {
          "name": "stdout",
          "output_type": "stream",
          "text": [
            "['à gauche', 'Asiatique', 'Déblayer', 'déranger', 'dessaisir', 'écouler', 'effacer', 'Être', 'éveillé', 'exact', 'zèbre', 'Zéro']\n",
            "['à gauche', 'Asiatique', 'Déblayer', 'déranger', 'dessaisir', 'écouler', 'effacer', 'Être', 'éveillé', 'exact', 'zèbre', 'Zéro']\n",
            "True\n"
          ]
        }
      ],
      "source": [
        "from icu import Locale, Collator\n",
        "loc = Locale(\"fr_FR\")\n",
        "collator = Collator.createInstance(loc)\n",
        "\n",
        "df_nfc_icu_sort = df_nfc.sort_values(\"lexème\", key=lambda x: x.map(collator.getSortKey))\n",
        "nfc_icu = list(df_nfc_icu_sort[\"lexème\"])\n",
        "\n",
        "df_nfd_icu_sort = df_nfd.sort_values(\"lexème\", key=lambda x: x.map(collator.getSortKey))\n",
        "nfd_icu = list(df_nfd_icu_sort[\"lexème\"])\n",
        "\n",
        "print(nfc_icu)\n",
        "print(nfd_icu)\n",
        "print(are_equivalent(nfc_icu, nfd_icu))"
      ]
    },
    {
      "cell_type": "markdown",
      "metadata": {
        "id": "7RWErmxHihUg"
      },
      "source": [
        "__ICU__ normalises internally as part of sorting process, so there is no need to normalise for ICU sorting."
      ]
    },
    {
      "cell_type": "markdown",
      "metadata": {
        "id": "liEzZEoYihUg"
      },
      "source": [
        "## Reflections\n",
        "\n",
        "__ICU__ and the normalised sorting techniques provide consistent results for canonically equivalent text.\n",
        "\n",
        "|Technique  |Result |\n",
        "|---------- |------ |\n",
        "|Normalised default |'Asiatique', 'à gauche', 'dessaisir', 'Déblayer', 'déranger', 'effacer', 'exact', 'écouler', 'éveillé', 'Être', 'zèbre', 'Zéro' |\n",
        "|Normalised POSIX locale |'à gauche', 'Asiatique', 'Déblayer', 'déranger', 'dessaisir', 'écouler', 'effacer', 'Être', 'éveillé', 'exact', 'zèbre', 'Zéro' |\n",
        "|ICU |'à gauche', 'Asiatique', 'Déblayer', 'déranger', 'dessaisir', 'écouler', 'effacer', 'Être', 'éveillé', 'exact', 'zèbre', 'Zéro' |"
      ]
    }
  ],
  "metadata": {
    "colab": {
      "collapsed_sections": [],
      "name": "sorting_pandas2.ipynb",
      "provenance": []
    },
    "interpreter": {
      "hash": "05c935ee2b4ff45f26d355be2499c84aedc5a4939bfa2f7a9b7f00dda4a86ade"
    },
    "kernelspec": {
      "display_name": "Python 3.10.1 ('el-test')",
      "language": "python",
      "name": "python3"
    },
    "language_info": {
      "codemirror_mode": {
        "name": "ipython",
        "version": 3
      },
      "file_extension": ".py",
      "mimetype": "text/x-python",
      "name": "python",
      "nbconvert_exporter": "python",
      "pygments_lexer": "ipython3",
      "version": "3.10.1"
    },
    "orig_nbformat": 4
  },
  "nbformat": 4,
  "nbformat_minor": 0
}
