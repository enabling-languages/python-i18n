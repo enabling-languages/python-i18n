{
 "cells": [
  {
   "cell_type": "markdown",
   "metadata": {},
   "source": [
    "# Sorani Kurdish data using Matplotlib, take 2\n",
    "\n",
    "Enabling `mplcairo`, with `raqm`, as the backend for `matplotlib` will allow us to reuse the [Kurdish matplotlib example](https://github.com/enabling-languages/python-i18n/blob/main/notebooks/matplotlib_mplcairo.ipynb) and tackle the missing piece. The previous notebook used a simple Sorani Kurdish bar chart to illustrate how to add complex script text and bidirectional text as a plot title or axes labels and textual tick labels.\n",
    "\n",
    "The one missing component was the numeric tick labels. This notebook will look at how you can convert the numeric tick labels from one numeral system to another, applying the converted strings as tick labels.\n",
    "\n",
    "It is important to note that Python can only identify Western Arabic numerals as integers or floating point numbers, and only when there is no grouping seperator involved and a period is used as a decimal seperator. All other instances are treated as strings. A number is only a number under very narrow conditions, in all other cases it is necessary to convert a number into a format Python will recognise as either a floating point number or integer.\n",
    "\n",
    "When plotting data with matplotlib, numeric labels are displayed in a locale invariant form. In order to use locale specific formating of numbers, or to use alternative numeral systmes, it is necessary to write a function that will process the numbers before display, and return a string that can be applied as a specific tick label.\n",
    "\n",
    "__Please note:__ This notebook will run on MacOS, but tends to be buggy on other platforms. The _mplcairo_ package does not currently support Jupyter. It is better to use _mplcairo_ in a script, rather than a notebook. See [matplotlib_kurdish.py](../py/matplotlib_kurdish.py)."
   ]
  },
  {
   "cell_type": "markdown",
   "metadata": {},
   "source": [
    "## Setup\n",
    "\n",
    "First we import the necessary packages.\n",
    "\n",
    "It is important to import _mplcairio_ and set it as a backend for _matplotlib_ before importing _matplotlib.pyplot_. This is a specific macOS concern, but is also useful in developing cross-platform code. We will also need to import _matplotlib.ticker_ in order to manipulate and tailor the tick labels."
   ]
  },
  {
   "cell_type": "code",
   "execution_count": 13,
   "metadata": {},
   "outputs": [],
   "source": [
    "import pandas as pd\n",
    "import locale, platform\n",
    "import mplcairo\n",
    "import matplotlib as mpl\n",
    "if platform.system() == \"Darwin\":\n",
    "    mpl.use(\"module://mplcairo.macosx\")\n",
    "else:\n",
    "   mpl.use(\"module://mplcairo.qt\")\n",
    "import matplotlib.pyplot as plt\n",
    "import matplotlib.ticker as ticker\n",
    "import unicodedata as ud, regex as re\n"
   ]
  },
  {
   "cell_type": "markdown",
   "metadata": {},
   "source": [
    "## Helper functions"
   ]
  },
  {
   "cell_type": "markdown",
   "metadata": {},
   "source": [
    "We will define two helper functions. \n",
    "\n",
    "The first, `comvert_digits()` is used to read in non-Western Arabic digits, converting them to floating point numbers or integers as required. This can be used either as a converter when reading data into a dataframe, or as a data cleaning step after reading the data. If using the function for cleanup after reading, it is also necessary to change the datatype of the column's contents.\n",
    "\n",
    "`comvert_digits()` takes up to two argumnets:\n",
    "\n",
    "__s__: This is the string to be converted to a float or int. <br>\n",
    "__sep__: An optional argument containing a tuple made up of the grouping seperator and the decimal seperator, the default value is (\",\", \".\").\n",
    "\n",
    "A float or int is returned."
   ]
  },
  {
   "cell_type": "code",
   "execution_count": 14,
   "metadata": {},
   "outputs": [],
   "source": [
    "def convert_digits(s, sep = (\",\", \".\")):\n",
    "    nd = re.compile(r'^-?\\p{Nd}[,.\\u066B\\u066C\\u0020\\u2009\\u202F\\p{Nd}]*$')\n",
    "    tsep, dsep = sep\n",
    "    if nd.match(s):\n",
    "        s = s.replace(tsep, \"\")\n",
    "        s = ''.join([str(ud.decimal(c, c)) for c in s])\n",
    "        if dsep in s:\n",
    "            return float(s.replace(dsep, \".\")) if dsep != \".\" else float(s)\n",
    "        return int(s)\n",
    "    return s\n",
    "\n",
    "seps = (\"\\u066C\", \"\\u066B\")\n",
    "digitsconv = lambda x: convert_digits(x.replace(\"-\", \"٠\"), sep = seps)"
   ]
  },
  {
   "cell_type": "markdown",
   "metadata": {},
   "source": [
    "\n",
    "The second function,`convert_numeral_systems()`, is a generic converter between numeral systems. It strength is in converting floats and integers in Python to other numeral systems. Approximately 60 decimal numeral systems are supported. Algorithmic numeral systems have not been implemented at this point.\n",
    "\n",
    "`convert_numeral_systems()` has been developed as part of a Python internationalisation framework. It can have up to eight arguments:\n",
    "\n",
    "__n__: The float, int or string to be converted <br>\n",
    "__p__: An unused argument, that is swallowed. It is only used with _matplotlib_, where the function needs to accept a tupple as input (n, p). But for converting the _matplotlib_ tick label, __p__ is not required. <br>\n",
    "__system_out__: Required function, this is the numeral system we are converting to.<br>\n",
    "__system_in__: The numeral system of __n__. The most common use of the function is to convert a float or in to another numeral system, so default input numeral system is _latn_.<br>\n",
    "__decimal__: The number of decimal places to use when processing a floating point number. This is only needed when __n__ is a float,\n",
    "__sep_in__: List containing grouping and decimal seperators used by __n__. Default is `[\"\", \".\"],`.<br>\n",
    "__sep_out__: List containing grouping and decimal seperators used for output.  Default is `[\"\", \".\"]`. If a seperator is defined for the target numeral system, the seperator in the data will override this argument.<br>\n",
    "__scale__: A scaling factor used for _matplotlib_ to manually scale axes tick values. Each axis legend should be updated to indicate the scaling.\n",
    "\n",
    "A _string_ is returned."
   ]
  },
  {
   "cell_type": "code",
   "execution_count": 15,
   "metadata": {},
   "outputs": [],
   "source": [
    "def convert_numeral_systems(n, p=None, system_out=\"\", system_in=\"latn\", decimal=2, sep_in=[\"\", \".\"], sep_out=[\"\", \".\"], scale=None):\n",
    "    locale.setlocale(locale.LC_ALL, \"en_US.UTF-8\")\n",
    "    decimal_places = decimal\n",
    "    if system_in == \"latn\" and sep_in == [\"\", \".\"]:\n",
    "        n = n * scale if scale else n\n",
    "        format_string = '%0.' + str(decimal_places) + 'f' if type(n) == float else '%d'\n",
    "        n = locale.format_string(format_string, n, grouping=True, monetary=True)\n",
    "        n = n.replace(\",\", \"ṯ\").replace(\".\", \"ḏ\")\n",
    "        #n = str(n)\n",
    "    if sep_in[0] in [\" \", \",\", \"٬\", \"\\u2009\"]:\n",
    "        n = n.replace(r'[\\u0020,٬\\u2009]', \"ṯ\")\n",
    "    elif sep_in[0] == \".\":\n",
    "        n = n.replace(\".\", \"ṯ\")\n",
    "    if sep_in[1] in [\",\", \".\", \"٫\"]:\n",
    "        n = n.replace(r'[,.٫]', \"ḏ\")\n",
    "    data = {\n",
    "        \"adlm\" : {'name' : 'Adlam Digits (adlm)', \"digits\" : \"𞥐𞥑𞥒𞥓𞥔𞥕𞥖𞥗𞥘𞥙\", \"sep_out\": [\",\", \".\"]},\n",
    "        \"ahom\" : {'name' : 'Ahom Digits (ahom)', \"digits\" : \"𑜰𑜱𑜲𑜳𑜴𑜵𑜶𑜷𑜸𑜹\"},\n",
    "        \"arab\" : {'name' : 'Arabic-Indic Digits (arab)', \"digits\" : \"٠١٢٣٤٥٦٧٨٩\"},\n",
    "        \"arabext\" : {'name' : 'Extended Arabic-Indic Digits (arabext)', \"digits\" : \"۰۱۲۳۴۵۶۷۸۹\", \"sep_out_out\": [\"\\u066C\", \"\\u066B\"]},\n",
    "        \"bali\" : {'name' : 'Balinese Digits (bali)', \"digits\" : \"᭐᭑᭒᭓᭔᭕᭖᭗᭘᭙\"},\n",
    "        \"beng\" : {'name' : 'Bangla Digits (beng)', \"digits\" : \"০১২৩৪৫৬৭৮৯\"},\n",
    "        \"bhks\" : {'name' : 'Bhaiksuki  Digits (bhks)', \"digits\" : \"𑱐𑱑𑱒𑱓𑱔𑱕𑱖𑱗𑱘𑱙\"},\n",
    "        \"brah\" : {'name' : 'Brahmi Digits (brah)', \"digits\" : \"𑁦𑁧𑁨𑁩𑁪𑁫𑁬𑁭𑁮𑁯\"},\n",
    "        \"cakm\" : {'name' : 'Chakma Digits (cakm)', \"digits\" : \"𑄶𑄷𑄸𑄹𑄺𑄻𑄼𑄽𑄾𑄿\"},\n",
    "        \"cham\" : {'name' : 'Cham Digits (cham)', \"digits\" : \"꩐꩑꩒꩓꩔꩕꩖꩗꩘꩙\"},\n",
    "        \"deva\" : {'name' : 'Devanagari Digits (deva)', \"digits\" : \"०१२३४५६७८९\"},\n",
    "        \"diak\" : {'name' : 'Dhives/Divehi Digits (diak)', \"digits\" : \"𑥐𑥑𑥒𑥓𑥔𑥕𑥖𑥗𑥘𑥙\"},\n",
    "        \"fullwide\" : {'name' : 'Full-Width Digits (fullwide)', \"digits\" : \"０１２３４５６７８９\"},\n",
    "        \"gong\" : {'name' : 'Gunjala Gondi digits (gong)', \"digits\" : \"𑶠𑶡𑶢𑶣𑶤𑶥𑶦𑶧𑶨𑶩\"},\n",
    "        \"gonm\" : {'name' : 'Masaram Gondi digits (gonm)', \"digits\" : \"𑵐𑵑𑵒𑵓𑵔𑵕𑵖𑵗𑵘𑵙\"},\n",
    "        \"gujr\" : {'name' : 'Gujarati Digits (gujr)', \"digits\" : \"૦૧૨૩૪૫૬૭૮૯\"},\n",
    "        \"guru\" : {'name' : 'Gurmukhi Digits (guru)', \"digits\" : \"੦੧੨੩੪੫੬੭੮੯\"},\n",
    "        \"hmng\" : {'name' : 'Pahawh Hmong Digits (hmng)', \"digits\" : \"𖭐𖭑𖭒𖭓𖭔𖭕𖭖𖭗𖭘𖭙\"},\n",
    "        \"hmnp\" : {'name' : 'Nyiakeng Puachue Hmong Digits (hmnp)', \"digits\" : \"𞅀𞅁𞅂𞅃𞅄𞅅𞅆𞅇𞅈𞅉\"},\n",
    "        \"java\" : {'name' : 'Javanese Digits (java)', \"digits\" : \"꧐꧑꧒꧓꧔꧕꧖꧗꧘꧙\"},\n",
    "        \"kali\" : {'name' : 'Kayah Li Digits (kali)', \"digits\" : \"꤀꤁꤂꤃꤄꤅꤆꤇꤈꤉\"},\n",
    "        \"khmr\" : {'name' : 'Khmer Digits (khmr)', \"digits\" : \"០១២៣៤៥៦៧៨៩\"},\n",
    "        \"knda\" : {'name' : 'Kannada Digits (knda)', \"digits\" : \"೦೧೨೩೪೫೬೭೮೯\"},\n",
    "        \"lana\" : {'name' : 'Tai Tham Hora Digits (lana)', \"digits\" : \"᪀᪁᪂᪃᪄᪅᪆᪇᪈᪉\"},\n",
    "        \"lanatham\" : {'name' : 'Tai Tham Tham Digits (lanatham)', \"digits\" : \"᪐᪑᪒᪓᪔᪕᪖᪗᪘᪙\"},\n",
    "        \"laoo\" : {'name' : 'Lao Digits (laoo)', \"digits\" : \"໐໑໒໓໔໕໖໗໘໙\"},\n",
    "        \"latn\" : {'name' : 'Latin Digits (latn)', \"digits\" : \"0123456789\"},\n",
    "        \"lepc\" : {'name' : 'Lepcha Digits (lepc)', \"digits\" : \"᱀᱁᱂᱃᱄᱅᱆᱇᱈᱉\"},\n",
    "        \"limb\" : {'name' : 'Limbu Digits (limb)', \"digits\" : \"᥆᥇᥈᥉᥊᥋᥌᥍᥎᥏\"},\n",
    "        \"mlym\" : {'name' : 'Malayalam Digits (mlym)', \"digits\" : \"൦൧൨൩൪൫൬൭൮൯\"},\n",
    "        \"modi\" : {'name' : 'Modi Digits (modi)', \"digits\" : \"𑙐𑙑𑙒𑙓𑙔𑙕𑙖𑙗𑙘𑙙\"},\n",
    "        \"mong\" : {'name' : 'Mongolian Digits (mong)', \"digits\" : \"᠐᠑᠒᠓᠔᠕᠖᠗᠘᠙\"},\n",
    "        \"mroo\" : {'name' : 'Mro Digits (mroo)', \"digits\" : \"𖩠𖩡𖩢𖩣𖩤𖩥𖩦𖩧𖩨𖩩\"},\n",
    "        \"mtei\" : {'name' : 'Meetei Mayek Digits (mtei)', \"digits\" : \"꯰꯱꯲꯳꯴꯵꯶꯷꯸꯹\"},\n",
    "        \"mymr\" : {'name' : 'Myanmar Digits (mymr)', \"digits\" : \"၀၁၂၃၄၅၆၇၈၉\", \"sep_out\": [\",\", \".\"]},\n",
    "        \"mymrshan\" : {'name' : 'Myanmar Shan Digits (mymrshan)', \"digits\" : \"႐႑႒႓႔႕႖႗႘႙\", \"sep_out\": [\",\", \".\"]},\n",
    "        \"mymrtlng\" : {'name' : 'Myanmar Tai Laing Digits (mymrtlng)', \"digits\" : \"꧰꧱꧲꧳꧴꧵꧶꧷꧸꧹\"},\n",
    "        \"newa\" : {'name' : 'Pracalit Digits (newa)', \"digits\" : \"𑑐𑑑𑑒𑑓𑑔𑑕𑑖𑑗𑑘𑑙\"},\n",
    "        \"nkoo\" : {'name' : \"N’Ko Digits (nkoo)\", \"digits\" : \"߀߁߂߃߄߅߆߇߈߉\"},\n",
    "        \"olck\" : {'name' : 'Ol Chiki Digits (olck)', \"digits\" : \"᱐᱑᱒᱓᱔᱕᱖᱗᱘᱙\"},\n",
    "        \"orya\" : {'name' : 'Odia Digits (orya)', \"digits\" : \"୦୧୨୩୪୫୬୭୮୯\"},\n",
    "        \"osma\" : {'name' : 'Osmanya Digits (osma)', \"digits\" : \"𐒠𐒡𐒢𐒣𐒤𐒥𐒦𐒧𐒨𐒩\"},\n",
    "        \"rohg\" : {'name' : 'Hanifi Rohingya digits (rohg)', \"digits\" : \"𐴰𐴱𐴲𐴳𐴴𐴵𐴶𐴷𐴸𐴹\"},\n",
    "        \"saur\" : {'name' : 'Saurashtra Digits (saur)', \"digits\" : \"꣐꣑꣒꣓꣔꣕꣖꣗꣘꣙\"},\n",
    "        \"shrd\" : {'name' : 'Sharada Digits (shrd)', \"digits\" : \"𑇐𑇑𑇒𑇓𑇔𑇕𑇖𑇗𑇘𑇙\"},\n",
    "        \"sind\" : {'name' : 'Khudabadi Digits (sind)', \"digits\" : \"𑋰𑋱𑋲𑋳𑋴𑋵𑋶𑋷𑋸𑋹\"},\n",
    "        \"sinh\" : {'name' : 'Sinhala Digits (sinh)', \"digits\" : \"෦෧෨෩෪෫෬෭෮෯\"},\n",
    "        \"sora\" : {'name' : 'Sora Sompeng Digits (sora)', \"digits\" : \"𑃰𑃱𑃲𑃳𑃴𑃵𑃶𑃷𑃸𑃹\"},\n",
    "        \"sund\" : {'name' : 'Sundanese Digits (sund)', \"digits\" : \"᮰᮱᮲᮳᮴᮵᮶᮷᮸᮹\"},\n",
    "        \"takr\" : {'name' : 'Takri Digits (takr)', \"digits\" : \"𑛀𑛁𑛂𑛃𑛄𑛅𑛆𑛇𑛈𑛉\"},\n",
    "        \"talu\" : {'name' : 'New Tai Lue Digits (talu)', \"digits\" : \"᧐᧑᧒᧓᧔᧕᧖᧗᧘᧙\"},\n",
    "        \"tamldec\" : {'name' : 'Tamil Digits (tamldec)', \"digits\" : \"௦௧௨௩௪௫௬௭௮௯\"},\n",
    "        \"tnsa\" : {'name' : 'Tangsa Digits (tnsa)', \"digits\" : \"𖫀𖫁𖫂𖫃𖫄𖫅𖫆𖫇𖫈𖫉\"},\n",
    "        \"telu\" : {'name' : 'Telugu Digits (telu)', \"digits\" : \"౦౧౨౩౪౫౬౭౮౯\"},\n",
    "        \"thai\" : {'name' : 'Thai Digits (thai)', \"digits\" : \"๐๑๒๓๔๕๖๗๘๙\"},\n",
    "        \"tibt\" : {'name' : 'Tibetan Digits (tibt)', \"digits\" : \"༠༡༢༣༤༥༦༧༨༩\"},\n",
    "        \"tirh\" : {'name' : 'Tirhuta Digits (tirh)', \"digits\" : \"𑓐𑓑𑓒𑓓𑓔𑓕𑓖𑓗𑓘𑓙\"},\n",
    "        \"vaii\" : {'name' : 'Vai Digits (vaii)', \"digits\" : \"꘠꘡꘢꘣꘤꘥꘦꘧꘨꘩\"},\n",
    "        \"wara\" : {'name' : 'Warang Citi Digits (wara)', \"digits\" : \"𑣠𑣡𑣢𑣣𑣤𑣥𑣦𑣧𑣨𑣩\"},\n",
    "        \"wcho\" : {'name' : 'Wancho Digits (wcho)', \"digits\" : \"𞋰𞋱𞋲𞋳𞋴𞋵𞋶𞋷𞋸𞋹\"}\n",
    "    }\n",
    "    try:\n",
    "        sep = data[system_out]['sep_out']\n",
    "    except KeyError:\n",
    "        sep = sep_out\n",
    "    t = n.maketrans(data[system_in][\"digits\"], data[system_out][\"digits\"])\n",
    "    locale.setlocale(locale.LC_ALL, \"\")\n",
    "    return n.translate(t).replace(\"ṯ\", sep[0] ).replace(\"ḏ\", sep[1])"
   ]
  },
  {
   "cell_type": "markdown",
   "metadata": {},
   "source": [
    "## Process data and plot data"
   ]
  },
  {
   "cell_type": "code",
   "execution_count": 16,
   "metadata": {},
   "outputs": [
    {
     "data": {
      "text/html": [
       "<div>\n",
       "<style scoped>\n",
       "    .dataframe tbody tr th:only-of-type {\n",
       "        vertical-align: middle;\n",
       "    }\n",
       "\n",
       "    .dataframe tbody tr th {\n",
       "        vertical-align: top;\n",
       "    }\n",
       "\n",
       "    .dataframe thead th {\n",
       "        text-align: right;\n",
       "    }\n",
       "</style>\n",
       "<table border=\"1\" class=\"dataframe\">\n",
       "  <thead>\n",
       "    <tr style=\"text-align: right;\">\n",
       "      <th></th>\n",
       "      <th>---</th>\n",
       "      <th>جیھانی</th>\n",
       "      <th>تورکیا</th>\n",
       "      <th>ئێران</th>\n",
       "      <th>عێراق</th>\n",
       "      <th>سووریا</th>\n",
       "    </tr>\n",
       "  </thead>\n",
       "  <tbody>\n",
       "    <tr>\n",
       "      <th>0</th>\n",
       "      <td>کرمانجی</td>\n",
       "      <td>14419000</td>\n",
       "      <td>7919000</td>\n",
       "      <td>443000</td>\n",
       "      <td>3185000</td>\n",
       "      <td>1661000</td>\n",
       "    </tr>\n",
       "    <tr>\n",
       "      <th>1</th>\n",
       "      <td>ئەوانەی بە تورکی دەدوێن</td>\n",
       "      <td>5732000</td>\n",
       "      <td>5732000</td>\n",
       "      <td>0</td>\n",
       "      <td>0</td>\n",
       "      <td>0</td>\n",
       "    </tr>\n",
       "    <tr>\n",
       "      <th>2</th>\n",
       "      <td>باشوور</td>\n",
       "      <td>3381000</td>\n",
       "      <td>0</td>\n",
       "      <td>3381000</td>\n",
       "      <td>0</td>\n",
       "      <td>0</td>\n",
       "    </tr>\n",
       "    <tr>\n",
       "      <th>3</th>\n",
       "      <td>سۆرانی</td>\n",
       "      <td>1576000</td>\n",
       "      <td>0</td>\n",
       "      <td>502000</td>\n",
       "      <td>567000</td>\n",
       "      <td>0</td>\n",
       "    </tr>\n",
       "    <tr>\n",
       "      <th>4</th>\n",
       "      <td>زازایی - دەملی</td>\n",
       "      <td>1125000</td>\n",
       "      <td>1125000</td>\n",
       "      <td>0</td>\n",
       "      <td>0</td>\n",
       "      <td>0</td>\n",
       "    </tr>\n",
       "    <tr>\n",
       "      <th>5</th>\n",
       "      <td>زازایی - ئەلڤێکا</td>\n",
       "      <td>184000</td>\n",
       "      <td>179000</td>\n",
       "      <td>0</td>\n",
       "      <td>0</td>\n",
       "      <td>0</td>\n",
       "    </tr>\n",
       "    <tr>\n",
       "      <th>6</th>\n",
       "      <td>ڕەوەند</td>\n",
       "      <td>90000</td>\n",
       "      <td>38000</td>\n",
       "      <td>20000</td>\n",
       "      <td>33000</td>\n",
       "      <td>0</td>\n",
       "    </tr>\n",
       "    <tr>\n",
       "      <th>7</th>\n",
       "      <td>ھەورامی</td>\n",
       "      <td>54000</td>\n",
       "      <td>0</td>\n",
       "      <td>26000</td>\n",
       "      <td>28000</td>\n",
       "      <td>0</td>\n",
       "    </tr>\n",
       "    <tr>\n",
       "      <th>8</th>\n",
       "      <td>شکاکی</td>\n",
       "      <td>49000</td>\n",
       "      <td>23000</td>\n",
       "      <td>26000</td>\n",
       "      <td>0</td>\n",
       "      <td>0</td>\n",
       "    </tr>\n",
       "    <tr>\n",
       "      <th>9</th>\n",
       "      <td>کۆی گشتی</td>\n",
       "      <td>26712000</td>\n",
       "      <td>15016000</td>\n",
       "      <td>4398000</td>\n",
       "      <td>3916000</td>\n",
       "      <td>1661000</td>\n",
       "    </tr>\n",
       "  </tbody>\n",
       "</table>\n",
       "</div>"
      ],
      "text/plain": [
       "                       ---    جیھانی    تورکیا    ئێران    عێراق   سووریا\n",
       "0                  کرمانجی  14419000   7919000   443000  3185000  1661000\n",
       "1  ئەوانەی بە تورکی دەدوێن   5732000   5732000        0        0        0\n",
       "2                   باشوور   3381000         0  3381000        0        0\n",
       "3                   سۆرانی   1576000         0   502000   567000        0\n",
       "4           زازایی - دەملی   1125000   1125000        0        0        0\n",
       "5         زازایی - ئەلڤێکا    184000    179000        0        0        0\n",
       "6                   ڕەوەند     90000     38000    20000    33000        0\n",
       "7                  ھەورامی     54000         0    26000    28000        0\n",
       "8                    شکاکی     49000     23000    26000        0        0\n",
       "9                 کۆی گشتی  26712000  15016000  4398000  3916000  1661000"
      ]
     },
     "execution_count": 16,
     "metadata": {},
     "output_type": "execute_result"
    }
   ],
   "source": [
    "import pandas as pd\n",
    "conv = {\n",
    "    'سووریا': digitsconv,\n",
    "    'عێراق': digitsconv,\n",
    "    'ئێران': digitsconv,\n",
    "    'تورکیا': digitsconv,\n",
    "    'جیھانی': digitsconv\n",
    "}\n",
    "df = pd.read_table(\"../data/demographics.tsv\", converters=conv)\n",
    "df"
   ]
  },
  {
   "cell_type": "code",
   "execution_count": 17,
   "metadata": {},
   "outputs": [
    {
     "name": "stdout",
     "output_type": "stream",
     "text": [
      "تورکیا    30032000\n",
      "ئێران      8796000\n",
      "عێراق      7729000\n",
      "سووریا     3322000\n",
      "dtype: int64\n"
     ]
    }
   ],
   "source": [
    "col_list=[\"تورکیا\" ,\"ئێران\" ,\"عێراق\" ,\"سووریا\"]\n",
    "\n",
    "total_df = df[col_list].sum(axis=0)\n",
    "print(total_df)"
   ]
  },
  {
   "cell_type": "markdown",
   "metadata": {},
   "source": [
    "`matplotlib.ticker.FuncFormatter()` takes a function that reads in a tuple. We use a lambda function utilising `convert_numeral_systems()`, with the relevant arguments and values. This will allow us to convert the tick values into Eastern Arabic numerals, the scale factor allows us to displat]y the y-axis values in counts of a million."
   ]
  },
  {
   "cell_type": "code",
   "execution_count": 18,
   "metadata": {},
   "outputs": [],
   "source": [
    "fig, ax = plt.subplots()\n",
    "plt.rcParams.update({'font.family':'Vazirmatn'})\n",
    "ax.bar(total_df.index, total_df.values, color='royalblue', alpha=0.7)\n",
    "ax.grid(color='#95a5a6', linestyle='--', linewidth=2, axis='y', alpha=0.7)\n",
    "ax.set_xlabel(\"ناوچە\", size=12)\n",
    "ax.set_ylabel(\"ڕێژەی دانیشتووان (بە ملیۆن)\", size=12)\n",
    "ax.set_title('ڕێژەی دانیشتووانی کورد', size=15)\n",
    "\n",
    "DEFAULT_NUMERAL_SYSYEM = \"arab\"\n",
    "ns_formatter = ticker.FuncFormatter(lambda x, p: convert_numeral_systems(x, p, system_out=DEFAULT_NUMERAL_SYSYEM, scale=0.000001))\n",
    "ax.get_yaxis().set_major_formatter(ns_formatter)\n",
    "plt.tight_layout()\n",
    "plt.show()"
   ]
  },
  {
   "cell_type": "markdown",
   "metadata": {},
   "source": [
    "The above steps should work with any complex script language.\n",
    "\n",
    "\n",
    "__Possible future enhancements:__\n",
    "\n",
    "Graphs and plots in Arabic script languages are observed in both LTR and RTL layouts. Although given severe software limitations, LTR may be more common. The next step for the adventerous would be to render the above graph in a RTL layout."
   ]
  },
  {
   "cell_type": "markdown",
   "metadata": {},
   "source": [
    "## Reducing the function to a single pair and direction\n",
    "\n",
    "It is possible to convert the above function to a single pair, in a single direction. See below for a script tailored for converting Western Arabic digits to Eastern Arabic digits, using seperators appropriate for Sorani Kurdish.\n",
    "\n",
    "This script retains the flexibility in specifying and using alternative seperators, and in scaling and specifying the number of decimal places used by a float. It you do not require this flexibility, the script can be pared down further."
   ]
  },
  {
   "cell_type": "code",
   "execution_count": 19,
   "metadata": {},
   "outputs": [],
   "source": [
    "def convert_to_arab_ns(n, p=None, decimal=2, sep_in=[\"\", \".\"], sep_out=[\"\\u066C\", \"\\u066B\"], scale=None):\n",
    "    locale.setlocale(locale.LC_ALL, \"en_US.UTF-8\")\n",
    "    decimal_places = decimal\n",
    "    if sep_in == [\"\", \".\"]:\n",
    "        n = n * scale if scale else n\n",
    "        format_string = '%0.' + str(decimal_places) + 'f' if type(n) == float else '%d'\n",
    "        n = locale.format_string(format_string, n, grouping=True, monetary=True)\n",
    "        n = n.replace(\",\", \"ṯ\").replace(\".\", \"ḏ\")\n",
    "        #n = str(n)\n",
    "    if sep_in[0] in [\" \", \",\", \"٬\", \"\\u2009\"]:\n",
    "        n = n.replace(r'[\\u0020,٬\\u2009]', \"ṯ\")\n",
    "    elif sep_in[0] == \".\":\n",
    "        n = n.replace(\".\", \"ṯ\")\n",
    "    if sep_in[1] in [\",\", \".\", \"٫\"]:\n",
    "        n = n.replace(r'[,.٫]', \"ḏ\")\n",
    "    sep = sep_out\n",
    "    t = n.maketrans(\"0123456789\", \"٠١٢٣٤٥٦٧٨٩\")\n",
    "    locale.setlocale(locale.LC_ALL, \"\")\n",
    "    return n.translate(t).replace(\"ṯ\", sep[0] ).replace(\"ḏ\", sep[1])"
   ]
  },
  {
   "cell_type": "code",
   "execution_count": 20,
   "metadata": {},
   "outputs": [],
   "source": [
    "fig, ax = plt.subplots()\n",
    "plt.rcParams.update({'font.family':'Vazirmatn'})\n",
    "ax.bar(total_df.index, total_df.values, color='royalblue', alpha=0.7)\n",
    "ax.grid(color='#95a5a6', linestyle='--', linewidth=2, axis='y', alpha=0.7)\n",
    "ax.set_xlabel(\"ناوچە\", size=12)\n",
    "ax.set_ylabel(\"ڕێژەی دانیشتووان (بە ملیۆن)\", size=12)\n",
    "ax.set_title('ڕێژەی دانیشتووانی کورد', size=15)\n",
    "\n",
    "ns_formatter2 = ticker.FuncFormatter(lambda x, p: convert_to_arab_ns(x, p, scale=0.000001))\n",
    "ax.get_yaxis().set_major_formatter(ns_formatter2)\n",
    "plt.tight_layout()\n",
    "plt.show()"
   ]
  },
  {
   "cell_type": "markdown",
   "metadata": {},
   "source": [
    "Assuming __n__ is a float, fixing decimal laces to two, and fixing the seperators, but leaving the option for scaling, we get:"
   ]
  },
  {
   "cell_type": "code",
   "execution_count": 21,
   "metadata": {},
   "outputs": [],
   "source": [
    "def convert_to_sorani_ns(n, p=None, scale=None):\n",
    "    locale.setlocale(locale.LC_ALL, \"en_US.UTF-8\")\n",
    "    decimal_places = 2\n",
    "    n = n * scale if scale else n\n",
    "    format_string = '%0.' + str(decimal_places) + 'f' if type(n) == float else '%d'\n",
    "    n = locale.format_string(format_string, n, grouping=True, monetary=True)\n",
    "    n = n.replace(\",\", \"ṯ\").replace(\".\", \"ḏ\")\n",
    "    sep = [\"\\u066C\", \"\\u066B\"]\n",
    "    t = n.maketrans(\"0123456789\", \"٠١٢٣٤٥٦٧٨٩\")\n",
    "    locale.setlocale(locale.LC_ALL, \"\")\n",
    "    return n.translate(t).replace(\"ṯ\", sep[0] ).replace(\"ḏ\", sep[1])"
   ]
  },
  {
   "cell_type": "markdown",
   "metadata": {},
   "source": [
    "To adapt the `convert_to_sorani_ns()` to other number systems, change the second argument of `n.maketrans()`, in line 9, with the relvant digits equivalent to 0-9. Change the values in the `sep` list in line 8. The first value is the grouping (thousands) seperator, the second is the decimal seperator."
   ]
  },
  {
   "cell_type": "code",
   "execution_count": 22,
   "metadata": {},
   "outputs": [],
   "source": [
    "fig, ax = plt.subplots()\n",
    "plt.rcParams.update({'font.family':'Vazirmatn'})\n",
    "ax.bar(total_df.index, total_df.values, color='royalblue', alpha=0.7)\n",
    "ax.grid(color='#95a5a6', linestyle='--', linewidth=2, axis='y', alpha=0.7)\n",
    "ax.set_xlabel(\"ناوچە\", size=12)\n",
    "ax.set_ylabel(\"ڕێژەی دانیشتووان (بە ملیۆن)\", size=12)\n",
    "ax.set_title('ڕێژەی دانیشتووانی کورد', size=15)\n",
    "\n",
    "ns_formatter3 = ticker.FuncFormatter(lambda x, p: convert_to_sorani_ns(x, p, scale=0.000001))\n",
    "ax.get_yaxis().set_major_formatter(ns_formatter3)\n",
    "plt.tight_layout()\n",
    "plt.show()"
   ]
  },
  {
   "cell_type": "markdown",
   "metadata": {},
   "source": [
    "## Altering layout"
   ]
  },
  {
   "cell_type": "code",
   "execution_count": 27,
   "metadata": {},
   "outputs": [],
   "source": [
    "fig, ax = plt.subplots()\n",
    "plt.rcParams.update({'font.family':'Vazirmatn'})\n",
    "ax.bar(total_df.index, total_df.values, color='royalblue', alpha=0.7)\n",
    "ax.grid(color='#95a5a6', linestyle='--', linewidth=2, axis='y', alpha=0.7)\n",
    "\n",
    "# move y axis and associated label to right of plot\n",
    "ax.yaxis.tick_right()\n",
    "ax.yaxis.set_label_position(\"right\")\n",
    "# invert x-axis\n",
    "plt.gca().invert_xaxis()\n",
    "\n",
    "ax.set_xlabel(\"ناوچە\", size=12)\n",
    "ax.set_ylabel(\"ڕێژەی دانیشتووان (بە ملیۆن)\", size=12, labelpad=10)\n",
    "ax.set_title('ڕێژەی دانیشتووانی کورد', size=15)\n",
    "\n",
    "#ns_formatter3 = ticker.FuncFormatter(lambda x, p: convert_to_sorani_ns(x, p, scale=0.000001))\n",
    "ax.get_yaxis().set_major_formatter(ns_formatter3)\n",
    "plt.tight_layout()\n",
    "plt.show()"
   ]
  }
 ],
 "metadata": {
  "interpreter": {
   "hash": "05c935ee2b4ff45f26d355be2499c84aedc5a4939bfa2f7a9b7f00dda4a86ade"
  },
  "kernelspec": {
   "display_name": "Python 3.10.1 ('el-test')",
   "language": "python",
   "name": "python3"
  },
  "language_info": {
   "codemirror_mode": {
    "name": "ipython",
    "version": 3
   },
   "file_extension": ".py",
   "mimetype": "text/x-python",
   "name": "python",
   "nbconvert_exporter": "python",
   "pygments_lexer": "ipython3",
   "version": "3.10.1"
  },
  "orig_nbformat": 4
 },
 "nbformat": 4,
 "nbformat_minor": 2
}
