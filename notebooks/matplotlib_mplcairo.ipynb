{
 "cells": [
  {
   "cell_type": "markdown",
   "metadata": {},
   "source": [
    "# Sorani Kurdish data using mplcairo\n",
    "\n",
    "Matplotlib's standard rendering backends do not support bidirectional text, nor text requiring complex rendering.\n",
    "\n",
    "|Matplotlib (standard) |Matplotlib (mplcairo) |\n",
    "|--------------------  |--------------------- |\n",
    "|<img src=\"img/std_matplotlib_output.png\" alt=\"Kurdish bar chart (standard)\"  style=\"background-color: white; width: 50%\"> |<img src=\"img/mplcairo_output.png\" alt=\"Kurdish bar chart (mplcairo)\"  style=\"background-color: white; width: 50%\"> |\n",
    "\n",
    "Two things can be observered by comparing the two bar charts:\n",
    "\n",
    "1. Arabic script text is inverted, the bidirectional algorithm is not applied.\n",
    "2. Complex rendering is not applied, so all Arabic characters are in their isolated forms, rather than having initial, medial or final forms applied as required.\n",
    "\n",
    "There are a set of hacks that have been used in the past for Hebrew, Arabic and Persian. TO address the first problem, [python-bidi](https://github.com/MeirKriheli/python-bidi) provides a Python implementation of the bidirectional algorithm, which generates a visually ordered string rather than a logically ordered string so that RTL languages can display in packages or terminals that do not have bidirectional support.\n",
    "\n",
    "The second problem for Arabic and Persian (and a few other languages) is addressed by another hack: [arabic-reshaper](https://github.com/mpcabd/python-arabic-reshaper/). The Arabic reshaper leverages of the `python-bidi` to reorder strings visually, then the isolated character glyphs are replaced by Unicode presentational forms of the initial, medial and final glyphs of each character. The presentational forms are not intended to be used in production, they were added for backwards compatibility with older standards. Additionally, not all arabic characters are represented by presentational forms in Unicode, and most RTL scripts do not have presentational forms. It has limited langauge support.\n",
    "\n",
    "Sorani Kurdish is one of the Arabic script languages that can not be supported by hacks using `python-bidi` and `arabic-reshaper`.\n",
    "\n",
    "The text rendering issues in Matplotlib will also affect other Middle-eastern scripts, African scripts, South Asian and South East Asian scripts. It will also affect Latin and Cyrillic script text where variant glyphs, stylistic sets or localised features are needed for correct rendering. So existing hacks are not suitable.\n",
    "\n",
    "Matplotlib can use alternative backends, one of the newer backends that needs to be installed seperately is [mplcairo](https://github.com/matplotlib/mplcairo). `mplcairo` provides an alternative `cairo` backend for matplotlib, which can make use of [Raqm](https://github.com/HOST-Oman/libraqm) for complex text layout.\n",
    "\n",
    "In the following code, we will use `mplcairo` to create a simple bar chart containing Sorani Kurdish labels."
   ]
  },
  {
   "cell_type": "markdown",
   "metadata": {},
   "source": [
    "## Setup"
   ]
  },
  {
   "cell_type": "code",
   "execution_count": 7,
   "metadata": {},
   "outputs": [],
   "source": [
    "import pandas as pd\n",
    "import locale, platform\n",
    "import mplcairo\n",
    "import matplotlib as mpl\n",
    "if platform.system() == \"Darwin\":\n",
    "    mpl.use(\"module://mplcairo.macosx\")\n",
    "else:\n",
    "    mpl.use(\"module://mplcairo.qt\")\n",
    "import matplotlib.pyplot as plt\n",
    "import unicodedata as ud, regex as re"
   ]
  },
  {
   "cell_type": "markdown",
   "metadata": {},
   "source": [
    "## Helper functions"
   ]
  },
  {
   "cell_type": "code",
   "execution_count": 8,
   "metadata": {},
   "outputs": [],
   "source": [
    "def convert_digits(s, sep = (\",\", \".\")):\n",
    "    nd = re.compile(r'^-?\\p{Nd}[,.\\u066B\\u066C\\u0020\\u2009\\p{Nd}]*$')\n",
    "    tsep, dsep = sep\n",
    "    if nd.match(s):\n",
    "        s = s.replace(tsep, \"\")\n",
    "        s = ''.join([str(ud.decimal(c, c)) for c in s])\n",
    "        if dsep in s:\n",
    "            return float(s.replace(dsep, \".\")) if dsep != \".\" else float(s)\n",
    "        return int(s)\n",
    "    return s\n",
    "\n",
    "seps = (\"\\u066C\", \"\\u066B\")\n",
    "digitsconv = lambda x: convert_digits(x.replace(\"-\", \"٠\"), sep = seps)"
   ]
  },
  {
   "cell_type": "markdown",
   "metadata": {},
   "source": [
    "## Process data and plot data"
   ]
  },
  {
   "cell_type": "code",
   "execution_count": 9,
   "metadata": {},
   "outputs": [
    {
     "data": {
      "text/html": [
       "<div>\n",
       "<style scoped>\n",
       "    .dataframe tbody tr th:only-of-type {\n",
       "        vertical-align: middle;\n",
       "    }\n",
       "\n",
       "    .dataframe tbody tr th {\n",
       "        vertical-align: top;\n",
       "    }\n",
       "\n",
       "    .dataframe thead th {\n",
       "        text-align: right;\n",
       "    }\n",
       "</style>\n",
       "<table border=\"1\" class=\"dataframe\">\n",
       "  <thead>\n",
       "    <tr style=\"text-align: right;\">\n",
       "      <th></th>\n",
       "      <th>---</th>\n",
       "      <th>جیھانی</th>\n",
       "      <th>تورکیا</th>\n",
       "      <th>ئێران</th>\n",
       "      <th>عێراق</th>\n",
       "      <th>سووریا</th>\n",
       "    </tr>\n",
       "  </thead>\n",
       "  <tbody>\n",
       "    <tr>\n",
       "      <th>0</th>\n",
       "      <td>باشوور</td>\n",
       "      <td>3381000</td>\n",
       "      <td>0</td>\n",
       "      <td>3381000</td>\n",
       "      <td>0</td>\n",
       "      <td>0</td>\n",
       "    </tr>\n",
       "    <tr>\n",
       "      <th>1</th>\n",
       "      <td>ھەورامی</td>\n",
       "      <td>54000</td>\n",
       "      <td>0</td>\n",
       "      <td>26000</td>\n",
       "      <td>28000</td>\n",
       "      <td>0</td>\n",
       "    </tr>\n",
       "    <tr>\n",
       "      <th>2</th>\n",
       "      <td>سۆرانی</td>\n",
       "      <td>1576000</td>\n",
       "      <td>0</td>\n",
       "      <td>502000</td>\n",
       "      <td>567000</td>\n",
       "      <td>0</td>\n",
       "    </tr>\n",
       "    <tr>\n",
       "      <th>3</th>\n",
       "      <td>کۆیگشتی</td>\n",
       "      <td>26712000</td>\n",
       "      <td>15016000</td>\n",
       "      <td>4398000</td>\n",
       "      <td>3916000</td>\n",
       "      <td>1661000</td>\n",
       "    </tr>\n",
       "    <tr>\n",
       "      <th>4</th>\n",
       "      <td>زازایی-ئەلڤێکا</td>\n",
       "      <td>184000</td>\n",
       "      <td>179000</td>\n",
       "      <td>0</td>\n",
       "      <td>0</td>\n",
       "      <td>0</td>\n",
       "    </tr>\n",
       "    <tr>\n",
       "      <th>5</th>\n",
       "      <td>زازایی-دەملی</td>\n",
       "      <td>1125000</td>\n",
       "      <td>1125000</td>\n",
       "      <td>0</td>\n",
       "      <td>0</td>\n",
       "      <td>0</td>\n",
       "    </tr>\n",
       "    <tr>\n",
       "      <th>6</th>\n",
       "      <td>شکاکی</td>\n",
       "      <td>49000</td>\n",
       "      <td>23000</td>\n",
       "      <td>26000</td>\n",
       "      <td>0</td>\n",
       "      <td>0</td>\n",
       "    </tr>\n",
       "    <tr>\n",
       "      <th>7</th>\n",
       "      <td>ڕەوەند</td>\n",
       "      <td>90000</td>\n",
       "      <td>38000</td>\n",
       "      <td>20000</td>\n",
       "      <td>33000</td>\n",
       "      <td>0</td>\n",
       "    </tr>\n",
       "    <tr>\n",
       "      <th>8</th>\n",
       "      <td>ئەوانەیبەتورکیدەدوێن</td>\n",
       "      <td>5732000</td>\n",
       "      <td>5732000</td>\n",
       "      <td>0</td>\n",
       "      <td>0</td>\n",
       "      <td>0</td>\n",
       "    </tr>\n",
       "    <tr>\n",
       "      <th>9</th>\n",
       "      <td>کرمانجی</td>\n",
       "      <td>14419000</td>\n",
       "      <td>7919000</td>\n",
       "      <td>443000</td>\n",
       "      <td>3185000</td>\n",
       "      <td>1661000</td>\n",
       "    </tr>\n",
       "  </tbody>\n",
       "</table>\n",
       "</div>"
      ],
      "text/plain": [
       "                    ---    جیھانی    تورکیا    ئێران    عێراق   سووریا\n",
       "0                باشوور   3381000         0  3381000        0        0\n",
       "1               ھەورامی     54000         0    26000    28000        0\n",
       "2                سۆرانی   1576000         0   502000   567000        0\n",
       "3               کۆیگشتی  26712000  15016000  4398000  3916000  1661000\n",
       "4        زازایی-ئەلڤێکا    184000    179000        0        0        0\n",
       "5          زازایی-دەملی   1125000   1125000        0        0        0\n",
       "6                 شکاکی     49000     23000    26000        0        0\n",
       "7                ڕەوەند     90000     38000    20000    33000        0\n",
       "8  ئەوانەیبەتورکیدەدوێن   5732000   5732000        0        0        0\n",
       "9               کرمانجی  14419000   7919000   443000  3185000  1661000"
      ]
     },
     "execution_count": 9,
     "metadata": {},
     "output_type": "execute_result"
    }
   ],
   "source": [
    "import pandas as pd\n",
    "conv = {\n",
    "    'سووریا': digitsconv,\n",
    "    'عێراق': digitsconv,\n",
    "    'ئێران': digitsconv,\n",
    "    'تورکیا': digitsconv,\n",
    "    'جیھانی': digitsconv\n",
    "}\n",
    "df = pd.read_table(\"../data/demographics.tsv\", converters=conv)\n",
    "df"
   ]
  },
  {
   "cell_type": "code",
   "execution_count": 10,
   "metadata": {},
   "outputs": [
    {
     "name": "stdout",
     "output_type": "stream",
     "text": [
      "تورکیا    30032000\n",
      "ئێران      8796000\n",
      "عێراق      7729000\n",
      "سووریا     3322000\n",
      "dtype: int64\n"
     ]
    }
   ],
   "source": [
    "col_list=[\"تورکیا\" ,\"ئێران\" ,\"عێراق\" ,\"سووریا\"]\n",
    "\n",
    "total_df = df[col_list].sum(axis=0)\n",
    "print(total_df)"
   ]
  },
  {
   "cell_type": "markdown",
   "metadata": {},
   "source": [
    "`total_df` is a Pandas series, when using Matplotlib, we can either use the series indices and values for we can convert each to lists and use the lists."
   ]
  },
  {
   "cell_type": "code",
   "execution_count": 11,
   "metadata": {},
   "outputs": [
    {
     "name": "stdout",
     "output_type": "stream",
     "text": [
      "['تورکیا', 'ئێران', 'عێراق', 'سووریا'] [30032000, 8796000, 7729000, 3322000]\n"
     ]
    }
   ],
   "source": [
    "y = list(total_df.values)\n",
    "x = list(total_df.index)\n",
    "print(x, y)"
   ]
  },
  {
   "cell_type": "markdown",
   "metadata": {},
   "source": [
    "Using indicies and values:"
   ]
  },
  {
   "cell_type": "code",
   "execution_count": 12,
   "metadata": {},
   "outputs": [],
   "source": [
    "plt.rcParams.update({'font.family':'Vazirmatn'})\n",
    "fig, ax = plt.subplots()\n",
    "ax.bar(total_df.index, total_df.values, color='royalblue', alpha=0.7)\n",
    "ax.grid(color='#95a5a6', linestyle='--', linewidth=2, axis='y', alpha=0.7)\n",
    "ax.set_xlabel(\"ناوچە\", size=14)\n",
    "ax.set_ylabel(\" ڕێژەی دانیشتووان\", size=14)\n",
    "ax.set_title('ڕێژەی دانیشتووانی کورد', size=18)\n",
    "#fig.subplots_adjust(left=0.20)\n",
    "plt.show()"
   ]
  },
  {
   "cell_type": "markdown",
   "metadata": {},
   "source": [
    "This will generate the following plot:\n",
    "\n",
    "![Kurdish bar chart example using mplcairo](img/mplcairo_output.png)"
   ]
  },
  {
   "cell_type": "markdown",
   "metadata": {},
   "source": [
    "## Resources\n",
    "\n",
    "Data taken from [Sorani Kurkish wikipedia](https://ckb.wikipedia.org/wiki/%D8%AF%D8%A7%D9%86%DB%8C%D8%B4%D8%AA%D9%88%D9%88%D8%A7%D9%86%DB%8C_%DA%A9%D9%88%D8%B1%D8%AF#%DA%A9%D9%88%D8%B1%D8%AF%D8%B3%D8%AA%D8%A7%D9%86)\n",
    "\n",
    "Refer to:\n",
    "\n",
    "* [Eastern Arabic numerals](https://en.wikipedia.org/wiki/Eastern_Arabic_numerals)\n",
    "* [mplcairo](https://github.com/matplotlib/mplcairo)\n",
    "* [Raqm](https://github.com/HOST-Oman/libraqm)"
   ]
  }
 ],
 "metadata": {
  "interpreter": {
   "hash": "05c935ee2b4ff45f26d355be2499c84aedc5a4939bfa2f7a9b7f00dda4a86ade"
  },
  "kernelspec": {
   "display_name": "Python 3.10.1 ('el-test')",
   "language": "python",
   "name": "python3"
  },
  "language_info": {
   "codemirror_mode": {
    "name": "ipython",
    "version": 3
   },
   "file_extension": ".py",
   "mimetype": "text/x-python",
   "name": "python",
   "nbconvert_exporter": "python",
   "pygments_lexer": "ipython3",
   "version": "3.10.1"
  },
  "orig_nbformat": 4
 },
 "nbformat": 4,
 "nbformat_minor": 2
}
