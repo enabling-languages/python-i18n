{
 "cells": [
  {
   "cell_type": "markdown",
   "metadata": {},
   "source": [
    "# Scraping Vietnamese data using `pd.read_html()`\n",
    "\n",
    "[pd.read_html()](https://pandas.pydata.org/docs/reference/api/pandas.read_html.html#pandas.read_html) reads html tables in specified web page into a list.\n",
    "\n",
    "Useful parameters for `pd.read_html()` include: `attrs`, `parse_dates`, `thousands`, `encoding`, `decimal`, `match` and `converters`."
   ]
  },
  {
   "cell_type": "code",
   "execution_count": 1,
   "metadata": {},
   "outputs": [],
   "source": [
    "import os, sys\n",
    "import pandas as pd\n",
    "import numpy as np\n",
    "import numpy as np\n",
    "import matplotlib.pyplot as plt\n",
    "from unicodedata import normalize\n",
    "\n",
    "# libpaths = [os.path.expanduser('../utils')]\n",
    "# for libpath in libpaths:\n",
    "#     if libpath not in sys.path:\n",
    "#         sys.path.append(libpath)\n",
    "# from elle import uu\n",
    "# import el_utils as elu\n",
    "\n",
    "# https://pbpython.com/pandas-html-table.html\n",
    "# https://scipython.com/blog/scraping-a-wikipedia-table-with-pandas/\n",
    "# https://medium.com/@nutanbhogendrasharma/extract-table-data-from-wikipedia-using-web-scraping-with-python-d13505ecdc9c\n",
    "\n",
    "PAGE = \"https://vi.wikipedia.org/wiki/Nh%C3%A2n_kh%E1%BA%A9u_Vi%E1%BB%87t_Nam\"\n",
    "\n",
    "# tables = pd.read_html(PAGE)\n",
    "# print(f'Total tables: {len(tables)}')"
   ]
  },
  {
   "cell_type": "code",
   "execution_count": 2,
   "metadata": {},
   "outputs": [],
   "source": [
    "# Since the table has no id attribute, use table caption to target specific table in webpage\n",
    "caption = 'Lịch sử dân số'\n",
    "clean_percentages = lambda x: x.replace('+', \"\").replace('%', \"\").replace(\"—\", str(np.NaN))\n",
    "conv = {\"±% năm\": clean_percentages}\n",
    "table = pd.read_html(PAGE, match=caption, encoding=\"utf-8\", converters=conv, thousands=\".\", decimal=\",\")"
   ]
  },
  {
   "cell_type": "code",
   "execution_count": 7,
   "metadata": {},
   "outputs": [
    {
     "data": {
      "text/html": [
       "<div>\n",
       "<style scoped>\n",
       "    .dataframe tbody tr th:only-of-type {\n",
       "        vertical-align: middle;\n",
       "    }\n",
       "\n",
       "    .dataframe tbody tr th {\n",
       "        vertical-align: top;\n",
       "    }\n",
       "\n",
       "    .dataframe thead th {\n",
       "        text-align: right;\n",
       "    }\n",
       "</style>\n",
       "<table border=\"1\" class=\"dataframe\">\n",
       "  <thead>\n",
       "    <tr style=\"text-align: right;\">\n",
       "      <th></th>\n",
       "      <th>Năm</th>\n",
       "      <th>Số dân</th>\n",
       "      <th>±% năm</th>\n",
       "    </tr>\n",
       "  </thead>\n",
       "  <tbody>\n",
       "    <tr>\n",
       "      <th>0</th>\n",
       "      <td>1990</td>\n",
       "      <td>66016700</td>\n",
       "      <td>NaN</td>\n",
       "    </tr>\n",
       "    <tr>\n",
       "      <th>1</th>\n",
       "      <td>1991</td>\n",
       "      <td>67242400</td>\n",
       "      <td>1.86</td>\n",
       "    </tr>\n",
       "    <tr>\n",
       "      <th>2</th>\n",
       "      <td>1992</td>\n",
       "      <td>68450100</td>\n",
       "      <td>1.80</td>\n",
       "    </tr>\n",
       "    <tr>\n",
       "      <th>3</th>\n",
       "      <td>1993</td>\n",
       "      <td>69644500</td>\n",
       "      <td>1.74</td>\n",
       "    </tr>\n",
       "    <tr>\n",
       "      <th>4</th>\n",
       "      <td>1994</td>\n",
       "      <td>70824500</td>\n",
       "      <td>1.69</td>\n",
       "    </tr>\n",
       "  </tbody>\n",
       "</table>\n",
       "</div>"
      ],
      "text/plain": [
       "    Năm    Số dân ±% năm\n",
       "0  1990  66016700    NaN\n",
       "1  1991  67242400   1.86\n",
       "2  1992  68450100   1.80\n",
       "3  1993  69644500   1.74\n",
       "4  1994  70824500   1.69"
      ]
     },
     "execution_count": 7,
     "metadata": {},
     "output_type": "execute_result"
    }
   ],
   "source": [
    "# if only one table in result set, define df, otherwise exit\n",
    "df = None\n",
    "if len(table) == 1:\n",
    "    df = table[0]\n",
    "if df is None:\n",
    "    exit(1)\n",
    "\n",
    "#last row is garbage data, remove last row\n",
    "df = df[:-1]\n",
    "# Copy dataframe\n",
    "df_new = df.copy()\n",
    "df_new.head(5)"
   ]
  },
  {
   "cell_type": "code",
   "execution_count": 4,
   "metadata": {},
   "outputs": [
    {
     "name": "stdout",
     "output_type": "stream",
     "text": [
      "<class 'pandas.core.frame.DataFrame'>\n",
      "RangeIndex: 31 entries, 0 to 30\n",
      "Data columns (total 3 columns):\n",
      " #   Column  Non-Null Count  Dtype \n",
      "---  ------  --------------  ----- \n",
      " 0   Năm     31 non-null     object\n",
      " 1   Số dân  31 non-null     object\n",
      " 2   ±% năm  30 non-null     object\n",
      "dtypes: object(3)\n",
      "memory usage: 872.0+ bytes\n"
     ]
    }
   ],
   "source": [
    "df_new.info()"
   ]
  },
  {
   "cell_type": "code",
   "execution_count": 5,
   "metadata": {},
   "outputs": [
    {
     "name": "stdout",
     "output_type": "stream",
     "text": [
      "<class 'pandas.core.frame.DataFrame'>\n",
      "RangeIndex: 31 entries, 0 to 30\n",
      "Data columns (total 3 columns):\n",
      " #   Column  Non-Null Count  Dtype  \n",
      "---  ------  --------------  -----  \n",
      " 0   Năm     31 non-null     int64  \n",
      " 1   Số dân  31 non-null     int64  \n",
      " 2   ±% năm  30 non-null     float64\n",
      "dtypes: float64(1), int64(2)\n",
      "memory usage: 872.0 bytes\n"
     ]
    }
   ],
   "source": [
    "df_new[\"Số dân\"] = df_new[\"Số dân\"].astype('int64')\n",
    "df_new[\"±% năm\"] = df_new[\"±% năm\"].astype('float64')\n",
    "df_new['Năm'] = pd.to_datetime(df_new['Năm']).dt.year\n",
    "df_new.info()"
   ]
  },
  {
   "cell_type": "code",
   "execution_count": 6,
   "metadata": {},
   "outputs": [
    {
     "data": {
      "text/plain": [
       "<AxesSubplot:xlabel='Năm'>"
      ]
     },
     "execution_count": 6,
     "metadata": {},
     "output_type": "execute_result"
    },
    {
     "data": {
      "image/png": "[encoded data removed]",
      "text/plain": [
       "<Figure size 432x288 with 1 Axes>"
      ]
     },
     "metadata": {
      "needs_background": "light"
     },
     "output_type": "display_data"
    }
   ],
   "source": [
    "import matplotlib.pyplot as plt\n",
    "df_new.plot(x='Năm', y=\"±% năm\")"
   ]
  }
 ],
 "metadata": {
  "interpreter": {
   "hash": "05c935ee2b4ff45f26d355be2499c84aedc5a4939bfa2f7a9b7f00dda4a86ade"
  },
  "kernelspec": {
   "display_name": "Python 3.10.1 ('el-test')",
   "language": "python",
   "name": "python3"
  },
  "language_info": {
   "codemirror_mode": {
    "name": "ipython",
    "version": 3
   },
   "file_extension": ".py",
   "mimetype": "text/x-python",
   "name": "python",
   "nbconvert_exporter": "python",
   "pygments_lexer": "ipython3",
   "version": "3.10.1"
  },
  "orig_nbformat": 4
 },
 "nbformat": 4,
 "nbformat_minor": 2
}
