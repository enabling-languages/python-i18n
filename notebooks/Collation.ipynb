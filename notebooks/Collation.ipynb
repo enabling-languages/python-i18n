{
 "cells": [
  {
   "cell_type": "markdown",
   "metadata": {},
   "source": [
    "# Introduction to collation"
   ]
  },
  {
   "cell_type": "markdown",
   "metadata": {},
   "source": [
    "Collation, in its strictest sense, includes a number of different but related operations including sorting, indexing and searching. The following notebook will focus specifically on sorting.\n",
    "\n",
    "Python, since version 2.3, has used [timsort](https://en.wikipedia.org/wiki/Timsort) as its standard sorting algorithm. Python has a built-in `list.sort()` method that modifies the list inplace. The `sorted()` built-in function builds a new sorted list from an iterable.\n",
    "\n",
    "This notebook will not focus on how to use `list.sort()` or `sorted()`, rather it will focus on ways of extending sorting. For more information on sorting refer to the Python [Sorting HOWTO](https://docs.python.org/3/howto/sorting.html#odd-and-ends) or other online resources."
   ]
  },
  {
   "cell_type": "markdown",
   "metadata": {},
   "source": [
    "The built-in `.sort()` and `sorted()` perform a codepoint ordering based on ISO/IEC 14651."
   ]
  },
  {
   "cell_type": "code",
   "execution_count": 297,
   "metadata": {},
   "outputs": [
    {
     "data": {
      "text/plain": [
       "['Ba', 'Eb', 'Za', 'ba', 'eb', 'za', 'ÉA', 'éa']"
      ]
     },
     "execution_count": 297,
     "metadata": {},
     "output_type": "execute_result"
    }
   ],
   "source": [
    "lc = [\"Eb\", \"ÉA\", \"za\", \"éa\", \"eb\", \"ba\", \"Ba\", \"Za\"]\n",
    "sorted(lc)"
   ]
  },
  {
   "cell_type": "code",
   "execution_count": 298,
   "metadata": {},
   "outputs": [
    {
     "data": {
      "text/plain": [
       "['Ba', 'Eb', 'ÉA', 'Za', 'ba', 'eb', 'éa', 'za']"
      ]
     },
     "execution_count": 298,
     "metadata": {},
     "output_type": "execute_result"
    }
   ],
   "source": [
    "ld = ['Eb', 'ÉA', 'za', 'éa', 'eb', 'ba', 'Ba', 'Za']\n",
    "sorted(ld)"
   ]
  },
  {
   "cell_type": "markdown",
   "metadata": {},
   "source": [
    "To understand what is happening with Python's default sort, we will experiment with a list of miscellaneous letters.\n",
    "\n",
    ">\"Å\", \"â\", \"ồ\", \"z\", \"Ư\", \"á\", \"Ồ\", \"ŋ\", \"ß\", \"b\", \"ɓ\", \"ḕ\", \"ẻ\", \"ę\", \"ɖ\",  \\\n",
    ">\"ɗ\", \"d\", \"D\", \"ê\", \"ĕ\", \"ḝ\", \"ḛ\", \"è\", \"ȅ\", \"Ẻ\", \"Ḕ\", \"Ê\", \"Ĕ\", \"È\", \"Ȅ\""
   ]
  },
  {
   "cell_type": "code",
   "execution_count": 299,
   "metadata": {},
   "outputs": [
    {
     "data": {
      "text/plain": [
       "\"['D', 'E', 'Z', 'b', 'd', 'z', 'Å', 'È', 'Ê', 'ß', 'á', 'â', 'è', 'ê', 'Ĕ', 'ĕ', 'ę', 'Ŋ', 'ŋ', 'Ư', 'Ȅ', 'ȅ', 'ɓ', 'ɖ', 'ɗ', 'Ḕ', 'ḕ', 'ḛ', 'ḝ', 'Ẻ', 'ẻ', 'Ồ', 'ồ']\""
      ]
     },
     "execution_count": 299,
     "metadata": {},
     "output_type": "execute_result"
    }
   ],
   "source": [
    "import unicodedata as ud\n",
    "misc_list = [\"Å\", \"Z\", \"Ŋ\", \"E\", \"â\", \"ồ\", \"z\", \"Ư\", \"á\", \"Ồ\", \"ŋ\", \"ß\", \"b\", \"ɓ\", \"ḕ\", \"ẻ\", \"ę\", \"ɖ\", \"ɗ\", \"d\", \"D\", \"ê\", \"ĕ\", \"ḝ\", \"ḛ\", \"è\", \"ȅ\", \"Ẻ\", \"Ḕ\", \"Ê\", \"Ĕ\", \"È\", \"Ȅ\"]\n",
    "str(sorted(misc_list))"
   ]
  },
  {
   "cell_type": "markdown",
   "metadata": {},
   "source": [
    "In the Basic Latin and the Latin 1 blocks in Unicode, the uppercase characters are grouped before the lowercase characters. While in later blocks most of the upper and lowercased items tend to be collected together.\n",
    "\n",
    "The above example is normalised to Unicode Normalization Form C (NFC), if we convert it to NFD:"
   ]
  },
  {
   "cell_type": "code",
   "execution_count": 300,
   "metadata": {},
   "outputs": [
    {
     "data": {
      "text/plain": [
       "\"['Å', 'D', 'E', 'È', 'Ê', 'Ḕ', 'Ĕ', 'Ẻ', 'Ȅ', 'Ồ', 'Ư', 'Z', 'á', 'â', 'b', 'd', 'è', 'ê', 'ḕ', 'ĕ', 'ẻ', 'ȅ', 'ḝ', 'ę', 'ḛ', 'ồ', 'z', 'ß', 'Ŋ', 'ŋ', 'ɓ', 'ɖ', 'ɗ']\""
      ]
     },
     "execution_count": 300,
     "metadata": {},
     "output_type": "execute_result"
    }
   ],
   "source": [
    "misc_list_nfd = [ud.normalize(\"NFD\", c) for c in misc_list]\n",
    "str(sorted(misc_list_nfd))"
   ]
  },
  {
   "cell_type": "markdown",
   "metadata": {},
   "source": [
    "A couple of observations from the above sorts:\n",
    "\n",
    "1. Uppercase and lowercase letters are sorted as seperate, distinct letters.\n",
    "2. Decompsed sequences sort differently to precomposed sequences, that is normalisaton forms matter when sorting."
   ]
  },
  {
   "cell_type": "code",
   "execution_count": 301,
   "metadata": {},
   "outputs": [
    {
     "data": {
      "text/plain": [
       "['á', 'z', 'á']"
      ]
     },
     "execution_count": 301,
     "metadata": {},
     "output_type": "execute_result"
    }
   ],
   "source": [
    "sorted([\"z\", \"á\", \"a\\u0301\"])"
   ]
  },
  {
   "cell_type": "markdown",
   "metadata": {},
   "source": [
    "It is possible to normalise the sort results by using the `key` parameter to apply normalisation to the collation. A Normalised sort will provide a more consistent sort result across data from different sources.\n",
    "\n",
    "To do a caseless sort, for English, the following code is sufficient, although `str.casefold()` rather than `str.lower()` may be a better choice depending on language."
   ]
  },
  {
   "cell_type": "code",
   "execution_count": 302,
   "metadata": {},
   "outputs": [
    {
     "name": "stdout",
     "output_type": "stream",
     "text": [
      "['b', 'd', 'D', 'E', 'Z', 'z', 'ß', 'á', 'â', 'Å', 'è', 'È', 'ê', 'Ê', 'ĕ', 'Ĕ', 'ę', 'Ŋ', 'ŋ', 'Ư', 'ȅ', 'Ȅ', 'ɓ', 'ɖ', 'ɗ', 'ḕ', 'Ḕ', 'ḛ', 'ḝ', 'ẻ', 'Ẻ', 'ồ', 'Ồ']\n"
     ]
    }
   ],
   "source": [
    "print(sorted(misc_list, key=str.lower))"
   ]
  },
  {
   "cell_type": "markdown",
   "metadata": {},
   "source": [
    "Additionally, your data may be in mixed normalisation forms and you want data to sort consistently, or you might want to group letters with diacritics near the base character, so normalisation can be added:\n"
   ]
  },
  {
   "cell_type": "code",
   "execution_count": 303,
   "metadata": {},
   "outputs": [
    {
     "name": "stdout",
     "output_type": "stream",
     "text": [
      "['á', 'â', 'Å', 'b', 'd', 'D', 'E', 'è', 'È', 'ê', 'Ê', 'ḕ', 'Ḕ', 'ĕ', 'Ĕ', 'ẻ', 'Ẻ', 'ȅ', 'Ȅ', 'ḝ', 'ę', 'ḛ', 'ồ', 'Ồ', 'ß', 'Ư', 'Z', 'z', 'Ŋ', 'ŋ', 'ɓ', 'ɖ', 'ɗ']\n"
     ]
    }
   ],
   "source": [
    "print( sorted(misc_list, key=lambda x: ud.normalize(\"NFD\", x.casefold())) )"
   ]
  },
  {
   "cell_type": "markdown",
   "metadata": {},
   "source": [
    "For the following examples and discussions we will define a `normalised_sort` function, allowing us a convient way to switch between normalisation forms, and localised versus non-localised sorts."
   ]
  },
  {
   "cell_type": "code",
   "execution_count": 304,
   "metadata": {},
   "outputs": [],
   "source": [
    "def normalised_sort(s, nf=\"NFKD\", loc=False):\n",
    "    nf = nf.upper()\n",
    "    if nf in [\"NFC\", \"NFKC\", \"NFD\", \"NFKD\"]:\n",
    "        if isinstance(s, pd.core.series.Series):\n",
    "            s = s.str.normalize(nf).str.lower().map(locale.strxfrm) if loc else s.str.normalize(nf).str.lower()\n",
    "        else:\n",
    "            s = locale.strxfrm(ud.normalize(nf, s).lower()) if loc else ud.normalize(nf, s).lower()\n",
    "    return s"
   ]
  },
  {
   "cell_type": "code",
   "execution_count": 305,
   "metadata": {},
   "outputs": [
    {
     "name": "stdout",
     "output_type": "stream",
     "text": [
      "['á', 'â', 'Å', 'b', 'd', 'D', 'E', 'è', 'È', 'ê', 'Ê', 'ḕ', 'Ḕ', 'ĕ', 'Ĕ', 'ẻ', 'Ẻ', 'ȅ', 'Ȅ', 'ḝ', 'ę', 'ḛ', 'ồ', 'Ồ', 'Ư', 'Z', 'z', 'ß', 'Ŋ', 'ŋ', 'ɓ', 'ɖ', 'ɗ']\n",
      "['á', 'â', 'Å', 'b', 'd', 'D', 'E', 'è', 'È', 'ê', 'Ê', 'ḕ', 'Ḕ', 'ĕ', 'Ĕ', 'ẻ', 'Ẻ', 'ȅ', 'Ȅ', 'ḝ', 'ę', 'ḛ', 'ồ', 'Ồ', 'Ư', 'Z', 'z', 'ß', 'Ŋ', 'ŋ', 'ɓ', 'ɖ', 'ɗ']\n"
     ]
    }
   ],
   "source": [
    "print( sorted(misc_list, key=normalised_sort) )\n",
    "print( sorted(misc_list_nfd, key=normalised_sort) )"
   ]
  },
  {
   "cell_type": "code",
   "execution_count": 306,
   "metadata": {},
   "outputs": [
    {
     "name": "stdout",
     "output_type": "stream",
     "text": [
      "['b', 'd', 'D', 'E', 'Z', 'z', 'ß', 'á', 'â', 'Å', 'è', 'È', 'ê', 'Ê', 'ĕ', 'Ĕ', 'ę', 'Ŋ', 'ŋ', 'Ư', 'ȅ', 'Ȅ', 'ɓ', 'ɖ', 'ɗ', 'ḕ', 'Ḕ', 'ḛ', 'ḝ', 'ẻ', 'Ẻ', 'ồ', 'Ồ']\n",
      "['b', 'd', 'D', 'E', 'Z', 'z', 'ß', 'á', 'â', 'Å', 'è', 'È', 'ê', 'Ê', 'ĕ', 'Ĕ', 'ę', 'Ŋ', 'ŋ', 'Ư', 'ȅ', 'Ȅ', 'ɓ', 'ɖ', 'ɗ', 'ḕ', 'Ḕ', 'ḛ', 'ḝ', 'ẻ', 'Ẻ', 'ồ', 'Ồ']\n"
     ]
    }
   ],
   "source": [
    "print( sorted(misc_list, key=lambda x: normalised_sort(x, nf=\"NFC\")) )\n",
    "print( sorted(misc_list_nfd, key=lambda x: normalised_sort(x, nf=\"NFC\")) )"
   ]
  },
  {
   "cell_type": "markdown",
   "metadata": {},
   "source": [
    "The `normalised_sort()` key function will allow you to ignore case distinctions when sorting, it will also allow you be control whether it sorts based on sort order of precomposed or decomposed sequences. This allows you to fine-tune the sorting."
   ]
  },
  {
   "cell_type": "markdown",
   "metadata": {},
   "source": [
    "# Using the locale module for collation\n",
    "\n",
    "For information on using the Locale module in Google Colab refer to the code snippets in [locale_module_colab.ipynb](https://github.com/enabling-languages/python-i18n/blob/main/colab/locale_module_colab.ipynb)."
   ]
  },
  {
   "cell_type": "code",
   "execution_count": 307,
   "metadata": {},
   "outputs": [],
   "source": [
    "import locale\n",
    "locale.setlocale(locale.LC_ALL, '')\n",
    "\n",
    "try:\n",
    "  import google.colab\n",
    "  IN_COLAB = True\n",
    "except:\n",
    "  IN_COLAB = False\n",
    "if IN_COLAB:\n",
    "    try:\n",
    "        locale.setlocale(locale.LC_ALL, \"fr_FR.UTF-8\")\n",
    "    except locale.Error:\n",
    "        print(\"After the missing locale is installed, the runtime environment will restart, please rerun all code.\")\n",
    "        !sudo locale-gen fr_FR.UTF-8\n",
    "        !sudo locale-gen sv_SE.UTF-8\n",
    "        !sudo locale-gen sv_SE.UTF-8\n",
    "        !sudo update-locale\n",
    "        import os\n",
    "        os.kill(os.getpid(), 9)\n"
   ]
  },
  {
   "cell_type": "markdown",
   "metadata": {},
   "source": [
    "## Available locales\n",
    "\n",
    "It is possible to use the `locale` module and the key parameter of `list.sort()` and `sorted()` to obtain a tailored sort using a supported locale.\n",
    "\n",
    "_It is important to note that use of the `locale` module will not produce platform independant solutions. Each server or workstation may have a different set of locales available, this is most noticable in Linux and Unix based servers and workstations._\n",
    "\n",
    "To get a list of available locales, supported by the locale module, for Windows users:\n",
    "\n",
    "```py\n",
    "for lang in locale.windows_locale.values():\n",
    "    print(lang)\n",
    "```\n",
    "\n",
    "To get a list of available locales, supported by the locale module, for other operating systems:\n",
    "\n",
    "```py\n",
    "for lang in locale.locale_alias.values():\n",
    "    print(lang)\n",
    "```\n",
    "\n",
    "To use a locale, it must be available within the operating systems. To see what locales are available on Linux and MacOS workstations and servers:\n",
    "\n",
    "```shell\n",
    "locale -a\n",
    "```\n",
    "\n",
    "_A Python script will use the system default encoding, unless the locale is explicitly changed. It is important to note that changing the locale can affect the execution of Python code in multiple ways. A script should set the locale once and not change it. If more than one language and set of collation rules is needed, alternative solutions should be used._\n",
    "\n",
    "\n"
   ]
  },
  {
   "cell_type": "markdown",
   "metadata": {},
   "source": [
    "## Identifying the current locale\n",
    "\n",
    "Use `locale.getlocale()` to identify current locale:"
   ]
  },
  {
   "cell_type": "code",
   "execution_count": 308,
   "metadata": {},
   "outputs": [
    {
     "name": "stdout",
     "output_type": "stream",
     "text": [
      "Current locale: ('en_AU', 'UTF-8')\n",
      "Default locale: ('en_AU', 'UTF-8')\n"
     ]
    }
   ],
   "source": [
    "loc = locale.getlocale()\n",
    "default_loc = locale.getdefaultlocale()\n",
    "\n",
    "print(\"Current locale: \" + str(loc))\n",
    "print(\"Default locale: \" + str(default_loc))"
   ]
  },
  {
   "cell_type": "markdown",
   "metadata": {},
   "source": [
    "\n",
    "## Setting a locale\n",
    "\n",
    "Use `locale.setlocale()` to set locale. You can set all the `LC_COLLATE` locale environment variables using:\n",
    "\n",
    "```py\n",
    "locale.setlocale(locale.LC_COLLATE, 'de_DE.UTF-8')\n",
    "```\n",
    "\n",
    "The locale can either e a string that specifies locale or locale and encoding, or a tuple specifying locale and encoding. The required encoding should be specified. Using a tuple:\n",
    "\n",
    "```py\n",
    "locale.setlocale(locale.LC_COLLATE, ('de_DE', 'UTF-8'))\n",
    "```\n",
    "\n",
    "Older versions of Windows do not support standard locale identifiers, and require a Microsoft specific solution:\n",
    "\n",
    "```py\n",
    "locale.setlocale(locale.LC_COLLATE, 'German_Germany')\n",
    "```\n",
    "\n",
    "You can set the current locale to your default settings:\n",
    "\n",
    "```py\n",
    "locale.setlocale(locale.LC_ALL, '')\n",
    "```\n",
    "\n",
    "Changing locales is not necessrily thread safe, and is not recommeneded. Ideally, the locale is set once at the beginning for the script or program:\n",
    "\n",
    "```py\n",
    "import locale\n",
    "locale.setlocale(locale.LC_ALL, '')\n",
    "```\n"
   ]
  },
  {
   "cell_type": "markdown",
   "metadata": {},
   "source": [
    "## Locale specific sorting\n",
    "\n",
    "For locale aware sorting, use [locale.strxfrm()](https://docs.python.org/3/library/locale.html#locale.strxfrm) for a key function or [locale.strcoll()](https://docs.python.org/3/library/locale.html#locale.strcoll) for a comparison function.\n"
   ]
  },
  {
   "cell_type": "code",
   "execution_count": 309,
   "metadata": {},
   "outputs": [
    {
     "name": "stdout",
     "output_type": "stream",
     "text": [
      "['A', 'E', 'Z', 'a', 'e', 'z', 'é']\n",
      "['A', 'E', 'Z', 'a', 'e', 'é', 'z']\n"
     ]
    }
   ],
   "source": [
    "locale.setlocale(locale.LC_COLLATE, \"fr_FR.UTF-8\")\n",
    "a = [\"A\", \"E\", \"Z\", \"a\", \"e\", \"é\", \"z\"]\n",
    "print(sorted(a))\n",
    "print(sorted(a, key=locale.strxfrm))"
   ]
  },
  {
   "cell_type": "code",
   "execution_count": 310,
   "metadata": {},
   "outputs": [
    {
     "name": "stdout",
     "output_type": "stream",
     "text": [
      "['Art', 'Älg', 'Ved', 'Wasa']\n",
      "['Art', 'Ved', 'Wasa', 'Älg']\n"
     ]
    }
   ],
   "source": [
    "corpus = [\"Art\", \"Älg\", \"Ved\", \"Wasa\"]\n",
    "locale.setlocale(locale.LC_COLLATE, \"sv_SE.UTF-8\")\n",
    "\n",
    "print(corpus)\n",
    "corpus.sort(key=locale.strxfrm)\n",
    "print(corpus)\n"
   ]
  },
  {
   "cell_type": "code",
   "execution_count": 311,
   "metadata": {},
   "outputs": [
    {
     "name": "stdout",
     "output_type": "stream",
     "text": [
      "['Amman', 'Bange', 'Zelch', 'amman', 'bange', 'zelch', 'Änger', 'Ösbach', 'änger', 'ösbach']\n",
      "['Amman', 'Änger', 'Bange', 'Ösbach', 'Zelch', 'amman', 'änger', 'bange', 'ösbach', 'zelch']\n"
     ]
    }
   ],
   "source": [
    "locale.setlocale(locale.LC_COLLATE, \"de_DE.UTF-8\")\n",
    "lastnames = [\"bange\", \"änger\", \"amman\", \"zelch\", \"ösbach\", \"Bange\", \"Änger\", \"Amman\", \"Zelch\", \"Ösbach\"]\n",
    "print(sorted(lastnames))\n",
    "print(sorted(lastnames, key=locale.strxfrm)) "
   ]
  },
  {
   "cell_type": "markdown",
   "metadata": {},
   "source": [
    "Locale based sorting, will correctly order according to linguistic tailorings, but like the standard python sorting, it distinguishes between upper and lowercases when sorting."
   ]
  },
  {
   "cell_type": "code",
   "execution_count": 312,
   "metadata": {},
   "outputs": [
    {
     "name": "stdout",
     "output_type": "stream",
     "text": [
      "['amman', 'Amman', 'änger', 'Änger', 'bange', 'Bange', 'ösbach', 'Ösbach', 'zelch', 'Zelch']\n"
     ]
    }
   ],
   "source": [
    "def NFKC_Casefold(s):\n",
    "    return ud.normalize(\"NFC\", ud.normalize('NFKC', s).casefold())\n",
    "\n",
    "print(sorted(lastnames, key=lambda x: locale.strxfrm(NFKC_Casefold(x))))"
   ]
  },
  {
   "cell_type": "markdown",
   "metadata": {},
   "source": [
    "The function `NFKC_Casefold` is an attempt to implement NFKC_CF, an additional normalisation form implemented in ICU, but unsupported by unicodedata.\n",
    "\n",
    "For the following example, we'll use the `normalised_sort` function defined earlier."
   ]
  },
  {
   "cell_type": "code",
   "execution_count": 313,
   "metadata": {},
   "outputs": [
    {
     "name": "stdout",
     "output_type": "stream",
     "text": [
      "['amman', 'Amman', 'änger', 'Änger', 'bange', 'Bange', 'ösbach', 'Ösbach', 'zelch', 'Zelch']\n",
      "['amman', 'Amman', 'änger', 'Änger', 'bange', 'Bange', 'ösbach', 'Ösbach', 'zelch', 'Zelch']\n"
     ]
    }
   ],
   "source": [
    "print( sorted(lastnames, key=lambda x: normalised_sort(x, nf=\"NFKC\", loc=True)) )\n",
    "print( sorted(lastnames, key=lambda x: normalised_sort(x, nf=\"NFKD\", loc=True)) )"
   ]
  },
  {
   "cell_type": "code",
   "execution_count": 314,
   "metadata": {},
   "outputs": [
    {
     "data": {
      "text/plain": [
       "'en_AU.UTF-8'"
      ]
     },
     "execution_count": 314,
     "metadata": {},
     "output_type": "execute_result"
    }
   ],
   "source": [
    "# Reset\n",
    "locale.setlocale(locale.LC_ALL, '')"
   ]
  },
  {
   "cell_type": "markdown",
   "metadata": {},
   "source": [
    "## A note on macOS (and BSD) locale specific collation\n",
    "\n",
    "On the macOS, as with BSD, most LC_COLLATE tables for each locale is symlinked to a single collation table `la_LN.ISO8859-1/LC_COLLATE`. This means that the results of sorting, for many locales, will be the same regardless of the locale used in sorting. This is most noteable in UTF-8 locales.\n",
    "\n",
    "This means that locale sensitive sort results on macOS often differ form the results on Linux and Windows where a locale specific collation table is used.\n",
    "\n",
    "See Python bug [#67384](https://github.com/python/cpython/issues/67384).\n",
    "\n",
    "```bash\n",
    "$ ls -al /usr/share/locale/*.UTF-8/LC_COLLATE\n",
    "lrwxr-xr-x  1 root  wheel  29  7 Feb 08:22 /usr/share/locale/af_ZA.UTF-8/LC_COLLATE -> ../la_LN.ISO8859-1/LC_COLLATE\n",
    "lrwxr-xr-x  1 root  wheel  28  7 Feb 08:22 /usr/share/locale/am_ET.UTF-8/LC_COLLATE -> ../la_LN.US-ASCII/LC_COLLATE\n",
    "lrwxr-xr-x  1 root  wheel  28  7 Feb 08:22 /usr/share/locale/be_BY.UTF-8/LC_COLLATE -> ../la_LN.US-ASCII/LC_COLLATE\n",
    "lrwxr-xr-x  1 root  wheel  28  7 Feb 08:22 /usr/share/locale/bg_BG.UTF-8/LC_COLLATE -> ../la_LN.US-ASCII/LC_COLLATE\n",
    "lrwxr-xr-x  1 root  wheel  29  7 Feb 08:22 /usr/share/locale/ca_ES.UTF-8/LC_COLLATE -> ../ca_ES.ISO8859-1/LC_COLLATE\n",
    "lrwxr-xr-x  1 root  wheel  28  7 Feb 08:22 /usr/share/locale/cs_CZ.UTF-8/LC_COLLATE -> ../la_LN.US-ASCII/LC_COLLATE\n",
    "lrwxr-xr-x  1 root  wheel  29  7 Feb 08:22 /usr/share/locale/da_DK.UTF-8/LC_COLLATE -> ../la_LN.ISO8859-1/LC_COLLATE\n",
    "lrwxr-xr-x  1 root  wheel  29  7 Feb 08:22 /usr/share/locale/de_AT.UTF-8/LC_COLLATE -> ../de_AT.ISO8859-1/LC_COLLATE\n",
    "lrwxr-xr-x  1 root  wheel  29  7 Feb 08:22 /usr/share/locale/de_CH.UTF-8/LC_COLLATE -> ../de_CH.ISO8859-1/LC_COLLATE\n",
    "lrwxr-xr-x  1 root  wheel  29  7 Feb 08:22 /usr/share/locale/de_DE.UTF-8/LC_COLLATE -> ../de_DE.ISO8859-1/LC_COLLATE\n",
    "lrwxr-xr-x  1 root  wheel  28  7 Feb 08:22 /usr/share/locale/el_GR.UTF-8/LC_COLLATE -> ../la_LN.US-ASCII/LC_COLLATE\n",
    "lrwxr-xr-x  1 root  wheel  29  7 Feb 08:22 /usr/share/locale/en_AU.UTF-8/LC_COLLATE -> ../la_LN.ISO8859-1/LC_COLLATE\n",
    "lrwxr-xr-x  1 root  wheel  29  7 Feb 08:22 /usr/share/locale/en_CA.UTF-8/LC_COLLATE -> ../la_LN.ISO8859-1/LC_COLLATE\n",
    "lrwxr-xr-x  1 root  wheel  29  7 Feb 08:22 /usr/share/locale/en_GB.UTF-8/LC_COLLATE -> ../la_LN.ISO8859-1/LC_COLLATE\n",
    "lrwxr-xr-x  1 root  wheel  28  7 Feb 08:22 /usr/share/locale/en_IE.UTF-8/LC_COLLATE -> ../la_LN.US-ASCII/LC_COLLATE\n",
    "lrwxr-xr-x  1 root  wheel  29  7 Feb 08:22 /usr/share/locale/en_NZ.UTF-8/LC_COLLATE -> ../la_LN.ISO8859-1/LC_COLLATE\n",
    "lrwxr-xr-x  1 root  wheel  29  7 Feb 08:22 /usr/share/locale/en_US.UTF-8/LC_COLLATE -> ../la_LN.ISO8859-1/LC_COLLATE\n",
    "lrwxr-xr-x  1 root  wheel  29  7 Feb 08:22 /usr/share/locale/es_ES.UTF-8/LC_COLLATE -> ../es_ES.ISO8859-1/LC_COLLATE\n",
    "lrwxr-xr-x  1 root  wheel  28  7 Feb 08:22 /usr/share/locale/et_EE.UTF-8/LC_COLLATE -> ../la_LN.US-ASCII/LC_COLLATE\n",
    "lrwxr-xr-x  1 root  wheel  29  7 Feb 08:22 /usr/share/locale/eu_ES.UTF-8/LC_COLLATE -> ../la_LN.ISO8859-1/LC_COLLATE\n",
    "lrwxr-xr-x  1 root  wheel  28  7 Feb 08:22 /usr/share/locale/fi_FI.UTF-8/LC_COLLATE -> ../la_LN.US-ASCII/LC_COLLATE\n",
    "lrwxr-xr-x  1 root  wheel  29  7 Feb 08:22 /usr/share/locale/fr_BE.UTF-8/LC_COLLATE -> ../la_LN.ISO8859-1/LC_COLLATE\n",
    "lrwxr-xr-x  1 root  wheel  29  7 Feb 08:22 /usr/share/locale/fr_CA.UTF-8/LC_COLLATE -> ../la_LN.ISO8859-1/LC_COLLATE\n",
    "lrwxr-xr-x  1 root  wheel  29  7 Feb 08:22 /usr/share/locale/fr_CH.UTF-8/LC_COLLATE -> ../la_LN.ISO8859-1/LC_COLLATE\n",
    "lrwxr-xr-x  1 root  wheel  29  7 Feb 08:22 /usr/share/locale/fr_FR.UTF-8/LC_COLLATE -> ../la_LN.ISO8859-1/LC_COLLATE\n",
    "lrwxr-xr-x  1 root  wheel  28  7 Feb 08:22 /usr/share/locale/he_IL.UTF-8/LC_COLLATE -> ../la_LN.US-ASCII/LC_COLLATE\n",
    "lrwxr-xr-x  1 root  wheel  28  7 Feb 08:22 /usr/share/locale/hr_HR.UTF-8/LC_COLLATE -> ../la_LN.US-ASCII/LC_COLLATE\n",
    "lrwxr-xr-x  1 root  wheel  28  7 Feb 08:22 /usr/share/locale/hu_HU.UTF-8/LC_COLLATE -> ../la_LN.US-ASCII/LC_COLLATE\n",
    "lrwxr-xr-x  1 root  wheel  28  7 Feb 08:22 /usr/share/locale/hy_AM.UTF-8/LC_COLLATE -> ../la_LN.US-ASCII/LC_COLLATE\n",
    "lrwxr-xr-x  1 root  wheel  29  7 Feb 08:22 /usr/share/locale/is_IS.UTF-8/LC_COLLATE -> ../is_IS.ISO8859-1/LC_COLLATE\n",
    "lrwxr-xr-x  1 root  wheel  29  7 Feb 08:22 /usr/share/locale/it_CH.UTF-8/LC_COLLATE -> ../la_LN.ISO8859-1/LC_COLLATE\n",
    "lrwxr-xr-x  1 root  wheel  29  7 Feb 08:22 /usr/share/locale/it_IT.UTF-8/LC_COLLATE -> ../la_LN.ISO8859-1/LC_COLLATE\n",
    "lrwxr-xr-x  1 root  wheel  28  7 Feb 08:22 /usr/share/locale/ja_JP.UTF-8/LC_COLLATE -> ../la_LN.US-ASCII/LC_COLLATE\n",
    "lrwxr-xr-x  1 root  wheel  28  7 Feb 08:22 /usr/share/locale/kk_KZ.UTF-8/LC_COLLATE -> ../la_LN.US-ASCII/LC_COLLATE\n",
    "lrwxr-xr-x  1 root  wheel  28  7 Feb 08:22 /usr/share/locale/ko_KR.UTF-8/LC_COLLATE -> ../la_LN.US-ASCII/LC_COLLATE\n",
    "lrwxr-xr-x  1 root  wheel  28  7 Feb 08:22 /usr/share/locale/lt_LT.UTF-8/LC_COLLATE -> ../la_LN.US-ASCII/LC_COLLATE\n",
    "lrwxr-xr-x  1 root  wheel  29  7 Feb 08:22 /usr/share/locale/nl_BE.UTF-8/LC_COLLATE -> ../la_LN.ISO8859-1/LC_COLLATE\n",
    "lrwxr-xr-x  1 root  wheel  29  7 Feb 08:22 /usr/share/locale/nl_NL.UTF-8/LC_COLLATE -> ../la_LN.ISO8859-1/LC_COLLATE\n",
    "lrwxr-xr-x  1 root  wheel  29  7 Feb 08:22 /usr/share/locale/no_NO.UTF-8/LC_COLLATE -> ../la_LN.ISO8859-1/LC_COLLATE\n",
    "lrwxr-xr-x  1 root  wheel  28  7 Feb 08:22 /usr/share/locale/pl_PL.UTF-8/LC_COLLATE -> ../la_LN.US-ASCII/LC_COLLATE\n",
    "lrwxr-xr-x  1 root  wheel  29  7 Feb 08:22 /usr/share/locale/pt_BR.UTF-8/LC_COLLATE -> ../pt_BR.ISO8859-1/LC_COLLATE\n",
    "lrwxr-xr-x  1 root  wheel  29  7 Feb 08:22 /usr/share/locale/pt_PT.UTF-8/LC_COLLATE -> ../la_LN.ISO8859-1/LC_COLLATE\n",
    "lrwxr-xr-x  1 root  wheel  28  7 Feb 08:22 /usr/share/locale/ro_RO.UTF-8/LC_COLLATE -> ../la_LN.US-ASCII/LC_COLLATE\n",
    "lrwxr-xr-x  1 root  wheel  28  7 Feb 08:22 /usr/share/locale/ru_RU.UTF-8/LC_COLLATE -> ../la_LN.US-ASCII/LC_COLLATE\n",
    "lrwxr-xr-x  1 root  wheel  28  7 Feb 08:22 /usr/share/locale/sk_SK.UTF-8/LC_COLLATE -> ../la_LN.US-ASCII/LC_COLLATE\n",
    "lrwxr-xr-x  1 root  wheel  28  7 Feb 08:22 /usr/share/locale/sl_SI.UTF-8/LC_COLLATE -> ../la_LN.US-ASCII/LC_COLLATE\n",
    "lrwxr-xr-x  1 root  wheel  28  7 Feb 08:22 /usr/share/locale/sr_YU.UTF-8/LC_COLLATE -> ../la_LN.US-ASCII/LC_COLLATE\n",
    "lrwxr-xr-x  1 root  wheel  28  7 Feb 08:22 /usr/share/locale/sv_SE.UTF-8/LC_COLLATE -> ../la_LN.US-ASCII/LC_COLLATE\n",
    "lrwxr-xr-x  1 root  wheel  28  7 Feb 08:22 /usr/share/locale/tr_TR.UTF-8/LC_COLLATE -> ../la_LN.US-ASCII/LC_COLLATE\n",
    "lrwxr-xr-x  1 root  wheel  28  7 Feb 08:22 /usr/share/locale/uk_UA.UTF-8/LC_COLLATE -> ../la_LN.US-ASCII/LC_COLLATE\n",
    "lrwxr-xr-x  1 root  wheel  28  7 Feb 08:22 /usr/share/locale/zh_CN.UTF-8/LC_COLLATE -> ../la_LN.US-ASCII/LC_COLLATE\n",
    "lrwxr-xr-x  1 root  wheel  28  7 Feb 08:22 /usr/share/locale/zh_HK.UTF-8/LC_COLLATE -> ../la_LN.US-ASCII/LC_COLLATE\n",
    "lrwxr-xr-x  1 root  wheel  28  7 Feb 08:22 /usr/share/locale/zh_TW.UTF-8/LC_COLLATE -> ../la_LN.US-ASCII/LC_COLLATE\n",
    "```"
   ]
  },
  {
   "cell_type": "markdown",
   "metadata": {},
   "source": [
    "# PyUCA\n",
    "\n",
    "[pyuca](https://github.com/jtauber/pyuca) implements the _Default Unicode Collation Element Table_ (DUCET). These are collation rules from the [Unicode collation algorithm](https://en.wikipedia.org/wiki/Unicode_collation_algorithm) that are language or locale independant.\n",
    "\n",
    "Unfortunately `pyuca` only supports older versions of Unicode. But it is possible to download and use the latest version of allkeys.txt to use the DUCET for the current version of Unicode.\n",
    "\n",
    "To use PyUCA for sorting:\n",
    "\n",
    "1. Install PyUCA using `pip`, if not already installed.\n",
    "2. Download latest version of the [DUCET file](https://www.unicode.org/Public/UCA/latest/allkeys.txt).\n",
    "3. Import PyUCA.\n",
    "4. Initialise a collator, using the latest __allkeys.txt__."
   ]
  },
  {
   "cell_type": "code",
   "execution_count": 315,
   "metadata": {},
   "outputs": [
    {
     "name": "stdout",
     "output_type": "stream",
     "text": [
      "File ‘data/allkeys.txt’ already there; not retrieving.\n",
      "\n"
     ]
    }
   ],
   "source": [
    "if IN_COLAB:\n",
    "  !pip install pyuca\n",
    "  !wget /resources/data/allkeys.txt https://www.unicode.org/Public/UCA/latest/allkeys.txt\n",
    "else:\n",
    "  !mkdir -p data\n",
    "  !wget -nc -P data/ https://www.unicode.org/Public/UCA/latest/allkeys.txt\n",
    "\n",
    "import pyuca"
   ]
  },
  {
   "cell_type": "code",
   "execution_count": 316,
   "metadata": {},
   "outputs": [],
   "source": [
    "if IN_COLAB:\n",
    "  pyuca_collator = pyuca.Collator(\"/content/allkeys.txt\")\n",
    "else:\n",
    "  pyuca_collator = pyuca.Collator(\"data/allkeys.txt\")"
   ]
  },
  {
   "cell_type": "code",
   "execution_count": 317,
   "metadata": {},
   "outputs": [
    {
     "name": "stdout",
     "output_type": "stream",
     "text": [
      "['milla', 'mil·lenni', 'millor', 'minotaure', 'minúcia', 'minúscul', 'misantropia', 'miscel·lània']\n",
      "Default sort and PyUCA are NOT equal for ca_list\n"
     ]
    }
   ],
   "source": [
    "ca_list = [\"minotaure\", \"miscel·lània\",\"misantropia\",\"milla\",\"minúscul\",\"millor\",\"mil·lenni\",\"minúcia\"]\n",
    "\n",
    "ca_list_pyuca = sorted(ca_list, key=pyuca_collator.sort_key)\n",
    "\n",
    "print(ca_list_pyuca)\n",
    "print(\"Default sort and PyUCA are equal for ca_list\") if sorted(ca_list) == ca_list_pyuca else print(\"Default sort and PyUCA are NOT equal for ca_list\")"
   ]
  },
  {
   "cell_type": "code",
   "execution_count": 318,
   "metadata": {},
   "outputs": [
    {
     "name": "stdout",
     "output_type": "stream",
     "text": [
      "['৴', '₹', '1', '১', 'R', '₨', 'S']\n",
      "Default sort and PyUCA are NOT equal for ca_list\n"
     ]
    }
   ],
   "source": [
    "various_chars = [ \"1\", \"\\u20B9\", \"R\", \"\\u09E7\", \"\\u20A8\", \"S\", \"\\u09F4\" ]\n",
    "\n",
    "various_chars_pyuca = sorted(various_chars, key=pyuca_collator.sort_key)\n",
    "\n",
    "print(various_chars_pyuca)\n",
    "print(\"Default sort and PyUCA are equal for various_chars\") if sorted(various_chars_pyuca) == various_chars_pyuca else print(\"Default sort and PyUCA are NOT equal for ca_list\")"
   ]
  },
  {
   "cell_type": "markdown",
   "metadata": {},
   "source": [
    "# Using PyICU for collation\n",
    "\n",
    "PyICU is a Python extension wrapping ICU4C (the [ICU](http://site.icu-project.org/) C/C++ libraries).\n",
    "\n",
    "To use PyICU, it is necessary for ICU to be installed. A version of ICU may be already available on some systems. Prebuilt packages are available for a number of operating systems, alternatively ICU4C can be built from source code. Please use an approach best suited to your operating system. Prepackages versions may contain older versions of ICU4C.\n",
    "\n",
    "The folowing command run in a Jupyter Notebook or Google Collab will provide information on the version of ICU4C installed:\n",
    "\n",
    "```py\n",
    "!icuinfo\n",
    "```"
   ]
  },
  {
   "cell_type": "code",
   "execution_count": 319,
   "metadata": {},
   "outputs": [],
   "source": [
    "# If running on Google Colab install required Python packages.\n",
    "\n",
    "if IN_COLAB:\n",
    "  !pip install -q pyicu\n"
   ]
  },
  {
   "cell_type": "code",
   "execution_count": 320,
   "metadata": {},
   "outputs": [
    {
     "name": "stdout",
     "output_type": "stream",
     "text": [
      "ICU version: 70.1\n",
      "PyICU version: 2.8.1\n"
     ]
    }
   ],
   "source": [
    "#from icu import Locale, Collator, RuleBasedCollator, ICU_VERSION, VERSION, UCollAttribute, UCollAttributeValue\n",
    "from icu import *\n",
    "\n",
    "print(\"ICU version: \" + ICU_VERSION)\n",
    "print(\"PyICU version: \" + VERSION)"
   ]
  },
  {
   "cell_type": "markdown",
   "metadata": {},
   "source": [
    "Various software and libraries that implement collation do so in a number of different ways. Python itself uses a simple codepoint or byte sequence order for collation. The PyUCA package implements the [Default Unicode Collation Element Table](https://unicode.org/reports/tr10/#Default_Unicode_Collation_Element_Table) (DUCET) of the [Unicode Collation Algorithm](https://unicode.org/reports/tr10/).\n",
    "\n",
    "ICU collation is based on the CLDR Collation Alorithm, which is based on DUCET. ICU provides access to both the ROOT collation rules and to language specific tailorings where required. The ICU4C API provides mechanisms for creating collator instamces using both the CLDR Coolation Algorithm and the European ordering rules (EOR / EN 13710).\n",
    "\n",
    "The CLDR Collation Algorithm  should be the preferred way of handling collation when a single language neutral collator needs to be used.\n",
    "\n",
    "To create a collator instance using the root CLDR Collation Algorithm:"
   ]
  },
  {
   "cell_type": "code",
   "execution_count": 321,
   "metadata": {},
   "outputs": [],
   "source": [
    "root_collator = Collator.createInstance(Locale.getRoot())"
   ]
  },
  {
   "cell_type": "code",
   "execution_count": 322,
   "metadata": {},
   "outputs": [
    {
     "name": "stdout",
     "output_type": "stream",
     "text": [
      "['milla', 'mil·lenni', 'millor', 'minotaure', 'minúcia', 'minúscul', 'misantropia', 'miscel·lània']\n",
      "Default sort and CLDR are NOT equal for ca_list\n",
      "PyUCA and CLDR are equal for ca_list\n"
     ]
    }
   ],
   "source": [
    "ca_list_cldr = sorted(ca_list, key=root_collator.getSortKey)\n",
    "\n",
    "print(ca_list_cldr)\n",
    "print(\"Default sort and CLDR are equal for ca_list\") if sorted(ca_list) == ca_list_cldr else print(\"Default sort and CLDR are NOT equal for ca_list\")\n",
    "print(\"PyUCA and CLDR are equal for ca_list\") if ca_list_pyuca == ca_list_cldr else print(\"PyUCA and CLDR are NOT equal for ca_list\")"
   ]
  },
  {
   "cell_type": "markdown",
   "metadata": {},
   "source": [
    "In many instances, DUCET and the CLDR Collation Algorithm will provide the same results. "
   ]
  },
  {
   "cell_type": "code",
   "execution_count": 323,
   "metadata": {},
   "outputs": [
    {
     "name": "stdout",
     "output_type": "stream",
     "text": [
      "Default sort and CLDR are NOT equal for various_chars\n",
      "PyUCA and CLDR are NOT equal for various_chars\n"
     ]
    }
   ],
   "source": [
    "various_chars_cldr = sorted(various_chars, key=root_collator.getSortKey)\n",
    "\n",
    "print(\"Default sort and CLDR are equal for various_chars\") if sorted(various_chars) == various_chars_cldr else print(\"Default sort and CLDR are NOT equal for various_chars\")\n",
    "print(\"PyUCA and CLDR are equal for various_chars\") if various_chars_pyuca == various_chars_cldr else print(\"PyUCA and CLDR are NOT equal for various_chars\")"
   ]
  },
  {
   "cell_type": "markdown",
   "metadata": {},
   "source": [
    "Refer to the collation chapter of the LDML specification [2.1 Grouping classes of characters](https://unicode.org/reports/tr35/tr35-collation.html#grouping_classes_of_characters) for distinctions in CLDR Collation Algorithm that results in the differences between CLDR and DUCET collation."
   ]
  },
  {
   "cell_type": "markdown",
   "metadata": {},
   "source": [
    "To use [European ordering rules](https://en.wikipedia.org/wiki/European_ordering_rules) (EOR / EN 13710):"
   ]
  },
  {
   "cell_type": "code",
   "execution_count": 324,
   "metadata": {},
   "outputs": [],
   "source": [
    "eor_loc = Locale.createCanonical(\"und-u-co-eor\")\n",
    "eor_collator = Collator.createInstance(eor_loc)"
   ]
  },
  {
   "cell_type": "markdown",
   "metadata": {},
   "source": [
    "European ordering rules can be used with a range of locales:\n",
    "\n",
    "```\n",
    "fr-u-co-eor\n",
    "```"
   ]
  },
  {
   "cell_type": "markdown",
   "metadata": {},
   "source": [
    "## `icu.Collator` vs `icu.RuleBasedCollator`\n",
    "\n",
    "PyICU exposes two methods to handle collation in ICU. The usual approach is to use `icu.Collator()` with a supported locale. The second approach is to write your own custom collation rules and use them with `icu.RuleBasedCollator`.\n",
    "\n",
    "The second approach is useful for languages with no locale support, or in situations where you wish to modify the rules for a supported language.\n",
    "\n",
    "To get a list of supported locales for collation use `Collator.getAvailableLocales()`:"
   ]
  },
  {
   "cell_type": "code",
   "execution_count": 325,
   "metadata": {},
   "outputs": [
    {
     "data": {
      "text/plain": [
       "'af am ar ar_SA as az be bg bn bo br bs bs_Cyrl ca ceb chr cs cy da de de_AT dsb dz ee el en en_US en_US_POSIX eo es et fa fa_AF ff ff_Adlm fi fil fo fr fr_CA ga gl gu ha haw he he_IL hi hr hsb hu hy id id_ID ig is it ja ka kk kl km kn ko kok ku ky lb lkt ln lo lt lv mk ml mn mr ms mt my nb nb_NO ne nl nn no om or pa pa_Guru pa_Guru_IN pl ps pt ro ru sa se si sk sl smn sq sr sr_Cyrl sr_Cyrl_BA sr_Cyrl_ME sr_Cyrl_RS sr_Latn sr_Latn_BA sr_Latn_RS sv sw ta te th tk to tr ug uk ur uz vi wae wo xh yi yo zh zh_Hans zh_Hans_CN zh_Hans_SG zh_Hant zh_Hant_HK zh_Hant_MO zh_Hant_TW zu'"
      ]
     },
     "execution_count": 325,
     "metadata": {},
     "output_type": "execute_result"
    }
   ],
   "source": [
    "#for key in Collator.getAvailableLocales().keys():\n",
    "#  print(key)\n",
    "\n",
    "\" \".join(list(Collator.getAvailableLocales().keys()))"
   ]
  },
  {
   "cell_type": "markdown",
   "metadata": {},
   "source": [
    "The available locales will differ between versions of ICU4C being used. With each new version of ICU, additional locales are made available. ICU locales are based on the [Common Locale Data Repository](http://cldr.unicode.org/) (CLDR) datasets.\n",
    "\n",
    "It is possible to tailor existing collation rules by:\n",
    "\n",
    "1. Using the BCP47 Unicode and CLDR extensions to specify options to apply to the collation rules, when the Collator instance is created.\n",
    "2. Change the collation attributes of a Colltor instance using `.setAttribute()` method on a collator.\n",
    "3. Retrieve the rules for an existing locale and prepend options to the rules then use `icu.RuleBasedCollator` to create a collator instance."
   ]
  },
  {
   "cell_type": "markdown",
   "metadata": {},
   "source": [
    "## Using `icu.Collator`\n",
    "\n",
    "1. Define a collator instance using `icu.Collator`\n",
    "2. Use the `key` parameter of `list.sort()` or `sorted()` to access the collator's SortKey.\n",
    "\n",
    "A Turkish example:"
   ]
  },
  {
   "cell_type": "code",
   "execution_count": 326,
   "metadata": {},
   "outputs": [
    {
     "name": "stdout",
     "output_type": "stream",
     "text": [
      "['Adana', 'Ankara', 'Antalya', 'Bursa', 'Ceyhan', 'Çanakkale', 'Gaziantep', 'Iğdır', 'İstanbul', 'İzmir', 'Kayseri', 'Konya', 'Samsun', 'Şanlıurfa']\n"
     ]
    }
   ],
   "source": [
    "tr_list = [\"İstanbul\", \"Ankara\", \"İzmir\", \"Bursa\", \"Antalya\", \"Adana\", \"Şanlıurfa\", \"Konya\", \"Ceyhan\", \"Gaziantep\", \"Kayseri\", \"Samsun\", \"Çanakkale\", \"Iğdır\"]\n",
    "#loc = 'tr_TR.UTF-8'\n",
    "loc = Locale(\"tr\")\n",
    "tr_collator = Collator.createInstance(loc)\n",
    "print(sorted(tr_list, key=tr_collator.getSortKey))\n",
    "#tr_list.sort(key=tr_collator.getSortKey)"
   ]
  },
  {
   "cell_type": "markdown",
   "metadata": {},
   "source": [
    "A Thai collation example:"
   ]
  },
  {
   "cell_type": "code",
   "execution_count": 327,
   "metadata": {},
   "outputs": [
    {
     "name": "stdout",
     "output_type": "stream",
     "text": [
      "['ไก่', 'ควาย', 'ช้าง', 'เป็ด', 'ม้า', 'วัว', 'หมู', 'เห็ด']\n"
     ]
    }
   ],
   "source": [
    "thai_words = [\"หมู\", \"เห็ด\", \"เป็ด\", \"ไก่\", \"ช้าง\", \"ม้า\", \"วัว\", \"ควาย\"]\n",
    "th_loc = Locale.createCanonical(\"th-TH\") \n",
    "th_collator = Collator.createInstance(th_loc)\n",
    "print(sorted(thai_words, key=th_collator.getSortKey))\n",
    "# ['ไก่', 'ควาย', 'ช้าง', 'เป็ด', 'ม้า', 'วัว', 'หมู', 'เห็ด']"
   ]
  },
  {
   "cell_type": "markdown",
   "metadata": {},
   "source": [
    "### Customising `icu.Collator` using BCP47 extentions\n",
    "\n",
    "It is possible to use extensions to BCP47 to tailor collation. Some locales have more than one set of collation rules available. For instance German has a default linguistic collation. There is also a phonebook collation, used for names, which orders letters differently.\n",
    "\n",
    "Given the following list of names:"
   ]
  },
  {
   "cell_type": "code",
   "execution_count": 328,
   "metadata": {},
   "outputs": [],
   "source": [
    "de_names = ['Hafermann, Ulrich', 'Hacker, Simon', 'Hackmann, Gustav', 'Häcker, Emil', 'Haecker, Manfred', 'Häcker, Xaver', 'Assemann, Simon', 'Aßmann, Erika', 'Astmann, Manfred', 'Assmann, Frank']"
   ]
  },
  {
   "cell_type": "markdown",
   "metadata": {},
   "source": [
    "The default German collation rules sorts these as:"
   ]
  },
  {
   "cell_type": "code",
   "execution_count": 329,
   "metadata": {},
   "outputs": [
    {
     "name": "stdout",
     "output_type": "stream",
     "text": [
      "['Assemann, Simon', 'Aßmann, Erika', 'Assmann, Frank', 'Astmann, Manfred', 'Häcker, Emil', 'Hacker, Simon', 'Häcker, Xaver', 'Hackmann, Gustav', 'Haecker, Manfred', 'Hafermann, Ulrich']\n"
     ]
    }
   ],
   "source": [
    "de_loc = Locale(\"de\")\n",
    "de_collator = Collator.createInstance(de_loc)\n",
    "print(sorted(de_names, key=de_collator.getSortKey))"
   ]
  },
  {
   "cell_type": "markdown",
   "metadata": {},
   "source": [
    "Alternatively, this could be written as:"
   ]
  },
  {
   "cell_type": "code",
   "execution_count": 330,
   "metadata": {},
   "outputs": [
    {
     "name": "stdout",
     "output_type": "stream",
     "text": [
      "['Assemann, Simon', 'Aßmann, Erika', 'Assmann, Frank', 'Astmann, Manfred', 'Häcker, Emil', 'Hacker, Simon', 'Häcker, Xaver', 'Hackmann, Gustav', 'Haecker, Manfred', 'Hafermann, Ulrich']\n"
     ]
    }
   ],
   "source": [
    "de_collator = Collator.createInstance(Locale(\"de\"))\n",
    "print(sorted(de_names, key=de_collator.getSortKey))"
   ]
  },
  {
   "cell_type": "markdown",
   "metadata": {},
   "source": [
    "The German Phonebook collation rules have the following changes to the German collation rules:\n",
    "\n",
    "Ä/ä = Ae/ae \\\n",
    "Ö/ö = Oe/oe \\\n",
    "Ü/ü = Ue/ue \\\n",
    "ß = ss\n",
    "\n",
    "This will sort the list of names as follows:"
   ]
  },
  {
   "cell_type": "code",
   "execution_count": 331,
   "metadata": {},
   "outputs": [
    {
     "name": "stdout",
     "output_type": "stream",
     "text": [
      "['Assemann, Simon', 'Aßmann, Erika', 'Assmann, Frank', 'Astmann, Manfred', 'Hacker, Simon', 'Hackmann, Gustav', 'Häcker, Emil', 'Haecker, Manfred', 'Häcker, Xaver', 'Hafermann, Ulrich']\n"
     ]
    }
   ],
   "source": [
    "de_phbk_loc = Locale.createCanonical(\"de-u-co-phonebk\") \n",
    "de_phpk_collator = Collator.createInstance(de_phbk_loc)\n",
    "print(sorted(de_names, key=de_phpk_collator.getSortKey))"
   ]
  },
  {
   "cell_type": "markdown",
   "metadata": {},
   "source": [
    "The basic structure of a BCP47 tag is a _language subtag_, followed by _script_ and _region_ subtags as required. This is then followed by a _u_ subtag indicating following subtags are UNicode extension key and value pairs, e.g.\n",
    "\n",
    "```\n",
    "en-u-ks-level2\n",
    "de-u-co-phonebk-ks-level2\n",
    "fr-u-ks-level3-ka-shifted\n",
    "```\n",
    "\n",
    "When the value of a key value pair is `true`, the key value pair is omitted from the tag, only the key is included.\n",
    "\n",
    "Some commonly used collation settings:\n",
    "\n",
    "* __Ignore accents__: `-ks-level1`\n",
    "* __Ignore accents, but take case into account__: `-ks-level1-kc`\n",
    "* __Ignore case__: `-ks-level2`\n",
    "* __Ignore punctuation (completely)__: `-ks-level3-ka-shifted`\n",
    "* __Ignore punctuation, but distinguish among punctuation marks__: `-ks-level4-ka-shifted`\n"
   ]
  },
  {
   "cell_type": "markdown",
   "metadata": {},
   "source": [
    "### BCP 47 subtags that can be used to tailor collation\n",
    "\n",
    "Refer to  [cldr/common/bcp47/collation.xml](https://github.com/unicode-org/cldr/blob/master/common/bcp47/collation.xml)\n",
    "\n",
    "|BCP47 subtags  |Old syntax           |Description   |Locales  |\n",
    "|-------------  |-------------------- |------------- |-------- |\n",
    "|-co-big5han |collation=big5han  |Pinyin ordering for Latin, big5 charset ordering for CJK characters (used in Chinese  |zh, zh_Hans, zh_Hans_CN, zh_Hans_SG, zh_Hant, zh_Hant_HK, zh_Hant_MO, zh_Hant_TW |\n",
    "|-co-compat |collation=compat  |A previous version of the ordering, for compatibility  |ar, ar_SA |\n",
    "|-co-dict |collation=dictionary  |Dictionary style ordering (such as in Sinhala)  |si |\n",
    "|-co-direct |collation=direct  |DEPRECATED. Binary code point order (used in Hindi)  | |\n",
    "|-co-ducet |collation=ducet  |The default Unicode collation element table order  | |\n",
    "|-co-emoji |collation=emoji  |Recommended ordering for emoji characters  |af, am, ar, ar_SA, as, az, be, bg, bn, bo, br, bs, bs_Cyrl, ca, ceb, chr, cs, cy, da, de, de_AT, dsb, dz, ee, el, en, en_US, en_US_POSIX, eo, es, et, fa, fa_AF, ff, ff_Adlm, fi, fil, fo, fr, fr_CA, ga, gl, gu, ha, haw, he, he_IL, hi, hr, hsb, hu, hy, id, id_ID, ig, is, it, ja, ka, kk, kl, km, kn, ko, kok, ku, ky, lb, lkt, ln, lo, lt, lv, mk, ml, mn, mr, ms, mt, my, nb, nb_NO, ne, nl, nn, no, om, or, pa, pa_Guru, pa_Guru_IN, pl, ps, pt, ro, ru, sa, se, si, sk, sl, smn, sq, sr, sr_Cyrl, sr_Cyrl_BA, sr_Cyrl_ME, sr_Cyrl_RS, sr_Latn, sr_Latn_BA, sr_Latn_RS, sv, sw, ta, te, th, tk, to, tr, ug, uk, ur, uz, vi, wae, wo, xh, yi, yo, zh, zh_Hans, zh_Hans_CN, zh_Hans_SG, zh_Hant, zh_Hant_HK, zh_Hant_MO, zh_Hant_TW, zu |\n",
    "|-co-eor |collation=eor  |European ordering rules  |af, am, ar, ar_SA, as, az, be, bg, bn, bo, br, bs, bs_Cyrl, ca, ceb, chr, cs, cy, da, de, de_AT, dsb, dz, ee, el, en, en_US, en_US_POSIX, eo, es, et, fa, fa_AF, ff, ff_Adlm, fi, fil, fo, fr, fr_CA, ga, gl, gu, ha, haw, he, he_IL, hi, hr, hsb, hu, hy, id, id_ID, ig, is, it, ja, ka, kk, kl, km, kn, ko, kok, ku, ky, lb, lkt, ln, lo, lt, lv, mk, ml, mn, mr, ms, mt, my, nb, nb_NO, ne, nl, nn, no, om, or, pa, pa_Guru, pa_Guru_IN, pl, ps, pt, ro, ru, sa, se, si, sk, sl, smn, sq, sr, sr_Cyrl, sr_Cyrl_BA, sr_Cyrl_ME, sr_Cyrl_RS, sr_Latn, sr_Latn_BA, sr_Latn_RS, sv, sw, ta, te, th, tk, to, tr, ug, uk, ur, uz, vi, wae, wo, xh, yi, yo, zh, zh_Hans, zh_Hans_CN, zh_Hans_SG, zh_Hant, zh_Hant_HK, zh_Hant_MO, zh_Hant_TW, zu |\n",
    "|-co-gb2312 |collation=gb2312han  |Pinyin ordering for Latin, gb2312han charset ordering for CJK characters (used in Chinese)  |zh, zh_Hans, zh_Hans_CN, zh_Hans_SG, zh_Hant, zh_Hant_HK, zh_Hant_MO, zh_Hant_TW |\n",
    "|-co-phonebk |collation=phonebook  |Phonebook style ordering (such as in German)  |de, de_AT |\n",
    "|-co-phonetic |collation=phonetic  |Phonetic ordering (sorting based on pronunciation)  |ln |\n",
    "|-co-pinyin |collation=pinyin  |Pinyin ordering for Latin and for CJK characters (used in Chinese)  |zh, zh_Hans, zh_Hans_CN, zh_Hans_SG, zh_Hant, zh_Hant_HK, zh_Hant_MO, zh_Hant_TW |\n",
    "|-co-reformed |collation=reformed  |Reformed ordering (such as in Swedish)  |sv |\n",
    "|-co-search |collation=search  |Special collation type for string search  |af, am, ar, ar_SA, as, az, be, bg, bn, bo, br, bs, bs_Cyrl, ca, ceb, chr, cs, cy, da, de, de_AT, dsb, dz, ee, el, en, en_US, en_US_POSIX, eo, es, et, fa, fa_AF, ff, ff_Adlm, fi, fil, fo, fr, fr_CA, ga, gl, gu, ha, haw, he, he_IL, hi, hr, hsb, hu, hy, id, id_ID, ig, is, it, ja, ka, kk, kl, km, kn, ko, kok, ku, ky, lb, lkt, ln, lo, lt, lv, mk, ml, mn, mr, ms, mt, my, nb, nb_NO, ne, nl, nn, no, om, or, pa, pa_Guru, pa_Guru_IN, pl, ps, pt, ro, ru, sa, se, si, sk, sl, smn, sq, sr, sr_Cyrl, sr_Cyrl_BA, sr_Cyrl_ME, sr_Cyrl_RS, sr_Latn, sr_Latn_BA, sr_Latn_RS, sv, sw, ta, te, th, tk, to, tr, ug, uk, ur, uz, vi, wae, wo, xh, yi, yo, zh, zh_Hans, zh_Hans_CN, zh_Hans_SG, zh_Hant, zh_Hant_HK, zh_Hant_MO, zh_Hant_TW, zu |\n",
    "|-co-searchjl |collation=searchjl  |Special collation type for Korean initial consonant search  |ko |\n",
    "|-co-standard |collation=standard  |Default ordering for each language  |af, am, ar, ar_SA, as, az, be, bg, bn, bo, br, bs, bs_Cyrl, ca, ceb, chr, cs, cy, da, de, de_AT, dsb, dz, ee, el, en, en_US, en_US_POSIX, eo, es, et, fa, fa_AF, ff, ff_Adlm, fi, fil, fo, fr, fr_CA, ga, gl, gu, ha, haw, he, he_IL, hi, hr, hsb, hu, hy, id, id_ID, ig, is, it, ja, ka, kk, kl, km, kn, ko, kok, ku, ky, lb, lkt, ln, lo, lt, lv, mk, ml, mn, mr, ms, mt, my, nb, nb_NO, ne, nl, nn, no, om, or, pa, pa_Guru, pa_Guru_IN, pl, ps, pt, ro, ru, sa, se, si, sk, sl, smn, sq, sr, sr_Cyrl, sr_Cyrl_BA, sr_Cyrl_ME, sr_Cyrl_RS, sr_Latn, sr_Latn_BA, sr_Latn_RS, sv, sw, ta, te, th, tk, to, tr, ug, uk, ur, uz, vi, wae, wo, xh, yi, yo, zh, zh_Hans, zh_Hans_CN, zh_Hans_SG, zh_Hant, zh_Hant_HK, zh_Hant_MO, zh_Hant_TW, zu |\n",
    "|-co-stroke |collation=stroke  |Pinyin ordering for Latin, stroke order for CJK characters (used in Chinese)  |zh, zh_Hans, zh_Hans_CN, zh_Hans_SG, zh_Hant, zh_Hant_HK, zh_Hant_MO, zh_Hant_TW |\n",
    "|-co-trad |collation=traditional  |Traditional style ordering (such as in Spanish)  |bn, es, fi, kn, vi |\n",
    "|-co-unihan |collation=unihan  |Pinyin ordering for Latin, Unihan radical-stroke ordering for CJK characters (used in Chinese)  |ja, ko, zh, zh_Hans, zh_Hans_CN, zh_Hans_SG, zh_Hant, zh_Hant_HK, zh_Hant_MO, zh_Hant_TW |\n",
    "|-co-zhuyin |collation=zhuyin  |Pinyin ordering for Latin, zhuyin order for Bopomofo and CJK characters (used in Chinese)  |zh, zh_Hans, zh_Hans_CN, zh_Hans_SG, zh_Hant, zh_Hant_HK, zh_Hant_MO, zh_Hant_TW |\n",
    "\n",
    "#### Collation parameter key for alternate handling\n",
    "\n",
    "|BCP47 subtags  |Old syntax            |Description   |\n",
    "|-------------  |-------------------- |------------- |\n",
    "|-ka-noignore |colAlternate=non-ignorable  |Variable collation elements are not reset to ignorable  |\n",
    "|-ka-shifted |colAlternate=shifted  |Variable collation elements are reset to zero at levels one through three  |\n",
    "\n",
    "#### Collation parameter key for backward collation weight\n",
    "\n",
    "|BCP47 subtags  |Old syntax            |Description   |\n",
    "|-------------  |-------------------- |------------- |\n",
    "|-kb-true |colBackwards=yes  |The second level to be backwards  |\n",
    "|-kb-false |colBackwards=no  |No backwards (the second level to be forwards)  |\n",
    "\n",
    "#### Collation parameter key for case level\n",
    "\n",
    "|BCP47 subtags  |Old syntax            |Description   |\n",
    "|-------------  |-------------------- |------------- |\n",
    "|-kc-true |colCaseLevel=yes  |The case level is inserted in front of tertiary  |\n",
    "|-kc-false |colCaseLevel=no  |No special case level handling  |\n",
    "\n",
    "#### Collation parameter key for ordering by case\n",
    "\n",
    "|BCP47 subtags  |Old syntax            |Description   |\n",
    "|-------------  |-------------------- |------------- |\n",
    "|-kf-upper |colCaseFirst=upper  |Upper case to be sorted before lower case  |\n",
    "|-kf-lower |colCaseFirst=lower  |Lower case to be sorted before upper case  |\n",
    "|-kf-false |colCaseFirst=false  |No special case ordering  |\n",
    "\n",
    "#### <span style=\"color:reg;\">DEPRECATED:</span> Collation parameter key for special Hiragana handling\n",
    "\n",
    "|BCP47 subtags  |Old syntax            |Description   |\n",
    "|-------------  |-------------------- |------------- |\n",
    "|-kh-true |colHiraganaQuaternary=yes  |Hiragana to be sorted before all non-variable on quaternary level  |\n",
    "|-kh-false |colHiraganaQuaternary=no  |No special handling for Hiragana  |\n",
    "\n",
    "#### Collation parameter key for normalization\n",
    "\n",
    "|BCP47 subtags  |Old syntax            |Description   |\n",
    "|-------------  |-------------------- |------------- |\n",
    "|-kk-true |colNormalization=yes  |Convert text into Normalization Form D before calculating collation weights  |\n",
    "|-kk-false |colNormalization=no  |Skip normalization  |\n",
    "\n",
    "#### Collation parameter key for numeric handling\n",
    "\n",
    "|BCP47 subtags  |Old syntax            |Description   |\n",
    "|-------------  |-------------------- |------------- |\n",
    "|-kn-true |colNumeric=yes  |A sequence of decimal digits is sorted at primary level with its numeric value  |\n",
    "|-kn-false |colNumeric=no |No special handling for numeric ordering  |\n",
    "\n",
    "#### Collation reorder codes\n",
    "\n",
    "|BCP47 subtags  |Old syntax            |Description   |\n",
    "|-------------  |-------------------- |------------- |\n",
    "|-kr-space |colReorder=space  |Whitespace reordering code, see LDML Part 5: Collation  |\n",
    "|-kr-punct |colReorder=punct  |Punctuation reordering code, see LDML Part 5: Collation  |\n",
    "|-kr-symbol |colReorder=symbol  |Symbol reordering code (other than currency), see LDML Part 5: Collation  |\n",
    "|-kr-currency |colReorder=currency  |Currency reordering code, see LDML Part 5: Collation  |\n",
    "|-kr-digit |colReorder=digit  |Digit (number) reordering code, see LDML Part 5: Collation  |\n",
    "|-kr-REORDER_CODE |colReorder=REORDER_CODE  |Other collation reorder code — for script, see LDML Part 5: Collation  |\n",
    "\n",
    "#### Collation parameter key for collation strength\n",
    "\n",
    "|BCP47 subtags  |Old syntax            |Description   |\n",
    "|-------------  |-------------------- |------------- |\n",
    "|-ks-level1 |colStrength=primary  |The primary level  |\n",
    "|-ks-level2 |colStrength=secondary  |he secondary level  |\n",
    "|-ks-level3 |colStrength=tertiary  |The tertiary level  |\n",
    "|-ks-level4 |colStrength=quaternary <br>colStrength=quarternary  |The quaternary level  |\n",
    "|-ks-identic |colStrength=identical  |The identical level  |\n",
    "\n",
    "#### Collation parameter key for maxVariable, the last reordering group to be affected by ka-shifted\n",
    "\n",
    "|BCP47 subtags  |Old syntax            |Description   |\n",
    "|-------------  |-------------------- |------------- |\n",
    "|-kv-space |  |Only spaces are affected by ka-shifted  |\n",
    "|-kv-punct |  |Spaces and punctuation are affected by ka-shifted (CLDR default)  |\n",
    "|-kv-symbol |  |Spaces, punctuation and symbols except for currency symbols are affected by ka-shifted (UCA default)  |\n",
    "|-kv-currency |  |Spaces, punctuation and all symbols are affected by ka-shifted  |\n",
    "\n",
    "#### <span style=\"color:reg;\">DEPRECATED:</span> Collation parameter key for variable top\n",
    "\n",
    "|BCP47 subtags  |Old syntax            |Description   |\n",
    "|-------------  |-------------------- |------------- |\n",
    "|-vt-CODEPOINTS |variableTop=CODEPOINTS  |The variable top (one or more Unicode code points: LDML Appendix Q)  |\n"
   ]
  },
  {
   "cell_type": "markdown",
   "metadata": {},
   "source": [
    "### Customising `icu.Collator` using collator attributes\n",
    "\n",
    "Atributes can be used to modify varous aspects of collation rules being used. \n",
    "\n",
    "1. Define a collator instance using `icu.Collator`\n",
    "2. Update the attributes of the collator instance, using `.setAttribute()`\n",
    "3. Use the `key` parameter of `list.sort()` or `sorted()` to access the collator's SortKey.\n",
    "\n",
    "|Attribute  |Values  |Notes  |\n",
    "|---------- |------- |------ |\n",
    "|UCollAttribute.ALTERNATE_HANDLING |UCollAttributeValue.NON_IGNORABLE, UCollAttributeValue.SHIFTED |For handling variable elements. __NON_IGNORABLE__ (default) treats all the codepoints with non-ignorable primary weights in the same way. __SHIFTED__: codepoints with primary weights that are equal or below the variable top value to be ignored on primary level and moved to the quaternary level.  |\n",
    "|UCollAttribute.CASE_FIRST |UCollAttributeValue.OFF, UCollAttributeValue.LOWER_FIRST, UCollAttributeValue.UPPER_FIRST | Ordering of upper and lower case letters. __OFF__ (default), which orders upper and lower case letters in accordance to their tertiary weights. __UPPER_FIRST__ which forces upper case letters to sort before lower case letters, and __LOWER_FIRST__ which forces lower case letters to sort before upper case letters. |\n",
    "|UCollAttribute.CASE_LEVEL |UCollAttributeValue.ON, UCollAttributeValue.OFF |__On__ if case sensitive (case level is generated), __off__ is case insensitive (case level is not generated). |\n",
    "|UCollAttribute.DECOMPOSITION_MODE |UCollAttributeValue.ON, UCollAttributeValue.OFF  |Alias for UCollAttribute.NORMALIZATION_MODE attribute.  |\n",
    "|UCollAttribute.FRENCH_COLLATION |UCollAttributeValue.ON, UCollAttributeValue.OFF |Direction of secondary weights (Canadian French).  __ON__: secondary weights considered backwards. __OFF__: secondary weights considered in the order they appear.   |\n",
    "|UCollAttribute.HIRAGANA_QUATERNARY_MODE |UCollAttributeValue.ON, UCollAttributeValue.OFF |When turned on, this attribute positions Hiragana before all non-ignorables on quaternary level. Use depreciated. |\n",
    "|UCollAttribute.NORMALIZATION_MODE |UCollAttributeValue.ON, UCollAttributeValue.OFF |Controls whether the normalization check and necessary normalizations are performed. __OFF__: (default) no normalization check is performed. __ON__: check to see if data in in FCD form, if not then NFD normalization is performed.   |\n",
    "|UCollAttribute.NUMERIC_COLLATION |UCollAttributeValue.ON, UCollAttributeValue.OFF  |When turned on, this attribute makes substrings of digits sort according to their numeric values.  |\n",
    "|UCollAttribute.STRENGTH |UCollAttributeValue.PRIMARY, UCollAttributeValue.SECONDARY, UCollAttributeValue.TERTIARY, UCollAttributeValue.QUATERNARY, UCollAttributeValue.IDENTICAL |The strength attribute. The usual strength for most locales (except Japanese) is tertiary.  |\n",
    "\n",
    "See [UColAttribute](https://unicode-org.github.io/icu-docs/apidoc/released/icu4c/ucol_8h.html#a583fbe7fc4a850e2fcc692e766d2826c) in [ICU4C API](https://unicode-org.github.io/icu-docs/apidoc/released/icu4c/) reference.\n"
   ]
  },
  {
   "cell_type": "markdown",
   "metadata": {},
   "source": [
    "#### Sorting numbers\n",
    "\n",
    "In the following code snippet, `.setAttribute()` is used to modify the collation, allowing digits to be sorted as numbers, rather than being sorted as characters."
   ]
  },
  {
   "cell_type": "code",
   "execution_count": 332,
   "metadata": {},
   "outputs": [
    {
     "name": "stdout",
     "output_type": "stream",
     "text": [
      "['1 apple', '10 strawberries', '2 pears', '3 oranges']\n",
      "['1 apple', '2 pears', '3 oranges', '10 strawberries']\n"
     ]
    }
   ],
   "source": [
    "en_list = ['3 oranges', '1 apple', '10 strawberries', '2 pears']\n",
    "print(sorted(en_list))\n",
    "en_collator = Collator.createInstance(Locale('en_AU'))\n",
    "en_collator.setAttribute(UCollAttribute.NUMERIC_COLLATION, UCollAttributeValue.ON)\n",
    "\n",
    "print(sorted(en_list, key=en_collator.getSortKey))"
   ]
  },
  {
   "cell_type": "markdown",
   "metadata": {},
   "source": [
    "#### Case insenitive collation\n",
    "\n",
    "To enable case insensitve collation:\n",
    "\n",
    "`coll.setAttribute(UCollAttribute.STRENGTH, UCollAttributeValue.SECONDARY)` or `coll.setStrength(UCollAttributeValue.SECONDARY)`"
   ]
  },
  {
   "cell_type": "code",
   "execution_count": 333,
   "metadata": {},
   "outputs": [
    {
     "name": "stdout",
     "output_type": "stream",
     "text": [
      "abc is less than ABC\n",
      "abc equals ABC\n"
     ]
    }
   ],
   "source": [
    "def str_compare(col, s1, s2):\n",
    "    if col.compare(s1, s2) == 0:\n",
    "        print( str(s1) + \" equals \" + str(s2))\n",
    "    elif col.compare(s1, s2) < 0:\n",
    "        print(str(s1) +  \" is less than \" + str(s2))\n",
    "    else:\n",
    "        print(str(s1) +  \" is greater than \" + str(s2))\n",
    "\n",
    "str_compare(en_collator, \"abc\", \"ABC\")\n",
    "\n",
    "# Case insensitive collation\n",
    "en_collator.setAttribute(UCollAttribute.STRENGTH, UCollAttributeValue.SECONDARY)\n",
    "str_compare(en_collator, \"abc\", \"ABC\")"
   ]
  },
  {
   "cell_type": "markdown",
   "metadata": {},
   "source": [
    "#### Ignore diacrtics\n",
    "\n",
    "To enable case and diacritic insensitive collation:\n",
    "\n",
    "`coll.setAttribute(UCollAttribute.STRENGTH, UCollAttributeValue.PRIMARY)` or `coll.setStrength(UCollAttributeValue.PRIMARY)`\n",
    "\n",
    "This will ignore diacritics and casing when comparing or sorting."
   ]
  },
  {
   "cell_type": "code",
   "execution_count": 334,
   "metadata": {},
   "outputs": [
    {
     "name": "stdout",
     "output_type": "stream",
     "text": [
      "cafe equals café\n",
      "cafe equals Café\n"
     ]
    }
   ],
   "source": [
    "# Case insensitive collation\n",
    "en_collator.setAttribute(UCollAttribute.STRENGTH, UCollAttributeValue.PRIMARY)\n",
    "str_compare(en_collator, \"cafe\", \"café\")\n",
    "str_compare(en_collator, \"cafe\", \"Café\")"
   ]
  },
  {
   "cell_type": "markdown",
   "metadata": {},
   "source": [
    "To enable diacritic insensitive collation, while retaining case distinctions:\n",
    "\n",
    "`coll.setAttribute(UCollAttribute.STRENGTH, UCollAttributeValue.PRIMARY)` or `coll.setStrength(UCollAttributeValue.PRIMARY)`\n",
    "\n",
    "and\n",
    "\n",
    "`en_collator.setAttribute(UCollAttribute.CASE_LEVEL, UCollAttributeValue.ON)`"
   ]
  },
  {
   "cell_type": "code",
   "execution_count": 335,
   "metadata": {},
   "outputs": [
    {
     "name": "stdout",
     "output_type": "stream",
     "text": [
      "cafe equals café\n",
      "cafe is less than Café\n",
      "café is less than Cafe\n"
     ]
    }
   ],
   "source": [
    "en_collator.setAttribute(UCollAttribute.STRENGTH, UCollAttributeValue.PRIMARY)\n",
    "en_collator.setAttribute(UCollAttribute.CASE_LEVEL, UCollAttributeValue.ON)\n",
    "str_compare(en_collator, \"cafe\", \"café\")\n",
    "str_compare(en_collator, \"cafe\", \"Café\")\n",
    "str_compare(en_collator, \"café\", \"Cafe\")\n",
    "\n",
    "# Reset CASE_LEVEL for future examples.\n",
    "en_collator.setAttribute(UCollAttribute.CASE_LEVEL, UCollAttributeValue.OFF)"
   ]
  },
  {
   "cell_type": "markdown",
   "metadata": {},
   "source": [
    "#### Ignore punctuation\n",
    "\n",
    "To ignore punctuation completely, use:\n",
    "\n",
    "```py\n",
    "coll.setAttribute(UCollAttribute.STRENGTH, UCollAttributeValue.TERTIARY)\n",
    "# or `coll.setStrength(UCollAttributeValue.TERTIARY)\n",
    "coll.setAttribute(UCollAttribute.ALTERNATE_HANDLING, UCollAttributeValue.SHIFTED)\n",
    "```\n"
   ]
  },
  {
   "cell_type": "code",
   "execution_count": 336,
   "metadata": {},
   "outputs": [
    {
     "name": "stdout",
     "output_type": "stream",
     "text": [
      "You're dying? equals You're dying‽\n"
     ]
    }
   ],
   "source": [
    "en_collator.setAttribute(UCollAttribute.STRENGTH, UCollAttributeValue.TERTIARY)\n",
    "en_collator.setAttribute(UCollAttribute.ALTERNATE_HANDLING, UCollAttributeValue.SHIFTED)\n",
    "str_compare(en_collator, \"You're dying?\", \"You're dying‽\")"
   ]
  },
  {
   "cell_type": "markdown",
   "metadata": {},
   "source": [
    "An alternative approach which still holds the distinctions between punctuation:\n",
    "\n",
    "```py\n",
    "coll.setAttribute(UCollAttribute.STRENGTH, UCollAttributeValue.QUATERNARY)\n",
    "# or coll.setStrength(UCollAttributeValue.QUATERNARY)\n",
    "coll.setAttribute(UCollAttribute.ALTERNATE_HANDLING, UCollAttributeValue.SHIFTED)\n",
    "```\n"
   ]
  },
  {
   "cell_type": "code",
   "execution_count": 337,
   "metadata": {},
   "outputs": [
    {
     "name": "stdout",
     "output_type": "stream",
     "text": [
      "You're dying? is less than You're dying‽\n"
     ]
    }
   ],
   "source": [
    "en_collator.setAttribute(UCollAttribute.STRENGTH, UCollAttributeValue.QUATERNARY)\n",
    "# alternate = shifted (from previous code cell) still applies to the collator instance.\n",
    "str_compare(en_collator, \"You're dying?\", \"You're dying‽\")"
   ]
  },
  {
   "cell_type": "markdown",
   "metadata": {},
   "source": [
    "## Using `icu.RuleBasedCollator`\n",
    "\n",
    "1. Define the [collation rules](https://unicode-org.github.io/icu/userguide/collation/customization/)\n",
    "2. Define a collator instance using `icu.RuleBasedCollator`\n",
    "3. Use the `key` parameter of `list.sort()` or `sorted()` to access the collator's SortKey.\n",
    "\n",
    "The following code snippet sorts a list of Dinka lexemes:"
   ]
  },
  {
   "cell_type": "code",
   "execution_count": 338,
   "metadata": {},
   "outputs": [
    {
     "name": "stdout",
     "output_type": "stream",
     "text": [
      "['abany', 'abaany', 'abaŋ', 'abenh', 'abeŋ', 'aber', 'abeer', 'abëër', 'abeeric', 'aberŋic', 'abuɔ̈c', 'abuɔk', 'abuɔɔk', 'abuɔ̈k', 'abur', 'acut', 'acuut', 'acuth', 'ago', 'agook', 'agol', 'akɔ̈r', 'akɔrcok', 'akuny', 'akuŋɛŋ']\n"
     ]
    }
   ],
   "source": [
    "din_rules = \"[normalization on]&A<<aa<<<Aa<<<AA<<ä<<<Ä<<ää<<<Ää<<<ÄÄ&D<dh<<<Dh<<<DH&E<<ee<<<Ee<<<EE<<ë<<<Ë<<ëë<<<Ëë<<<ËË<ɛ<<<Ɛ<<ɛɛ<<<Ɛɛ<<<ƐƐ<<ɛ̈<<<Ɛ̈<<ɛ̈ɛ̈<<<Ɛ̈ɛ̈<<<Ɛ̈Ɛ̈&G<ɣ<<<Ɣ&I<<ii<<<II<<ï<<<Ï<<ïï<<<Ïï<<<ÏÏ&N<nh<<<Nh<<<NH<ny<<<Ny<<<NY<ŋ<<<Ŋ&O<<oo<<<Oo<<<OO<<ö<<<Ö<<öö<<<Öö<<<ÖÖ<ɔ<<<Ɔ<<ɔɔ<<<Ɔɔ<<<ƆƆ<<ɔ̈<<<Ɔ̈<<ɔ̈ɔ̈<<<Ɔ̈ɔ̈<<<Ɔ̈Ɔ̈&T<th<<<Th<<<TH&U<<uu<<<UU\"\n",
    "din_list = ['agook', 'abeeric', 'abuɔk', 'agol', 'acuut', 'abany', 'abur', 'abëër', 'abaany', 'aber', 'akɔ̈r', 'acut', 'acuth', 'abenh', 'abeer', 'akuny', 'ago', 'akɔrcok', 'akuŋɛŋ', 'abuɔ̈k', 'aberŋic', 'abuɔɔk', 'abeŋ', 'abuɔ̈c', 'abaŋ']\n",
    "din_collator = RuleBasedCollator(din_rules)\n",
    "print(sorted(din_list, key=din_collator.getSortKey))"
   ]
  },
  {
   "cell_type": "markdown",
   "metadata": {},
   "source": [
    "### Modifying existing rules\n",
    "\n",
    "It is possible to make changes to collation rules to tailor the collation sequence. In Welsh __*Ch*__ is a seperate letter of the alphabet that comes after __*C*__. The default collaton rules for Welsh sort majuscules after minuscules:"
   ]
  },
  {
   "cell_type": "code",
   "execution_count": 339,
   "metadata": {},
   "outputs": [
    {
     "name": "stdout",
     "output_type": "stream",
     "text": [
      "['clust', 'Clust', 'cyflym', 'Cyflym', 'chwaeth', 'Chwaeth', 'chwerw', 'Chwerw']\n"
     ]
    }
   ],
   "source": [
    "cy_list = [\"chwaeth\", \"Cyflym\", \"Clust\", \"cyflym\", \"Chwaeth\", \"chwerw\", \"Chwerw\", \"clust\"]\n",
    "cy_collator = Collator.createInstance(Locale(\"cy\"))\n",
    "print(sorted(cy_list, key=cy_collator.getSortKey))"
   ]
  },
  {
   "cell_type": "markdown",
   "metadata": {},
   "source": [
    "Use `getRules()` to retrieve the collation rules from a collator instance. You can then modify the existing rules. The following snippet retrieved the Welsh collation rules and prepends [an option](https://unicode-org.github.io/icu/userguide/collation/customization/#default-options) that changes the collation order of majuscules and minuscules. These rules will sort Majuscules before minuscules:"
   ]
  },
  {
   "cell_type": "code",
   "execution_count": 340,
   "metadata": {},
   "outputs": [
    {
     "name": "stdout",
     "output_type": "stream",
     "text": [
      "['Clust', 'clust', 'Cyflym', 'cyflym', 'Chwaeth', 'chwaeth', 'Chwerw', 'chwerw']\n"
     ]
    }
   ],
   "source": [
    "cy_rules = cy_collator.getRules()   \n",
    "#cy_rules = Collator.createInstance(Locale('cy')).getRules()\n",
    "cy_rules = '[caseFirst upper]' + cy_rules\n",
    "cy_collator_alt = RuleBasedCollator(cy_rules)\n",
    "print(sorted(cy_list, key=cy_collator_alt.getSortKey))\n"
   ]
  },
  {
   "cell_type": "markdown",
   "metadata": {},
   "source": [
    "# Moving beyond lists\n",
    "\n",
    "Sorting lists using PyICU, is straight forward, both the `.sort` method the `sorted()` function accept the `key` parameter. The `key` parameter is used tp specify a function to be called on each list item before comparing items. The `icu.Collator.getSortKey` method get a sort key as an array of bytes from a string. \n",
    "\n",
    "To sort a list of Akan words:"
   ]
  },
  {
   "cell_type": "code",
   "execution_count": 341,
   "metadata": {},
   "outputs": [
    {
     "data": {
      "text/plain": [
       "['ananse',\n",
       " 'apɛsɛ',\n",
       " 'koterɛ',\n",
       " 'nantwibaa',\n",
       " 'nkaboa',\n",
       " 'ɔwɔ',\n",
       " 'pɔnkɔ',\n",
       " 'susono',\n",
       " 'wowa',\n",
       " 'yoma']"
      ]
     },
     "execution_count": 341,
     "metadata": {},
     "output_type": "execute_result"
    }
   ],
   "source": [
    "ak_rules = \"&E<ɛ<<<Ɛ&O<ɔ<<<Ɔ\"\n",
    "ak_collator = RuleBasedCollator(ak_rules)\n",
    "data_lst = [\"yoma\", \"ɔwɔ\", \"koterɛ\", \"ananse\", \"apɛsɛ\", \"nantwibaa\", \"nkaboa\", \"wowa\", \"susono\", \"pɔnkɔ\"]\n",
    "sorted_data_lst = sorted(data_lst, key=ak_collator.getSortKey)\n",
    "sorted_data_lst"
   ]
  },
  {
   "cell_type": "markdown",
   "metadata": {},
   "source": [
    "## Tuples\n",
    "\n",
    "Tuples can also be sorted using the `sorted()` function using a key parameter calling the `icu.Collator.getSortKey` method. It is important to remeber that `sorted()` returns a list. If you require a tuple, it will be necessary to convert the list to a tuple.\n"
   ]
  },
  {
   "cell_type": "code",
   "execution_count": 342,
   "metadata": {},
   "outputs": [
    {
     "data": {
      "text/plain": [
       "('ananse',\n",
       " 'apɛsɛ',\n",
       " 'koterɛ',\n",
       " 'nantwibaa',\n",
       " 'nkaboa',\n",
       " 'ɔwɔ',\n",
       " 'pɔnkɔ',\n",
       " 'susono',\n",
       " 'wowa',\n",
       " 'yoma')"
      ]
     },
     "execution_count": 342,
     "metadata": {},
     "output_type": "execute_result"
    }
   ],
   "source": [
    "data_tup = (\"yoma\", \"ɔwɔ\", \"koterɛ\", \"ananse\", \"apɛsɛ\", \"nantwibaa\", \"nkaboa\", \"wowa\", \"susono\", \"pɔnkɔ\")\n",
    "sorted_data_tup = tuple(sorted(data_tup, key=ak_collator.getSortKey))\n",
    "sorted_data_tup"
   ]
  },
  {
   "cell_type": "markdown",
   "metadata": {},
   "source": [
    "## Lambda function: other datatypes\n",
    "\n",
    "For more complex data structures it is necessary to use a lambda function with the key parameter.\n",
    "\n",
    "In the following example we will sort a dctionary containing language names using the Estonian exonym and the associated BCP47 language subtag. We first declare the dictionary and create a collator instance.\n"
   ]
  },
  {
   "cell_type": "code",
   "execution_count": 343,
   "metadata": {},
   "outputs": [],
   "source": [
    "et_langs = {\n",
    "    \"šveitsisaksa\": \"gsw\",\n",
    "    \"ukraina\": \"uk\",\n",
    "    \"vietnami\": \"vi\",\n",
    "    \"zarma\": \"dje\",\n",
    "    \"rootsi\": \"sv\",\n",
    "    \"ruanda\": \"rw\",\n",
    "    \"volofi\": \"wo\",\n",
    "    \"uusnorra\": \"nn\",\n",
    "    \"tšehhi\": \"cs\",\n",
    "    \"ülemsorbi\": \"hsb\",\n",
    "    \"türgi\": \"tr\",\n",
    "    \"suulu\": \"zu\"\n",
    "}\n",
    "\n",
    "# Create a collator instamce for Estonian\n",
    "et_loc = Locale(\"et_ET.UTF-8\")\n",
    "et_collator = Collator.createInstance(et_loc)\n"
   ]
  },
  {
   "cell_type": "markdown",
   "metadata": {},
   "source": [
    "To sort the dictionary, we create a lambda function the utilises `icu.Collator.getSortKey` and specify what we are sorting by.\n"
   ]
  },
  {
   "cell_type": "code",
   "execution_count": 344,
   "metadata": {},
   "outputs": [
    {
     "name": "stdout",
     "output_type": "stream",
     "text": [
      "[('rootsi', 'sv'), ('ruanda', 'rw'), ('suulu', 'zu'), ('šveitsisaksa', 'gsw'), ('zarma', 'dje'), ('tšehhi', 'cs'), ('türgi', 'tr'), ('ukraina', 'uk'), ('uusnorra', 'nn'), ('vietnami', 'vi'), ('volofi', 'wo'), ('ülemsorbi', 'hsb')]\n",
      "[('tšehhi', 'cs'), ('zarma', 'dje'), ('šveitsisaksa', 'gsw'), ('ülemsorbi', 'hsb'), ('uusnorra', 'nn'), ('ruanda', 'rw'), ('rootsi', 'sv'), ('suulu', 'zu'), ('türgi', 'tr'), ('ukraina', 'uk'), ('vietnami', 'vi'), ('volofi', 'wo')]\n"
     ]
    }
   ],
   "source": [
    "# Sort by Estonian exonym name\n",
    "et_sorted_lang = sorted(et_langs.items(), key=lambda x: et_collator.getSortKey(x[0]))\n",
    "print(et_sorted_lang)\n",
    "\n",
    "# Sort by language code\n",
    "et_sorted_code = sorted(et_langs.items(), key=lambda x: et_collator.getSortKey(x[1]))\n",
    "print(et_sorted_code)"
   ]
  },
  {
   "cell_type": "markdown",
   "metadata": {},
   "source": [
    "When we sort by the language subtag, we have used a collator instance initiated for the Estonian language. This is not necessarily ideal when sorting codes or identifiers. A better way of sorting by langauge locale would be to use the root collation tables:\n"
   ]
  },
  {
   "cell_type": "code",
   "execution_count": 345,
   "metadata": {},
   "outputs": [
    {
     "name": "stdout",
     "output_type": "stream",
     "text": [
      "[('tšehhi', 'cs'), ('zarma', 'dje'), ('šveitsisaksa', 'gsw'), ('ülemsorbi', 'hsb'), ('uusnorra', 'nn'), ('ruanda', 'rw'), ('rootsi', 'sv'), ('türgi', 'tr'), ('ukraina', 'uk'), ('vietnami', 'vi'), ('volofi', 'wo'), ('suulu', 'zu')]\n"
     ]
    }
   ],
   "source": [
    "# Initiate a collator instance using the Root collation table:\n",
    "root_collator = Collator.createInstance(Locale.getRoot())\n",
    "\n",
    "# Sort the language subtags using the Root collator instance:\n",
    "sorted_subtag = sorted(et_langs.items(), key=lambda x: root_collator.getSortKey(x[1]))\n",
    "print(sorted_subtag)\n"
   ]
  },
  {
   "cell_type": "markdown",
   "metadata": {},
   "source": [
    "Sorting a class specific object also utilises a lambda function.\n"
   ]
  },
  {
   "cell_type": "code",
   "execution_count": 346,
   "metadata": {},
   "outputs": [
    {
     "name": "stdout",
     "output_type": "stream",
     "text": [
      "[('Ankara', 5639076), ('Bursa', 3056120), ('Iğdır', 199442), ('Isparta', 444914), ('İstanbul', 15519267), ('Samsun', 1348542), ('Şanlıurfa', 2073614)]\n"
     ]
    }
   ],
   "source": [
    "# Define a simple class that stores a province name and population of the province\n",
    "class province:\n",
    "    def __init__(self, name, population):\n",
    "        self.name = name\n",
    "        self.population = population\n",
    "    def __repr__(self):\n",
    "        return repr((self.name, self.population))\n",
    "\n",
    "# Define a list of province objects for a set of Turkish provinces\n",
    "tr_province = [\n",
    "    province(\"Iğdır\", 199442),\n",
    "    province(\"Samsun\", 1348542),\n",
    "    province(\"Isparta\", 444914),\n",
    "    province(\"Şanlıurfa\", 2073614),\n",
    "    province(\"Bursa\", 3056120),\n",
    "    province(\"İstanbul\", 15519267),\n",
    "    province(\"Ankara\", 5639076)\n",
    "]\n",
    "\n",
    "# Create a collator instance for Turkish\n",
    "tr_collator = Collator.createInstance(Locale(\"tr\"))\n",
    "\n",
    "# Sort by provice name:\n",
    "tr_province_sorted = sorted(tr_province, key=lambda province: tr_collator.getSortKey(province.name))\n",
    "print(tr_province_sorted)\n"
   ]
  },
  {
   "cell_type": "markdown",
   "metadata": {},
   "source": [
    "# Pandas Dataframes and Series\n",
    "\n",
    "Pandas provides `sort_values()` and `sort_index()` methods for both dataframes and series.\n",
    "\n",
    "Both `sort_values()` and `sort_index()` have an optional `key` parameter which can take a vectorised function. Most published examples of using the `key` parameter use [Series.str](https://pandas.pydata.org/pandas-docs/stable/reference/series.html#string-handling) methods.\n",
    "\n",
    "Approaches to sorting dataframes:\n",
    "\n",
    "1. ISO/IEC 14651 (default) python sort: `df.sort_values(column)`\n",
    "2. Normalised ISO/IEC 14651 sort: `df.sort_values(column, key = lambda x: x.str.normalize(\"NFKC\").str.lower())` or `df.sort_values(column, key=lambda x: normalised_sort(x, nf=\"NFKC\"))` \\\n",
    "  Can specify normalisation form: NFC, FKC, NFD, NFKD.\n",
    "3. Locale based sort: `df.sort_values(column, key=lambda x: x.map(locale.strxfrm))`\n",
    "4. Normalised locale based sort:  `df.sort_values(column, key=lambda x: x.str.normalize(\"NFKC\").str.lower().map(locale.strxfrm))` or `df.sort_values(column, key=lambda x: normalised_sort(x, nf=\"NFKC\", loc=True))` \\\n",
    "  Can specify normalisation form: NFC, FKC, NFD, NFKD.\n",
    "5. PyICU"
   ]
  },
  {
   "cell_type": "markdown",
   "metadata": {},
   "source": [
    "## 1) ISO/IEC 14651 - default python sort\n",
    "\n",
    "This is the standard `df.sort_values()` operation, without any modifications, an untailored ISO/IEC 14651 sort."
   ]
  },
  {
   "cell_type": "code",
   "execution_count": 347,
   "metadata": {},
   "outputs": [
    {
     "data": {
      "text/html": [
       "<div>\n",
       "<style scoped>\n",
       "    .dataframe tbody tr th:only-of-type {\n",
       "        vertical-align: middle;\n",
       "    }\n",
       "\n",
       "    .dataframe tbody tr th {\n",
       "        vertical-align: top;\n",
       "    }\n",
       "\n",
       "    .dataframe thead th {\n",
       "        text-align: right;\n",
       "    }\n",
       "</style>\n",
       "<table border=\"1\" class=\"dataframe\">\n",
       "  <thead>\n",
       "    <tr style=\"text-align: right;\">\n",
       "      <th></th>\n",
       "      <th>Form</th>\n",
       "      <th>Frequency</th>\n",
       "    </tr>\n",
       "  </thead>\n",
       "  <tbody>\n",
       "    <tr>\n",
       "      <th>81</th>\n",
       "      <td>adem</td>\n",
       "      <td>10281</td>\n",
       "    </tr>\n",
       "    <tr>\n",
       "      <th>1073</th>\n",
       "      <td>gueŋ</td>\n",
       "      <td>10281</td>\n",
       "    </tr>\n",
       "    <tr>\n",
       "      <th>1733</th>\n",
       "      <td>lɔ</td>\n",
       "      <td>20562</td>\n",
       "    </tr>\n",
       "    <tr>\n",
       "      <th>493</th>\n",
       "      <td>bääny</td>\n",
       "      <td>611727</td>\n",
       "    </tr>\n",
       "    <tr>\n",
       "      <th>1162</th>\n",
       "      <td>ɣothook</td>\n",
       "      <td>10281</td>\n",
       "    </tr>\n",
       "    <tr>\n",
       "      <th>1242</th>\n",
       "      <td>jön</td>\n",
       "      <td>41124</td>\n",
       "    </tr>\n",
       "    <tr>\n",
       "      <th>176</th>\n",
       "      <td>aköldït</td>\n",
       "      <td>10281</td>\n",
       "    </tr>\n",
       "    <tr>\n",
       "      <th>1729</th>\n",
       "      <td>lööŋ</td>\n",
       "      <td>627149</td>\n",
       "    </tr>\n",
       "    <tr>\n",
       "      <th>2444</th>\n",
       "      <td>riɛnkua</td>\n",
       "      <td>154217</td>\n",
       "    </tr>\n",
       "    <tr>\n",
       "      <th>1347</th>\n",
       "      <td>kan</td>\n",
       "      <td>20562</td>\n",
       "    </tr>\n",
       "  </tbody>\n",
       "</table>\n",
       "</div>"
      ],
      "text/plain": [
       "         Form  Frequency\n",
       "81       adem      10281\n",
       "1073     gueŋ      10281\n",
       "1733       lɔ      20562\n",
       "493     bääny     611727\n",
       "1162  ɣothook      10281\n",
       "1242      jön      41124\n",
       "176   aköldït      10281\n",
       "1729     lööŋ     627149\n",
       "2444  riɛnkua     154217\n",
       "1347      kan      20562"
      ]
     },
     "execution_count": 347,
     "metadata": {},
     "output_type": "execute_result"
    }
   ],
   "source": [
    "import pandas as pd \n",
    "\n",
    "df = pd.read_csv(\"https://raw.githubusercontent.com/enabling-languages/python-i18n/main/data/din.txt\", sep='\\t', skiprows = range(2,5)).sample(frac=1)\n",
    "df.head(10)"
   ]
  },
  {
   "cell_type": "code",
   "execution_count": 348,
   "metadata": {},
   "outputs": [
    {
     "data": {
      "text/html": [
       "<div>\n",
       "<style scoped>\n",
       "    .dataframe tbody tr th:only-of-type {\n",
       "        vertical-align: middle;\n",
       "    }\n",
       "\n",
       "    .dataframe tbody tr th {\n",
       "        vertical-align: top;\n",
       "    }\n",
       "\n",
       "    .dataframe thead th {\n",
       "        text-align: right;\n",
       "    }\n",
       "</style>\n",
       "<table border=\"1\" class=\"dataframe\">\n",
       "  <thead>\n",
       "    <tr style=\"text-align: right;\">\n",
       "      <th></th>\n",
       "      <th>Form</th>\n",
       "      <th>Frequency</th>\n",
       "    </tr>\n",
       "  </thead>\n",
       "  <tbody>\n",
       "    <tr>\n",
       "      <th>29</th>\n",
       "      <td>Abaram</td>\n",
       "      <td>616868</td>\n",
       "    </tr>\n",
       "    <tr>\n",
       "      <th>30</th>\n",
       "      <td>Abel</td>\n",
       "      <td>35983</td>\n",
       "    </tr>\n",
       "    <tr>\n",
       "      <th>37</th>\n",
       "      <td>Abija</td>\n",
       "      <td>15421</td>\n",
       "    </tr>\n",
       "    <tr>\n",
       "      <th>43</th>\n",
       "      <td>Abiöt</td>\n",
       "      <td>10281</td>\n",
       "    </tr>\n",
       "    <tr>\n",
       "      <th>55</th>\n",
       "      <td>Acer</td>\n",
       "      <td>10281</td>\n",
       "    </tr>\n",
       "    <tr>\n",
       "      <th>67</th>\n",
       "      <td>Acim</td>\n",
       "      <td>10281</td>\n",
       "    </tr>\n",
       "    <tr>\n",
       "      <th>59</th>\n",
       "      <td>Aciëk</td>\n",
       "      <td>10281</td>\n",
       "    </tr>\n",
       "    <tr>\n",
       "      <th>62</th>\n",
       "      <td>Aciëŋ</td>\n",
       "      <td>46265</td>\n",
       "    </tr>\n",
       "    <tr>\n",
       "      <th>74</th>\n",
       "      <td>Acueek</td>\n",
       "      <td>15421</td>\n",
       "    </tr>\n",
       "    <tr>\n",
       "      <th>77</th>\n",
       "      <td>Adam</td>\n",
       "      <td>71967</td>\n",
       "    </tr>\n",
       "  </tbody>\n",
       "</table>\n",
       "</div>"
      ],
      "text/plain": [
       "      Form  Frequency\n",
       "29  Abaram     616868\n",
       "30    Abel      35983\n",
       "37   Abija      15421\n",
       "43   Abiöt      10281\n",
       "55    Acer      10281\n",
       "67    Acim      10281\n",
       "59   Aciëk      10281\n",
       "62   Aciëŋ      46265\n",
       "74  Acueek      15421\n",
       "77    Adam      71967"
      ]
     },
     "execution_count": 348,
     "metadata": {},
     "output_type": "execute_result"
    }
   ],
   "source": [
    "df_sorted = df.sort_values(\"Form\")\n",
    "df_sorted.head(10)"
   ]
  },
  {
   "cell_type": "markdown",
   "metadata": {},
   "source": [
    "## 2) Normalised ISO/IEC 14651 sort"
   ]
  },
  {
   "cell_type": "code",
   "execution_count": 349,
   "metadata": {},
   "outputs": [
    {
     "data": {
      "text/html": [
       "<div>\n",
       "<style scoped>\n",
       "    .dataframe tbody tr th:only-of-type {\n",
       "        vertical-align: middle;\n",
       "    }\n",
       "\n",
       "    .dataframe tbody tr th {\n",
       "        vertical-align: top;\n",
       "    }\n",
       "\n",
       "    .dataframe thead th {\n",
       "        text-align: right;\n",
       "    }\n",
       "</style>\n",
       "<table border=\"1\" class=\"dataframe\">\n",
       "  <thead>\n",
       "    <tr style=\"text-align: right;\">\n",
       "      <th></th>\n",
       "      <th>Form</th>\n",
       "      <th>Frequency</th>\n",
       "    </tr>\n",
       "  </thead>\n",
       "  <tbody>\n",
       "    <tr>\n",
       "      <th>0</th>\n",
       "      <td>a</td>\n",
       "      <td>1043535</td>\n",
       "    </tr>\n",
       "    <tr>\n",
       "      <th>1</th>\n",
       "      <td>aa</td>\n",
       "      <td>10106358</td>\n",
       "    </tr>\n",
       "    <tr>\n",
       "      <th>2</th>\n",
       "      <td>aaba</td>\n",
       "      <td>102811</td>\n",
       "    </tr>\n",
       "    <tr>\n",
       "      <th>3</th>\n",
       "      <td>aabä</td>\n",
       "      <td>46265</td>\n",
       "    </tr>\n",
       "    <tr>\n",
       "      <th>5</th>\n",
       "      <td>aabï</td>\n",
       "      <td>2416067</td>\n",
       "    </tr>\n",
       "    <tr>\n",
       "      <th>6</th>\n",
       "      <td>aabɔ̈</td>\n",
       "      <td>35983</td>\n",
       "    </tr>\n",
       "    <tr>\n",
       "      <th>4</th>\n",
       "      <td>aabɛ̈l</td>\n",
       "      <td>10281</td>\n",
       "    </tr>\n",
       "    <tr>\n",
       "      <th>7</th>\n",
       "      <td>aaca</td>\n",
       "      <td>133654</td>\n",
       "    </tr>\n",
       "    <tr>\n",
       "      <th>10</th>\n",
       "      <td>aacie</td>\n",
       "      <td>493494</td>\n",
       "    </tr>\n",
       "    <tr>\n",
       "      <th>8</th>\n",
       "      <td>aacä</td>\n",
       "      <td>174779</td>\n",
       "    </tr>\n",
       "  </tbody>\n",
       "</table>\n",
       "</div>"
      ],
      "text/plain": [
       "      Form  Frequency\n",
       "0        a    1043535\n",
       "1       aa   10106358\n",
       "2     aaba     102811\n",
       "3     aabä      46265\n",
       "5     aabï    2416067\n",
       "6    aabɔ̈      35983\n",
       "4   aabɛ̈l      10281\n",
       "7     aaca     133654\n",
       "10   aacie     493494\n",
       "8     aacä     174779"
      ]
     },
     "execution_count": 349,
     "metadata": {},
     "output_type": "execute_result"
    }
   ],
   "source": [
    "df_sorted_norm = df.sort_values(\"Form\", key = lambda x: x.str.normalize(\"NFKC\").str.lower())\n",
    "df_sorted_norm.head(10)"
   ]
  },
  {
   "cell_type": "markdown",
   "metadata": {},
   "source": [
    "Alternatively:"
   ]
  },
  {
   "cell_type": "code",
   "execution_count": 350,
   "metadata": {},
   "outputs": [
    {
     "data": {
      "text/html": [
       "<div>\n",
       "<style scoped>\n",
       "    .dataframe tbody tr th:only-of-type {\n",
       "        vertical-align: middle;\n",
       "    }\n",
       "\n",
       "    .dataframe tbody tr th {\n",
       "        vertical-align: top;\n",
       "    }\n",
       "\n",
       "    .dataframe thead th {\n",
       "        text-align: right;\n",
       "    }\n",
       "</style>\n",
       "<table border=\"1\" class=\"dataframe\">\n",
       "  <thead>\n",
       "    <tr style=\"text-align: right;\">\n",
       "      <th></th>\n",
       "      <th>Form</th>\n",
       "      <th>Frequency</th>\n",
       "    </tr>\n",
       "  </thead>\n",
       "  <tbody>\n",
       "    <tr>\n",
       "      <th>0</th>\n",
       "      <td>a</td>\n",
       "      <td>1043535</td>\n",
       "    </tr>\n",
       "    <tr>\n",
       "      <th>1</th>\n",
       "      <td>aa</td>\n",
       "      <td>10106358</td>\n",
       "    </tr>\n",
       "    <tr>\n",
       "      <th>2</th>\n",
       "      <td>aaba</td>\n",
       "      <td>102811</td>\n",
       "    </tr>\n",
       "    <tr>\n",
       "      <th>3</th>\n",
       "      <td>aabä</td>\n",
       "      <td>46265</td>\n",
       "    </tr>\n",
       "    <tr>\n",
       "      <th>5</th>\n",
       "      <td>aabï</td>\n",
       "      <td>2416067</td>\n",
       "    </tr>\n",
       "    <tr>\n",
       "      <th>6</th>\n",
       "      <td>aabɔ̈</td>\n",
       "      <td>35983</td>\n",
       "    </tr>\n",
       "    <tr>\n",
       "      <th>4</th>\n",
       "      <td>aabɛ̈l</td>\n",
       "      <td>10281</td>\n",
       "    </tr>\n",
       "    <tr>\n",
       "      <th>7</th>\n",
       "      <td>aaca</td>\n",
       "      <td>133654</td>\n",
       "    </tr>\n",
       "    <tr>\n",
       "      <th>10</th>\n",
       "      <td>aacie</td>\n",
       "      <td>493494</td>\n",
       "    </tr>\n",
       "    <tr>\n",
       "      <th>8</th>\n",
       "      <td>aacä</td>\n",
       "      <td>174779</td>\n",
       "    </tr>\n",
       "  </tbody>\n",
       "</table>\n",
       "</div>"
      ],
      "text/plain": [
       "      Form  Frequency\n",
       "0        a    1043535\n",
       "1       aa   10106358\n",
       "2     aaba     102811\n",
       "3     aabä      46265\n",
       "5     aabï    2416067\n",
       "6    aabɔ̈      35983\n",
       "4   aabɛ̈l      10281\n",
       "7     aaca     133654\n",
       "10   aacie     493494\n",
       "8     aacä     174779"
      ]
     },
     "execution_count": 350,
     "metadata": {},
     "output_type": "execute_result"
    }
   ],
   "source": [
    "df_sorted_norm2 = df.sort_values(\"Form\", key=lambda x: normalised_sort(x, nf=\"NFKC\"))\n",
    "df_sorted_norm2.head(10)"
   ]
  },
  {
   "cell_type": "markdown",
   "metadata": {},
   "source": [
    "## 3) Locale based sort"
   ]
  },
  {
   "cell_type": "code",
   "execution_count": 351,
   "metadata": {},
   "outputs": [
    {
     "data": {
      "text/html": [
       "<div>\n",
       "<style scoped>\n",
       "    .dataframe tbody tr th:only-of-type {\n",
       "        vertical-align: middle;\n",
       "    }\n",
       "\n",
       "    .dataframe tbody tr th {\n",
       "        vertical-align: top;\n",
       "    }\n",
       "\n",
       "    .dataframe thead th {\n",
       "        text-align: right;\n",
       "    }\n",
       "</style>\n",
       "<table border=\"1\" class=\"dataframe\">\n",
       "  <thead>\n",
       "    <tr style=\"text-align: right;\">\n",
       "      <th></th>\n",
       "      <th>surname</th>\n",
       "      <th>values</th>\n",
       "    </tr>\n",
       "  </thead>\n",
       "  <tbody>\n",
       "    <tr>\n",
       "      <th>0</th>\n",
       "      <td>bange</td>\n",
       "      <td>123</td>\n",
       "    </tr>\n",
       "    <tr>\n",
       "      <th>1</th>\n",
       "      <td>änger</td>\n",
       "      <td>142</td>\n",
       "    </tr>\n",
       "    <tr>\n",
       "      <th>2</th>\n",
       "      <td>amman</td>\n",
       "      <td>136</td>\n",
       "    </tr>\n",
       "    <tr>\n",
       "      <th>3</th>\n",
       "      <td>zelch</td>\n",
       "      <td>146</td>\n",
       "    </tr>\n",
       "    <tr>\n",
       "      <th>4</th>\n",
       "      <td>ösbach</td>\n",
       "      <td>107</td>\n",
       "    </tr>\n",
       "    <tr>\n",
       "      <th>5</th>\n",
       "      <td>Bange</td>\n",
       "      <td>129</td>\n",
       "    </tr>\n",
       "    <tr>\n",
       "      <th>6</th>\n",
       "      <td>Änger</td>\n",
       "      <td>137</td>\n",
       "    </tr>\n",
       "    <tr>\n",
       "      <th>7</th>\n",
       "      <td>Amman</td>\n",
       "      <td>146</td>\n",
       "    </tr>\n",
       "    <tr>\n",
       "      <th>8</th>\n",
       "      <td>Zelch</td>\n",
       "      <td>102</td>\n",
       "    </tr>\n",
       "    <tr>\n",
       "      <th>9</th>\n",
       "      <td>Ösbach</td>\n",
       "      <td>149</td>\n",
       "    </tr>\n",
       "  </tbody>\n",
       "</table>\n",
       "</div>"
      ],
      "text/plain": [
       "  surname  values\n",
       "0   bange     123\n",
       "1   änger     142\n",
       "2   amman     136\n",
       "3   zelch     146\n",
       "4  ösbach     107\n",
       "5   Bange     129\n",
       "6   Änger     137\n",
       "7   Amman     146\n",
       "8   Zelch     102\n",
       "9  Ösbach     149"
      ]
     },
     "execution_count": 351,
     "metadata": {},
     "output_type": "execute_result"
    }
   ],
   "source": [
    "data = {\n",
    "    \"surname\": [\"bange\", \"änger\", \"amman\", \"zelch\", \"ösbach\", \"Bange\", \"Änger\", \"Amman\", \"Zelch\", \"Ösbach\"],\n",
    "    \"values\": [ 123, 142, 136, 146, 107, 129, 137, 146, 102, 149]\n",
    "}\n",
    "\n",
    "df2 = pd.DataFrame(data)\n",
    "df2"
   ]
  },
  {
   "cell_type": "code",
   "execution_count": 352,
   "metadata": {},
   "outputs": [
    {
     "data": {
      "text/html": [
       "<div>\n",
       "<style scoped>\n",
       "    .dataframe tbody tr th:only-of-type {\n",
       "        vertical-align: middle;\n",
       "    }\n",
       "\n",
       "    .dataframe tbody tr th {\n",
       "        vertical-align: top;\n",
       "    }\n",
       "\n",
       "    .dataframe thead th {\n",
       "        text-align: right;\n",
       "    }\n",
       "</style>\n",
       "<table border=\"1\" class=\"dataframe\">\n",
       "  <thead>\n",
       "    <tr style=\"text-align: right;\">\n",
       "      <th></th>\n",
       "      <th>surname</th>\n",
       "      <th>values</th>\n",
       "    </tr>\n",
       "  </thead>\n",
       "  <tbody>\n",
       "    <tr>\n",
       "      <th>7</th>\n",
       "      <td>Amman</td>\n",
       "      <td>146</td>\n",
       "    </tr>\n",
       "    <tr>\n",
       "      <th>6</th>\n",
       "      <td>Änger</td>\n",
       "      <td>137</td>\n",
       "    </tr>\n",
       "    <tr>\n",
       "      <th>5</th>\n",
       "      <td>Bange</td>\n",
       "      <td>129</td>\n",
       "    </tr>\n",
       "    <tr>\n",
       "      <th>9</th>\n",
       "      <td>Ösbach</td>\n",
       "      <td>149</td>\n",
       "    </tr>\n",
       "    <tr>\n",
       "      <th>8</th>\n",
       "      <td>Zelch</td>\n",
       "      <td>102</td>\n",
       "    </tr>\n",
       "    <tr>\n",
       "      <th>2</th>\n",
       "      <td>amman</td>\n",
       "      <td>136</td>\n",
       "    </tr>\n",
       "    <tr>\n",
       "      <th>1</th>\n",
       "      <td>änger</td>\n",
       "      <td>142</td>\n",
       "    </tr>\n",
       "    <tr>\n",
       "      <th>0</th>\n",
       "      <td>bange</td>\n",
       "      <td>123</td>\n",
       "    </tr>\n",
       "    <tr>\n",
       "      <th>4</th>\n",
       "      <td>ösbach</td>\n",
       "      <td>107</td>\n",
       "    </tr>\n",
       "    <tr>\n",
       "      <th>3</th>\n",
       "      <td>zelch</td>\n",
       "      <td>146</td>\n",
       "    </tr>\n",
       "  </tbody>\n",
       "</table>\n",
       "</div>"
      ],
      "text/plain": [
       "  surname  values\n",
       "7   Amman     146\n",
       "6   Änger     137\n",
       "5   Bange     129\n",
       "9  Ösbach     149\n",
       "8   Zelch     102\n",
       "2   amman     136\n",
       "1   änger     142\n",
       "0   bange     123\n",
       "4  ösbach     107\n",
       "3   zelch     146"
      ]
     },
     "execution_count": 352,
     "metadata": {},
     "output_type": "execute_result"
    }
   ],
   "source": [
    "locale.setlocale(locale.LC_COLLATE, \"de_DE.UTF-8\")\n",
    "df2_sorted = df2.sort_values(\"surname\", key = lambda x: x.map(locale.strxfrm))\n",
    "df2_sorted"
   ]
  },
  {
   "cell_type": "markdown",
   "metadata": {},
   "source": [
    "## 4) Normalised locale based sort"
   ]
  },
  {
   "cell_type": "code",
   "execution_count": 353,
   "metadata": {},
   "outputs": [
    {
     "data": {
      "text/html": [
       "<div>\n",
       "<style scoped>\n",
       "    .dataframe tbody tr th:only-of-type {\n",
       "        vertical-align: middle;\n",
       "    }\n",
       "\n",
       "    .dataframe tbody tr th {\n",
       "        vertical-align: top;\n",
       "    }\n",
       "\n",
       "    .dataframe thead th {\n",
       "        text-align: right;\n",
       "    }\n",
       "</style>\n",
       "<table border=\"1\" class=\"dataframe\">\n",
       "  <thead>\n",
       "    <tr style=\"text-align: right;\">\n",
       "      <th></th>\n",
       "      <th>surname</th>\n",
       "      <th>values</th>\n",
       "    </tr>\n",
       "  </thead>\n",
       "  <tbody>\n",
       "    <tr>\n",
       "      <th>2</th>\n",
       "      <td>amman</td>\n",
       "      <td>136</td>\n",
       "    </tr>\n",
       "    <tr>\n",
       "      <th>7</th>\n",
       "      <td>Amman</td>\n",
       "      <td>146</td>\n",
       "    </tr>\n",
       "    <tr>\n",
       "      <th>1</th>\n",
       "      <td>änger</td>\n",
       "      <td>142</td>\n",
       "    </tr>\n",
       "    <tr>\n",
       "      <th>6</th>\n",
       "      <td>Änger</td>\n",
       "      <td>137</td>\n",
       "    </tr>\n",
       "    <tr>\n",
       "      <th>0</th>\n",
       "      <td>bange</td>\n",
       "      <td>123</td>\n",
       "    </tr>\n",
       "    <tr>\n",
       "      <th>5</th>\n",
       "      <td>Bange</td>\n",
       "      <td>129</td>\n",
       "    </tr>\n",
       "    <tr>\n",
       "      <th>4</th>\n",
       "      <td>ösbach</td>\n",
       "      <td>107</td>\n",
       "    </tr>\n",
       "    <tr>\n",
       "      <th>9</th>\n",
       "      <td>Ösbach</td>\n",
       "      <td>149</td>\n",
       "    </tr>\n",
       "    <tr>\n",
       "      <th>3</th>\n",
       "      <td>zelch</td>\n",
       "      <td>146</td>\n",
       "    </tr>\n",
       "    <tr>\n",
       "      <th>8</th>\n",
       "      <td>Zelch</td>\n",
       "      <td>102</td>\n",
       "    </tr>\n",
       "  </tbody>\n",
       "</table>\n",
       "</div>"
      ],
      "text/plain": [
       "  surname  values\n",
       "2   amman     136\n",
       "7   Amman     146\n",
       "1   änger     142\n",
       "6   Änger     137\n",
       "0   bange     123\n",
       "5   Bange     129\n",
       "4  ösbach     107\n",
       "9  Ösbach     149\n",
       "3   zelch     146\n",
       "8   Zelch     102"
      ]
     },
     "execution_count": 353,
     "metadata": {},
     "output_type": "execute_result"
    }
   ],
   "source": [
    "df2_sorted_norm = df2.sort_values(\"surname\", key=lambda x: x.str.normalize(\"NFKC\").str.lower().map(locale.strxfrm))\n",
    "df2_sorted_norm"
   ]
  },
  {
   "cell_type": "markdown",
   "metadata": {},
   "source": [
    "Alternatively:"
   ]
  },
  {
   "cell_type": "code",
   "execution_count": 354,
   "metadata": {},
   "outputs": [
    {
     "data": {
      "text/html": [
       "<div>\n",
       "<style scoped>\n",
       "    .dataframe tbody tr th:only-of-type {\n",
       "        vertical-align: middle;\n",
       "    }\n",
       "\n",
       "    .dataframe tbody tr th {\n",
       "        vertical-align: top;\n",
       "    }\n",
       "\n",
       "    .dataframe thead th {\n",
       "        text-align: right;\n",
       "    }\n",
       "</style>\n",
       "<table border=\"1\" class=\"dataframe\">\n",
       "  <thead>\n",
       "    <tr style=\"text-align: right;\">\n",
       "      <th></th>\n",
       "      <th>surname</th>\n",
       "      <th>values</th>\n",
       "    </tr>\n",
       "  </thead>\n",
       "  <tbody>\n",
       "    <tr>\n",
       "      <th>2</th>\n",
       "      <td>amman</td>\n",
       "      <td>136</td>\n",
       "    </tr>\n",
       "    <tr>\n",
       "      <th>7</th>\n",
       "      <td>Amman</td>\n",
       "      <td>146</td>\n",
       "    </tr>\n",
       "    <tr>\n",
       "      <th>1</th>\n",
       "      <td>änger</td>\n",
       "      <td>142</td>\n",
       "    </tr>\n",
       "    <tr>\n",
       "      <th>6</th>\n",
       "      <td>Änger</td>\n",
       "      <td>137</td>\n",
       "    </tr>\n",
       "    <tr>\n",
       "      <th>0</th>\n",
       "      <td>bange</td>\n",
       "      <td>123</td>\n",
       "    </tr>\n",
       "    <tr>\n",
       "      <th>5</th>\n",
       "      <td>Bange</td>\n",
       "      <td>129</td>\n",
       "    </tr>\n",
       "    <tr>\n",
       "      <th>4</th>\n",
       "      <td>ösbach</td>\n",
       "      <td>107</td>\n",
       "    </tr>\n",
       "    <tr>\n",
       "      <th>9</th>\n",
       "      <td>Ösbach</td>\n",
       "      <td>149</td>\n",
       "    </tr>\n",
       "    <tr>\n",
       "      <th>3</th>\n",
       "      <td>zelch</td>\n",
       "      <td>146</td>\n",
       "    </tr>\n",
       "    <tr>\n",
       "      <th>8</th>\n",
       "      <td>Zelch</td>\n",
       "      <td>102</td>\n",
       "    </tr>\n",
       "  </tbody>\n",
       "</table>\n",
       "</div>"
      ],
      "text/plain": [
       "  surname  values\n",
       "2   amman     136\n",
       "7   Amman     146\n",
       "1   änger     142\n",
       "6   Änger     137\n",
       "0   bange     123\n",
       "5   Bange     129\n",
       "4  ösbach     107\n",
       "9  Ösbach     149\n",
       "3   zelch     146\n",
       "8   Zelch     102"
      ]
     },
     "execution_count": 354,
     "metadata": {},
     "output_type": "execute_result"
    }
   ],
   "source": [
    "df2_sorted_norm2 = df2.sort_values(\"surname\", key=lambda x: normalised_sort(x, nf=\"NFKC\", loc=True))\n",
    "df2_sorted_norm2.head(10)"
   ]
  },
  {
   "cell_type": "markdown",
   "metadata": {},
   "source": [
    "## 5) PyICU"
   ]
  },
  {
   "cell_type": "code",
   "execution_count": 355,
   "metadata": {},
   "outputs": [
    {
     "data": {
      "text/html": [
       "<div>\n",
       "<style scoped>\n",
       "    .dataframe tbody tr th:only-of-type {\n",
       "        vertical-align: middle;\n",
       "    }\n",
       "\n",
       "    .dataframe tbody tr th {\n",
       "        vertical-align: top;\n",
       "    }\n",
       "\n",
       "    .dataframe thead th {\n",
       "        text-align: right;\n",
       "    }\n",
       "</style>\n",
       "<table border=\"1\" class=\"dataframe\">\n",
       "  <thead>\n",
       "    <tr style=\"text-align: right;\">\n",
       "      <th></th>\n",
       "      <th>Form</th>\n",
       "      <th>Frequency</th>\n",
       "    </tr>\n",
       "  </thead>\n",
       "  <tbody>\n",
       "    <tr>\n",
       "      <th>0</th>\n",
       "      <td>a</td>\n",
       "      <td>1043535</td>\n",
       "    </tr>\n",
       "    <tr>\n",
       "      <th>1</th>\n",
       "      <td>aa</td>\n",
       "      <td>10106358</td>\n",
       "    </tr>\n",
       "    <tr>\n",
       "      <th>22</th>\n",
       "      <td>aba</td>\n",
       "      <td>498635</td>\n",
       "    </tr>\n",
       "    <tr>\n",
       "      <th>23</th>\n",
       "      <td>abä</td>\n",
       "      <td>210763</td>\n",
       "    </tr>\n",
       "    <tr>\n",
       "      <th>2</th>\n",
       "      <td>aaba</td>\n",
       "      <td>102811</td>\n",
       "    </tr>\n",
       "    <tr>\n",
       "      <th>3</th>\n",
       "      <td>aabä</td>\n",
       "      <td>46265</td>\n",
       "    </tr>\n",
       "    <tr>\n",
       "      <th>25</th>\n",
       "      <td>abak</td>\n",
       "      <td>77108</td>\n",
       "    </tr>\n",
       "    <tr>\n",
       "      <th>26</th>\n",
       "      <td>abäk</td>\n",
       "      <td>128514</td>\n",
       "    </tr>\n",
       "    <tr>\n",
       "      <th>27</th>\n",
       "      <td>abäkke</td>\n",
       "      <td>20562</td>\n",
       "    </tr>\n",
       "    <tr>\n",
       "      <th>28</th>\n",
       "      <td>abaŋ</td>\n",
       "      <td>154217</td>\n",
       "    </tr>\n",
       "  </tbody>\n",
       "</table>\n",
       "</div>"
      ],
      "text/plain": [
       "      Form  Frequency\n",
       "0        a    1043535\n",
       "1       aa   10106358\n",
       "22     aba     498635\n",
       "23     abä     210763\n",
       "2     aaba     102811\n",
       "3     aabä      46265\n",
       "25    abak      77108\n",
       "26    abäk     128514\n",
       "27  abäkke      20562\n",
       "28    abaŋ     154217"
      ]
     },
     "execution_count": 355,
     "metadata": {},
     "output_type": "execute_result"
    }
   ],
   "source": [
    "df_sorted_icu= df.sort_values(\"Form\", key = lambda x: x.map(din_collator.getSortKey))\n",
    "df_sorted_icu.head(10)"
   ]
  },
  {
   "cell_type": "code",
   "execution_count": null,
   "metadata": {},
   "outputs": [],
   "source": []
  },
  {
   "cell_type": "markdown",
   "metadata": {},
   "source": [
    "Copyright © 2021-2022 [Enabling Languages](https://enabling-languages.github.io/). <br>This notebook is made available under the [MIT licence](https://github.com/enabling-languages/python-i18n/blob/main/LICENSE)."
   ]
  }
 ],
 "metadata": {
  "interpreter": {
   "hash": "1089646a020cfe6092fafe876ee4a6e68b3ec5a13ed8a22b79c0a42e9e2a954f"
  },
  "kernelspec": {
   "display_name": "Python 3.8.1 64-bit ('el': venv)",
   "name": "python3"
  },
  "language_info": {
   "codemirror_mode": {
    "name": "ipython",
    "version": 3
   },
   "file_extension": ".py",
   "mimetype": "text/x-python",
   "name": "python",
   "nbconvert_exporter": "python",
   "pygments_lexer": "ipython3",
   "version": "3.8.1"
  }
 },
 "nbformat": 4,
 "nbformat_minor": 4
}
