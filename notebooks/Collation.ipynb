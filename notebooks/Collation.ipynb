{
 "cells": [
  {
   "cell_type": "markdown",
   "source": [
    "# Introduction"
   ],
   "metadata": {}
  },
  {
   "cell_type": "markdown",
   "source": [
    "Python has a built-in `.sort()` method that modifies the list inplace. The `sorted()` built-in function builds a new sorted list from an iterable."
   ],
   "metadata": {}
  },
  {
   "cell_type": "code",
   "execution_count": 164,
   "source": [
    "a = [\"A\", \"E\", \"Z\", \"a\", \"e\", \"é\", \"z\"]\n",
    "print(sorted(a))\n",
    "print(a)\n",
    "a.sort()\n",
    "print(a)"
   ],
   "outputs": [
    {
     "output_type": "stream",
     "name": "stdout",
     "text": [
      "['A', 'E', 'Z', 'a', 'e', 'z', 'é']\n",
      "['A', 'E', 'Z', 'a', 'e', 'é', 'z']\n",
      "['A', 'E', 'Z', 'a', 'e', 'z', 'é']\n"
     ]
    }
   ],
   "metadata": {}
  },
  {
   "cell_type": "markdown",
   "source": [
    "The built-in `.sort()` and `sorted()` perform a crude codepoint ordering."
   ],
   "metadata": {}
  },
  {
   "cell_type": "markdown",
   "source": [
    "# Using the locale module for collation\n",
    "\n",
    "For information on using the Locale module in Google Colab refer to the code snippets in [locale_module_colab.ipynb](https://github.com/enabling-languages/python-i18n/blob/main/colab/locale_module_colab.ipynb)."
   ],
   "metadata": {}
  },
  {
   "cell_type": "code",
   "execution_count": 165,
   "source": [
    "import locale\n",
    "locale.setlocale(locale.LC_ALL, '')"
   ],
   "outputs": [],
   "metadata": {}
  },
  {
   "cell_type": "markdown",
   "source": [
    "## Available locales\n",
    "\n",
    "It is possible to use the `locale` module and the key parameter of `list.sort()` and `sorted()` to obtain a tailored sort using a supported locale.\n",
    "\n",
    "_It is important to note that use of the `locale` module will not produce platform independant code. Each server or workstation may have a different set of locales available, this is most noticable in Linux and Unix based servers and workstations._\n",
    "\n",
    "To get a list of available locales, supported by the locale module, for Windows users:\n",
    "\n",
    "```py\n",
    "for lang in locale.windows_locale.values():\n",
    "    print(lang)\n",
    "```\n",
    "\n",
    "To get a list of available locales, supported by the locale module, for other operating systems:\n",
    "\n",
    "```py\n",
    "for lang in locale.locale_alias.values():\n",
    "    print(lang)\n",
    "```\n",
    "\n",
    "To use a locale, it must be available within the operating systems. To see what locales are available on Linux and MacOS workstations and servers:\n",
    "\n",
    "```shell\n",
    "locale -a\n",
    "```\n",
    "\n",
    "_A Python script will use the system default encoding, unless the locale is explicitly changed. It is important to note that changing the locale can affect the execution of Python code in multiple ways. A script should set the locale once and not change it. If more than one language and set of collation rules is needed, alternative solutions should be used._\n"
   ],
   "metadata": {}
  },
  {
   "cell_type": "markdown",
   "source": [
    "## Identifying the current locale\n",
    "\n",
    "Use `locale.getlocale()` to identify current locale:"
   ],
   "metadata": {}
  },
  {
   "cell_type": "code",
   "execution_count": 166,
   "source": [
    "loc = locale.getlocale()\n",
    "default_loc = locale.getdefaultlocale()\n",
    "\n",
    "print(\"Current locale: \" + str(loc))\n",
    "print(\"Default locale: \" + str(default_loc))"
   ],
   "outputs": [
    {
     "output_type": "stream",
     "name": "stdout",
     "text": [
      "Current locale: ('en_AU', 'UTF-8')\n",
      "Default locale: ('en_AU', 'UTF-8')\n"
     ]
    }
   ],
   "metadata": {}
  },
  {
   "cell_type": "markdown",
   "source": [
    "\n",
    "## Setting a locale\n",
    "\n",
    "Use `locale.setlocale()` to set locale. You can set all the `LC_COLLATE` locale environment variables using:\n",
    "\n",
    "```py\n",
    "locale.setlocale(locale.LC_COLLATE, 'de_DE.UTF-8')\n",
    "```\n",
    "\n",
    "You can set the current locale to your default settings:\n",
    "\n",
    "```py\n",
    "locale.setlocale(locale.LC_ALL, '')\n",
    "```\n",
    "\n",
    "Changing locales is not necessrily thread safe, and is not recommeneded. Ideally, the locale is set once at the beginning for the script or program:\n",
    "\n",
    "```py\n",
    "import locale\n",
    "locale.setlocale(locale.LC_ALL, '')\n",
    "```\n"
   ],
   "metadata": {}
  },
  {
   "cell_type": "markdown",
   "source": [
    "## Locale specific sorting\n",
    "\n",
    "For locale aware sorting, use [locale.strxfrm()](https://docs.python.org/3/library/locale.html#locale.strxfrm) for a key function or [locale.strcoll()](https://docs.python.org/3/library/locale.html#locale.strcoll) for a comparison function.\n"
   ],
   "metadata": {}
  },
  {
   "cell_type": "code",
   "execution_count": 168,
   "source": [
    "locale.setlocale(locale.LC_COLLATE, \"fr_FR.UTF-8\")\n",
    "a = [\"A\", \"E\", \"Z\", \"a\", \"e\", \"é\", \"z\"]\n",
    "print(sorted(a))\n",
    "print(sorted(a, key=locale.strxfrm))"
   ],
   "outputs": [
    {
     "output_type": "stream",
     "name": "stdout",
     "text": [
      "['A', 'E', 'Z', 'a', 'e', 'z', 'é']\n",
      "['A', 'E', 'Z', 'a', 'e', 'é', 'z']\n"
     ]
    }
   ],
   "metadata": {}
  },
  {
   "cell_type": "code",
   "execution_count": 169,
   "source": [
    "corpus = [\"Art\", \"Älg\", \"Ved\", \"Wasa\"]\n",
    "locale.setlocale(locale.LC_COLLATE, \"sv_SE.UTF-8\")\n",
    "\n",
    "print(corpus)\n",
    "corpus.sort(key=locale.strxfrm)\n",
    "print(corpus)"
   ],
   "outputs": [
    {
     "output_type": "stream",
     "name": "stdout",
     "text": [
      "['Art', 'Ved', 'Wasa', 'Älg']\n",
      "['Art', 'Älg', 'Ved', 'Wasa']\n",
      "['Art', 'Ved', 'Wasa', 'Älg']\n"
     ]
    }
   ],
   "metadata": {}
  },
  {
   "cell_type": "code",
   "execution_count": 170,
   "source": [
    "locale.setlocale(locale.LC_COLLATE, \"de_DE.UTF-8\")\n",
    "lastnames = [\"Bange\", \"Änger\", \"Amman\", \"Änger\", \"Zelch\", \"Ösbach\"]\n",
    "print(sorted(lastnames))\n",
    "print(sorted(lastnames, key=locale.strxfrm)) "
   ],
   "outputs": [
    {
     "output_type": "stream",
     "name": "stdout",
     "text": [
      "['Amman', 'Bange', 'Zelch', 'Änger', 'Änger', 'Ösbach']\n",
      "['Amman', 'Änger', 'Änger', 'Bange', 'Ösbach', 'Zelch']\n"
     ]
    }
   ],
   "metadata": {}
  },
  {
   "cell_type": "code",
   "execution_count": 188,
   "source": [
    "# Reset\n",
    "locale.setlocale(locale.LC_ALL, '')"
   ],
   "outputs": [
    {
     "output_type": "execute_result",
     "data": {
      "text/plain": [
       "'en_AU.UTF-8'"
      ]
     },
     "metadata": {},
     "execution_count": 188
    }
   ],
   "metadata": {}
  },
  {
   "cell_type": "markdown",
   "source": [
    "# PyUCA\n",
    "\n",
    "[pyuca](https://github.com/jtauber/pyuca) implements the _Default Unicode Collation Element Table_ (DUCET). These are collation rules from the [Unicode collation algorithm](https://en.wikipedia.org/wiki/Unicode_collation_algorithm) that are language or locale independant.\n",
    "\n",
    "Unfortunately `pyuca` only supports up to Unicode 10."
   ],
   "metadata": {}
  },
  {
   "cell_type": "markdown",
   "source": [
    "# Using PyICU for collation\n",
    "\n",
    "PyICU is a Python extension wrapping ICU4C (the [ICU](http://site.icu-project.org/) C/C++ libraries).\n",
    "\n",
    "To use PyICU, it is necessary for ICU to be installed. A version of ICU may be already available on some systems. Prebuilt packages are available for a number of operating systems, alternatively ICU4C can be built from source code. Please use an approach best suited to your operating system. Prepackages versions may contain older versions of ICU4C."
   ],
   "metadata": {}
  },
  {
   "cell_type": "code",
   "execution_count": null,
   "source": [
    "# Test if running on Google Colab, if yes install required \n",
    "# software and Python packages.\n",
    "\n",
    "try:\n",
    "  import google.colab\n",
    "  IN_COLAB = True\n",
    "except:\n",
    "  IN_COLAB = False\n",
    "if IN_COLAB:\n",
    "  !pip install -q pyicu"
   ],
   "outputs": [],
   "metadata": {}
  },
  {
   "cell_type": "code",
   "execution_count": 1,
   "source": [
    "#from icu import Locale, Collator, RuleBasedCollator, ICU_VERSION, VERSION, UCollAttribute, UCollAttributeValue\n",
    "from icu import *\n",
    "\n",
    "print(\"ICU version: \" + ICU_VERSION)\n",
    "print(\"PyICU version: \" + VERSION)"
   ],
   "outputs": [
    {
     "output_type": "stream",
     "name": "stdout",
     "text": [
      "ICU version: 69.1\n",
      "PyICU version: 2.7.4\n"
     ]
    }
   ],
   "metadata": {}
  },
  {
   "cell_type": "markdown",
   "source": [
    "## `icu.Collator` vs `icu.RuleBasedCollator`\n",
    "\n",
    "PyICU exposes two methods to handle collation in ICU. The usual approach is to use `icu.Collator()` with a supported locale. The second approach is to write your own custom collation rules and use them with `icu.RuleBasedCollator`.\n",
    "\n",
    "The second approach is useful for languages with no locale support, or in situations where you wish to modify the rules for a supported language.\n",
    "\n",
    "To get a list of supported locales for Collation use `Collator.getAvailableLocales()`:"
   ],
   "metadata": {}
  },
  {
   "cell_type": "code",
   "execution_count": 175,
   "source": [
    "#for key in Collator.getAvailableLocales().keys():\n",
    "#  print(key)\n",
    "\n",
    "\" \".join(list(Collator.getAvailableLocales().keys()))"
   ],
   "outputs": [
    {
     "output_type": "execute_result",
     "data": {
      "text/plain": [
       "'af am ar ar_SA as az be bg bn bo br bs bs_Cyrl ca ceb chr cs cy da de de_AT dsb dz ee el en en_US en_US_POSIX eo es et fa fa_AF ff ff_Adlm fi fil fo fr fr_CA ga gl gu ha haw he he_IL hi hr hsb hu hy id id_ID ig is it ja ka kk kl km kn ko kok ku ky lb lkt ln lo lt lv mk ml mn mr ms mt my nb nb_NO ne nl nn no om or pa pa_Guru pa_Guru_IN pl ps pt ro ru sa se si sk sl smn sq sr sr_Cyrl sr_Cyrl_BA sr_Cyrl_ME sr_Cyrl_RS sr_Latn sr_Latn_BA sr_Latn_RS sv sw ta te th tk to tr ug uk ur uz vi wae wo xh yi yo zh zh_Hans zh_Hans_CN zh_Hans_SG zh_Hant zh_Hant_HK zh_Hant_MO zh_Hant_TW zu'"
      ]
     },
     "metadata": {},
     "execution_count": 175
    }
   ],
   "metadata": {}
  },
  {
   "cell_type": "markdown",
   "source": [
    "The available locales will differ between versions of ICU4C being used. With each new version of ICU, additional locales are made available. ICU locales are based on the [Common Locale Data Repository](http://cldr.unicode.org/) (CLDR) datasets."
   ],
   "metadata": {}
  },
  {
   "cell_type": "markdown",
   "source": [
    "### Using `icu.Collator`\n",
    "\n",
    "1. Define a collator instance using `icu.Collator`\n",
    "2. Use the `key` parameter of `list.sort()` or `sorted()` to access the collator's SortKey.\n",
    "\n",
    "A Turkish example:"
   ],
   "metadata": {}
  },
  {
   "cell_type": "code",
   "execution_count": 176,
   "source": [
    "tr_list = [\"İstanbul\", \"Ankara\", \"İzmir\", \"Bursa\", \"Antalya\", \"Adana\", \"Şanlıurfa\", \"Konya\", \"Ceyhan\", \"Gaziantep\", \"Kayseri\", \"Samsun\", \"Çanakkale\", \"Iğdır\"]\n",
    "#loc = 'tr_TR.UTF-8'\n",
    "loc = Locale(\"tr\")\n",
    "tr_collator = Collator.createInstance(loc)\n",
    "print(sorted(tr_list, key=tr_collator.getSortKey))\n",
    "#tr_list.sort(key=tr_collator.getSortKey)"
   ],
   "outputs": [
    {
     "output_type": "stream",
     "name": "stdout",
     "text": [
      "['Adana', 'Ankara', 'Antalya', 'Bursa', 'Ceyhan', 'Çanakkale', 'Gaziantep', 'Iğdır', 'İstanbul', 'İzmir', 'Kayseri', 'Konya', 'Samsun', 'Şanlıurfa']\n"
     ]
    }
   ],
   "metadata": {}
  },
  {
   "cell_type": "markdown",
   "source": [
    "A Thai collation example:"
   ],
   "metadata": {}
  },
  {
   "cell_type": "code",
   "execution_count": 177,
   "source": [
    "thai_words = [\"หมู\", \"เห็ด\", \"เป็ด\", \"ไก่\", \"ช้าง\", \"ม้า\", \"วัว\", \"ควาย\"]\n",
    "th_loc = Locale.createCanonical(\"th-TH\") \n",
    "th_collator = Collator.createInstance(th_loc)\n",
    "print(sorted(thai_words, key=th_collator.getSortKey))\n",
    "# ['ไก่', 'ควาย', 'ช้าง', 'เป็ด', 'ม้า', 'วัว', 'หมู', 'เห็ด']"
   ],
   "outputs": [
    {
     "output_type": "stream",
     "name": "stdout",
     "text": [
      "['ไก่', 'ควาย', 'ช้าง', 'เป็ด', 'ม้า', 'วัว', 'หมู', 'เห็ด']\n"
     ]
    }
   ],
   "metadata": {}
  },
  {
   "cell_type": "markdown",
   "source": [
    "Some locales have more than one set of collation rules available. For instance German has a default linguistic collation. There is also a phonebook collation whih orders names differently.\n",
    "\n",
    "Given the following list of names:"
   ],
   "metadata": {}
  },
  {
   "cell_type": "code",
   "execution_count": 179,
   "source": [
    "de_names = ['Hafermann, Ulrich', 'Hacker, Simon', 'Hackmann, Gustav', 'Häcker, Emil', 'Haecker, Manfred', 'Häcker, Xaver', 'Assemann, Simon', 'Aßmann, Erika', 'Astmann, Manfred', 'Assmann, Frank']"
   ],
   "outputs": [],
   "metadata": {}
  },
  {
   "cell_type": "markdown",
   "source": [
    "The default German collation rules sorts these as:"
   ],
   "metadata": {}
  },
  {
   "cell_type": "code",
   "execution_count": 180,
   "source": [
    "de_loc = Locale.createCanonical(\"de-DE\") \n",
    "de_collator = Collator.createInstance(de_loc)\n",
    "print(sorted(de_names, key=de_collator.getSortKey))"
   ],
   "outputs": [
    {
     "output_type": "stream",
     "name": "stdout",
     "text": [
      "['Assemann, Simon', 'Aßmann, Erika', 'Assmann, Frank', 'Astmann, Manfred', 'Häcker, Emil', 'Hacker, Simon', 'Häcker, Xaver', 'Hackmann, Gustav', 'Haecker, Manfred', 'Hafermann, Ulrich']\n"
     ]
    }
   ],
   "metadata": {}
  },
  {
   "cell_type": "markdown",
   "source": [
    "The German Phonebook collation rules have the following chnages to the German collation rules:\n",
    "\n",
    "Ä/ä = Ae/ae \\\n",
    "Ö/ö = Oe/oe \\\n",
    "Ü/ü = Ue/ue \\\n",
    "ß = ss\n",
    "\n",
    "This will sort the list of names as follows:"
   ],
   "metadata": {}
  },
  {
   "cell_type": "code",
   "execution_count": 181,
   "source": [
    "de_phbk_loc = Locale.createCanonical(\"de-u-co-phonebk\")  # de@collation=phonebook\n",
    "de_phpk_collator = Collator.createInstance(de_phbk_loc)\n",
    "print(sorted(de_names, key=de_phpk_collator.getSortKey))"
   ],
   "outputs": [
    {
     "output_type": "stream",
     "name": "stdout",
     "text": [
      "['Assemann, Simon', 'Aßmann, Erika', 'Assmann, Frank', 'Astmann, Manfred', 'Hacker, Simon', 'Hackmann, Gustav', 'Häcker, Emil', 'Haecker, Manfred', 'Häcker, Xaver', 'Hafermann, Ulrich']\n"
     ]
    }
   ],
   "metadata": {}
  },
  {
   "cell_type": "markdown",
   "source": [
    "## Customising `icu.Collator`\n",
    "\n",
    "Atributes can be used to modify varous aspects of collation rules being used. \n",
    "\n",
    "1. Define a collator instance using `icu.Collator`\n",
    "2. Update the attributes of the collator instance, using `.setAttribute()`\n",
    "3. Use the `key` parameter of `list.sort()` or `sorted()` to access the collator's SortKey.\n",
    "\n",
    "|Attribute  |Values  |Notes  |\n",
    "|---------- |------- |------ |\n",
    "|UCollAttribute.ALTERNATE_HANDLING |UCollAttributeValue.NON_IGNORABLE, UCollAttributeValue.SHIFTED |For handling variable elements. __NON_IGNORABLE__ (default) treats all the codepoints with non-ignorable primary weights in the same way. __SHIFTED__: codepoints with primary weights that are equal or below the variable top value to be ignored on primary level and moved to the quaternary level.  |\n",
    "|UCollAttribute.CASE_FIRST |UCollAttributeValue.OFF, UCollAttributeValue.LOWER_FIRST, UCollAttributeValue.UPPER_FIRST | Ordering of upper and lower case letters. __OFF__ (default), which orders upper and lower case letters in accordance to their tertiary weights. __UPPER_FIRST__ which forces upper case letters to sort before lower case letters, and __LOWER_FIRST__ which forces lower case letters to sort before upper case letters. |\n",
    "|UCollAttribute.CASE_LEVEL |UCollAttributeValue.ON, UCollAttributeValue.OFF |__On__ if case sensitive (case level is generated), __off__ is case insensitive (case level is not generated). |\n",
    "|UCollAttribute.DECOMPOSITION_MODE |UCollAttributeValue.ON, UCollAttributeValue.OFF  |Alias for UCollAttribute.NORMALIZATION_MODE attribute.  |\n",
    "|UCollAttribute.FRENCH_COLLATION |UCollAttributeValue.ON, UCollAttributeValue.OFF |Direction of secondary weights (Canadian French).  __ON__: secondary weights considered backwards. __OFF__: secondary weights considered in the order they appear.   |\n",
    "|UCollAttribute.HIRAGANA_QUATERNARY_MODE |UCollAttributeValue.ON, UCollAttributeValue.OFF |When turned on, this attribute positions Hiragana before all non-ignorables on quaternary level. Use depreciated. |\n",
    "|UCollAttribute.NORMALIZATION_MODE |UCollAttributeValue.ON, UCollAttributeValue.OFF |Controls whether the normalization check and necessary normalizations are performed. __OFF__: (default) no normalization check is performed. __ON__: check to see if data in in FCD form, if not then NFD normalization is performed.   |\n",
    "|UCollAttribute.NUMERIC_COLLATION |UCollAttributeValue.ON, UCollAttributeValue.OFF  |When turned on, this attribute makes substrings of digits sort according to their numeric values.  |\n",
    "|UCollAttribute.STRENGTH |UCollAttributeValue.PRIMARY, UCollAttributeValue.SECONDARY, UCollAttributeValue.TERTIARY, UCollAttributeValue.QUATERNARY, UCollAttributeValue.IDENTICAL |The strength attribute. The usual strength for most locales (except Japanese) is tertiary.  |\n",
    "\n",
    "See [UColAttribute](https://unicode-org.github.io/icu-docs/apidoc/released/icu4c/ucol_8h.html#a583fbe7fc4a850e2fcc692e766d2826c) in [ICU4C API](https://unicode-org.github.io/icu-docs/apidoc/released/icu4c/) reference.\n"
   ],
   "metadata": {}
  },
  {
   "cell_type": "markdown",
   "source": [
    "In the following code snippet, `.setAttribute()` is used to modify the collation, allowing digits to be sorted as numbers, rather than being sorted as characters."
   ],
   "metadata": {}
  },
  {
   "cell_type": "code",
   "execution_count": 182,
   "source": [
    "en_list = ['3 oranges', '1 apple', '10 strawberries', '2 pears']\n",
    "print(sorted(en_list))\n",
    "en_collator = Collator.createInstance(Locale('en_AU'))\n",
    "en_collator.setAttribute(UCollAttribute.NUMERIC_COLLATION, UCollAttributeValue.ON)\n",
    "\n",
    "\n",
    "print(sorted(en_list, key=en_collator.getSortKey))"
   ],
   "outputs": [
    {
     "output_type": "stream",
     "name": "stdout",
     "text": [
      "['1 apple', '10 strawberries', '2 pears', '3 oranges']\n",
      "['1 apple', '2 pears', '3 oranges', '10 strawberries']\n"
     ]
    }
   ],
   "metadata": {}
  },
  {
   "cell_type": "markdown",
   "source": [
    "To enable case insensitve collation:\n",
    "\n",
    "`coll.setAttribute(UCollAttribute.STRENGTH, UCollAttributeValue.SECONDARY)` or `coll.setStrength(UCollAttributeValue.SECONDARY)`\n",
    "\n",
    "To enable case and diacritic insensitive collation:\n",
    "\n",
    "`coll.setAttribute(UCollAttribute.STRENGTH, UCollAttributeValue.PRIMARY)` or `coll.setStrength(UCollAttributeValue.PRIMARY)`\n"
   ],
   "metadata": {}
  },
  {
   "cell_type": "code",
   "execution_count": 183,
   "source": [
    "def str_compare(col, s1, s2):\n",
    "    if col.compare(s1, s2) == 0:\n",
    "        print( str(s1) + \" equals \" + str(s2))\n",
    "    elif col.compare(s1, s2) < 0:\n",
    "        print(str(s1) +  \" is less than \" + str(s2))\n",
    "    else:\n",
    "        print(str(s1) +  \" is greater than \" + str(s2))\n",
    "\n",
    "str_compare(en_collator, \"abc\", \"ABC\")\n",
    "\n",
    "# Case insensitive collation\n",
    "en_collator.setAttribute(UCollAttribute.STRENGTH, UCollAttributeValue.SECONDARY)\n",
    "str_compare(en_collator, \"abc\", \"ABC\")\n"
   ],
   "outputs": [
    {
     "output_type": "stream",
     "name": "stdout",
     "text": [
      "abc is less than ABC\n",
      "abc equals ABC\n"
     ]
    }
   ],
   "metadata": {}
  },
  {
   "cell_type": "markdown",
   "source": [
    "## Using `icu.RuleBasedCollator`\n",
    "\n",
    "1. Define the [collation rules](https://unicode-org.github.io/icu/userguide/collation/customization/)\n",
    "2. Define a collator instance using `icu.RuleBasedCollator`\n",
    "3. Use the `key` parameter of `list.sort()` or `sorted()` to access the collator's SortKey.\n",
    "\n",
    "The following code snippet sorts a list of Dinka lexemes:"
   ],
   "metadata": {}
  },
  {
   "cell_type": "code",
   "execution_count": 184,
   "source": [
    "din_rules = \"[normalization on]&a<<<A<<aa<<<Aa<<<AA<<ä<<<Ä<<ää<<<Ää<<<ÄÄ&d<<<D<dh<<<Dh<<<DH<e<<<E<<ee<<<Ee<<<EE<<ë<<<Ë<<ëë<<<Ëë<<<ËË<ɛ<<<Ɛ<<ɛɛ<<<Ɛɛ<<<ƐƐ<<ɛ̈<<<Ɛ̈<<ɛ̈ɛ̈<<<Ɛ̈ɛ̈<<<Ɛ̈Ɛ̈&g<<<G<ɣ<<<Ɣ&i<<<I<<ii<<<II<<ï<<<Ï<<ïï<<<Ïï<<<ÏÏ&n<<<N<nh<<<Nh<<<NH<ny<<<Ny<<<NY<ŋ<<<Ŋ<o<<<O<<oo<<<Oo<<<OO<<ö<<<Ö<<öö<<<Öö<<<ÖÖ<ɔ<<<Ɔ<<ɔɔ<<<Ɔɔ<<<ƆƆ<<ɔ̈<<<Ɔ̈<<ɔ̈ɔ̈<<<Ɔ̈ɔ̈<<<Ɔ̈Ɔ̈<t<<<T<th<<<Th<<<TH<u<<<U<<uu<<<UU\"\n",
    "din_list = ['agook', 'abeeric', 'abuɔk', 'agol', 'acuut', 'abany', 'abur', 'abëër', 'abaany', 'aber', 'akɔ̈r', 'acut', 'acuth', 'abenh', 'abeer', 'akuny', 'ago', 'akɔrcok', 'akuŋɛŋ', 'abuɔ̈k', 'aberŋic', 'abuɔɔk', 'abeŋ', 'abuɔ̈c', 'abaŋ']\n",
    "din_collator = RuleBasedCollator(din_rules)\n",
    "print(sorted(din_list, key=din_collator.getSortKey))"
   ],
   "outputs": [
    {
     "output_type": "stream",
     "name": "stdout",
     "text": [
      "['abany', 'abaany', 'abaŋ', 'abenh', 'abeŋ', 'aber', 'abeer', 'abëër', 'abeeric', 'aberŋic', 'abuɔ̈c', 'abuɔk', 'abuɔɔk', 'abuɔ̈k', 'abur', 'acut', 'acuut', 'acuth', 'ago', 'agook', 'agol', 'akɔ̈r', 'akɔrcok', 'akuny', 'akuŋɛŋ']\n"
     ]
    }
   ],
   "metadata": {}
  },
  {
   "cell_type": "markdown",
   "source": [
    "## Modifying existing rules\n",
    "\n",
    "It is possible to make changes to collation rules to tailor the collation sequence. In Welsh __*Ch*__ is a seperate letter of the alphabet that comes after __*C*__. The default collaton rules for Welsh sort majuscules after minuscules:"
   ],
   "metadata": {}
  },
  {
   "cell_type": "code",
   "execution_count": 185,
   "source": [
    "cy_list = [\"chwaeth\", \"Cyflym\", \"Clust\", \"cyflym\", \"Chwaeth\", \"chwerw\", \"Chwerw\", \"clust\"]\n",
    "cy_collator = Collator.createInstance(Locale(\"cy\"))\n",
    "print(sorted(cy_list, key=cy_collator.getSortKey))"
   ],
   "outputs": [
    {
     "output_type": "stream",
     "name": "stdout",
     "text": [
      "['clust', 'Clust', 'cyflym', 'Cyflym', 'chwaeth', 'Chwaeth', 'chwerw', 'Chwerw']\n"
     ]
    }
   ],
   "metadata": {}
  },
  {
   "cell_type": "markdown",
   "source": [
    "Use `getRules()` to retrieve the collation rules from a collator instance. You can then modify the existing rules. The following snippet retrieved the Welsh collation rules and prepends [an option](https://unicode-org.github.io/icu/userguide/collation/customization/#default-options) that changes the collation order of majuscules and minuscules. These rules will sort Majuscules before minuscules:"
   ],
   "metadata": {}
  },
  {
   "cell_type": "code",
   "execution_count": 186,
   "source": [
    "cy_rules = cy_collator.getRules()   \n",
    "#cy_rules = Collator.createInstance(Locale('cy')).getRules()\n",
    "cy_rules = '[caseFirst upper]' + cy_rules\n",
    "cy_collator_alt = RuleBasedCollator(cy_rules)\n",
    "print(sorted(cy_list, key=cy_collator_alt.getSortKey))\n"
   ],
   "outputs": [
    {
     "output_type": "stream",
     "name": "stdout",
     "text": [
      "['Clust', 'clust', 'Cyflym', 'cyflym', 'Chwaeth', 'chwaeth', 'Chwerw', 'chwerw']\n"
     ]
    }
   ],
   "metadata": {}
  },
  {
   "cell_type": "markdown",
   "source": [
    "Copyright © 2021 [Enabling Languages](https://enabling-languages.github.io/). <br>This notebook is made available under the [MIT licence](https://github.com/enabling-languages/python-i18n/blob/main/LICENSE)."
   ],
   "metadata": {}
  }
 ],
 "metadata": {
  "interpreter": {
   "hash": "1089646a020cfe6092fafe876ee4a6e68b3ec5a13ed8a22b79c0a42e9e2a954f"
  },
  "kernelspec": {
   "name": "python3",
   "display_name": "Python 3.8.1 64-bit ('el': venv)"
  },
  "language_info": {
   "codemirror_mode": {
    "name": "ipython",
    "version": 3
   },
   "file_extension": ".py",
   "mimetype": "text/x-python",
   "name": "python",
   "nbconvert_exporter": "python",
   "pygments_lexer": "ipython3",
   "version": "3.8.1"
  }
 },
 "nbformat": 4,
 "nbformat_minor": 4
}