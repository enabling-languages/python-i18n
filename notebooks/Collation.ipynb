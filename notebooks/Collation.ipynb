{
 "cells": [
  {
   "cell_type": "markdown",
   "source": [
    "# Introduction to collation"
   ],
   "metadata": {}
  },
  {
   "cell_type": "markdown",
   "source": [
    "Collation in its strictest sense includes a number of different but rleated operations including sorting, indexing and searching. The following notebook will focus specifically on searching.\n",
    "\n",
    "Python, since version 2.3, has used [timsort](https://en.wikipedia.org/wiki/Timsort) as its standard sorting algorithm. Python has a built-in `list.sort()` method that modifies the list inplace. The `sorted()` built-in function builds a new sorted list from an iterable.\n",
    "\n",
    "This notebook will not focus on how to use `list.sort()` or `sorted()`, rather it will focus on ways of extending sorting. For more information on sorting refer to the Python [Sorting HOWTO](https://docs.python.org/3/howto/sorting.html#odd-and-ends) or other online resources."
   ],
   "metadata": {}
  },
  {
   "cell_type": "code",
   "execution_count": 59,
   "source": [
    "a = [\"A\", \"E\", \"Z\", \"a\", \"e\", \"é\", \"z\"]\n",
    "print(sorted(a))\n",
    "print(a)\n",
    "a.sort()\n",
    "print(a)"
   ],
   "outputs": [
    {
     "output_type": "stream",
     "name": "stdout",
     "text": [
      "['A', 'E', 'Z', 'a', 'e', 'z', 'é']\n",
      "['A', 'E', 'Z', 'a', 'e', 'é', 'z']\n",
      "['A', 'E', 'Z', 'a', 'e', 'z', 'é']\n"
     ]
    }
   ],
   "metadata": {}
  },
  {
   "cell_type": "markdown",
   "source": [
    "The built-in `.sort()` and `sorted()` perform a crude codepoint ordering.\n"
   ],
   "metadata": {}
  },
  {
   "cell_type": "markdown",
   "source": [
    "# Using the locale module for collation\n",
    "\n",
    "For information on using the Locale module in Google Colab refer to the code snippets in [locale_module_colab.ipynb](https://github.com/enabling-languages/python-i18n/blob/main/colab/locale_module_colab.ipynb)."
   ],
   "metadata": {}
  },
  {
   "cell_type": "code",
   "execution_count": 60,
   "source": [
    "import locale\n",
    "locale.setlocale(locale.LC_ALL, '')"
   ],
   "outputs": [
    {
     "output_type": "execute_result",
     "data": {
      "text/plain": [
       "'en_AU.UTF-8'"
      ]
     },
     "metadata": {},
     "execution_count": 60
    }
   ],
   "metadata": {}
  },
  {
   "cell_type": "markdown",
   "source": [
    "## Available locales\n",
    "\n",
    "It is possible to use the `locale` module and the key parameter of `list.sort()` and `sorted()` to obtain a tailored sort using a supported locale.\n",
    "\n",
    "_It is important to note that use of the `locale` module will not produce platform independant code. Each server or workstation may have a different set of locales available, this is most noticable in Linux and Unix based servers and workstations._\n",
    "\n",
    "To get a list of available locales, supported by the locale module, for Windows users:\n",
    "\n",
    "```py\n",
    "for lang in locale.windows_locale.values():\n",
    "    print(lang)\n",
    "```\n",
    "\n",
    "To get a list of available locales, supported by the locale module, for other operating systems:\n",
    "\n",
    "```py\n",
    "for lang in locale.locale_alias.values():\n",
    "    print(lang)\n",
    "```\n",
    "\n",
    "To use a locale, it must be available within the operating systems. To see what locales are available on Linux and MacOS workstations and servers:\n",
    "\n",
    "```shell\n",
    "locale -a\n",
    "```\n",
    "\n",
    "_A Python script will use the system default encoding, unless the locale is explicitly changed. It is important to note that changing the locale can affect the execution of Python code in multiple ways. A script should set the locale once and not change it. If more than one language and set of collation rules is needed, alternative solutions should be used._\n"
   ],
   "metadata": {}
  },
  {
   "cell_type": "markdown",
   "source": [
    "## Identifying the current locale\n",
    "\n",
    "Use `locale.getlocale()` to identify current locale:"
   ],
   "metadata": {}
  },
  {
   "cell_type": "code",
   "execution_count": 61,
   "source": [
    "loc = locale.getlocale()\n",
    "default_loc = locale.getdefaultlocale()\n",
    "\n",
    "print(\"Current locale: \" + str(loc))\n",
    "print(\"Default locale: \" + str(default_loc))"
   ],
   "outputs": [
    {
     "output_type": "stream",
     "name": "stdout",
     "text": [
      "Current locale: ('en_AU', 'UTF-8')\n",
      "Default locale: ('en_AU', 'UTF-8')\n"
     ]
    }
   ],
   "metadata": {}
  },
  {
   "cell_type": "markdown",
   "source": [
    "\n",
    "## Setting a locale\n",
    "\n",
    "Use `locale.setlocale()` to set locale. You can set all the `LC_COLLATE` locale environment variables using:\n",
    "\n",
    "```py\n",
    "locale.setlocale(locale.LC_COLLATE, 'de_DE.UTF-8')\n",
    "```\n",
    "\n",
    "You can set the current locale to your default settings:\n",
    "\n",
    "```py\n",
    "locale.setlocale(locale.LC_ALL, '')\n",
    "```\n",
    "\n",
    "Changing locales is not necessrily thread safe, and is not recommeneded. Ideally, the locale is set once at the beginning for the script or program:\n",
    "\n",
    "```py\n",
    "import locale\n",
    "locale.setlocale(locale.LC_ALL, '')\n",
    "```\n"
   ],
   "metadata": {}
  },
  {
   "cell_type": "markdown",
   "source": [
    "## Locale specific sorting\n",
    "\n",
    "For locale aware sorting, use [locale.strxfrm()](https://docs.python.org/3/library/locale.html#locale.strxfrm) for a key function or [locale.strcoll()](https://docs.python.org/3/library/locale.html#locale.strcoll) for a comparison function.\n"
   ],
   "metadata": {}
  },
  {
   "cell_type": "code",
   "execution_count": 62,
   "source": [
    "locale.setlocale(locale.LC_COLLATE, \"fr_FR.UTF-8\")\n",
    "a = [\"A\", \"E\", \"Z\", \"a\", \"e\", \"é\", \"z\"]\n",
    "print(sorted(a))\n",
    "print(sorted(a, key=locale.strxfrm))"
   ],
   "outputs": [
    {
     "output_type": "stream",
     "name": "stdout",
     "text": [
      "['A', 'E', 'Z', 'a', 'e', 'z', 'é']\n",
      "['A', 'E', 'Z', 'a', 'e', 'é', 'z']\n"
     ]
    }
   ],
   "metadata": {}
  },
  {
   "cell_type": "code",
   "execution_count": 63,
   "source": [
    "corpus = [\"Art\", \"Älg\", \"Ved\", \"Wasa\"]\n",
    "locale.setlocale(locale.LC_COLLATE, \"sv_SE.UTF-8\")\n",
    "\n",
    "print(corpus)\n",
    "corpus.sort(key=locale.strxfrm)\n",
    "print(corpus)"
   ],
   "outputs": [
    {
     "output_type": "stream",
     "name": "stdout",
     "text": [
      "['Art', 'Älg', 'Ved', 'Wasa']\n",
      "['Art', 'Ved', 'Wasa', 'Älg']\n"
     ]
    }
   ],
   "metadata": {}
  },
  {
   "cell_type": "code",
   "execution_count": 64,
   "source": [
    "locale.setlocale(locale.LC_COLLATE, \"de_DE.UTF-8\")\n",
    "lastnames = [\"Bange\", \"Änger\", \"Amman\", \"Änger\", \"Zelch\", \"Ösbach\"]\n",
    "print(sorted(lastnames))\n",
    "print(sorted(lastnames, key=locale.strxfrm)) "
   ],
   "outputs": [
    {
     "output_type": "stream",
     "name": "stdout",
     "text": [
      "['Amman', 'Bange', 'Zelch', 'Änger', 'Änger', 'Ösbach']\n",
      "['Amman', 'Änger', 'Änger', 'Bange', 'Ösbach', 'Zelch']\n"
     ]
    }
   ],
   "metadata": {}
  },
  {
   "cell_type": "code",
   "execution_count": 65,
   "source": [
    "# Reset\n",
    "locale.setlocale(locale.LC_ALL, '')"
   ],
   "outputs": [
    {
     "output_type": "execute_result",
     "data": {
      "text/plain": [
       "'en_AU.UTF-8'"
      ]
     },
     "metadata": {},
     "execution_count": 65
    }
   ],
   "metadata": {}
  },
  {
   "cell_type": "markdown",
   "source": [
    "# PyUCA\n",
    "\n",
    "[pyuca](https://github.com/jtauber/pyuca) implements the _Default Unicode Collation Element Table_ (DUCET). These are collation rules from the [Unicode collation algorithm](https://en.wikipedia.org/wiki/Unicode_collation_algorithm) that are language or locale independant.\n",
    "\n",
    "Unfortunately `pyuca` only supports older versions of Unicode. But it is possible to download and use the latest version of allkeys.txt to use the DUCET for the current version of Unicode.\n",
    "\n",
    "To use PyUCA for sorting:\n",
    "\n",
    "1. Install PyUCA using `pip`, if not already installed.\n",
    "2. Download latest version of the [DUCET file](https://www.unicode.org/Public/UCA/latest/allkeys.txt).\n",
    "3. Import PyUCA.\n",
    "4. Initialise a collator, using the latest __allkeys.txt__."
   ],
   "metadata": {}
  },
  {
   "cell_type": "code",
   "execution_count": 66,
   "source": [
    "try:\n",
    "  import google.colab\n",
    "  IN_COLAB = True\n",
    "except:\n",
    "  IN_COLAB = False\n",
    "if IN_COLAB:\n",
    "  !pip install pyuca\n",
    "  !wget /resources/data/allkeys.txt https://www.unicode.org/Public/UCA/latest/allkeys.txt\n",
    "else:\n",
    "  !mkdir -p data\n",
    "  !wget -nc -P data/ https://www.unicode.org/Public/UCA/latest/allkeys.txt\n",
    "\n",
    "import pyuca"
   ],
   "outputs": [
    {
     "output_type": "stream",
     "name": "stdout",
     "text": [
      "File ‘data/allkeys.txt’ already there; not retrieving.\n",
      "\n"
     ]
    }
   ],
   "metadata": {}
  },
  {
   "cell_type": "code",
   "execution_count": 67,
   "source": [
    "if IN_COLAB:\n",
    "  pyuca_collator = pyuca.Collator(\"/content/allkeys.txt\")\n",
    "else:\n",
    "  pyuca_collator = pyuca.Collator(\"data/allkeys.txt\")"
   ],
   "outputs": [],
   "metadata": {}
  },
  {
   "cell_type": "code",
   "execution_count": 68,
   "source": [
    "ca_list = [\"minotaure\", \"miscel·lània\",\"misantropia\",\"milla\",\"minúscul\",\"millor\",\"mil·lenni\",\"minúcia\"]\n",
    "\n",
    "ca_list_pyuca = sorted(ca_list, key=pyuca_collator.sort_key)\n",
    "\n",
    "print(ca_list_pyuca)\n",
    "print(\"Default sort and PyUCA are equal for ca_list\") if sorted(ca_list) == ca_list_pyuca else print(\"Default sort and PyUCA are NOT equal for ca_list\")"
   ],
   "outputs": [
    {
     "output_type": "stream",
     "name": "stdout",
     "text": [
      "['milla', 'mil·lenni', 'millor', 'minotaure', 'minúcia', 'minúscul', 'misantropia', 'miscel·lània']\n",
      "Default sort and PyUCA are NOT equal for ca_list\n"
     ]
    }
   ],
   "metadata": {}
  },
  {
   "cell_type": "code",
   "execution_count": 69,
   "source": [
    "various_chars = [ \"1\", \"\\u20B9\", \"R\", \"\\u09E7\", \"\\u20A8\", \"S\", \"\\u09F4\" ]\n",
    "\n",
    "various_chars_pyuca = sorted(various_chars, key=pyuca_collator.sort_key)\n",
    "\n",
    "print(various_chars_pyuca)\n",
    "print(\"Default sort and PyUCA are equal for various_chars\") if sorted(various_chars_pyuca) == various_chars_pyuca else print(\"Default sort and PyUCA are NOT equal for ca_list\")"
   ],
   "outputs": [
    {
     "output_type": "stream",
     "name": "stdout",
     "text": [
      "['৴', '₹', '1', '১', 'R', '₨', 'S']\n",
      "Default sort and PyUCA are NOT equal for ca_list\n"
     ]
    }
   ],
   "metadata": {}
  },
  {
   "cell_type": "markdown",
   "source": [
    "# Using PyICU for collation\n",
    "\n",
    "PyICU is a Python extension wrapping ICU4C (the [ICU](http://site.icu-project.org/) C/C++ libraries).\n",
    "\n",
    "To use PyICU, it is necessary for ICU to be installed. A version of ICU may be already available on some systems. Prebuilt packages are available for a number of operating systems, alternatively ICU4C can be built from source code. Please use an approach best suited to your operating system. Prepackages versions may contain older versions of ICU4C.\n",
    "\n",
    "The folowing command run in a Jupyter Notebook or Google Collab will provide information on the version of ICU4C installed:\n",
    "\n",
    "```py\n",
    "!icuinfo\n",
    "```"
   ],
   "metadata": {}
  },
  {
   "cell_type": "code",
   "execution_count": 70,
   "source": [
    "# If running on Google Colab install required Python packages.\n",
    "\n",
    "if IN_COLAB:\n",
    "  !pip install -q pyicu\n"
   ],
   "outputs": [],
   "metadata": {}
  },
  {
   "cell_type": "code",
   "execution_count": 71,
   "source": [
    "#from icu import Locale, Collator, RuleBasedCollator, ICU_VERSION, VERSION, UCollAttribute, UCollAttributeValue\n",
    "from icu import *\n",
    "\n",
    "print(\"ICU version: \" + ICU_VERSION)\n",
    "print(\"PyICU version: \" + VERSION)"
   ],
   "outputs": [
    {
     "output_type": "stream",
     "name": "stdout",
     "text": [
      "ICU version: 69.1\n",
      "PyICU version: 2.7.4\n"
     ]
    }
   ],
   "metadata": {}
  },
  {
   "cell_type": "markdown",
   "source": [
    "Various software and libraries that implement collation do so in a number of different ways. Python itself uses a simple codepoint or byte sequence order for collation. The PyUCA package implements the [Default Unicode Collation Element Table](https://unicode.org/reports/tr10/#Default_Unicode_Collation_Element_Table) (DUCET) of the [Unicode Collation Algorithm](https://unicode.org/reports/tr10/).\n",
    "\n",
    "ICU collation is based on the CLDR Collation Alorithm, which is based on DUCET. ICU provides access to both the ROOT collation rules and to language specific tailorings where required. The ICU4C API provides mechanisms for creating collator instamces using both the CLDR Coolation Algorithm and the European ordering rules (EOR / EN 13710).\n",
    "\n",
    "The CLDR Collation Algorithm  should be the preferred way of handling collation when a single language neutral collator needs to be used.\n",
    "\n",
    "To create a collator instance using the root CLDR Collation Algorithm:"
   ],
   "metadata": {}
  },
  {
   "cell_type": "code",
   "execution_count": 72,
   "source": [
    "root_collator = Collator.createInstance(Locale.getRoot())"
   ],
   "outputs": [],
   "metadata": {}
  },
  {
   "cell_type": "code",
   "execution_count": 73,
   "source": [
    "ca_list_cldr = sorted(ca_list, key=root_collator.getSortKey)\n",
    "\n",
    "print(ca_list_cldr)\n",
    "print(\"Default sort and CLDR are equal for ca_list\") if sorted(ca_list) == ca_list_cldr else print(\"Default sort and CLDR are NOT equal for ca_list\")\n",
    "print(\"PyUCA and CLDR are equal for ca_list\") if ca_list_pyuca == ca_list_cldr else print(\"PyUCA and CLDR are NOT equal for ca_list\")"
   ],
   "outputs": [
    {
     "output_type": "stream",
     "name": "stdout",
     "text": [
      "['milla', 'mil·lenni', 'millor', 'minotaure', 'minúcia', 'minúscul', 'misantropia', 'miscel·lània']\n",
      "Default sort and CLDR are NOT equal for ca_list\n",
      "PyUCA and CLDR are equal for ca_list\n"
     ]
    }
   ],
   "metadata": {}
  },
  {
   "cell_type": "markdown",
   "source": [
    "In many instances, DUCET and the CLDR Collation Algorithm will provide the same results. "
   ],
   "metadata": {}
  },
  {
   "cell_type": "code",
   "execution_count": 74,
   "source": [
    "various_chars_cldr = sorted(various_chars, key=root_collator.getSortKey)\n",
    "\n",
    "print(\"Default sort and CLDR are equal for various_chars\") if sorted(various_chars) == various_chars_cldr else print(\"Default sort and CLDR are NOT equal for various_chars\")\n",
    "print(\"PyUCA and CLDR are equal for various_chars\") if various_chars_pyuca == various_chars_cldr else print(\"PyUCA and CLDR are NOT equal for various_chars\")"
   ],
   "outputs": [
    {
     "output_type": "stream",
     "name": "stdout",
     "text": [
      "Default sort and CLDR are NOT equal for various_chars\n",
      "PyUCA and CLDR are NOT equal for various_chars\n"
     ]
    }
   ],
   "metadata": {}
  },
  {
   "cell_type": "markdown",
   "source": [
    "Refer to the collation chapter of the LDML specification [2.1 Grouping classes of characters](https://unicode.org/reports/tr35/tr35-collation.html#grouping_classes_of_characters) for distinctions in CLDR Collation Algorithm that results in the differences between CLDR and DUCET collation."
   ],
   "metadata": {}
  },
  {
   "cell_type": "markdown",
   "source": [
    "To use [European ordering rules](https://en.wikipedia.org/wiki/European_ordering_rules) (EOR / EN 13710):"
   ],
   "metadata": {}
  },
  {
   "cell_type": "code",
   "execution_count": 75,
   "source": [
    "eor_loc = Locale.createCanonical(\"und-u-co-eor\")\n",
    "eor_collator = Collator.createInstance(eor_loc)"
   ],
   "outputs": [],
   "metadata": {}
  },
  {
   "cell_type": "markdown",
   "source": [
    "European ordering rules can be used with a range of locales:\n",
    "\n",
    "```\n",
    "fr-u-co-eor\n",
    "```"
   ],
   "metadata": {}
  },
  {
   "cell_type": "markdown",
   "source": [
    "## `icu.Collator` vs `icu.RuleBasedCollator`\n",
    "\n",
    "PyICU exposes two methods to handle collation in ICU. The usual approach is to use `icu.Collator()` with a supported locale. The second approach is to write your own custom collation rules and use them with `icu.RuleBasedCollator`.\n",
    "\n",
    "The second approach is useful for languages with no locale support, or in situations where you wish to modify the rules for a supported language.\n",
    "\n",
    "To get a list of supported locales for collation use `Collator.getAvailableLocales()`:"
   ],
   "metadata": {}
  },
  {
   "cell_type": "code",
   "execution_count": 76,
   "source": [
    "#for key in Collator.getAvailableLocales().keys():\n",
    "#  print(key)\n",
    "\n",
    "\" \".join(list(Collator.getAvailableLocales().keys()))"
   ],
   "outputs": [
    {
     "output_type": "execute_result",
     "data": {
      "text/plain": [
       "'af am ar ar_SA as az be bg bn bo br bs bs_Cyrl ca ceb chr cs cy da de de_AT dsb dz ee el en en_US en_US_POSIX eo es et fa fa_AF ff ff_Adlm fi fil fo fr fr_CA ga gl gu ha haw he he_IL hi hr hsb hu hy id id_ID ig is it ja ka kk kl km kn ko kok ku ky lb lkt ln lo lt lv mk ml mn mr ms mt my nb nb_NO ne nl nn no om or pa pa_Guru pa_Guru_IN pl ps pt ro ru sa se si sk sl smn sq sr sr_Cyrl sr_Cyrl_BA sr_Cyrl_ME sr_Cyrl_RS sr_Latn sr_Latn_BA sr_Latn_RS sv sw ta te th tk to tr ug uk ur uz vi wae wo xh yi yo zh zh_Hans zh_Hans_CN zh_Hans_SG zh_Hant zh_Hant_HK zh_Hant_MO zh_Hant_TW zu'"
      ]
     },
     "metadata": {},
     "execution_count": 76
    }
   ],
   "metadata": {}
  },
  {
   "cell_type": "markdown",
   "source": [
    "The available locales will differ between versions of ICU4C being used. With each new version of ICU, additional locales are made available. ICU locales are based on the [Common Locale Data Repository](http://cldr.unicode.org/) (CLDR) datasets.\n",
    "\n",
    "It is possible to tailor existing collation rules by:\n",
    "\n",
    "1. Using the BCP47 Unicode and CLDR extensions to specify options to apply to the collation rules, when the Collator instance is created.\n",
    "2. Change the collation attributes of a Colltor instance using `.setAttribute()` method on a collator.\n",
    "3. Retrieve the rules for an existing locale and prepend options to the rules then use `icu.RuleBasedCollator` to create a collator instance."
   ],
   "metadata": {}
  },
  {
   "cell_type": "markdown",
   "source": [
    "## Using `icu.Collator`\n",
    "\n",
    "1. Define a collator instance using `icu.Collator`\n",
    "2. Use the `key` parameter of `list.sort()` or `sorted()` to access the collator's SortKey.\n",
    "\n",
    "A Turkish example:"
   ],
   "metadata": {}
  },
  {
   "cell_type": "code",
   "execution_count": 77,
   "source": [
    "tr_list = [\"İstanbul\", \"Ankara\", \"İzmir\", \"Bursa\", \"Antalya\", \"Adana\", \"Şanlıurfa\", \"Konya\", \"Ceyhan\", \"Gaziantep\", \"Kayseri\", \"Samsun\", \"Çanakkale\", \"Iğdır\"]\n",
    "#loc = 'tr_TR.UTF-8'\n",
    "loc = Locale(\"tr\")\n",
    "tr_collator = Collator.createInstance(loc)\n",
    "print(sorted(tr_list, key=tr_collator.getSortKey))\n",
    "#tr_list.sort(key=tr_collator.getSortKey)"
   ],
   "outputs": [
    {
     "output_type": "stream",
     "name": "stdout",
     "text": [
      "['Adana', 'Ankara', 'Antalya', 'Bursa', 'Ceyhan', 'Çanakkale', 'Gaziantep', 'Iğdır', 'İstanbul', 'İzmir', 'Kayseri', 'Konya', 'Samsun', 'Şanlıurfa']\n"
     ]
    }
   ],
   "metadata": {}
  },
  {
   "cell_type": "markdown",
   "source": [
    "A Thai collation example:"
   ],
   "metadata": {}
  },
  {
   "cell_type": "code",
   "execution_count": 78,
   "source": [
    "thai_words = [\"หมู\", \"เห็ด\", \"เป็ด\", \"ไก่\", \"ช้าง\", \"ม้า\", \"วัว\", \"ควาย\"]\n",
    "th_loc = Locale.createCanonical(\"th-TH\") \n",
    "th_collator = Collator.createInstance(th_loc)\n",
    "print(sorted(thai_words, key=th_collator.getSortKey))\n",
    "# ['ไก่', 'ควาย', 'ช้าง', 'เป็ด', 'ม้า', 'วัว', 'หมู', 'เห็ด']"
   ],
   "outputs": [
    {
     "output_type": "stream",
     "name": "stdout",
     "text": [
      "['ไก่', 'ควาย', 'ช้าง', 'เป็ด', 'ม้า', 'วัว', 'หมู', 'เห็ด']\n"
     ]
    }
   ],
   "metadata": {}
  },
  {
   "cell_type": "markdown",
   "source": [
    "### Customising `icu.Collator` using BCP47 extentions\n",
    "\n",
    "It is possible to use extensions to BCP47 to tailor collation. Some locales have more than one set of collation rules available. For instance German has a default linguistic collation. There is also a phonebook collation, used for names, which orders letters differently.\n",
    "\n",
    "Given the following list of names:"
   ],
   "metadata": {}
  },
  {
   "cell_type": "code",
   "execution_count": 79,
   "source": [
    "de_names = ['Hafermann, Ulrich', 'Hacker, Simon', 'Hackmann, Gustav', 'Häcker, Emil', 'Haecker, Manfred', 'Häcker, Xaver', 'Assemann, Simon', 'Aßmann, Erika', 'Astmann, Manfred', 'Assmann, Frank']"
   ],
   "outputs": [],
   "metadata": {}
  },
  {
   "cell_type": "markdown",
   "source": [
    "The default German collation rules sorts these as:"
   ],
   "metadata": {}
  },
  {
   "cell_type": "code",
   "execution_count": 80,
   "source": [
    "de_loc = Locale(\"de\")\n",
    "de_collator = Collator.createInstance(de_loc)\n",
    "print(sorted(de_names, key=de_collator.getSortKey))"
   ],
   "outputs": [
    {
     "output_type": "stream",
     "name": "stdout",
     "text": [
      "['Assemann, Simon', 'Aßmann, Erika', 'Assmann, Frank', 'Astmann, Manfred', 'Häcker, Emil', 'Hacker, Simon', 'Häcker, Xaver', 'Hackmann, Gustav', 'Haecker, Manfred', 'Hafermann, Ulrich']\n"
     ]
    }
   ],
   "metadata": {}
  },
  {
   "cell_type": "markdown",
   "source": [
    "Alternatively, this could be written as:"
   ],
   "metadata": {}
  },
  {
   "cell_type": "code",
   "execution_count": 81,
   "source": [
    "de_collator = Collator.createInstance(Locale(\"de\"))\n",
    "print(sorted(de_names, key=de_collator.getSortKey))"
   ],
   "outputs": [
    {
     "output_type": "stream",
     "name": "stdout",
     "text": [
      "['Assemann, Simon', 'Aßmann, Erika', 'Assmann, Frank', 'Astmann, Manfred', 'Häcker, Emil', 'Hacker, Simon', 'Häcker, Xaver', 'Hackmann, Gustav', 'Haecker, Manfred', 'Hafermann, Ulrich']\n"
     ]
    }
   ],
   "metadata": {}
  },
  {
   "cell_type": "markdown",
   "source": [
    "The German Phonebook collation rules have the following changes to the German collation rules:\n",
    "\n",
    "Ä/ä = Ae/ae \\\n",
    "Ö/ö = Oe/oe \\\n",
    "Ü/ü = Ue/ue \\\n",
    "ß = ss\n",
    "\n",
    "This will sort the list of names as follows:"
   ],
   "metadata": {}
  },
  {
   "cell_type": "code",
   "execution_count": 82,
   "source": [
    "de_phbk_loc = Locale.createCanonical(\"de-u-co-phonebk\") \n",
    "de_phpk_collator = Collator.createInstance(de_phbk_loc)\n",
    "print(sorted(de_names, key=de_phpk_collator.getSortKey))"
   ],
   "outputs": [
    {
     "output_type": "stream",
     "name": "stdout",
     "text": [
      "['Assemann, Simon', 'Aßmann, Erika', 'Assmann, Frank', 'Astmann, Manfred', 'Hacker, Simon', 'Hackmann, Gustav', 'Häcker, Emil', 'Haecker, Manfred', 'Häcker, Xaver', 'Hafermann, Ulrich']\n"
     ]
    }
   ],
   "metadata": {}
  },
  {
   "cell_type": "markdown",
   "source": [
    "The basic structure of a BCP47 tag is a _language subtag_, followed by _script_ and _region_ subtags as required. This is then followed by a _u_ subtag indicating following subtags are UNicode extension key and value pairs, e.g.\n",
    "\n",
    "```\n",
    "en-u-ks-level2\n",
    "de-u-co-phonebk-ks-level2\n",
    "fr-u-ks-level3-ka-shifted\n",
    "```\n",
    "\n",
    "When the value of a key value pair is `true`, the key value pair is omitted from the tag, only the key is included.\n",
    "\n",
    "Some commonly used collation settings:\n",
    "\n",
    "* __Ignore accents__: `-ks-level1`\n",
    "* __Ignore accents, but take case into account__: `-ks-level1-kc`\n",
    "* __Ignore case__: `-ks-level2`\n",
    "* __Ignore punctuation (completely)__: `-ks-level3-ka-shifted`\n",
    "* __Ignore punctuation, but distinguish among punctuation marks__: `-ks-level4-ka-shifted`\n"
   ],
   "metadata": {}
  },
  {
   "cell_type": "markdown",
   "source": [
    "### BCP 47 subtags that can be used to tailor collation\n",
    "\n",
    "Refer to  [cldr/common/bcp47/collation.xml](https://github.com/unicode-org/cldr/blob/master/common/bcp47/collation.xml)\n",
    "\n",
    "|BCP47 subtags  |Old syntax           |Description   |Locales  |\n",
    "|-------------  |-------------------- |------------- |-------- |\n",
    "|-co-big5han |collation=big5han  |Pinyin ordering for Latin, big5 charset ordering for CJK characters (used in Chinese  |zh, zh_Hans, zh_Hans_CN, zh_Hans_SG, zh_Hant, zh_Hant_HK, zh_Hant_MO, zh_Hant_TW |\n",
    "|-co-compat |collation=compat  |A previous version of the ordering, for compatibility  |ar, ar_SA |\n",
    "|-co-dict |collation=dictionary  |Dictionary style ordering (such as in Sinhala)  |si |\n",
    "|-co-direct |collation=direct  |DEPRECATED. Binary code point order (used in Hindi)  | |\n",
    "|-co-ducet |collation=ducet  |The default Unicode collation element table order  | |\n",
    "|-co-emoji |collation=emoji  |Recommended ordering for emoji characters  |af, am, ar, ar_SA, as, az, be, bg, bn, bo, br, bs, bs_Cyrl, ca, ceb, chr, cs, cy, da, de, de_AT, dsb, dz, ee, el, en, en_US, en_US_POSIX, eo, es, et, fa, fa_AF, ff, ff_Adlm, fi, fil, fo, fr, fr_CA, ga, gl, gu, ha, haw, he, he_IL, hi, hr, hsb, hu, hy, id, id_ID, ig, is, it, ja, ka, kk, kl, km, kn, ko, kok, ku, ky, lb, lkt, ln, lo, lt, lv, mk, ml, mn, mr, ms, mt, my, nb, nb_NO, ne, nl, nn, no, om, or, pa, pa_Guru, pa_Guru_IN, pl, ps, pt, ro, ru, sa, se, si, sk, sl, smn, sq, sr, sr_Cyrl, sr_Cyrl_BA, sr_Cyrl_ME, sr_Cyrl_RS, sr_Latn, sr_Latn_BA, sr_Latn_RS, sv, sw, ta, te, th, tk, to, tr, ug, uk, ur, uz, vi, wae, wo, xh, yi, yo, zh, zh_Hans, zh_Hans_CN, zh_Hans_SG, zh_Hant, zh_Hant_HK, zh_Hant_MO, zh_Hant_TW, zu |\n",
    "|-co-eor |collation=eor  |European ordering rules  |af, am, ar, ar_SA, as, az, be, bg, bn, bo, br, bs, bs_Cyrl, ca, ceb, chr, cs, cy, da, de, de_AT, dsb, dz, ee, el, en, en_US, en_US_POSIX, eo, es, et, fa, fa_AF, ff, ff_Adlm, fi, fil, fo, fr, fr_CA, ga, gl, gu, ha, haw, he, he_IL, hi, hr, hsb, hu, hy, id, id_ID, ig, is, it, ja, ka, kk, kl, km, kn, ko, kok, ku, ky, lb, lkt, ln, lo, lt, lv, mk, ml, mn, mr, ms, mt, my, nb, nb_NO, ne, nl, nn, no, om, or, pa, pa_Guru, pa_Guru_IN, pl, ps, pt, ro, ru, sa, se, si, sk, sl, smn, sq, sr, sr_Cyrl, sr_Cyrl_BA, sr_Cyrl_ME, sr_Cyrl_RS, sr_Latn, sr_Latn_BA, sr_Latn_RS, sv, sw, ta, te, th, tk, to, tr, ug, uk, ur, uz, vi, wae, wo, xh, yi, yo, zh, zh_Hans, zh_Hans_CN, zh_Hans_SG, zh_Hant, zh_Hant_HK, zh_Hant_MO, zh_Hant_TW, zu |\n",
    "|-co-gb2312 |collation=gb2312han  |Pinyin ordering for Latin, gb2312han charset ordering for CJK characters (used in Chinese)  |zh, zh_Hans, zh_Hans_CN, zh_Hans_SG, zh_Hant, zh_Hant_HK, zh_Hant_MO, zh_Hant_TW |\n",
    "|-co-phonebk |collation=phonebook  |Phonebook style ordering (such as in German)  |de, de_AT |\n",
    "|-co-phonetic |collation=phonetic  |Phonetic ordering (sorting based on pronunciation)  |ln |\n",
    "|-co-pinyin |collation=pinyin  |Pinyin ordering for Latin and for CJK characters (used in Chinese)  |zh, zh_Hans, zh_Hans_CN, zh_Hans_SG, zh_Hant, zh_Hant_HK, zh_Hant_MO, zh_Hant_TW |\n",
    "|-co-reformed |collation=reformed  |Reformed ordering (such as in Swedish)  |sv |\n",
    "|-co-search |collation=search  |Special collation type for string search  |af, am, ar, ar_SA, as, az, be, bg, bn, bo, br, bs, bs_Cyrl, ca, ceb, chr, cs, cy, da, de, de_AT, dsb, dz, ee, el, en, en_US, en_US_POSIX, eo, es, et, fa, fa_AF, ff, ff_Adlm, fi, fil, fo, fr, fr_CA, ga, gl, gu, ha, haw, he, he_IL, hi, hr, hsb, hu, hy, id, id_ID, ig, is, it, ja, ka, kk, kl, km, kn, ko, kok, ku, ky, lb, lkt, ln, lo, lt, lv, mk, ml, mn, mr, ms, mt, my, nb, nb_NO, ne, nl, nn, no, om, or, pa, pa_Guru, pa_Guru_IN, pl, ps, pt, ro, ru, sa, se, si, sk, sl, smn, sq, sr, sr_Cyrl, sr_Cyrl_BA, sr_Cyrl_ME, sr_Cyrl_RS, sr_Latn, sr_Latn_BA, sr_Latn_RS, sv, sw, ta, te, th, tk, to, tr, ug, uk, ur, uz, vi, wae, wo, xh, yi, yo, zh, zh_Hans, zh_Hans_CN, zh_Hans_SG, zh_Hant, zh_Hant_HK, zh_Hant_MO, zh_Hant_TW, zu |\n",
    "|-co-searchjl |collation=searchjl  |Special collation type for Korean initial consonant search  |ko |\n",
    "|-co-standard |collation=standard  |Default ordering for each language  |af, am, ar, ar_SA, as, az, be, bg, bn, bo, br, bs, bs_Cyrl, ca, ceb, chr, cs, cy, da, de, de_AT, dsb, dz, ee, el, en, en_US, en_US_POSIX, eo, es, et, fa, fa_AF, ff, ff_Adlm, fi, fil, fo, fr, fr_CA, ga, gl, gu, ha, haw, he, he_IL, hi, hr, hsb, hu, hy, id, id_ID, ig, is, it, ja, ka, kk, kl, km, kn, ko, kok, ku, ky, lb, lkt, ln, lo, lt, lv, mk, ml, mn, mr, ms, mt, my, nb, nb_NO, ne, nl, nn, no, om, or, pa, pa_Guru, pa_Guru_IN, pl, ps, pt, ro, ru, sa, se, si, sk, sl, smn, sq, sr, sr_Cyrl, sr_Cyrl_BA, sr_Cyrl_ME, sr_Cyrl_RS, sr_Latn, sr_Latn_BA, sr_Latn_RS, sv, sw, ta, te, th, tk, to, tr, ug, uk, ur, uz, vi, wae, wo, xh, yi, yo, zh, zh_Hans, zh_Hans_CN, zh_Hans_SG, zh_Hant, zh_Hant_HK, zh_Hant_MO, zh_Hant_TW, zu |\n",
    "|-co-stroke |collation=stroke  |Pinyin ordering for Latin, stroke order for CJK characters (used in Chinese)  |zh, zh_Hans, zh_Hans_CN, zh_Hans_SG, zh_Hant, zh_Hant_HK, zh_Hant_MO, zh_Hant_TW |\n",
    "|-co-trad |collation=traditional  |Traditional style ordering (such as in Spanish)  |bn, es, fi, kn, vi |\n",
    "|-co-unihan |collation=unihan  |Pinyin ordering for Latin, Unihan radical-stroke ordering for CJK characters (used in Chinese)  |ja, ko, zh, zh_Hans, zh_Hans_CN, zh_Hans_SG, zh_Hant, zh_Hant_HK, zh_Hant_MO, zh_Hant_TW |\n",
    "|-co-zhuyin |collation=zhuyin  |Pinyin ordering for Latin, zhuyin order for Bopomofo and CJK characters (used in Chinese)  |zh, zh_Hans, zh_Hans_CN, zh_Hans_SG, zh_Hant, zh_Hant_HK, zh_Hant_MO, zh_Hant_TW |\n",
    "\n",
    "#### Collation parameter key for alternate handling\n",
    "\n",
    "|BCP47 subtags  |Old syntax            |Description   |\n",
    "|-------------  |-------------------- |------------- |\n",
    "|-ka-noignore |colAlternate=non-ignorable  |Variable collation elements are not reset to ignorable  |\n",
    "|-ka-shifted |colAlternate=shifted  |Variable collation elements are reset to zero at levels one through three  |\n",
    "\n",
    "#### Collation parameter key for backward collation weight\n",
    "\n",
    "|BCP47 subtags  |Old syntax            |Description   |\n",
    "|-------------  |-------------------- |------------- |\n",
    "|-kb-true |colBackwards=yes  |The second level to be backwards  |\n",
    "|-kb-false |colBackwards=no  |No backwards (the second level to be forwards)  |\n",
    "\n",
    "#### Collation parameter key for case level\n",
    "\n",
    "|BCP47 subtags  |Old syntax            |Description   |\n",
    "|-------------  |-------------------- |------------- |\n",
    "|-kc-true |colCaseLevel=yes  |The case level is inserted in front of tertiary  |\n",
    "|-kc-false |colCaseLevel=no  |No special case level handling  |\n",
    "\n",
    "#### Collation parameter key for ordering by case\n",
    "\n",
    "|BCP47 subtags  |Old syntax            |Description   |\n",
    "|-------------  |-------------------- |------------- |\n",
    "|-kf-upper |colCaseFirst=upper  |Upper case to be sorted before lower case  |\n",
    "|-kf-lower |colCaseFirst=lower  |Lower case to be sorted before upper case  |\n",
    "|-kf-false |colCaseFirst=false  |No special case ordering  |\n",
    "\n",
    "#### <span style=\"color:reg;\">DEPRECATED:</span> Collation parameter key for special Hiragana handling\n",
    "\n",
    "|BCP47 subtags  |Old syntax            |Description   |\n",
    "|-------------  |-------------------- |------------- |\n",
    "|-kh-true |colHiraganaQuaternary=yes  |Hiragana to be sorted before all non-variable on quaternary level  |\n",
    "|-kh-false |colHiraganaQuaternary=no  |No special handling for Hiragana  |\n",
    "\n",
    "#### Collation parameter key for normalization\n",
    "\n",
    "|BCP47 subtags  |Old syntax            |Description   |\n",
    "|-------------  |-------------------- |------------- |\n",
    "|-kk-true |colNormalization=yes  |Convert text into Normalization Form D before calculating collation weights  |\n",
    "|-kk-false |colNormalization=no  |Skip normalization  |\n",
    "\n",
    "#### Collation parameter key for numeric handling\n",
    "\n",
    "|BCP47 subtags  |Old syntax            |Description   |\n",
    "|-------------  |-------------------- |------------- |\n",
    "|-kn-true |colNumeric=yes  |A sequence of decimal digits is sorted at primary level with its numeric value  |\n",
    "|-kn-false |colNumeric=no |No special handling for numeric ordering  |\n",
    "\n",
    "#### Collation reorder codes\n",
    "\n",
    "|BCP47 subtags  |Old syntax            |Description   |\n",
    "|-------------  |-------------------- |------------- |\n",
    "|-kr-space |colReorder=space  |Whitespace reordering code, see LDML Part 5: Collation  |\n",
    "|-kr-punct |colReorder=punct  |Punctuation reordering code, see LDML Part 5: Collation  |\n",
    "|-kr-symbol |colReorder=symbol  |Symbol reordering code (other than currency), see LDML Part 5: Collation  |\n",
    "|-kr-currency |colReorder=currency  |Currency reordering code, see LDML Part 5: Collation  |\n",
    "|-kr-digit |colReorder=digit  |Digit (number) reordering code, see LDML Part 5: Collation  |\n",
    "|-kr-REORDER_CODE |colReorder=REORDER_CODE  |Other collation reorder code — for script, see LDML Part 5: Collation  |\n",
    "\n",
    "#### Collation parameter key for collation strength\n",
    "\n",
    "|BCP47 subtags  |Old syntax            |Description   |\n",
    "|-------------  |-------------------- |------------- |\n",
    "|-ks-level1 |colStrength=primary  |The primary level  |\n",
    "|-ks-level2 |colStrength=secondary  |he secondary level  |\n",
    "|-ks-level3 |colStrength=tertiary  |The tertiary level  |\n",
    "|-ks-level4 |colStrength=quaternary <br>colStrength=quarternary  |The quaternary level  |\n",
    "|-ks-identic |colStrength=identical  |The identical level  |\n",
    "\n",
    "#### Collation parameter key for maxVariable, the last reordering group to be affected by ka-shifted\n",
    "\n",
    "|BCP47 subtags  |Old syntax            |Description   |\n",
    "|-------------  |-------------------- |------------- |\n",
    "|-kv-space |  |Only spaces are affected by ka-shifted  |\n",
    "|-kv-punct |  |Spaces and punctuation are affected by ka-shifted (CLDR default)  |\n",
    "|-kv-symbol |  |Spaces, punctuation and symbols except for currency symbols are affected by ka-shifted (UCA default)  |\n",
    "|-kv-currency |  |Spaces, punctuation and all symbols are affected by ka-shifted  |\n",
    "\n",
    "#### <span style=\"color:reg;\">DEPRECATED:</span> Collation parameter key for variable top\n",
    "\n",
    "|BCP47 subtags  |Old syntax            |Description   |\n",
    "|-------------  |-------------------- |------------- |\n",
    "|-vt-CODEPOINTS |variableTop=CODEPOINTS  |The variable top (one or more Unicode code points: LDML Appendix Q)  |\n"
   ],
   "metadata": {}
  },
  {
   "cell_type": "markdown",
   "source": [
    "### Customising `icu.Collator` using collator attributes\n",
    "\n",
    "Atributes can be used to modify varous aspects of collation rules being used. \n",
    "\n",
    "1. Define a collator instance using `icu.Collator`\n",
    "2. Update the attributes of the collator instance, using `.setAttribute()`\n",
    "3. Use the `key` parameter of `list.sort()` or `sorted()` to access the collator's SortKey.\n",
    "\n",
    "|Attribute  |Values  |Notes  |\n",
    "|---------- |------- |------ |\n",
    "|UCollAttribute.ALTERNATE_HANDLING |UCollAttributeValue.NON_IGNORABLE, UCollAttributeValue.SHIFTED |For handling variable elements. __NON_IGNORABLE__ (default) treats all the codepoints with non-ignorable primary weights in the same way. __SHIFTED__: codepoints with primary weights that are equal or below the variable top value to be ignored on primary level and moved to the quaternary level.  |\n",
    "|UCollAttribute.CASE_FIRST |UCollAttributeValue.OFF, UCollAttributeValue.LOWER_FIRST, UCollAttributeValue.UPPER_FIRST | Ordering of upper and lower case letters. __OFF__ (default), which orders upper and lower case letters in accordance to their tertiary weights. __UPPER_FIRST__ which forces upper case letters to sort before lower case letters, and __LOWER_FIRST__ which forces lower case letters to sort before upper case letters. |\n",
    "|UCollAttribute.CASE_LEVEL |UCollAttributeValue.ON, UCollAttributeValue.OFF |__On__ if case sensitive (case level is generated), __off__ is case insensitive (case level is not generated). |\n",
    "|UCollAttribute.DECOMPOSITION_MODE |UCollAttributeValue.ON, UCollAttributeValue.OFF  |Alias for UCollAttribute.NORMALIZATION_MODE attribute.  |\n",
    "|UCollAttribute.FRENCH_COLLATION |UCollAttributeValue.ON, UCollAttributeValue.OFF |Direction of secondary weights (Canadian French).  __ON__: secondary weights considered backwards. __OFF__: secondary weights considered in the order they appear.   |\n",
    "|UCollAttribute.HIRAGANA_QUATERNARY_MODE |UCollAttributeValue.ON, UCollAttributeValue.OFF |When turned on, this attribute positions Hiragana before all non-ignorables on quaternary level. Use depreciated. |\n",
    "|UCollAttribute.NORMALIZATION_MODE |UCollAttributeValue.ON, UCollAttributeValue.OFF |Controls whether the normalization check and necessary normalizations are performed. __OFF__: (default) no normalization check is performed. __ON__: check to see if data in in FCD form, if not then NFD normalization is performed.   |\n",
    "|UCollAttribute.NUMERIC_COLLATION |UCollAttributeValue.ON, UCollAttributeValue.OFF  |When turned on, this attribute makes substrings of digits sort according to their numeric values.  |\n",
    "|UCollAttribute.STRENGTH |UCollAttributeValue.PRIMARY, UCollAttributeValue.SECONDARY, UCollAttributeValue.TERTIARY, UCollAttributeValue.QUATERNARY, UCollAttributeValue.IDENTICAL |The strength attribute. The usual strength for most locales (except Japanese) is tertiary.  |\n",
    "\n",
    "See [UColAttribute](https://unicode-org.github.io/icu-docs/apidoc/released/icu4c/ucol_8h.html#a583fbe7fc4a850e2fcc692e766d2826c) in [ICU4C API](https://unicode-org.github.io/icu-docs/apidoc/released/icu4c/) reference.\n"
   ],
   "metadata": {}
  },
  {
   "cell_type": "markdown",
   "source": [
    "#### Sorting numbers\n",
    "\n",
    "In the following code snippet, `.setAttribute()` is used to modify the collation, allowing digits to be sorted as numbers, rather than being sorted as characters."
   ],
   "metadata": {}
  },
  {
   "cell_type": "code",
   "execution_count": 83,
   "source": [
    "en_list = ['3 oranges', '1 apple', '10 strawberries', '2 pears']\n",
    "print(sorted(en_list))\n",
    "en_collator = Collator.createInstance(Locale('en_AU'))\n",
    "en_collator.setAttribute(UCollAttribute.NUMERIC_COLLATION, UCollAttributeValue.ON)\n",
    "\n",
    "print(sorted(en_list, key=en_collator.getSortKey))"
   ],
   "outputs": [
    {
     "output_type": "stream",
     "name": "stdout",
     "text": [
      "['1 apple', '10 strawberries', '2 pears', '3 oranges']\n",
      "['1 apple', '2 pears', '3 oranges', '10 strawberries']\n"
     ]
    }
   ],
   "metadata": {}
  },
  {
   "cell_type": "markdown",
   "source": [
    "#### Case insenitive collation\n",
    "\n",
    "To enable case insensitve collation:\n",
    "\n",
    "`coll.setAttribute(UCollAttribute.STRENGTH, UCollAttributeValue.SECONDARY)` or `coll.setStrength(UCollAttributeValue.SECONDARY)`"
   ],
   "metadata": {}
  },
  {
   "cell_type": "code",
   "execution_count": 84,
   "source": [
    "def str_compare(col, s1, s2):\n",
    "    if col.compare(s1, s2) == 0:\n",
    "        print( str(s1) + \" equals \" + str(s2))\n",
    "    elif col.compare(s1, s2) < 0:\n",
    "        print(str(s1) +  \" is less than \" + str(s2))\n",
    "    else:\n",
    "        print(str(s1) +  \" is greater than \" + str(s2))\n",
    "\n",
    "str_compare(en_collator, \"abc\", \"ABC\")\n",
    "\n",
    "# Case insensitive collation\n",
    "en_collator.setAttribute(UCollAttribute.STRENGTH, UCollAttributeValue.SECONDARY)\n",
    "str_compare(en_collator, \"abc\", \"ABC\")"
   ],
   "outputs": [
    {
     "output_type": "stream",
     "name": "stdout",
     "text": [
      "abc is less than ABC\n",
      "abc equals ABC\n"
     ]
    }
   ],
   "metadata": {}
  },
  {
   "cell_type": "markdown",
   "source": [
    "#### Ignore diacrtics\n",
    "\n",
    "To enable case and diacritic insensitive collation:\n",
    "\n",
    "`coll.setAttribute(UCollAttribute.STRENGTH, UCollAttributeValue.PRIMARY)` or `coll.setStrength(UCollAttributeValue.PRIMARY)`\n",
    "\n",
    "This will ignore diacritics and casing when comparing or sorting."
   ],
   "metadata": {}
  },
  {
   "cell_type": "code",
   "execution_count": 85,
   "source": [
    "# Case insensitive collation\n",
    "en_collator.setAttribute(UCollAttribute.STRENGTH, UCollAttributeValue.PRIMARY)\n",
    "str_compare(en_collator, \"cafe\", \"café\")\n",
    "str_compare(en_collator, \"cafe\", \"Café\")"
   ],
   "outputs": [
    {
     "output_type": "stream",
     "name": "stdout",
     "text": [
      "cafe equals café\n",
      "cafe equals Café\n"
     ]
    }
   ],
   "metadata": {}
  },
  {
   "cell_type": "markdown",
   "source": [
    "To enable diacritic insensitive collation, while retaining case distinctions:\n",
    "\n",
    "`coll.setAttribute(UCollAttribute.STRENGTH, UCollAttributeValue.PRIMARY)` or `coll.setStrength(UCollAttributeValue.PRIMARY)`\n",
    "\n",
    "and\n",
    "\n",
    "`en_collator.setAttribute(UCollAttribute.CASE_LEVEL, UCollAttributeValue.ON)`"
   ],
   "metadata": {}
  },
  {
   "cell_type": "code",
   "execution_count": 86,
   "source": [
    "en_collator.setAttribute(UCollAttribute.STRENGTH, UCollAttributeValue.PRIMARY)\n",
    "en_collator.setAttribute(UCollAttribute.CASE_LEVEL, UCollAttributeValue.ON)\n",
    "str_compare(en_collator, \"cafe\", \"café\")\n",
    "str_compare(en_collator, \"cafe\", \"Café\")\n",
    "str_compare(en_collator, \"café\", \"Cafe\")\n",
    "\n",
    "# Reset CASE_LEVEL for future examples.\n",
    "en_collator.setAttribute(UCollAttribute.CASE_LEVEL, UCollAttributeValue.OFF)"
   ],
   "outputs": [
    {
     "output_type": "stream",
     "name": "stdout",
     "text": [
      "cafe equals café\n",
      "cafe is less than Café\n",
      "café is less than Cafe\n"
     ]
    }
   ],
   "metadata": {}
  },
  {
   "cell_type": "markdown",
   "source": [
    "#### Ignore punctuation\n",
    "\n",
    "To ignore punctuation completely, use:\n",
    "\n",
    "```py\n",
    "coll.setAttribute(UCollAttribute.STRENGTH, UCollAttributeValue.TERTIARY)\n",
    "# or `coll.setStrength(UCollAttributeValue.TERTIARY)\n",
    "coll.setAttribute(UCollAttribute.ALTERNATE_HANDLING, UCollAttributeValue.SHIFTED)\n",
    "```\n"
   ],
   "metadata": {}
  },
  {
   "cell_type": "code",
   "execution_count": 87,
   "source": [
    "en_collator.setAttribute(UCollAttribute.STRENGTH, UCollAttributeValue.TERTIARY)\n",
    "en_collator.setAttribute(UCollAttribute.ALTERNATE_HANDLING, UCollAttributeValue.SHIFTED)\n",
    "str_compare(en_collator, \"You're dying?\", \"You're dying‽\")"
   ],
   "outputs": [
    {
     "output_type": "stream",
     "name": "stdout",
     "text": [
      "You're dying? equals You're dying‽\n"
     ]
    }
   ],
   "metadata": {}
  },
  {
   "cell_type": "markdown",
   "source": [
    "An alternative approach which still holds the distinctions between punctuation:\n",
    "\n",
    "```py\n",
    "coll.setAttribute(UCollAttribute.STRENGTH, UCollAttributeValue.QUATERNARY)\n",
    "# or coll.setStrength(UCollAttributeValue.QUATERNARY)\n",
    "coll.setAttribute(UCollAttribute.ALTERNATE_HANDLING, UCollAttributeValue.SHIFTED)\n",
    "```\n"
   ],
   "metadata": {}
  },
  {
   "cell_type": "code",
   "execution_count": 88,
   "source": [
    "en_collator.setAttribute(UCollAttribute.STRENGTH, UCollAttributeValue.QUATERNARY)\n",
    "# alternate = shifted (from previous code cell) still applies to the collator instance.\n",
    "str_compare(en_collator, \"You're dying?\", \"You're dying‽\")"
   ],
   "outputs": [
    {
     "output_type": "stream",
     "name": "stdout",
     "text": [
      "You're dying? is less than You're dying‽\n"
     ]
    }
   ],
   "metadata": {}
  },
  {
   "cell_type": "markdown",
   "source": [
    "## Using `icu.RuleBasedCollator`\n",
    "\n",
    "1. Define the [collation rules](https://unicode-org.github.io/icu/userguide/collation/customization/)\n",
    "2. Define a collator instance using `icu.RuleBasedCollator`\n",
    "3. Use the `key` parameter of `list.sort()` or `sorted()` to access the collator's SortKey.\n",
    "\n",
    "The following code snippet sorts a list of Dinka lexemes:"
   ],
   "metadata": {}
  },
  {
   "cell_type": "code",
   "execution_count": 89,
   "source": [
    "din_rules = \"[normalization on]&A<<aa<<<Aa<<<AA<<ä<<<Ä<<ää<<<Ää<<<ÄÄ&D<dh<<<Dh<<<DH&E<<ee<<<Ee<<<EE<<ë<<<Ë<<ëë<<<Ëë<<<ËË<ɛ<<<Ɛ<<ɛɛ<<<Ɛɛ<<<ƐƐ<<ɛ̈<<<Ɛ̈<<ɛ̈ɛ̈<<<Ɛ̈ɛ̈<<<Ɛ̈Ɛ̈&G<ɣ<<<Ɣ&I<<ii<<<II<<ï<<<Ï<<ïï<<<Ïï<<<ÏÏ&N<nh<<<Nh<<<NH<ny<<<Ny<<<NY<ŋ<<<Ŋ&O<<oo<<<Oo<<<OO<<ö<<<Ö<<öö<<<Öö<<<ÖÖ<ɔ<<<Ɔ<<ɔɔ<<<Ɔɔ<<<ƆƆ<<ɔ̈<<<Ɔ̈<<ɔ̈ɔ̈<<<Ɔ̈ɔ̈<<<Ɔ̈Ɔ̈&T<th<<<Th<<<TH&U<<uu<<<UU\"\n",
    "din_list = ['agook', 'abeeric', 'abuɔk', 'agol', 'acuut', 'abany', 'abur', 'abëër', 'abaany', 'aber', 'akɔ̈r', 'acut', 'acuth', 'abenh', 'abeer', 'akuny', 'ago', 'akɔrcok', 'akuŋɛŋ', 'abuɔ̈k', 'aberŋic', 'abuɔɔk', 'abeŋ', 'abuɔ̈c', 'abaŋ']\n",
    "din_collator = RuleBasedCollator(din_rules)\n",
    "print(sorted(din_list, key=din_collator.getSortKey))"
   ],
   "outputs": [
    {
     "output_type": "stream",
     "name": "stdout",
     "text": [
      "['abany', 'abaany', 'abaŋ', 'abenh', 'abeŋ', 'aber', 'abeer', 'abëër', 'abeeric', 'aberŋic', 'abuɔ̈c', 'abuɔk', 'abuɔɔk', 'abuɔ̈k', 'abur', 'acut', 'acuut', 'acuth', 'ago', 'agook', 'agol', 'akɔ̈r', 'akɔrcok', 'akuny', 'akuŋɛŋ']\n"
     ]
    }
   ],
   "metadata": {}
  },
  {
   "cell_type": "markdown",
   "source": [
    "### Modifying existing rules\n",
    "\n",
    "It is possible to make changes to collation rules to tailor the collation sequence. In Welsh __*Ch*__ is a seperate letter of the alphabet that comes after __*C*__. The default collaton rules for Welsh sort majuscules after minuscules:"
   ],
   "metadata": {}
  },
  {
   "cell_type": "code",
   "execution_count": 90,
   "source": [
    "cy_list = [\"chwaeth\", \"Cyflym\", \"Clust\", \"cyflym\", \"Chwaeth\", \"chwerw\", \"Chwerw\", \"clust\"]\n",
    "cy_collator = Collator.createInstance(Locale(\"cy\"))\n",
    "print(sorted(cy_list, key=cy_collator.getSortKey))"
   ],
   "outputs": [
    {
     "output_type": "stream",
     "name": "stdout",
     "text": [
      "['clust', 'Clust', 'cyflym', 'Cyflym', 'chwaeth', 'Chwaeth', 'chwerw', 'Chwerw']\n"
     ]
    }
   ],
   "metadata": {}
  },
  {
   "cell_type": "markdown",
   "source": [
    "Use `getRules()` to retrieve the collation rules from a collator instance. You can then modify the existing rules. The following snippet retrieved the Welsh collation rules and prepends [an option](https://unicode-org.github.io/icu/userguide/collation/customization/#default-options) that changes the collation order of majuscules and minuscules. These rules will sort Majuscules before minuscules:"
   ],
   "metadata": {}
  },
  {
   "cell_type": "code",
   "execution_count": 91,
   "source": [
    "cy_rules = cy_collator.getRules()   \n",
    "#cy_rules = Collator.createInstance(Locale('cy')).getRules()\n",
    "cy_rules = '[caseFirst upper]' + cy_rules\n",
    "cy_collator_alt = RuleBasedCollator(cy_rules)\n",
    "print(sorted(cy_list, key=cy_collator_alt.getSortKey))\n"
   ],
   "outputs": [
    {
     "output_type": "stream",
     "name": "stdout",
     "text": [
      "['Clust', 'clust', 'Cyflym', 'cyflym', 'Chwaeth', 'chwaeth', 'Chwerw', 'chwerw']\n"
     ]
    }
   ],
   "metadata": {}
  },
  {
   "cell_type": "markdown",
   "source": [
    "# Moving beyond lists\n",
    "\n",
    "Sorting lists using PyICU, is straight forward, both the `.sort` method the `sorted()` function accept the `key` parameter. The `key` parameter is used tp specify a function to be called on each list item before comparing items. The `icu.Collator.getSortKey` method get a sort key as an array of bytes from a string. \n",
    "\n",
    "To sort a list of Akan words:"
   ],
   "metadata": {}
  },
  {
   "cell_type": "code",
   "execution_count": 92,
   "source": [
    "ak_rules = \"&E<ɛ<<<Ɛ&O<ɔ<<<Ɔ\"\n",
    "ak_collator = RuleBasedCollator(ak_rules)\n",
    "data_lst = [\"yoma\", \"ɔwɔ\", \"koterɛ\", \"ananse\", \"apɛsɛ\", \"nantwibaa\", \"nkaboa\", \"wowa\", \"susono\", \"pɔnkɔ\"]\n",
    "sorted_data_lst = sorted(data_lst, key=ak_collator.getSortKey)\n",
    "sorted_data_lst"
   ],
   "outputs": [
    {
     "output_type": "execute_result",
     "data": {
      "text/plain": [
       "['ananse',\n",
       " 'apɛsɛ',\n",
       " 'koterɛ',\n",
       " 'nantwibaa',\n",
       " 'nkaboa',\n",
       " 'ɔwɔ',\n",
       " 'pɔnkɔ',\n",
       " 'susono',\n",
       " 'wowa',\n",
       " 'yoma']"
      ]
     },
     "metadata": {},
     "execution_count": 92
    }
   ],
   "metadata": {}
  },
  {
   "cell_type": "markdown",
   "source": [
    "## Tuples\n",
    "\n",
    "Tuples can also be sorted using the `sorted()` function using a key parameter calling the `icu.Collator.getSortKey` method. It is important to remeber that `sorted()` returns a list. If you require a tuple, it will be necessary to convert teh list to a tuple.\n"
   ],
   "metadata": {}
  },
  {
   "cell_type": "code",
   "execution_count": 93,
   "source": [
    "data_tup = (\"yoma\", \"ɔwɔ\", \"koterɛ\", \"ananse\", \"apɛsɛ\", \"nantwibaa\", \"nkaboa\", \"wowa\", \"susono\", \"pɔnkɔ\")\n",
    "sorted_data_tup = tuple(sorted(data_tup, key=ak_collator.getSortKey))\n",
    "sorted_data_tup"
   ],
   "outputs": [
    {
     "output_type": "execute_result",
     "data": {
      "text/plain": [
       "('ananse',\n",
       " 'apɛsɛ',\n",
       " 'koterɛ',\n",
       " 'nantwibaa',\n",
       " 'nkaboa',\n",
       " 'ɔwɔ',\n",
       " 'pɔnkɔ',\n",
       " 'susono',\n",
       " 'wowa',\n",
       " 'yoma')"
      ]
     },
     "metadata": {},
     "execution_count": 93
    }
   ],
   "metadata": {}
  },
  {
   "cell_type": "markdown",
   "source": [
    "## Lambda function: dictionaries and objects\n",
    "\n",
    "For more complex data structures it is necessary to use a lambda function with the key parameter.\n",
    "\n",
    "In the following example we will sort a dctionary containing language names using the Estonian exonym and the asosciated BCP47 language subtag. We first declare the dictionary and create a Collator instance.\n"
   ],
   "metadata": {}
  },
  {
   "cell_type": "code",
   "execution_count": 94,
   "source": [
    "et_langs = {\n",
    "    \"šveitsisaksa\": \"gsw\",\n",
    "    \"ukraina\": \"uk\",\n",
    "    \"vietnami\": \"vi\",\n",
    "    \"zarma\": \"dje\",\n",
    "    \"rootsi\": \"sv\",\n",
    "    \"ruanda\": \"rw\",\n",
    "    \"volofi\": \"wo\",\n",
    "    \"uusnorra\": \"nn\",\n",
    "    \"tšehhi\": \"cs\",\n",
    "    \"ülemsorbi\": \"hsb\",\n",
    "    \"türgi\": \"tr\",\n",
    "    \"suulu\": \"zu\"\n",
    "}\n",
    "\n",
    "# Create a collator instamce for Estonian\n",
    "et_loc = Locale(\"et_ET.UTF-8\")\n",
    "et_collator = Collator.createInstance(et_loc)\n"
   ],
   "outputs": [],
   "metadata": {}
  },
  {
   "cell_type": "markdown",
   "source": [
    "To sort the dictionary, we create a lambda function the utilises `icu.Collator.getSortKey` and specify what we are sorting by.\n"
   ],
   "metadata": {}
  },
  {
   "cell_type": "code",
   "execution_count": 95,
   "source": [
    "# Sort by Estonian exonym name\n",
    "et_sorted_lang = sorted(et_langs.items(), key=lambda x: et_collator.getSortKey(x[0]))\n",
    "print(et_sorted_lang)\n",
    "\n",
    "# Sort by language code\n",
    "et_sorted_code = sorted(et_langs.items(), key=lambda x: et_collator.getSortKey(x[1]))\n",
    "print(et_sorted_code)"
   ],
   "outputs": [
    {
     "output_type": "stream",
     "name": "stdout",
     "text": [
      "[('rootsi', 'sv'), ('ruanda', 'rw'), ('suulu', 'zu'), ('šveitsisaksa', 'gsw'), ('zarma', 'dje'), ('tšehhi', 'cs'), ('türgi', 'tr'), ('ukraina', 'uk'), ('uusnorra', 'nn'), ('vietnami', 'vi'), ('volofi', 'wo'), ('ülemsorbi', 'hsb')]\n",
      "[('tšehhi', 'cs'), ('zarma', 'dje'), ('šveitsisaksa', 'gsw'), ('ülemsorbi', 'hsb'), ('uusnorra', 'nn'), ('ruanda', 'rw'), ('rootsi', 'sv'), ('suulu', 'zu'), ('türgi', 'tr'), ('ukraina', 'uk'), ('vietnami', 'vi'), ('volofi', 'wo')]\n"
     ]
    }
   ],
   "metadata": {}
  },
  {
   "cell_type": "markdown",
   "source": [
    "When we sort by the language subtag, we have used a collator instance initiated for the Estonian language. This is not necessarily ideal when sorting codes or identifiers. A better way of sorting by langauge locale would be to use the root collation tables:\n"
   ],
   "metadata": {}
  },
  {
   "cell_type": "code",
   "execution_count": 96,
   "source": [
    "# Initiate a collator instance using the Root collation table:\n",
    "root_collator = Collator.createInstance(Locale.getRoot())\n",
    "\n",
    "# Sort the language subtags using the Root collator instance:\n",
    "sorted_subtag = sorted(et_langs.items(), key=lambda x: root_collator.getSortKey(x[1]))\n",
    "print(sorted_subtag)\n"
   ],
   "outputs": [
    {
     "output_type": "stream",
     "name": "stdout",
     "text": [
      "[('tšehhi', 'cs'), ('zarma', 'dje'), ('šveitsisaksa', 'gsw'), ('ülemsorbi', 'hsb'), ('uusnorra', 'nn'), ('ruanda', 'rw'), ('rootsi', 'sv'), ('türgi', 'tr'), ('ukraina', 'uk'), ('vietnami', 'vi'), ('volofi', 'wo'), ('suulu', 'zu')]\n"
     ]
    }
   ],
   "metadata": {}
  },
  {
   "cell_type": "markdown",
   "source": [
    "Sorting a class specific object also utilises a lambda function.\n"
   ],
   "metadata": {}
  },
  {
   "cell_type": "code",
   "execution_count": 97,
   "source": [
    "# Define a simple class that stores a province name and population of the province\n",
    "class province:\n",
    "    def __init__(self, name, population):\n",
    "        self.name = name\n",
    "        self.population = population\n",
    "    def __repr__(self):\n",
    "        return repr((self.name, self.population))\n",
    "\n",
    "# Define a list of province objects for a set of Turkish provinces\n",
    "tr_province = [\n",
    "    province(\"Iğdır\", 199442),\n",
    "    province(\"Samsun\", 1348542),\n",
    "    province(\"Isparta\", 444914),\n",
    "    province(\"Şanlıurfa\", 2073614),\n",
    "    province(\"Bursa\", 3056120),\n",
    "    province(\"İstanbul\", 15519267),\n",
    "    province(\"Ankara\", 5639076)\n",
    "]\n",
    "\n",
    "# Create a collator instance for Turkish\n",
    "tr_collator = Collator.createInstance(Locale(\"tr\"))\n",
    "\n",
    "# Sort by provice name:\n",
    "tr_province_sorted = sorted(tr_province, key=lambda province: tr_collator.getSortKey(province.name))\n",
    "print(tr_province_sorted)\n"
   ],
   "outputs": [
    {
     "output_type": "stream",
     "name": "stdout",
     "text": [
      "[('Ankara', 5639076), ('Bursa', 3056120), ('Iğdır', 199442), ('Isparta', 444914), ('İstanbul', 15519267), ('Samsun', 1348542), ('Şanlıurfa', 2073614)]\n"
     ]
    }
   ],
   "metadata": {}
  },
  {
   "cell_type": "markdown",
   "source": [
    "## Pandas Dataframes and Series\n",
    "\n",
    "Pandas provides `sort_values()` and `sort_index()` methods for both dataframes and series.\n",
    "\n",
    "Both `sort_values()` and `sort_index()` have an optional `key` parameter which can take a vectorised function. Most published examples of using the `key` parameter use [Series.str](https://pandas.pydata.org/pandas-docs/stable/reference/series.html#string-handling) methods, eg:\n",
    "\n",
    "```\n",
    "df.sort_values(by='col4', key=lambda col: col.str.lower())\n",
    "```\n",
    "\n",
    "Where values in df[`col4`] are lowercased during comparison while sorting.\n",
    "\n",
    "There are no published examples of using Locale or PyICU based collation using `sort_vales()` and `sort_index()`.\n",
    "\n",
    "There are various workarounds (or hacks) for using PyiCU collation with dataframes and series."
   ],
   "metadata": {}
  },
  {
   "cell_type": "markdown",
   "source": [
    "### Using `iloc` to perform a single column sort on a dataframe\n",
    "Searching for solutions that use PyICU for sorting dataframes yields only one result, a [gist](https://gist.github.com/seanpue/e1cb846f676194ae77eb) that utulises `df.iloc`. This approach will only work for sorting a single column."
   ],
   "metadata": {}
  },
  {
   "cell_type": "code",
   "execution_count": 98,
   "source": [
    "import pandas as pd \n",
    "\n",
    "# Read data file and randomise.\n",
    "# df = pd.read_csv(\"../data/din.txt\", sep='\\t', skiprows = range(2,5)).sample(frac=1)\n",
    "df = pd.read_csv(\"https://raw.githubusercontent.com/enabling-languages/python-i18n/main/data/din.txt\", sep='\\t', skiprows = range(2,5)).sample(frac=1)\n",
    "df.head(15)"
   ],
   "outputs": [
    {
     "output_type": "execute_result",
     "data": {
      "text/html": [
       "<div>\n",
       "<style scoped>\n",
       "    .dataframe tbody tr th:only-of-type {\n",
       "        vertical-align: middle;\n",
       "    }\n",
       "\n",
       "    .dataframe tbody tr th {\n",
       "        vertical-align: top;\n",
       "    }\n",
       "\n",
       "    .dataframe thead th {\n",
       "        text-align: right;\n",
       "    }\n",
       "</style>\n",
       "<table border=\"1\" class=\"dataframe\">\n",
       "  <thead>\n",
       "    <tr style=\"text-align: right;\">\n",
       "      <th></th>\n",
       "      <th>Form</th>\n",
       "      <th>Frequency</th>\n",
       "    </tr>\n",
       "  </thead>\n",
       "  <tbody>\n",
       "    <tr>\n",
       "      <th>680</th>\n",
       "      <td>cïkkë</td>\n",
       "      <td>10281</td>\n",
       "    </tr>\n",
       "    <tr>\n",
       "      <th>1383</th>\n",
       "      <td>kathiärŋuan</td>\n",
       "      <td>20562</td>\n",
       "    </tr>\n",
       "    <tr>\n",
       "      <th>309</th>\n",
       "      <td>anhiar</td>\n",
       "      <td>77108</td>\n",
       "    </tr>\n",
       "    <tr>\n",
       "      <th>2001</th>\n",
       "      <td>muɔ̈n</td>\n",
       "      <td>241606</td>\n",
       "    </tr>\n",
       "    <tr>\n",
       "      <th>2780</th>\n",
       "      <td>tiɛ̈ŋ</td>\n",
       "      <td>262169</td>\n",
       "    </tr>\n",
       "    <tr>\n",
       "      <th>2292</th>\n",
       "      <td>piɛ̈rdun</td>\n",
       "      <td>102811</td>\n",
       "    </tr>\n",
       "    <tr>\n",
       "      <th>593</th>\n",
       "      <td>bir</td>\n",
       "      <td>35983</td>\n",
       "    </tr>\n",
       "    <tr>\n",
       "      <th>1707</th>\n",
       "      <td>loi</td>\n",
       "      <td>1069238</td>\n",
       "    </tr>\n",
       "    <tr>\n",
       "      <th>1642</th>\n",
       "      <td>Lebï</td>\n",
       "      <td>128514</td>\n",
       "    </tr>\n",
       "    <tr>\n",
       "      <th>2853</th>\n",
       "      <td>tuil</td>\n",
       "      <td>20562</td>\n",
       "    </tr>\n",
       "    <tr>\n",
       "      <th>1641</th>\n",
       "      <td>le</td>\n",
       "      <td>2004821</td>\n",
       "    </tr>\n",
       "    <tr>\n",
       "      <th>1214</th>\n",
       "      <td>Jathon</td>\n",
       "      <td>25702</td>\n",
       "    </tr>\n",
       "    <tr>\n",
       "      <th>2953</th>\n",
       "      <td>wënden</td>\n",
       "      <td>10281</td>\n",
       "    </tr>\n",
       "    <tr>\n",
       "      <th>1542</th>\n",
       "      <td>Krïthian</td>\n",
       "      <td>20562</td>\n",
       "    </tr>\n",
       "    <tr>\n",
       "      <th>540</th>\n",
       "      <td>bet</td>\n",
       "      <td>10281</td>\n",
       "    </tr>\n",
       "  </tbody>\n",
       "</table>\n",
       "</div>"
      ],
      "text/plain": [
       "             Form  Frequency\n",
       "680         cïkkë      10281\n",
       "1383  kathiärŋuan      20562\n",
       "309        anhiar      77108\n",
       "2001        muɔ̈n     241606\n",
       "2780        tiɛ̈ŋ     262169\n",
       "2292     piɛ̈rdun     102811\n",
       "593           bir      35983\n",
       "1707          loi    1069238\n",
       "1642         Lebï     128514\n",
       "2853         tuil      20562\n",
       "1641           le    2004821\n",
       "1214       Jathon      25702\n",
       "2953       wënden      10281\n",
       "1542     Krïthian      20562\n",
       "540           bet      10281"
      ]
     },
     "metadata": {},
     "execution_count": 98
    }
   ],
   "metadata": {}
  },
  {
   "cell_type": "code",
   "execution_count": 99,
   "source": [
    "def sort_series(key=None,reverse=False):\n",
    "    def sorter(series):\n",
    "        series_list = list(series)\n",
    "        return [series_list.index(i) \n",
    "           for i in sorted(series_list,key=key,reverse=reverse)]\n",
    "    return sorter\n",
    "\n",
    "def pd_sort(series, key):\n",
    "    if (isinstance(series, pd.Series)):\n",
    "        sort_by_custom_dict = sort_series(key=key)\n",
    "        return df.iloc[sort_by_custom_dict(series)]"
   ],
   "outputs": [],
   "metadata": {}
  },
  {
   "cell_type": "code",
   "execution_count": 100,
   "source": [
    "sorted_df = pd_sort(df['Form'], din_collator.getSortKey)\n",
    "sorted_df.head(15)"
   ],
   "outputs": [
    {
     "output_type": "execute_result",
     "data": {
      "text/html": [
       "<div>\n",
       "<style scoped>\n",
       "    .dataframe tbody tr th:only-of-type {\n",
       "        vertical-align: middle;\n",
       "    }\n",
       "\n",
       "    .dataframe tbody tr th {\n",
       "        vertical-align: top;\n",
       "    }\n",
       "\n",
       "    .dataframe thead th {\n",
       "        text-align: right;\n",
       "    }\n",
       "</style>\n",
       "<table border=\"1\" class=\"dataframe\">\n",
       "  <thead>\n",
       "    <tr style=\"text-align: right;\">\n",
       "      <th></th>\n",
       "      <th>Form</th>\n",
       "      <th>Frequency</th>\n",
       "    </tr>\n",
       "  </thead>\n",
       "  <tbody>\n",
       "    <tr>\n",
       "      <th>0</th>\n",
       "      <td>a</td>\n",
       "      <td>1043535</td>\n",
       "    </tr>\n",
       "    <tr>\n",
       "      <th>1</th>\n",
       "      <td>aa</td>\n",
       "      <td>10106358</td>\n",
       "    </tr>\n",
       "    <tr>\n",
       "      <th>22</th>\n",
       "      <td>aba</td>\n",
       "      <td>498635</td>\n",
       "    </tr>\n",
       "    <tr>\n",
       "      <th>23</th>\n",
       "      <td>abä</td>\n",
       "      <td>210763</td>\n",
       "    </tr>\n",
       "    <tr>\n",
       "      <th>2</th>\n",
       "      <td>aaba</td>\n",
       "      <td>102811</td>\n",
       "    </tr>\n",
       "    <tr>\n",
       "      <th>3</th>\n",
       "      <td>aabä</td>\n",
       "      <td>46265</td>\n",
       "    </tr>\n",
       "    <tr>\n",
       "      <th>25</th>\n",
       "      <td>abak</td>\n",
       "      <td>77108</td>\n",
       "    </tr>\n",
       "    <tr>\n",
       "      <th>26</th>\n",
       "      <td>abäk</td>\n",
       "      <td>128514</td>\n",
       "    </tr>\n",
       "    <tr>\n",
       "      <th>27</th>\n",
       "      <td>abäkke</td>\n",
       "      <td>20562</td>\n",
       "    </tr>\n",
       "    <tr>\n",
       "      <th>28</th>\n",
       "      <td>abaŋ</td>\n",
       "      <td>154217</td>\n",
       "    </tr>\n",
       "    <tr>\n",
       "      <th>24</th>\n",
       "      <td>abaar</td>\n",
       "      <td>56546</td>\n",
       "    </tr>\n",
       "    <tr>\n",
       "      <th>29</th>\n",
       "      <td>Abaram</td>\n",
       "      <td>616868</td>\n",
       "    </tr>\n",
       "    <tr>\n",
       "      <th>30</th>\n",
       "      <td>Abel</td>\n",
       "      <td>35983</td>\n",
       "    </tr>\n",
       "    <tr>\n",
       "      <th>31</th>\n",
       "      <td>aben</td>\n",
       "      <td>71967</td>\n",
       "    </tr>\n",
       "    <tr>\n",
       "      <th>32</th>\n",
       "      <td>abɛ̈k</td>\n",
       "      <td>190201</td>\n",
       "    </tr>\n",
       "  </tbody>\n",
       "</table>\n",
       "</div>"
      ],
      "text/plain": [
       "      Form  Frequency\n",
       "0        a    1043535\n",
       "1       aa   10106358\n",
       "22     aba     498635\n",
       "23     abä     210763\n",
       "2     aaba     102811\n",
       "3     aabä      46265\n",
       "25    abak      77108\n",
       "26    abäk     128514\n",
       "27  abäkke      20562\n",
       "28    abaŋ     154217\n",
       "24   abaar      56546\n",
       "29  Abaram     616868\n",
       "30    Abel      35983\n",
       "31    aben      71967\n",
       "32   abɛ̈k     190201"
      ]
     },
     "metadata": {},
     "execution_count": 100
    }
   ],
   "metadata": {}
  },
  {
   "cell_type": "markdown",
   "source": [
    "### Reindexing and sorting\n",
    "\n",
    "It is possible to set the index of a dataframe to the column to be sorted, then use Python's `sorted()` function to sort the new index values, then finally reindex the dataframe. This approach is adapted from a response to a [Stack Overflow question](https://stackoverflow.com/questions/57361637/sorting-pandas-dataframe-with-german-umlaute)."
   ],
   "metadata": {}
  },
  {
   "cell_type": "code",
   "execution_count": 101,
   "source": [
    "alt_df = df.set_index('Form')\n",
    "alt_df_sort = alt_df.reindex(sorted(alt_df.index, key=din_collator.getSortKey)).reset_index()\n",
    "\n",
    "alt_df_sort.head(15)"
   ],
   "outputs": [
    {
     "output_type": "execute_result",
     "data": {
      "text/html": [
       "<div>\n",
       "<style scoped>\n",
       "    .dataframe tbody tr th:only-of-type {\n",
       "        vertical-align: middle;\n",
       "    }\n",
       "\n",
       "    .dataframe tbody tr th {\n",
       "        vertical-align: top;\n",
       "    }\n",
       "\n",
       "    .dataframe thead th {\n",
       "        text-align: right;\n",
       "    }\n",
       "</style>\n",
       "<table border=\"1\" class=\"dataframe\">\n",
       "  <thead>\n",
       "    <tr style=\"text-align: right;\">\n",
       "      <th></th>\n",
       "      <th>Form</th>\n",
       "      <th>Frequency</th>\n",
       "    </tr>\n",
       "  </thead>\n",
       "  <tbody>\n",
       "    <tr>\n",
       "      <th>0</th>\n",
       "      <td>a</td>\n",
       "      <td>1043535</td>\n",
       "    </tr>\n",
       "    <tr>\n",
       "      <th>1</th>\n",
       "      <td>aa</td>\n",
       "      <td>10106358</td>\n",
       "    </tr>\n",
       "    <tr>\n",
       "      <th>2</th>\n",
       "      <td>aba</td>\n",
       "      <td>498635</td>\n",
       "    </tr>\n",
       "    <tr>\n",
       "      <th>3</th>\n",
       "      <td>abä</td>\n",
       "      <td>210763</td>\n",
       "    </tr>\n",
       "    <tr>\n",
       "      <th>4</th>\n",
       "      <td>aaba</td>\n",
       "      <td>102811</td>\n",
       "    </tr>\n",
       "    <tr>\n",
       "      <th>5</th>\n",
       "      <td>aabä</td>\n",
       "      <td>46265</td>\n",
       "    </tr>\n",
       "    <tr>\n",
       "      <th>6</th>\n",
       "      <td>abak</td>\n",
       "      <td>77108</td>\n",
       "    </tr>\n",
       "    <tr>\n",
       "      <th>7</th>\n",
       "      <td>abäk</td>\n",
       "      <td>128514</td>\n",
       "    </tr>\n",
       "    <tr>\n",
       "      <th>8</th>\n",
       "      <td>abäkke</td>\n",
       "      <td>20562</td>\n",
       "    </tr>\n",
       "    <tr>\n",
       "      <th>9</th>\n",
       "      <td>abaŋ</td>\n",
       "      <td>154217</td>\n",
       "    </tr>\n",
       "    <tr>\n",
       "      <th>10</th>\n",
       "      <td>abaar</td>\n",
       "      <td>56546</td>\n",
       "    </tr>\n",
       "    <tr>\n",
       "      <th>11</th>\n",
       "      <td>Abaram</td>\n",
       "      <td>616868</td>\n",
       "    </tr>\n",
       "    <tr>\n",
       "      <th>12</th>\n",
       "      <td>Abel</td>\n",
       "      <td>35983</td>\n",
       "    </tr>\n",
       "    <tr>\n",
       "      <th>13</th>\n",
       "      <td>aben</td>\n",
       "      <td>71967</td>\n",
       "    </tr>\n",
       "    <tr>\n",
       "      <th>14</th>\n",
       "      <td>abɛ̈k</td>\n",
       "      <td>190201</td>\n",
       "    </tr>\n",
       "  </tbody>\n",
       "</table>\n",
       "</div>"
      ],
      "text/plain": [
       "      Form  Frequency\n",
       "0        a    1043535\n",
       "1       aa   10106358\n",
       "2      aba     498635\n",
       "3      abä     210763\n",
       "4     aaba     102811\n",
       "5     aabä      46265\n",
       "6     abak      77108\n",
       "7     abäk     128514\n",
       "8   abäkke      20562\n",
       "9     abaŋ     154217\n",
       "10   abaar      56546\n",
       "11  Abaram     616868\n",
       "12    Abel      35983\n",
       "13    aben      71967\n",
       "14   abɛ̈k     190201"
      ]
     },
     "metadata": {},
     "execution_count": 101
    }
   ],
   "metadata": {}
  },
  {
   "cell_type": "markdown",
   "source": [
    "Copyright © 2021 [Enabling Languages](https://enabling-languages.github.io/). <br>This notebook is made available under the [MIT licence](https://github.com/enabling-languages/python-i18n/blob/main/LICENSE)."
   ],
   "metadata": {}
  }
 ],
 "metadata": {
  "interpreter": {
   "hash": "1089646a020cfe6092fafe876ee4a6e68b3ec5a13ed8a22b79c0a42e9e2a954f"
  },
  "kernelspec": {
   "name": "python3",
   "display_name": "Python 3.8.1 64-bit ('el': venv)"
  },
  "language_info": {
   "codemirror_mode": {
    "name": "ipython",
    "version": 3
   },
   "file_extension": ".py",
   "mimetype": "text/x-python",
   "name": "python",
   "nbconvert_exporter": "python",
   "pygments_lexer": "ipython3",
   "version": "3.8.1"
  }
 },
 "nbformat": 4,
 "nbformat_minor": 4
}