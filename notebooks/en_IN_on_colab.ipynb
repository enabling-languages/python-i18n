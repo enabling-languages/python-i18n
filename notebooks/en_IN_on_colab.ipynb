{
  "cells": [
    {
      "cell_type": "markdown",
      "metadata": {
        "id": "ucLUcH6WFgHz"
      },
      "source": [
        "# Working with currency in the en_IN locale\n",
        "\n",
        "The *en_IN.UTF-8* locale is available on linux, but absent on macOS, the locale allows the correct formatting and display of numbers and currency according to Indian conventions, including the (3, 2) pattern for grouping separators.\n",
        "\n",
        "__Requirements:__ icu4c, pyicu and the en_IN.UTF-8 locale.\n",
        "\n",
        "On Ubuntu nad Debian and derivative distros:\n",
        "\n",
        "```sh\n",
        "sudo locale-gen en_IN.UTF-8\n",
        "sudo update-locale\n",
        "```"
      ]
    },
    {
      "cell_type": "markdown",
      "metadata": {
        "id": "lh5112Z-FqC4"
      },
      "source": [
        "## Setup"
      ]
    },
    {
      "cell_type": "code",
      "execution_count": 1,
      "metadata": {
        "colab": {
          "base_uri": "https://localhost:8080/"
        },
        "id": "mMNdGeBwEGrX",
        "outputId": "19050197-2480-439f-89cf-e4f4456fc594"
      },
      "outputs": [],
      "source": [
        "import locale\n",
        "loc = \"en_IN.UTF-8\"\n",
        "locale.setlocale(locale.LC_ALL, loc)\n",
        "\n",
        "from icu import Locale, NumberFormatter, CurrencyUnit, RuleBasedNumberFormat, URBNFRuleSetTag, NumberFormat, Formattable, Precision, Notation"
      ]
    },
    {
      "cell_type": "markdown",
      "metadata": {
        "id": "tlMBxUyicBD1"
      },
      "source": [
        "## Using the locale module\n",
        "\n",
        "`locale.currency()` will convert a normalised (unlocalised) numeral into a formatted numeral string based on the conventions of the current locale. By default the conversion does not include grouping (thousands) separators in the formatted string. To enable grouping seperators, set the `grouping` parameter to `True`. The default value is `False`."
      ]
    },
    {
      "cell_type": "code",
      "execution_count": 2,
      "metadata": {
        "colab": {
          "base_uri": "https://localhost:8080/"
        },
        "id": "fZyzIEWKEdJF",
        "outputId": "e99f3efb-ba4c-4923-f0be-e0d6724948e7"
      },
      "outputs": [
        {
          "name": "stdout",
          "output_type": "stream",
          "text": [
            "['₹2.54', '₹4.00', '₹3.00', '₹9.95', '₹5.40']\n"
          ]
        }
      ],
      "source": [
        "lst = [2.54, 4.0, 3, 9.95, 5.4]\n",
        "print([locale.currency(i, grouping=True) for i in lst])"
      ]
    },
    {
      "cell_type": "code",
      "execution_count": 3,
      "metadata": {
        "colab": {
          "base_uri": "https://localhost:8080/"
        },
        "id": "1TkeFpbzFDJc",
        "outputId": "1c13b231-6968-43b2-be5e-5bddec68e65d"
      },
      "outputs": [
        {
          "name": "stdout",
          "output_type": "stream",
          "text": [
            "['₹1,23,452.54', '₹43,67,843.00', '₹1,20,030.00', '₹9,00,020.95', '₹50,00,000.00']\n"
          ]
        }
      ],
      "source": [
        "lst2 = [123452.54, 4367843.0, 120030, 900020.95, 5000000.0]\n",
        "print([locale.currency(i, grouping=True) for i in lst2])\n"
      ]
    },
    {
      "cell_type": "markdown",
      "metadata": {
        "id": "9O0-OJEykI1A"
      },
      "source": [
        "The _glibc_ based _en_IN_ locale does not insert a space between the currency symbol and the numerals. There is an internal function intended for testing, `locale._override_localeconv`, that can change some of the locale settings, in theory it should be reserved for testing only."
      ]
    },
    {
      "cell_type": "code",
      "execution_count": 4,
      "metadata": {
        "colab": {
          "base_uri": "https://localhost:8080/"
        },
        "id": "pTNfTVeUFRJO",
        "outputId": "79304bdb-3125-477c-e274-7ba04a744a25"
      },
      "outputs": [
        {
          "name": "stdout",
          "output_type": "stream",
          "text": [
            "['₹ 1,23,452.54', '₹ 43,67,843.00', '₹ 1,20,030.00', '₹ 9,00,020.95', '₹ 50,00,000.00']\n"
          ]
        }
      ],
      "source": [
        "locale._override_localeconv[\"p_sep_by_space\"] = 1\n",
        "print([locale.currency(i, grouping=True) for i in lst2])\n"
      ]
    },
    {
      "cell_type": "markdown",
      "metadata": {
        "id": "L4ywj6O9FwYU"
      },
      "source": [
        "## Using PyICU\n",
        "\n",
        "There are a number of ways of creating a formatter instance for currency. The original method was `icu.NumberFormat`, the newer method is `icu.NumberFormatter`, which superceeded `icu.NumberFormat`.\n",
        "\n",
        "Using `icu.NumberFormatter`:"
      ]
    },
    {
      "cell_type": "code",
      "execution_count": 5,
      "metadata": {
        "colab": {
          "base_uri": "https://localhost:8080/"
        },
        "id": "J8qw2xSpG3QC",
        "outputId": "bc94c149-7b0f-4ed6-fe44-4afddf3ec31e"
      },
      "outputs": [
        {
          "name": "stdout",
          "output_type": "stream",
          "text": [
            "['₹1,23,452.54', '₹43,67,843.00', '₹1,20,030.00', '₹9,00,020.95', '₹50,00,000.00']\n"
          ]
        }
      ],
      "source": [
        "icu_loc = Locale.createCanonical(loc)\n",
        "formatter = NumberFormatter.with_().unit(CurrencyUnit('INR')).locale(icu_loc)\n",
        "print([str(formatter.formatDouble(i)).replace('\\xa0', ' ') for i in lst2])\n"
      ]
    },
    {
      "cell_type": "markdown",
      "metadata": {
        "id": "w03QeCwxO94h"
      },
      "source": [
        "Using `icu.RuleBasedNumberFormat\n",
        "`:"
      ]
    },
    {
      "cell_type": "code",
      "execution_count": 6,
      "metadata": {
        "colab": {
          "base_uri": "https://localhost:8080/"
        },
        "id": "z6U8ep_XPFUN",
        "outputId": "7fe3e6d8-c224-4f90-eea7-d6b9aa30375f"
      },
      "outputs": [
        {
          "name": "stdout",
          "output_type": "stream",
          "text": [
            "₹1,23,452.54\n"
          ]
        }
      ],
      "source": [
        "rbnf = RuleBasedNumberFormat.createCurrencyInstance(icu_loc)\n",
        "print(rbnf.format(lst2[0]))"
      ]
    },
    {
      "cell_type": "markdown",
      "metadata": {
        "id": "tLKqrD7kKOoo"
      },
      "source": [
        "Using `icu.NumberFormat`:"
      ]
    },
    {
      "cell_type": "code",
      "execution_count": 7,
      "metadata": {
        "colab": {
          "base_uri": "https://localhost:8080/"
        },
        "id": "il8Yh48JJF_S",
        "outputId": "3b510bff-c9fe-49da-af51-abd5c8081f31"
      },
      "outputs": [
        {
          "name": "stdout",
          "output_type": "stream",
          "text": [
            "₹1,23,452.54\n"
          ]
        }
      ],
      "source": [
        "nf_formatter = NumberFormat.createCurrencyInstance(icu_loc)\n",
        "print(nf_formatter.format(lst2[0]))"
      ]
    },
    {
      "cell_type": "markdown",
      "metadata": {},
      "source": [
        "Compact number format:"
      ]
    },
    {
      "cell_type": "code",
      "execution_count": 8,
      "metadata": {},
      "outputs": [
        {
          "name": "stdout",
          "output_type": "stream",
          "text": [
            "₹1.23L\n"
          ]
        }
      ],
      "source": [
        "compact_formatter = NumberFormatter.with_() \\\n",
        "    .unit(CurrencyUnit('INR')) \\\n",
        "    .locale(icu_loc) \\\n",
        "    .precision(Precision.minMaxFraction(2,2)) \\\n",
        "    .notation(Notation.compactShort())\n",
        "print(compact_formatter.formatDouble(lst2[0]))"
      ]
    },
    {
      "cell_type": "markdown",
      "metadata": {
        "id": "ckZq70mSHGcY"
      },
      "source": [
        "### Text version of numbers via SPELLOUT"
      ]
    },
    {
      "cell_type": "code",
      "execution_count": 9,
      "metadata": {
        "colab": {
          "base_uri": "https://localhost:8080/"
        },
        "id": "6jLponG8EJgW",
        "outputId": "e39f2033-5b0c-41a7-e283-42664ce7ef0f"
      },
      "outputs": [
        {
          "name": "stdout",
          "output_type": "stream",
          "text": [
            "one lakh twenty-three thousand four hundred fifty-two point five four\n"
          ]
        }
      ],
      "source": [
        "rb_formatter = RuleBasedNumberFormat(URBNFRuleSetTag.SPELLOUT, icu_loc)\n",
        "spellout_number = rb_formatter.format(lst2[0])\n",
        "print(spellout_number)"
      ]
    },
    {
      "cell_type": "markdown",
      "metadata": {
        "id": "3p6MR0hfHuEy"
      },
      "source": [
        "### Text to interger\n"
      ]
    },
    {
      "cell_type": "code",
      "execution_count": 10,
      "metadata": {
        "colab": {
          "base_uri": "https://localhost:8080/"
        },
        "id": "ttsuK0TqH9ov",
        "outputId": "840a4b62-c55f-4e3d-9eb3-5dd3bf8c4488"
      },
      "outputs": [
        {
          "name": "stdout",
          "output_type": "stream",
          "text": [
            "123452.54\n"
          ]
        }
      ],
      "source": [
        "number = rb_formatter.parse(spellout_number)\n",
        "number = Formattable.getDouble(number)\n",
        "print(number)"
      ]
    }
  ],
  "metadata": {
    "colab": {
      "collapsed_sections": [],
      "name": "en_IN_on_colab.ipynb",
      "provenance": []
    },
    "kernelspec": {
      "display_name": "Python 3.10.4 ('el')",
      "language": "python",
      "name": "python3"
    },
    "language_info": {
      "codemirror_mode": {
        "name": "ipython",
        "version": 3
      },
      "file_extension": ".py",
      "mimetype": "text/x-python",
      "name": "python",
      "nbconvert_exporter": "python",
      "pygments_lexer": "ipython3",
      "version": "3.10.6"
    },
    "vscode": {
      "interpreter": {
        "hash": "e6504530cd7cc3d378d399b16dd545b9d2de40f447438758bc49e6b636cedd5f"
      }
    }
  },
  "nbformat": 4,
  "nbformat_minor": 0
}
