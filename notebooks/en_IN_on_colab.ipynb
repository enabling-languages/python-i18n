{
  "nbformat": 4,
  "nbformat_minor": 0,
  "metadata": {
    "colab": {
      "name": "en_IN_on_colab.ipynb",
      "provenance": [],
      "collapsed_sections": []
    },
    "kernelspec": {
      "name": "python3",
      "display_name": "Python 3"
    },
    "language_info": {
      "name": "python"
    }
  },
  "cells": [
    {
      "cell_type": "markdown",
      "source": [
        "# Working with the en_IN locale\n",
        "\n",
        "[![Open In Colab](https://colab.research.google.com/assets/colab-badge.svg)](https://colab.research.google.com/github/enabling-languages/python-i18n/blob/main/notebooks/en_IN_on_colab.ipynb)\n",
        "\n",
        "The *en_IN.UTF-8* locale is available on linux, but absent on macOS, the locale allows the correct formatting and display of numbers and currency according to Indian conventions, including the (3, 2) pattern for grouping separators.\n",
        "\n",
        "_The notebook contains example code that will try to set the locale to **en_IN.UTF-8**, and if the locale is unavailable, the code will install the locale for this notebook, and to stop the runtime environment._\n",
        "\n",
        "**_It will be necessary to manually restart the runtime environment and rerun the notebook._**"
      ],
      "metadata": {
        "id": "ucLUcH6WFgHz"
      }
    },
    {
      "cell_type": "markdown",
      "source": [
        "## Setup"
      ],
      "metadata": {
        "id": "lh5112Z-FqC4"
      }
    },
    {
      "cell_type": "code",
      "source": [
        "import locale\n",
        "loc = \"en_IN.UTF-8\"\n",
        "\n",
        "try:\n",
        "  import google.colab\n",
        "  IN_COLAB = True\n",
        "except ImportError:\n",
        "  IN_COLAB = False\n",
        "if IN_COLAB:\n",
        "  !pip install PyICU\n",
        "  try:\n",
        "    locale.setlocale(locale.LC_ALL, loc)\n",
        "  except locale.Error:\n",
        "    print(\"Currently installing required locale. After the install the runtime environment will restart, please rerun all code.\")\n",
        "    !sudo locale-gen {loc}\n",
        "    !sudo update-locale\n",
        "    import os\n",
        "    os.kill(os.getpid(), 9)\n",
        "else:\n",
        "  locale.setlocale(locale.LC_ALL, loc)\n",
        "\n",
        "from icu import Locale, NumberFormatter, CurrencyUnit, RuleBasedNumberFormat, URBNFRuleSetTag, NumberFormat, Formattable"
      ],
      "metadata": {
        "id": "mMNdGeBwEGrX",
        "colab": {
          "base_uri": "https://localhost:8080/"
        },
        "outputId": "19050197-2480-439f-89cf-e4f4456fc594"
      },
      "execution_count": 27,
      "outputs": [
        {
          "output_type": "stream",
          "name": "stdout",
          "text": [
            "Looking in indexes: https://pypi.org/simple, https://us-python.pkg.dev/colab-wheels/public/simple/\n",
            "Requirement already satisfied: PyICU in /usr/local/lib/python3.7/dist-packages (2.9)\n"
          ]
        }
      ]
    },
    {
      "cell_type": "markdown",
      "source": [
        "## Using the locale module\n",
        "\n",
        "`locale.currency()` will convert a normalised (unlocalised) numeral into a formatted numeral string based on the conventions of the current locale. By default the conversion does not include grouping (thousands) separators in the formatted string. To enable grouping seperators, set the `grouping` parameter to `True`. The default value is `False`."
      ],
      "metadata": {
        "id": "tlMBxUyicBD1"
      }
    },
    {
      "cell_type": "code",
      "source": [
        "lst = [2.54, 4.0, 3, 9.95, 5.4]\n",
        "print([locale.currency(i, grouping=True) for i in lst])"
      ],
      "metadata": {
        "colab": {
          "base_uri": "https://localhost:8080/"
        },
        "id": "fZyzIEWKEdJF",
        "outputId": "e99f3efb-ba4c-4923-f0be-e0d6724948e7"
      },
      "execution_count": 28,
      "outputs": [
        {
          "output_type": "stream",
          "name": "stdout",
          "text": [
            "['₹ 2.54', '₹ 4.00', '₹ 3.00', '₹ 9.95', '₹ 5.40']\n"
          ]
        }
      ]
    },
    {
      "cell_type": "code",
      "source": [
        "lst2 = [123452.54, 4367843.0, 120030, 900020.95, 5000000.0]\n",
        "print([locale.currency(i, grouping=True) for i in lst2])\n"
      ],
      "metadata": {
        "colab": {
          "base_uri": "https://localhost:8080/"
        },
        "id": "1TkeFpbzFDJc",
        "outputId": "1c13b231-6968-43b2-be5e-5bddec68e65d"
      },
      "execution_count": 29,
      "outputs": [
        {
          "output_type": "stream",
          "name": "stdout",
          "text": [
            "['₹ 1,23,452.54', '₹ 43,67,843.00', '₹ 1,20,030.00', '₹ 9,00,020.95', '₹ 50,00,000.00']\n"
          ]
        }
      ]
    },
    {
      "cell_type": "markdown",
      "source": [
        "The _glibc_ based _en_IN_ locale does not insert a space between the currency symbol and the numerals. There is an internal function intended for testing, `locale._override_localeconv`, that can change some of the locale settings, in theory it should be reserved for testing only."
      ],
      "metadata": {
        "id": "9O0-OJEykI1A"
      }
    },
    {
      "cell_type": "code",
      "source": [
        "locale._override_localeconv[\"p_sep_by_space\"] = 1\n",
        "print([locale.currency(i, grouping=True) for i in lst2])\n"
      ],
      "metadata": {
        "colab": {
          "base_uri": "https://localhost:8080/"
        },
        "id": "pTNfTVeUFRJO",
        "outputId": "79304bdb-3125-477c-e274-7ba04a744a25"
      },
      "execution_count": 30,
      "outputs": [
        {
          "output_type": "stream",
          "name": "stdout",
          "text": [
            "['₹ 1,23,452.54', '₹ 43,67,843.00', '₹ 1,20,030.00', '₹ 9,00,020.95', '₹ 50,00,000.00']\n"
          ]
        }
      ]
    },
    {
      "cell_type": "markdown",
      "source": [
        "## Using PyICU\n",
        "\n",
        "There are a number of ways of creating a formatter instance for currency. The original method was `icu.NumberFormat`, the newer method is `icu.NumberFormatter`, which superceeded `icu.NumberFormat`.\n",
        "\n",
        "Using `icu.NumberFormatter`:"
      ],
      "metadata": {
        "id": "L4ywj6O9FwYU"
      }
    },
    {
      "cell_type": "code",
      "source": [
        "icu_loc = Locale.createCanonical(loc)\n",
        "formatter = NumberFormatter.with_().unit(CurrencyUnit('INR')).locale(icu_loc)\n",
        "print([str(formatter.formatDouble(i)).replace('\\xa0', ' ') for i in lst2])\n"
      ],
      "metadata": {
        "colab": {
          "base_uri": "https://localhost:8080/"
        },
        "id": "J8qw2xSpG3QC",
        "outputId": "bc94c149-7b0f-4ed6-fe44-4afddf3ec31e"
      },
      "execution_count": 31,
      "outputs": [
        {
          "output_type": "stream",
          "name": "stdout",
          "text": [
            "['₹ 1,23,452.54', '₹ 43,67,843.00', '₹ 1,20,030.00', '₹ 9,00,020.95', '₹ 50,00,000.00']\n"
          ]
        }
      ]
    },
    {
      "cell_type": "markdown",
      "source": [
        "Using `icu.RuleBasedNumberFormat\n",
        "`:"
      ],
      "metadata": {
        "id": "w03QeCwxO94h"
      }
    },
    {
      "cell_type": "code",
      "source": [
        "rbnf = RuleBasedNumberFormat.createCurrencyInstance(icu_loc)\n",
        "print(rbnf.format(lst2[0]))"
      ],
      "metadata": {
        "colab": {
          "base_uri": "https://localhost:8080/"
        },
        "id": "z6U8ep_XPFUN",
        "outputId": "7fe3e6d8-c224-4f90-eea7-d6b9aa30375f"
      },
      "execution_count": 32,
      "outputs": [
        {
          "output_type": "stream",
          "name": "stdout",
          "text": [
            "₹ 1,23,452.54\n"
          ]
        }
      ]
    },
    {
      "cell_type": "markdown",
      "source": [
        "Using `icu.NumberFormat`:"
      ],
      "metadata": {
        "id": "tLKqrD7kKOoo"
      }
    },
    {
      "cell_type": "code",
      "source": [
        "nf_formatter = NumberFormat.createCurrencyInstance(icu_loc)\n",
        "print(nf_formatter.format(lst2[0]))"
      ],
      "metadata": {
        "colab": {
          "base_uri": "https://localhost:8080/"
        },
        "id": "il8Yh48JJF_S",
        "outputId": "3b510bff-c9fe-49da-af51-abd5c8081f31"
      },
      "execution_count": 33,
      "outputs": [
        {
          "output_type": "stream",
          "name": "stdout",
          "text": [
            "₹ 1,23,452.54\n"
          ]
        }
      ]
    },
    {
      "cell_type": "markdown",
      "source": [
        "### Text version of numbers via SPELLOUT"
      ],
      "metadata": {
        "id": "ckZq70mSHGcY"
      }
    },
    {
      "cell_type": "code",
      "source": [
        "rb_formatter = RuleBasedNumberFormat(URBNFRuleSetTag.SPELLOUT, icu_loc)\n",
        "spellout_number = rb_formatter.format(lst2[0])\n",
        "print(spellout_number)"
      ],
      "metadata": {
        "colab": {
          "base_uri": "https://localhost:8080/"
        },
        "id": "6jLponG8EJgW",
        "outputId": "e39f2033-5b0c-41a7-e283-42664ce7ef0f"
      },
      "execution_count": 34,
      "outputs": [
        {
          "output_type": "stream",
          "name": "stdout",
          "text": [
            "one lakh twenty-three thousand four hundred fifty-two point five four\n"
          ]
        }
      ]
    },
    {
      "cell_type": "markdown",
      "source": [
        "### Text to interger\n"
      ],
      "metadata": {
        "id": "3p6MR0hfHuEy"
      }
    },
    {
      "cell_type": "code",
      "source": [
        "number = rb_formatter.parse(spellout_number)\n",
        "number = Formattable.getDouble(number)\n",
        "print(number)"
      ],
      "metadata": {
        "colab": {
          "base_uri": "https://localhost:8080/"
        },
        "id": "ttsuK0TqH9ov",
        "outputId": "840a4b62-c55f-4e3d-9eb3-5dd3bf8c4488"
      },
      "execution_count": 35,
      "outputs": [
        {
          "output_type": "stream",
          "name": "stdout",
          "text": [
            "123452.54\n"
          ]
        }
      ]
    }
  ]
}