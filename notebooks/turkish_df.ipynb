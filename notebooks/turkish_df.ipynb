{
 "cells": [
  {
   "cell_type": "markdown",
   "metadata": {},
   "source": [
    "# Pandas internationalisation: Turkish (Türk dili) data example\n",
    "\n",
    "An example of reading in Turkish data in Pandas, and string based data prep that may affect Turkish (or Azeri) data.\n",
    "\n",
    "Turkish uses the baseline dot (period) as a grouping delimiter within numbers, and uses a comma as a decimal seperator. "
   ]
  },
  {
   "cell_type": "code",
   "execution_count": 2,
   "metadata": {},
   "outputs": [],
   "source": [
    "import unicodedataplus as ud, pandas as pd\n",
    "from icu import Locale, UnicodeString\n",
    "\n",
    "libpath = os.path.expanduser('../utils')\n",
    "if libpath not in sys.path:\n",
    "    sys.path.append(libpath)\n",
    "import el_utils as elu"
   ]
  },
  {
   "cell_type": "code",
   "execution_count": 3,
   "metadata": {},
   "outputs": [
    {
     "data": {
      "text/html": [
       "<div>\n",
       "<style scoped>\n",
       "    .dataframe tbody tr th:only-of-type {\n",
       "        vertical-align: middle;\n",
       "    }\n",
       "\n",
       "    .dataframe tbody tr th {\n",
       "        vertical-align: top;\n",
       "    }\n",
       "\n",
       "    .dataframe thead th {\n",
       "        text-align: right;\n",
       "    }\n",
       "</style>\n",
       "<table border=\"1\" class=\"dataframe\">\n",
       "  <thead>\n",
       "    <tr style=\"text-align: right;\">\n",
       "      <th></th>\n",
       "      <th>Ad</th>\n",
       "      <th>Alan (km²)</th>\n",
       "      <th>Nüfus (2019)</th>\n",
       "      <th>NY kişi/km²</th>\n",
       "      <th>Plaka kodu</th>\n",
       "      <th>Telefon kodu</th>\n",
       "      <th>Vali</th>\n",
       "    </tr>\n",
       "  </thead>\n",
       "  <tbody>\n",
       "    <tr>\n",
       "      <th>0</th>\n",
       "      <td>İstanbul</td>\n",
       "      <td>5.461</td>\n",
       "      <td>15.519.267</td>\n",
       "      <td>2.841,83</td>\n",
       "      <td>34</td>\n",
       "      <td>212, 216</td>\n",
       "      <td>Ali Yerlikaya</td>\n",
       "    </tr>\n",
       "    <tr>\n",
       "      <th>1</th>\n",
       "      <td>Eskişehir</td>\n",
       "      <td>13.960</td>\n",
       "      <td>887.475</td>\n",
       "      <td>63,57</td>\n",
       "      <td>26</td>\n",
       "      <td>222</td>\n",
       "      <td>Erol Ayyıldız</td>\n",
       "    </tr>\n",
       "    <tr>\n",
       "      <th>2</th>\n",
       "      <td>Bursa</td>\n",
       "      <td>10.813</td>\n",
       "      <td>3.056.120</td>\n",
       "      <td>282,63</td>\n",
       "      <td>16</td>\n",
       "      <td>224</td>\n",
       "      <td>Yakup Canbolat</td>\n",
       "    </tr>\n",
       "  </tbody>\n",
       "</table>\n",
       "</div>"
      ],
      "text/plain": [
       "          Ad  Alan (km²) Nüfus (2019) NY kişi/km²  Plaka kodu Telefon kodu  \\\n",
       "0   İstanbul       5.461   15.519.267    2.841,83          34     212, 216   \n",
       "1  Eskişehir      13.960      887.475       63,57          26          222   \n",
       "2      Bursa      10.813    3.056.120      282,63          16          224   \n",
       "\n",
       "             Vali  \n",
       "0   Ali Yerlikaya  \n",
       "1   Erol Ayyıldız  \n",
       "2  Yakup Canbolat  "
      ]
     },
     "execution_count": 3,
     "metadata": {},
     "output_type": "execute_result"
    }
   ],
   "source": [
    "df_pre = pd.read_table(\"../data/türkiye'ninz-illeri.tsv\")\n",
    "df_pre.head(3)"
   ]
  },
  {
   "cell_type": "code",
   "execution_count": 4,
   "metadata": {},
   "outputs": [
    {
     "name": "stdout",
     "output_type": "stream",
     "text": [
      "<class 'pandas.core.frame.DataFrame'>\n",
      "RangeIndex: 81 entries, 0 to 80\n",
      "Data columns (total 7 columns):\n",
      " #   Column        Non-Null Count  Dtype  \n",
      "---  ------        --------------  -----  \n",
      " 0   Ad            81 non-null     object \n",
      " 1   Alan (km²)    81 non-null     float64\n",
      " 2   Nüfus (2019)  81 non-null     object \n",
      " 3   NY kişi/km²   81 non-null     object \n",
      " 4   Plaka kodu    81 non-null     int64  \n",
      " 5   Telefon kodu  81 non-null     object \n",
      " 6   Vali          81 non-null     object \n",
      "dtypes: float64(1), int64(1), object(5)\n",
      "memory usage: 4.6+ KB\n"
     ]
    }
   ],
   "source": [
    "df_pre.info()"
   ]
  },
  {
   "cell_type": "markdown",
   "metadata": {},
   "source": [
    "_Alan (km²)_ is treated as a floating point number instead of a digit.\n",
    "_Nüfus (2019)_, _NY kişi/km²_, and _Telefon kodu_ are treated as strings.\n",
    "\n",
    "These can be easily corrected, while reading the data, by specifiying the __decimal__ and __thousands__ parameters on the `pd.read_table()` operation.\n",
    "\n",
    "_Telefon kodu_ is read as a string, most values in the column are single integers, although one or more cells contain more than one integer. There are two approaches, either leave the column values as strings or convert each value to a list of integers. We will use a conversion function to convert the strings to a list of integers."
   ]
  },
  {
   "cell_type": "code",
   "execution_count": 5,
   "metadata": {},
   "outputs": [
    {
     "data": {
      "text/html": [
       "<div>\n",
       "<style scoped>\n",
       "    .dataframe tbody tr th:only-of-type {\n",
       "        vertical-align: middle;\n",
       "    }\n",
       "\n",
       "    .dataframe tbody tr th {\n",
       "        vertical-align: top;\n",
       "    }\n",
       "\n",
       "    .dataframe thead th {\n",
       "        text-align: right;\n",
       "    }\n",
       "</style>\n",
       "<table border=\"1\" class=\"dataframe\">\n",
       "  <thead>\n",
       "    <tr style=\"text-align: right;\">\n",
       "      <th></th>\n",
       "      <th>Ad</th>\n",
       "      <th>Alan (km²)</th>\n",
       "      <th>Nüfus (2019)</th>\n",
       "      <th>NY kişi/km²</th>\n",
       "      <th>Plaka kodu</th>\n",
       "      <th>Telefon kodu</th>\n",
       "      <th>Vali</th>\n",
       "    </tr>\n",
       "  </thead>\n",
       "  <tbody>\n",
       "    <tr>\n",
       "      <th>0</th>\n",
       "      <td>İstanbul</td>\n",
       "      <td>5461</td>\n",
       "      <td>15519267</td>\n",
       "      <td>2841.83</td>\n",
       "      <td>34</td>\n",
       "      <td>[212, 216]</td>\n",
       "      <td>Ali Yerlikaya</td>\n",
       "    </tr>\n",
       "    <tr>\n",
       "      <th>1</th>\n",
       "      <td>Eskişehir</td>\n",
       "      <td>13960</td>\n",
       "      <td>887475</td>\n",
       "      <td>63.57</td>\n",
       "      <td>26</td>\n",
       "      <td>[222]</td>\n",
       "      <td>Erol Ayyıldız</td>\n",
       "    </tr>\n",
       "    <tr>\n",
       "      <th>2</th>\n",
       "      <td>Bursa</td>\n",
       "      <td>10813</td>\n",
       "      <td>3056120</td>\n",
       "      <td>282.63</td>\n",
       "      <td>16</td>\n",
       "      <td>[224]</td>\n",
       "      <td>Yakup Canbolat</td>\n",
       "    </tr>\n",
       "  </tbody>\n",
       "</table>\n",
       "</div>"
      ],
      "text/plain": [
       "          Ad  Alan (km²)  Nüfus (2019)  NY kişi/km²  Plaka kodu Telefon kodu  \\\n",
       "0   İstanbul        5461      15519267      2841.83          34   [212, 216]   \n",
       "1  Eskişehir       13960        887475        63.57          26        [222]   \n",
       "2      Bursa       10813       3056120       282.63          16        [224]   \n",
       "\n",
       "             Vali  \n",
       "0   Ali Yerlikaya  \n",
       "1   Erol Ayyıldız  \n",
       "2  Yakup Canbolat  "
      ]
     },
     "execution_count": 5,
     "metadata": {},
     "output_type": "execute_result"
    }
   ],
   "source": [
    "#lf = lambda x: list(map(int, x.split(\", \")))\n",
    "lf = lambda x: [int(n) for n in x.split(\", \")]\n",
    "conv = {\"Telefon kodu\": lf}\n",
    "df = pd.read_table(\"../data/türkiye'ninz-illeri.tsv\", decimal=\",\", thousands=\".\", converters=conv)\n",
    "df.head(3)"
   ]
  },
  {
   "cell_type": "code",
   "execution_count": 6,
   "metadata": {},
   "outputs": [
    {
     "name": "stdout",
     "output_type": "stream",
     "text": [
      "<class 'pandas.core.frame.DataFrame'>\n",
      "RangeIndex: 81 entries, 0 to 80\n",
      "Data columns (total 7 columns):\n",
      " #   Column        Non-Null Count  Dtype  \n",
      "---  ------        --------------  -----  \n",
      " 0   Ad            81 non-null     object \n",
      " 1   Alan (km²)    81 non-null     int64  \n",
      " 2   Nüfus (2019)  81 non-null     int64  \n",
      " 3   NY kişi/km²   81 non-null     float64\n",
      " 4   Plaka kodu    81 non-null     int64  \n",
      " 5   Telefon kodu  81 non-null     object \n",
      " 6   Vali          81 non-null     object \n",
      "dtypes: float64(1), int64(3), object(3)\n",
      "memory usage: 4.6+ KB\n"
     ]
    }
   ],
   "source": [
    "df.info()"
   ]
  },
  {
   "cell_type": "markdown",
   "metadata": {},
   "source": [
    "The operation `Series.str.lower()` is the Pandas equivalent of the core Python string casing operation `str.lower()`, and is language and locale insensitive as is `str.lower()`. `Series.str.lower()` takes a series as input and returns a series. It is suitable to use in most cases. Alternatives should be saught when language specific tailorings are required, as is the case for Turkish.\n",
    "\n",
    "The value in the first column and first row is _İstanbul_, as can be seen in the code snippet below the standard lowercasing of a string yields _i̇stanbul_. In the default casing operation <U+0130> is converted to <U+0069, U+0307>, while a Turkish specific casing operation would convert <U+0130> to <U+0069>."
   ]
  },
  {
   "cell_type": "code",
   "execution_count": 7,
   "metadata": {},
   "outputs": [
    {
     "name": "stdout",
     "output_type": "stream",
     "text": [
      "U+0130 (İ) U+0073 (s) U+0074 (t) U+0061 (a) U+006E (n) U+0062 (b) U+0075 (u) U+006C (l)\n",
      "U+0069 (i) U+0307 (̇) U+0073 (s) U+0074 (t) U+0061 (a) U+006E (n) U+0062 (b) U+0075 (u) U+006C (l)\n"
     ]
    }
   ],
   "source": [
    "initial_value = df.at[0,'Ad']\n",
    "print(elu.cp(initial_value))\n",
    "print(elu.cp(initial_value.lower()))"
   ]
  },
  {
   "cell_type": "markdown",
   "metadata": {},
   "source": [
    "As can be seen below, the `Series.str.lower()` operation will yield the same results as `str.lower()`"
   ]
  },
  {
   "cell_type": "code",
   "execution_count": 9,
   "metadata": {},
   "outputs": [
    {
     "name": "stdout",
     "output_type": "stream",
     "text": [
      "U+0069 (i) U+0307 (̇) U+0073 (s) U+0074 (t) U+0061 (a) U+006E (n) U+0062 (b) U+0075 (u) U+006C (l)\n",
      "True\n"
     ]
    }
   ],
   "source": [
    "df_temp = df.copy()\n",
    "df_temp[\"Ad\"] = df_temp[\"Ad\"].str.lower()\n",
    "df_temp[\"Vali\"] = df_temp[\"Vali\"].str.lower()\n",
    "temp_value = df_temp.at[0,'Ad']\n",
    "print(elu.cp(temp_value))\n",
    "print(temp_value == initial_value.lower())"
   ]
  },
  {
   "cell_type": "markdown",
   "metadata": {},
   "source": [
    "There are two approaches to handling Turkish casing:\n",
    "\n",
    "1. write a wrapper function around `str.lower()`. This is the most common approach, or \n",
    "2. use pyICU to create a Turkish locale instance and perform a casing operation using that locale.\n",
    "\n",
    "The first approach:"
   ]
  },
  {
   "cell_type": "code",
   "execution_count": null,
   "metadata": {},
   "outputs": [
    {
     "name": "stdout",
     "output_type": "stream",
     "text": [
      "U+0069 (i) U+0073 (s) U+0074 (t) U+0061 (a) U+006E (n) U+0062 (b) U+0075 (u) U+006C (l)\n",
      "U+0069 (i) U+0073 (s) U+0074 (t) U+0061 (a) U+006E (n) U+0062 (b) U+0075 (u) U+006C (l)\n"
     ]
    }
   ],
   "source": [
    "# To lowercase\n",
    "def kucukharfyap(s):\n",
    "    return ud.normalize(\"NFC\", s).replace('İ', 'i').replace('I', 'ı').lower()\n",
    "\n",
    "# To uppercase\n",
    "def buyukharfyap(s):\n",
    "    return ud.normalize(\"NFC\", s).replace('ı', 'I').replace('i', 'İ').upper()\n",
    "\n",
    "print(elu.cp(kucukharfyap(initial_value)))\n",
    "\n",
    "df_temp2 = df.copy()\n",
    "df_temp2[[\"Ad\", \"Vali\"]] = df_temp2[[\"Ad\", \"Vali\"]].applymap(kucukharfyap)\n",
    "temp2_value = df_temp2.at[0,'Ad']\n",
    "print(elu.cp(temp2_value))"
   ]
  },
  {
   "cell_type": "markdown",
   "metadata": {},
   "source": [
    "Custom wrappers for casing operations are useful when you are working with a single language, but if your code needs to be adaptable and used with datasets in a range of different languages, maintaining code to handle the various tailorings adds a level of complexity to the code, and makes it more difficult to maintain over time.\n",
    "\n",
    "The second approach is to leverage the PyICU package, which is a wrapper for `icu4c`.\n",
    "\n",
    "For PyICU:\n",
    "\n",
    "1. Create an ICU Locale object using `icu.Locale()`.\n",
    "2. Create a UnicodeString object from the string, using `icu.UnicodeString()`.\n",
    "3. Apply lowercasing operation for specified locale, using `icu.UnicodeString.toLower()`\n",
    "4. Typecast to a string, using `str()`."
   ]
  },
  {
   "cell_type": "code",
   "execution_count": null,
   "metadata": {},
   "outputs": [
    {
     "name": "stdout",
     "output_type": "stream",
     "text": [
      "U+0069 (i) U+0073 (s) U+0074 (t) U+0061 (a) U+006E (n) U+0062 (b) U+0075 (u) U+006C (l)\n"
     ]
    }
   ],
   "source": [
    "from icu import UnicodeString, Locale\n",
    "\n",
    "loc = Locale(\"tr_TR\")\n",
    "def toLower(s, l):\n",
    "    return str(UnicodeString(s).toLower(l))\n",
    "\n",
    "df_temp3 = df.copy()\n",
    "df_temp3[[\"Ad\", \"Vali\"]] = df_temp3[[\"Ad\", \"Vali\"]].applymap(lambda x: toLower(x, loc))\n",
    "\n",
    "temp3_value = df_temp3.at[0,'Ad']\n",
    "# temp3_value = df_temp3.iat[0,0]\n",
    "print(elu.cp(temp3_value))"
   ]
  },
  {
   "cell_type": "code",
   "execution_count": null,
   "metadata": {},
   "outputs": [],
   "source": [
    "df_temp3.to_csv('temp.csv')"
   ]
  }
 ],
 "metadata": {
  "interpreter": {
   "hash": "bb12d0de9674b66c629d2bafada2ec4f6e6dba6d129e54dea4badc21502d54d3"
  },
  "kernelspec": {
   "display_name": "Python 3",
   "language": "python",
   "name": "python3"
  },
  "language_info": {
   "codemirror_mode": {
    "name": "ipython",
    "version": 3
   },
   "file_extension": ".py",
   "mimetype": "text/x-python",
   "name": "python",
   "nbconvert_exporter": "python",
   "pygments_lexer": "ipython3",
   "version": "3.8.1"
  }
 },
 "nbformat": 4,
 "nbformat_minor": 2
}
