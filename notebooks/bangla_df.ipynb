{
 "cells": [
  {
   "cell_type": "markdown",
   "metadata": {},
   "source": [
    "# Pandas internationalisation: Bangala (বাংলা) data example"
   ]
  },
  {
   "cell_type": "markdown",
   "metadata": {},
   "source": [
    "An example of reading in Bangala data in Pandas.\n",
    "\n",
    "The file `/data/bn_global_popl.tsv` is a tab delimited file in Bangla (Bengali). \n",
    "\n",
    "Column 0 (নং) contains a ranking expressed in Bangla digits. Column 3 (জাতিসংঘের অনুমান) contains a integer in Bangla digits. Column 4 (তারিখ) contains dates that are formatted according to Bangla locale preferences.\n",
    "\n",
    "A set of conversion functions are used with `pd.read_table()` to convert the data to a format that can be used in Pandas.\n",
    "\n",
    "Columns 0 and 3 are converted from Bangla digits to Arabic digits, using the `convert_digits()` function. Column 4 is converted to the ISO 8601 date format, using `icu.DateFormat` and `icu.SimpleDateFormat`.\n",
    "\n",
    "`icu.DateFormat` &ndash; a class for parsing (reading) and formating (writing) dates for any defined locale. \\\n",
    "`icu.SimpleDateFormat` &ndash; a class for language-independant parsing (reading) and formating (writing) dates. It is a concrete subclass of `icu.DateFormat`."
   ]
  },
  {
   "cell_type": "code",
   "execution_count": 4,
   "metadata": {},
   "outputs": [],
   "source": [
    "import unicodedataplus as ud, regex as re, pandas as pd\n",
    "from icu import Locale, DateFormat, SimpleDateFormat\n",
    "\n",
    "def convert_digits(s, sep = (\",\", \".\")):\n",
    "    nd = re.compile(r'^-?\\p{Nd}[,.\\u066B\\u066C\\u0020\\u2009\\p{Nd}]+$')\n",
    "    tsep, dsep = sep\n",
    "    if nd.match(s):\n",
    "        s = s.replace(tsep, \"\")\n",
    "        s = ''.join([str(ud.decimal(c, c)) for c in s])\n",
    "        if dsep in s:\n",
    "            return float(s.replace(dsep, \".\")) if dsep != \".\" else float(s)\n",
    "        return int(s)\n",
    "    return s\n",
    "\n",
    "loc = Locale(\"bn_IN\")\n",
    "dformat = DateFormat.LONG\n",
    "inf = DateFormat.createDateInstance(dformat, loc)\n",
    "outf = SimpleDateFormat(\"yyyy-MM-dd\")\n",
    "\n",
    "def convert_dates(ld, inf, outf):\n",
    "    in_date = inf.parseObject(ld)\n",
    "    return outf.format(in_date)\n",
    "\n",
    "lf = lambda x: convert_dates(x, inf=inf, outf=outf)"
   ]
  },
  {
   "cell_type": "code",
   "execution_count": 7,
   "metadata": {},
   "outputs": [
    {
     "data": {
      "text/html": [
       "<div>\n",
       "<style scoped>\n",
       "    .dataframe tbody tr th:only-of-type {\n",
       "        vertical-align: middle;\n",
       "    }\n",
       "\n",
       "    .dataframe tbody tr th {\n",
       "        vertical-align: top;\n",
       "    }\n",
       "\n",
       "    .dataframe thead th {\n",
       "        text-align: right;\n",
       "    }\n",
       "</style>\n",
       "<table border=\"1\" class=\"dataframe\">\n",
       "  <thead>\n",
       "    <tr style=\"text-align: right;\">\n",
       "      <th></th>\n",
       "      <th>নং</th>\n",
       "      <th>দেশ</th>\n",
       "      <th>মহাদেশ</th>\n",
       "      <th>জাতিসংঘের অনুমান</th>\n",
       "      <th>তারিখ</th>\n",
       "    </tr>\n",
       "  </thead>\n",
       "  <tbody>\n",
       "    <tr>\n",
       "      <th>0</th>\n",
       "      <td>1</td>\n",
       "      <td>গণচীন</td>\n",
       "      <td>এশিয়া</td>\n",
       "      <td>1433783686</td>\n",
       "      <td>2019-07-01</td>\n",
       "    </tr>\n",
       "    <tr>\n",
       "      <th>1</th>\n",
       "      <td>2</td>\n",
       "      <td>ভারত</td>\n",
       "      <td>এশিয়া</td>\n",
       "      <td>1366417754</td>\n",
       "      <td>2019-07-01</td>\n",
       "    </tr>\n",
       "    <tr>\n",
       "      <th>2</th>\n",
       "      <td>3</td>\n",
       "      <td>যুক্তরাষ্ট্র</td>\n",
       "      <td>আমেরিকা</td>\n",
       "      <td>329064917</td>\n",
       "      <td>2019-07-01</td>\n",
       "    </tr>\n",
       "  </tbody>\n",
       "</table>\n",
       "</div>"
      ],
      "text/plain": [
       "   নং             দেশ    মহাদেশ  জাতিসংঘের অনুমান      তারিখ\n",
       "0   1          গণচীন    এশিয়া         1433783686 2019-07-01\n",
       "1   2           ভারত    এশিয়া         1366417754 2019-07-01\n",
       "2   3   যুক্তরাষ্ট্র   আমেরিকা          329064917 2019-07-01"
      ]
     },
     "execution_count": 7,
     "metadata": {},
     "output_type": "execute_result"
    }
   ],
   "source": [
    "conv = {'জাতিসংঘের অনুমান': convert_digits, 'নং': convert_digits, 'তারিখ': lf}\n",
    "df = pd.read_table(\"../data/bn_global_popl.tsv\", skiprows=range(1, 3), converters=conv, parse_dates=['তারিখ'])\n",
    "df.head(3)"
   ]
  },
  {
   "cell_type": "code",
   "execution_count": 8,
   "metadata": {},
   "outputs": [
    {
     "name": "stdout",
     "output_type": "stream",
     "text": [
      "<class 'pandas.core.frame.DataFrame'>\n",
      "RangeIndex: 233 entries, 0 to 232\n",
      "Data columns (total 5 columns):\n",
      " #   Column            Non-Null Count  Dtype         \n",
      "---  ------            --------------  -----         \n",
      " 0   নং                233 non-null    int64         \n",
      " 1   দেশ               233 non-null    object        \n",
      " 2   মহাদেশ            233 non-null    object        \n",
      " 3   জাতিসংঘের অনুমান  233 non-null    int64         \n",
      " 4   তারিখ             233 non-null    datetime64[ns]\n",
      "dtypes: datetime64[ns](1), int64(2), object(2)\n",
      "memory usage: 9.2+ KB\n"
     ]
    }
   ],
   "source": [
    "df.info()"
   ]
  },
  {
   "cell_type": "markdown",
   "metadata": {},
   "source": [
    "## Resources\n",
    "\n",
    "* [Formatting Dates and Times](https://unicode-org.github.io/icu/userguide/format_parse/datetime/)\n",
    "* [icu::DateFormat Class Reference](https://unicode-org.github.io/icu-docs/apidoc/dev/icu4c/classicu_1_1DateFormat.html)\n",
    "* [icu::SimpleDateFormat Class Reference](https://unicode-org.github.io/icu-docs/apidoc/released/icu4c/classSimpleDateFormat.html)"
   ]
  }
 ],
 "metadata": {
  "interpreter": {
   "hash": "bb12d0de9674b66c629d2bafada2ec4f6e6dba6d129e54dea4badc21502d54d3"
  },
  "kernelspec": {
   "display_name": "Python 3",
   "language": "python",
   "name": "python3"
  },
  "language_info": {
   "codemirror_mode": {
    "name": "ipython",
    "version": 3
   },
   "file_extension": ".py",
   "mimetype": "text/x-python",
   "name": "python",
   "nbconvert_exporter": "python",
   "pygments_lexer": "ipython3",
   "version": "3.8.1"
  }
 },
 "nbformat": 4,
 "nbformat_minor": 2
}
