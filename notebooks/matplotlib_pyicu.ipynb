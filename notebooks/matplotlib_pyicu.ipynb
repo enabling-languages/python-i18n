{
 "cells": [
  {
   "cell_type": "markdown",
   "metadata": {},
   "source": [
    "# PyICU formatted tick labels with Matplotlib"
   ]
  },
  {
   "cell_type": "markdown",
   "metadata": {},
   "source": [
    "## Background\n",
    "\n",
    "_PyICU_ provides a Python wrapper for icu4c. It is possible to use `icu.Locale` to create an ICU Locale object that can be used to creat an `icu.NumberFormat` instance to format numbers according to the number formats defined for the locale being used.\n",
    "\n",
    "This can then be used with `matplotlib.ticker.FuncFormatter` in order to provide locale formatted numeric tick labels.\n",
    "\n",
    "First we create an ICU locale object, and define a function to create a number formatter instance and return a formatted number, as a string.\n",
    "\n",
    "In this example we will use the number format used in English within India. The grouping seperators used in india, differ from English usage in other countries, and allows us to clearly distinquish the formatted Y-axis labels."
   ]
  },
  {
   "cell_type": "code",
   "execution_count": 32,
   "metadata": {},
   "outputs": [],
   "source": [
    "from icu import Locale, NumberFormat\n",
    "LOC = Locale(\"en_IN\")\n",
    "\n",
    "def icu_formatted_digits(d, p=None, loc=None):\n",
    "    if loc is None:\n",
    "        loc = Locale.getRoot()\n",
    "    formatter = NumberFormat.createInstance(loc)\n",
    "    return formatter.format(d)\n"
   ]
  },
  {
   "cell_type": "markdown",
   "metadata": {},
   "source": [
    "The locale object can be passed to the function in a number of ways, including:"
   ]
  },
  {
   "cell_type": "code",
   "execution_count": 33,
   "metadata": {},
   "outputs": [
    {
     "name": "stdout",
     "output_type": "stream",
     "text": [
      "1,12,345.05\n",
      "112,345.05\n",
      "112 345,05\n",
      "१,१२,३४५.०५\n",
      "၁၁၂,၃၄၅.၀၅\n"
     ]
    }
   ],
   "source": [
    "print(icu_formatted_digits(112345.05, loc=LOC))\n",
    "print(icu_formatted_digits(112345.05))\n",
    "print(icu_formatted_digits(112345.05, loc=Locale.getFrench()))\n",
    "print(icu_formatted_digits(112345.05, loc=Locale(\"hi_IN@numbers=deva\")))\n",
    "print(icu_formatted_digits(112345.05, loc=Locale.forLanguageTag(\"my-MM-u-nu-mymr\")))"
   ]
  },
  {
   "cell_type": "markdown",
   "metadata": {},
   "source": [
    "## Using PyICU formatted tick labels\n"
   ]
  },
  {
   "cell_type": "code",
   "execution_count": 34,
   "metadata": {},
   "outputs": [
    {
     "data": {
      "image/png": "[encoded data removed]",
      "text/plain": [
       "<Figure size 864x648 with 1 Axes>"
      ]
     },
     "metadata": {
      "needs_background": "light"
     },
     "output_type": "display_data"
    }
   ],
   "source": [
    "import numpy as np\n",
    "import matplotlib.pyplot as plt\n",
    "import matplotlib.ticker as ticker\n",
    "\n",
    "x = [0.02, 0.13, 0.18, 0.34, 0.56, 0.66, 0.71, 0.89, 0.91, 0.97]\n",
    "y = [419540, 413298, 471098, 340120, 319700, 278990, 246274, 210900, 140090, 53020]\n",
    "\n",
    "fig, ax = plt.subplots(figsize=(12,9))\n",
    "mpl_formatter = ticker.FuncFormatter(lambda x, p: icu_formatted_digits(x, p, loc=LOC))\n",
    "ax.get_yaxis().set_major_formatter(mpl_formatter)\n",
    "ax = plt.scatter(x, y)\n",
    "plt.show()"
   ]
  }
 ],
 "metadata": {
  "interpreter": {
   "hash": "bb12d0de9674b66c629d2bafada2ec4f6e6dba6d129e54dea4badc21502d54d3"
  },
  "kernelspec": {
   "display_name": "Python 3.8.1 ('el')",
   "language": "python",
   "name": "python3"
  },
  "language_info": {
   "codemirror_mode": {
    "name": "ipython",
    "version": 3
   },
   "file_extension": ".py",
   "mimetype": "text/x-python",
   "name": "python",
   "nbconvert_exporter": "python",
   "pygments_lexer": "ipython3",
   "version": "3.8.1"
  },
  "orig_nbformat": 4
 },
 "nbformat": 4,
 "nbformat_minor": 2
}
